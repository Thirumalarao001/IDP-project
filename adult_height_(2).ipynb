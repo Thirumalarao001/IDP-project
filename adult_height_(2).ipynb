{
  "cells": [
    {
      "cell_type": "markdown",
      "source": [
        "# Mouting drive"
      ],
      "metadata": {
        "id": "Ep564KIAbqvu"
      }
    },
    {
      "cell_type": "code",
      "execution_count": 11,
      "metadata": {
        "colab": {
          "base_uri": "https://localhost:8080/"
        },
        "id": "ppxo_sxt-den",
        "outputId": "89459691-9ff9-4fdf-953e-a2b149b43314"
      },
      "outputs": [
        {
          "output_type": "stream",
          "name": "stdout",
          "text": [
            "Drive already mounted at /content/drive; to attempt to forcibly remount, call drive.mount(\"/content/drive\", force_remount=True).\n"
          ]
        }
      ],
      "source": [
        "from google.colab import drive\n",
        "drive.mount('/content/drive')"
      ]
    },
    {
      "cell_type": "markdown",
      "source": [
        "# Reading data"
      ],
      "metadata": {
        "id": "D9rr6Ny2bwwB"
      }
    },
    {
      "cell_type": "code",
      "execution_count": 2,
      "metadata": {
        "colab": {
          "base_uri": "https://localhost:8080/"
        },
        "id": "tH0HoeKqza4C",
        "outputId": "ccc6b42a-3ab6-4fdd-f4f5-36c2c5519534"
      },
      "outputs": [
        {
          "output_type": "stream",
          "name": "stdout",
          "text": [
            "    family  father  mother gender  height  kids  male  female\n",
            "0        1    78.5    67.0      M    73.2     4     1       0\n",
            "1        1    78.5    67.0      F    69.2     4     0       1\n",
            "2        1    78.5    67.0      F    69.0     4     0       1\n",
            "3        1    78.5    67.0      F    69.0     4     0       1\n",
            "4        2    75.5    66.5      M    73.5     4     1       0\n",
            "..     ...     ...     ...    ...     ...   ...   ...     ...\n",
            "893   136A    68.5    65.0      M    68.5     8     1       0\n",
            "894   136A    68.5    65.0      M    67.7     8     1       0\n",
            "895   136A    68.5    65.0      F    64.0     8     0       1\n",
            "896   136A    68.5    65.0      F    63.5     8     0       1\n",
            "897   136A    68.5    65.0      F    63.0     8     0       1\n",
            "\n",
            "[898 rows x 8 columns]\n"
          ]
        }
      ],
      "source": [
        "# prompt: reading excel sheet\n",
        "\n",
        "import pandas as pd\n",
        "import numpy as np\n",
        "\n",
        "# Read an Excel file\n",
        "df = pd.read_excel('/content/drive/MyDrive/galton_height_dataset.xlsx')\n",
        "df_original = df\n",
        "\n",
        "# Print the DataFrame\n",
        "print(df)\n"
      ]
    },
    {
      "cell_type": "markdown",
      "source": [
        "# **Data Preprocessing**"
      ],
      "metadata": {
        "id": "CvSsCvhoR2La"
      }
    },
    {
      "cell_type": "markdown",
      "source": [
        "# removing rows having different datatype"
      ],
      "metadata": {
        "id": "_amHdvxRSFBS"
      }
    },
    {
      "cell_type": "code",
      "execution_count": 4,
      "metadata": {
        "colab": {
          "base_uri": "https://localhost:8080/"
        },
        "id": "YX5cdWSH4L5A",
        "outputId": "9d7921c2-6393-407d-f465-6cfb5b11cc29"
      },
      "outputs": [
        {
          "output_type": "stream",
          "name": "stdout",
          "text": [
            "    family  father  mother gender  height  kids  male  female\n",
            "0        1    78.5    67.0      M    73.2     4     1       0\n",
            "1        1    78.5    67.0      F    69.2     4     0       1\n",
            "2        1    78.5    67.0      F    69.0     4     0       1\n",
            "3        1    78.5    67.0      F    69.0     4     0       1\n",
            "4        2    75.5    66.5      M    73.5     4     1       0\n",
            "..     ...     ...     ...    ...     ...   ...   ...     ...\n",
            "885    203    62.0    66.0      M    64.0     3     1       0\n",
            "886    203    62.0    66.0      F    62.0     3     0       1\n",
            "887    203    62.0    66.0      F    61.0     3     0       1\n",
            "888    204    62.5    63.0      M    66.5     2     1       0\n",
            "889    204    62.5    63.0      F    57.0     2     0       1\n",
            "\n",
            "[890 rows x 8 columns]\n"
          ]
        }
      ],
      "source": [
        "\n",
        "# Select rows where the 'FAMILY' column is not of type int\n",
        "df = df[df['family'].apply(lambda x: isinstance(x, int))]\n",
        "\n",
        "# Print the DataFrame\n",
        "print(df)\n"
      ]
    },
    {
      "cell_type": "markdown",
      "source": [
        "# removing null values"
      ],
      "metadata": {
        "id": "JOzvYta_SSVO"
      }
    },
    {
      "cell_type": "code",
      "execution_count": 5,
      "metadata": {
        "colab": {
          "base_uri": "https://localhost:8080/"
        },
        "id": "93Att62w5vOi",
        "outputId": "396ee78c-7320-4b1e-d174-8356294d6bba"
      },
      "outputs": [
        {
          "output_type": "stream",
          "name": "stdout",
          "text": [
            "    family  father  mother gender  height  kids  male  female\n",
            "0        1    78.5    67.0      M    73.2     4     1       0\n",
            "1        1    78.5    67.0      F    69.2     4     0       1\n",
            "2        1    78.5    67.0      F    69.0     4     0       1\n",
            "3        1    78.5    67.0      F    69.0     4     0       1\n",
            "4        2    75.5    66.5      M    73.5     4     1       0\n",
            "..     ...     ...     ...    ...     ...   ...   ...     ...\n",
            "885    203    62.0    66.0      M    64.0     3     1       0\n",
            "886    203    62.0    66.0      F    62.0     3     0       1\n",
            "887    203    62.0    66.0      F    61.0     3     0       1\n",
            "888    204    62.5    63.0      M    66.5     2     1       0\n",
            "889    204    62.5    63.0      F    57.0     2     0       1\n",
            "\n",
            "[890 rows x 8 columns]\n"
          ]
        }
      ],
      "source": [
        "# prompt: generate code to remove null values\n",
        "\n",
        "df = df.dropna()\n",
        "print(df)"
      ]
    },
    {
      "cell_type": "markdown",
      "source": [
        "# data formating for 'gender'"
      ],
      "metadata": {
        "id": "YbhJG0wJhfdd"
      }
    },
    {
      "cell_type": "code",
      "source": [
        "gender_map = {'M': 1, 'F': 0}\n",
        "df['gender'] = df['gender'].map(gender_map)\n",
        "df_original = df\n"
      ],
      "metadata": {
        "id": "UNiOi0fFhpL_"
      },
      "execution_count": 6,
      "outputs": []
    },
    {
      "cell_type": "code",
      "source": [
        "df.head()"
      ],
      "metadata": {
        "colab": {
          "base_uri": "https://localhost:8080/",
          "height": 206
        },
        "id": "xSVkaMxBh8Ni",
        "outputId": "bddbe5ea-6ad6-4a82-8c6e-80ddd5d142eb"
      },
      "execution_count": 7,
      "outputs": [
        {
          "output_type": "execute_result",
          "data": {
            "text/plain": [
              "  family  father  mother  gender  height  kids  male  female\n",
              "0      1    78.5    67.0       1    73.2     4     1       0\n",
              "1      1    78.5    67.0       0    69.2     4     0       1\n",
              "2      1    78.5    67.0       0    69.0     4     0       1\n",
              "3      1    78.5    67.0       0    69.0     4     0       1\n",
              "4      2    75.5    66.5       1    73.5     4     1       0"
            ],
            "text/html": [
              "\n",
              "  <div id=\"df-227b5961-9683-4982-8b7c-a570db6bc4c2\" class=\"colab-df-container\">\n",
              "    <div>\n",
              "<style scoped>\n",
              "    .dataframe tbody tr th:only-of-type {\n",
              "        vertical-align: middle;\n",
              "    }\n",
              "\n",
              "    .dataframe tbody tr th {\n",
              "        vertical-align: top;\n",
              "    }\n",
              "\n",
              "    .dataframe thead th {\n",
              "        text-align: right;\n",
              "    }\n",
              "</style>\n",
              "<table border=\"1\" class=\"dataframe\">\n",
              "  <thead>\n",
              "    <tr style=\"text-align: right;\">\n",
              "      <th></th>\n",
              "      <th>family</th>\n",
              "      <th>father</th>\n",
              "      <th>mother</th>\n",
              "      <th>gender</th>\n",
              "      <th>height</th>\n",
              "      <th>kids</th>\n",
              "      <th>male</th>\n",
              "      <th>female</th>\n",
              "    </tr>\n",
              "  </thead>\n",
              "  <tbody>\n",
              "    <tr>\n",
              "      <th>0</th>\n",
              "      <td>1</td>\n",
              "      <td>78.5</td>\n",
              "      <td>67.0</td>\n",
              "      <td>1</td>\n",
              "      <td>73.2</td>\n",
              "      <td>4</td>\n",
              "      <td>1</td>\n",
              "      <td>0</td>\n",
              "    </tr>\n",
              "    <tr>\n",
              "      <th>1</th>\n",
              "      <td>1</td>\n",
              "      <td>78.5</td>\n",
              "      <td>67.0</td>\n",
              "      <td>0</td>\n",
              "      <td>69.2</td>\n",
              "      <td>4</td>\n",
              "      <td>0</td>\n",
              "      <td>1</td>\n",
              "    </tr>\n",
              "    <tr>\n",
              "      <th>2</th>\n",
              "      <td>1</td>\n",
              "      <td>78.5</td>\n",
              "      <td>67.0</td>\n",
              "      <td>0</td>\n",
              "      <td>69.0</td>\n",
              "      <td>4</td>\n",
              "      <td>0</td>\n",
              "      <td>1</td>\n",
              "    </tr>\n",
              "    <tr>\n",
              "      <th>3</th>\n",
              "      <td>1</td>\n",
              "      <td>78.5</td>\n",
              "      <td>67.0</td>\n",
              "      <td>0</td>\n",
              "      <td>69.0</td>\n",
              "      <td>4</td>\n",
              "      <td>0</td>\n",
              "      <td>1</td>\n",
              "    </tr>\n",
              "    <tr>\n",
              "      <th>4</th>\n",
              "      <td>2</td>\n",
              "      <td>75.5</td>\n",
              "      <td>66.5</td>\n",
              "      <td>1</td>\n",
              "      <td>73.5</td>\n",
              "      <td>4</td>\n",
              "      <td>1</td>\n",
              "      <td>0</td>\n",
              "    </tr>\n",
              "  </tbody>\n",
              "</table>\n",
              "</div>\n",
              "    <div class=\"colab-df-buttons\">\n",
              "\n",
              "  <div class=\"colab-df-container\">\n",
              "    <button class=\"colab-df-convert\" onclick=\"convertToInteractive('df-227b5961-9683-4982-8b7c-a570db6bc4c2')\"\n",
              "            title=\"Convert this dataframe to an interactive table.\"\n",
              "            style=\"display:none;\">\n",
              "\n",
              "  <svg xmlns=\"http://www.w3.org/2000/svg\" height=\"24px\" viewBox=\"0 -960 960 960\">\n",
              "    <path d=\"M120-120v-720h720v720H120Zm60-500h600v-160H180v160Zm220 220h160v-160H400v160Zm0 220h160v-160H400v160ZM180-400h160v-160H180v160Zm440 0h160v-160H620v160ZM180-180h160v-160H180v160Zm440 0h160v-160H620v160Z\"/>\n",
              "  </svg>\n",
              "    </button>\n",
              "\n",
              "  <style>\n",
              "    .colab-df-container {\n",
              "      display:flex;\n",
              "      gap: 12px;\n",
              "    }\n",
              "\n",
              "    .colab-df-convert {\n",
              "      background-color: #E8F0FE;\n",
              "      border: none;\n",
              "      border-radius: 50%;\n",
              "      cursor: pointer;\n",
              "      display: none;\n",
              "      fill: #1967D2;\n",
              "      height: 32px;\n",
              "      padding: 0 0 0 0;\n",
              "      width: 32px;\n",
              "    }\n",
              "\n",
              "    .colab-df-convert:hover {\n",
              "      background-color: #E2EBFA;\n",
              "      box-shadow: 0px 1px 2px rgba(60, 64, 67, 0.3), 0px 1px 3px 1px rgba(60, 64, 67, 0.15);\n",
              "      fill: #174EA6;\n",
              "    }\n",
              "\n",
              "    .colab-df-buttons div {\n",
              "      margin-bottom: 4px;\n",
              "    }\n",
              "\n",
              "    [theme=dark] .colab-df-convert {\n",
              "      background-color: #3B4455;\n",
              "      fill: #D2E3FC;\n",
              "    }\n",
              "\n",
              "    [theme=dark] .colab-df-convert:hover {\n",
              "      background-color: #434B5C;\n",
              "      box-shadow: 0px 1px 3px 1px rgba(0, 0, 0, 0.15);\n",
              "      filter: drop-shadow(0px 1px 2px rgba(0, 0, 0, 0.3));\n",
              "      fill: #FFFFFF;\n",
              "    }\n",
              "  </style>\n",
              "\n",
              "    <script>\n",
              "      const buttonEl =\n",
              "        document.querySelector('#df-227b5961-9683-4982-8b7c-a570db6bc4c2 button.colab-df-convert');\n",
              "      buttonEl.style.display =\n",
              "        google.colab.kernel.accessAllowed ? 'block' : 'none';\n",
              "\n",
              "      async function convertToInteractive(key) {\n",
              "        const element = document.querySelector('#df-227b5961-9683-4982-8b7c-a570db6bc4c2');\n",
              "        const dataTable =\n",
              "          await google.colab.kernel.invokeFunction('convertToInteractive',\n",
              "                                                    [key], {});\n",
              "        if (!dataTable) return;\n",
              "\n",
              "        const docLinkHtml = 'Like what you see? Visit the ' +\n",
              "          '<a target=\"_blank\" href=https://colab.research.google.com/notebooks/data_table.ipynb>data table notebook</a>'\n",
              "          + ' to learn more about interactive tables.';\n",
              "        element.innerHTML = '';\n",
              "        dataTable['output_type'] = 'display_data';\n",
              "        await google.colab.output.renderOutput(dataTable, element);\n",
              "        const docLink = document.createElement('div');\n",
              "        docLink.innerHTML = docLinkHtml;\n",
              "        element.appendChild(docLink);\n",
              "      }\n",
              "    </script>\n",
              "  </div>\n",
              "\n",
              "\n",
              "<div id=\"df-58c6faec-b9fe-41f7-84b7-b99b061dc8b3\">\n",
              "  <button class=\"colab-df-quickchart\" onclick=\"quickchart('df-58c6faec-b9fe-41f7-84b7-b99b061dc8b3')\"\n",
              "            title=\"Suggest charts\"\n",
              "            style=\"display:none;\">\n",
              "\n",
              "<svg xmlns=\"http://www.w3.org/2000/svg\" height=\"24px\"viewBox=\"0 0 24 24\"\n",
              "     width=\"24px\">\n",
              "    <g>\n",
              "        <path d=\"M19 3H5c-1.1 0-2 .9-2 2v14c0 1.1.9 2 2 2h14c1.1 0 2-.9 2-2V5c0-1.1-.9-2-2-2zM9 17H7v-7h2v7zm4 0h-2V7h2v10zm4 0h-2v-4h2v4z\"/>\n",
              "    </g>\n",
              "</svg>\n",
              "  </button>\n",
              "\n",
              "<style>\n",
              "  .colab-df-quickchart {\n",
              "      --bg-color: #E8F0FE;\n",
              "      --fill-color: #1967D2;\n",
              "      --hover-bg-color: #E2EBFA;\n",
              "      --hover-fill-color: #174EA6;\n",
              "      --disabled-fill-color: #AAA;\n",
              "      --disabled-bg-color: #DDD;\n",
              "  }\n",
              "\n",
              "  [theme=dark] .colab-df-quickchart {\n",
              "      --bg-color: #3B4455;\n",
              "      --fill-color: #D2E3FC;\n",
              "      --hover-bg-color: #434B5C;\n",
              "      --hover-fill-color: #FFFFFF;\n",
              "      --disabled-bg-color: #3B4455;\n",
              "      --disabled-fill-color: #666;\n",
              "  }\n",
              "\n",
              "  .colab-df-quickchart {\n",
              "    background-color: var(--bg-color);\n",
              "    border: none;\n",
              "    border-radius: 50%;\n",
              "    cursor: pointer;\n",
              "    display: none;\n",
              "    fill: var(--fill-color);\n",
              "    height: 32px;\n",
              "    padding: 0;\n",
              "    width: 32px;\n",
              "  }\n",
              "\n",
              "  .colab-df-quickchart:hover {\n",
              "    background-color: var(--hover-bg-color);\n",
              "    box-shadow: 0 1px 2px rgba(60, 64, 67, 0.3), 0 1px 3px 1px rgba(60, 64, 67, 0.15);\n",
              "    fill: var(--button-hover-fill-color);\n",
              "  }\n",
              "\n",
              "  .colab-df-quickchart-complete:disabled,\n",
              "  .colab-df-quickchart-complete:disabled:hover {\n",
              "    background-color: var(--disabled-bg-color);\n",
              "    fill: var(--disabled-fill-color);\n",
              "    box-shadow: none;\n",
              "  }\n",
              "\n",
              "  .colab-df-spinner {\n",
              "    border: 2px solid var(--fill-color);\n",
              "    border-color: transparent;\n",
              "    border-bottom-color: var(--fill-color);\n",
              "    animation:\n",
              "      spin 1s steps(1) infinite;\n",
              "  }\n",
              "\n",
              "  @keyframes spin {\n",
              "    0% {\n",
              "      border-color: transparent;\n",
              "      border-bottom-color: var(--fill-color);\n",
              "      border-left-color: var(--fill-color);\n",
              "    }\n",
              "    20% {\n",
              "      border-color: transparent;\n",
              "      border-left-color: var(--fill-color);\n",
              "      border-top-color: var(--fill-color);\n",
              "    }\n",
              "    30% {\n",
              "      border-color: transparent;\n",
              "      border-left-color: var(--fill-color);\n",
              "      border-top-color: var(--fill-color);\n",
              "      border-right-color: var(--fill-color);\n",
              "    }\n",
              "    40% {\n",
              "      border-color: transparent;\n",
              "      border-right-color: var(--fill-color);\n",
              "      border-top-color: var(--fill-color);\n",
              "    }\n",
              "    60% {\n",
              "      border-color: transparent;\n",
              "      border-right-color: var(--fill-color);\n",
              "    }\n",
              "    80% {\n",
              "      border-color: transparent;\n",
              "      border-right-color: var(--fill-color);\n",
              "      border-bottom-color: var(--fill-color);\n",
              "    }\n",
              "    90% {\n",
              "      border-color: transparent;\n",
              "      border-bottom-color: var(--fill-color);\n",
              "    }\n",
              "  }\n",
              "</style>\n",
              "\n",
              "  <script>\n",
              "    async function quickchart(key) {\n",
              "      const quickchartButtonEl =\n",
              "        document.querySelector('#' + key + ' button');\n",
              "      quickchartButtonEl.disabled = true;  // To prevent multiple clicks.\n",
              "      quickchartButtonEl.classList.add('colab-df-spinner');\n",
              "      try {\n",
              "        const charts = await google.colab.kernel.invokeFunction(\n",
              "            'suggestCharts', [key], {});\n",
              "      } catch (error) {\n",
              "        console.error('Error during call to suggestCharts:', error);\n",
              "      }\n",
              "      quickchartButtonEl.classList.remove('colab-df-spinner');\n",
              "      quickchartButtonEl.classList.add('colab-df-quickchart-complete');\n",
              "    }\n",
              "    (() => {\n",
              "      let quickchartButtonEl =\n",
              "        document.querySelector('#df-58c6faec-b9fe-41f7-84b7-b99b061dc8b3 button');\n",
              "      quickchartButtonEl.style.display =\n",
              "        google.colab.kernel.accessAllowed ? 'block' : 'none';\n",
              "    })();\n",
              "  </script>\n",
              "</div>\n",
              "\n",
              "    </div>\n",
              "  </div>\n"
            ],
            "application/vnd.google.colaboratory.intrinsic+json": {
              "type": "dataframe",
              "variable_name": "df",
              "summary": "{\n  \"name\": \"df\",\n  \"rows\": 890,\n  \"fields\": [\n    {\n      \"column\": \"family\",\n      \"properties\": {\n        \"dtype\": \"date\",\n        \"min\": 1,\n        \"max\": 204,\n        \"num_unique_values\": 196,\n        \"samples\": [\n          145,\n          118,\n          18\n        ],\n        \"semantic_type\": \"\",\n        \"description\": \"\"\n      }\n    },\n    {\n      \"column\": \"father\",\n      \"properties\": {\n        \"dtype\": \"number\",\n        \"std\": 2.4803628583334625,\n        \"min\": 62.0,\n        \"max\": 78.5,\n        \"num_unique_values\": 34,\n        \"samples\": [\n          70.5,\n          69.2,\n          66.0\n        ],\n        \"semantic_type\": \"\",\n        \"description\": \"\"\n      }\n    },\n    {\n      \"column\": \"mother\",\n      \"properties\": {\n        \"dtype\": \"number\",\n        \"std\": 2.3157394189563703,\n        \"min\": 58.0,\n        \"max\": 70.5,\n        \"num_unique_values\": 29,\n        \"samples\": [\n          66.2,\n          64.7,\n          69.0\n        ],\n        \"semantic_type\": \"\",\n        \"description\": \"\"\n      }\n    },\n    {\n      \"column\": \"gender\",\n      \"properties\": {\n        \"dtype\": \"number\",\n        \"std\": 0,\n        \"min\": 0,\n        \"max\": 1,\n        \"num_unique_values\": 2,\n        \"samples\": [\n          0,\n          1\n        ],\n        \"semantic_type\": \"\",\n        \"description\": \"\"\n      }\n    },\n    {\n      \"column\": \"height\",\n      \"properties\": {\n        \"dtype\": \"number\",\n        \"std\": 3.586242380874172,\n        \"min\": 56.0,\n        \"max\": 79.0,\n        \"num_unique_values\": 65,\n        \"samples\": [\n          62.2,\n          56.0\n        ],\n        \"semantic_type\": \"\",\n        \"description\": \"\"\n      }\n    },\n    {\n      \"column\": \"kids\",\n      \"properties\": {\n        \"dtype\": \"number\",\n        \"std\": 2,\n        \"min\": 1,\n        \"max\": 15,\n        \"num_unique_values\": 12,\n        \"samples\": [\n          10,\n          11\n        ],\n        \"semantic_type\": \"\",\n        \"description\": \"\"\n      }\n    },\n    {\n      \"column\": \"male\",\n      \"properties\": {\n        \"dtype\": \"number\",\n        \"std\": 0,\n        \"min\": 0,\n        \"max\": 1,\n        \"num_unique_values\": 2,\n        \"samples\": [\n          0,\n          1\n        ],\n        \"semantic_type\": \"\",\n        \"description\": \"\"\n      }\n    },\n    {\n      \"column\": \"female\",\n      \"properties\": {\n        \"dtype\": \"number\",\n        \"std\": 0,\n        \"min\": 0,\n        \"max\": 1,\n        \"num_unique_values\": 2,\n        \"samples\": [\n          1,\n          0\n        ],\n        \"semantic_type\": \"\",\n        \"description\": \"\"\n      }\n    }\n  ]\n}"
            }
          },
          "metadata": {},
          "execution_count": 7
        }
      ]
    },
    {
      "cell_type": "markdown",
      "source": [
        "# adding additional featue \"avg_parent_height\""
      ],
      "metadata": {
        "id": "66HC9_xKSXGq"
      }
    },
    {
      "cell_type": "code",
      "execution_count": 8,
      "metadata": {
        "colab": {
          "base_uri": "https://localhost:8080/"
        },
        "id": "IJS3h2OL72Ej",
        "outputId": "8f5d40b6-f8b0-4e9d-e785-6ea9d4cd0830"
      },
      "outputs": [
        {
          "output_type": "stream",
          "name": "stdout",
          "text": [
            "    family  father  mother  gender  height  kids  male  female  \\\n",
            "0        1    78.5    67.0       1    73.2     4     1       0   \n",
            "1        1    78.5    67.0       0    69.2     4     0       1   \n",
            "2        1    78.5    67.0       0    69.0     4     0       1   \n",
            "3        1    78.5    67.0       0    69.0     4     0       1   \n",
            "4        2    75.5    66.5       1    73.5     4     1       0   \n",
            "..     ...     ...     ...     ...     ...   ...   ...     ...   \n",
            "885    203    62.0    66.0       1    64.0     3     1       0   \n",
            "886    203    62.0    66.0       0    62.0     3     0       1   \n",
            "887    203    62.0    66.0       0    61.0     3     0       1   \n",
            "888    204    62.5    63.0       1    66.5     2     1       0   \n",
            "889    204    62.5    63.0       0    57.0     2     0       1   \n",
            "\n",
            "     avg_parent_height  \n",
            "0                72.75  \n",
            "1                72.75  \n",
            "2                72.75  \n",
            "3                72.75  \n",
            "4                71.00  \n",
            "..                 ...  \n",
            "885              64.00  \n",
            "886              64.00  \n",
            "887              64.00  \n",
            "888              62.75  \n",
            "889              62.75  \n",
            "\n",
            "[890 rows x 9 columns]\n"
          ]
        }
      ],
      "source": [
        "# Feature engineering: create average parental height\n",
        "df['avg_parent_height'] = (df['father'] + df['mother']) / 2\n",
        "print(df)"
      ]
    },
    {
      "cell_type": "markdown",
      "source": [
        "# columns present in the dataframe and checking null values"
      ],
      "metadata": {
        "id": "RTXSC8EWd4Fz"
      }
    },
    {
      "cell_type": "code",
      "source": [
        "# prompt: generate code to show what are the columns present in the df\n",
        "\n",
        "# Print the column names of the DataFrame\n",
        "print(df.columns)\n"
      ],
      "metadata": {
        "colab": {
          "base_uri": "https://localhost:8080/"
        },
        "id": "psBzQPtudn-5",
        "outputId": "8238740a-68e7-4bc3-b895-8b54a4f2c645"
      },
      "execution_count": 9,
      "outputs": [
        {
          "output_type": "stream",
          "name": "stdout",
          "text": [
            "Index(['family', 'father', 'mother', 'gender', 'height', 'kids', 'male',\n",
            "       'female', 'avg_parent_height'],\n",
            "      dtype='object')\n"
          ]
        }
      ]
    },
    {
      "cell_type": "code",
      "source": [
        "# prompt: genearate code to know any null values present in the dataframe or not\n",
        "\n",
        "null_values = df.isnull().sum()\n",
        "print(null_values)"
      ],
      "metadata": {
        "colab": {
          "base_uri": "https://localhost:8080/"
        },
        "id": "9JHlVgBYfDiA",
        "outputId": "927f3e77-0d93-458a-9739-c5b7f40b9107"
      },
      "execution_count": 10,
      "outputs": [
        {
          "output_type": "stream",
          "name": "stdout",
          "text": [
            "family               0\n",
            "father               0\n",
            "mother               0\n",
            "gender               0\n",
            "height               0\n",
            "kids                 0\n",
            "male                 0\n",
            "female               0\n",
            "avg_parent_height    0\n",
            "dtype: int64\n"
          ]
        }
      ]
    },
    {
      "cell_type": "markdown",
      "source": [
        "# **Data Visualisation**"
      ],
      "metadata": {
        "id": "0vZO3G3kKYEF"
      }
    },
    {
      "cell_type": "markdown",
      "source": [
        "# Distribution of children's height relative to father's height"
      ],
      "metadata": {
        "id": "5q6ki3BlKfd9"
      }
    },
    {
      "cell_type": "code",
      "source": [
        "import pandas as pd\n",
        "import numpy as np\n",
        "import plotly.express as px\n",
        "import plotly.graph_objects as go\n",
        "\n",
        "figure = px.scatter(data_frame = df, x=\"father\", y=\"height\", size =\"kids\", color = \"gender\", trendline=\"ols\")\n",
        "figure.show()\n"
      ],
      "metadata": {
        "colab": {
          "base_uri": "https://localhost:8080/",
          "height": 542
        },
        "id": "mcRKAekoLI3s",
        "outputId": "c6630e2c-02c2-4463-832a-30ac9271dd1f"
      },
      "execution_count": 11,
      "outputs": [
        {
          "output_type": "display_data",
          "data": {
            "text/html": [
              "<html>\n",
              "<head><meta charset=\"utf-8\" /></head>\n",
              "<body>\n",
              "    <div>            <script src=\"https://cdnjs.cloudflare.com/ajax/libs/mathjax/2.7.5/MathJax.js?config=TeX-AMS-MML_SVG\"></script><script type=\"text/javascript\">if (window.MathJax && window.MathJax.Hub && window.MathJax.Hub.Config) {window.MathJax.Hub.Config({SVG: {font: \"STIX-Web\"}});}</script>                <script type=\"text/javascript\">window.PlotlyConfig = {MathJaxConfig: 'local'};</script>\n",
              "        <script charset=\"utf-8\" src=\"https://cdn.plot.ly/plotly-2.35.2.min.js\"></script>                <div id=\"4c7662e4-bf83-4da6-b2f2-ae3e794a7920\" class=\"plotly-graph-div\" style=\"height:525px; width:100%;\"></div>            <script type=\"text/javascript\">                                    window.PLOTLYENV=window.PLOTLYENV || {};                                    if (document.getElementById(\"4c7662e4-bf83-4da6-b2f2-ae3e794a7920\")) {                    Plotly.newPlot(                        \"4c7662e4-bf83-4da6-b2f2-ae3e794a7920\",                        [{\"hovertemplate\":\"father=%{x}\\u003cbr\\u003eheight=%{y}\\u003cbr\\u003ekids=%{marker.size}\\u003cbr\\u003egender=%{marker.color}\\u003cextra\\u003e\\u003c\\u002fextra\\u003e\",\"legendgroup\":\"\",\"marker\":{\"color\":[1,0,0,0,1,1,0,0,1,0,1,1,0,0,0,1,1,1,0,0,0,0,1,1,1,1,0,0,0,0,0,0,0,1,1,0,0,0,0,0,0,0,1,1,1,1,0,1,1,1,1,1,0,0,0,0,1,1,1,1,0,0,0,0,0,0,1,1,1,0,0,0,0,0,1,0,0,1,1,0,1,1,1,0,0,0,0,0,0,0,1,1,1,0,0,1,1,0,1,1,0,0,0,0,0,0,0,0,1,1,1,0,0,0,1,1,1,0,0,1,1,1,1,0,0,1,1,1,1,0,1,1,1,0,1,0,0,0,1,1,1,0,0,0,1,0,1,1,1,1,0,1,1,1,1,1,0,0,1,0,1,1,1,1,0,0,0,0,0,0,0,0,0,1,1,1,0,1,1,1,1,1,1,0,0,0,0,0,0,1,1,0,0,0,1,1,1,1,0,0,0,0,0,1,1,1,0,1,1,0,0,0,1,1,1,0,0,1,0,0,0,0,1,1,1,1,1,0,0,0,1,1,1,1,1,0,1,1,0,0,0,0,1,1,1,0,0,0,0,1,1,1,1,0,0,0,0,0,0,0,1,1,1,1,0,0,0,0,0,1,1,1,1,1,0,0,0,1,1,0,0,0,1,1,0,0,0,0,1,1,1,0,0,0,0,1,1,0,1,1,1,1,1,0,0,0,0,1,1,1,1,1,1,0,1,1,1,0,1,1,0,0,0,1,1,1,1,1,1,0,0,0,1,0,0,0,1,1,1,1,1,1,0,0,0,1,1,1,0,0,0,0,0,1,1,1,0,0,1,1,0,0,1,1,0,0,1,1,0,0,1,1,1,1,1,0,0,0,1,1,1,1,0,0,0,1,1,0,1,1,1,1,0,0,0,0,1,1,0,1,1,0,0,0,1,1,1,0,0,0,0,0,0,0,0,1,1,1,1,0,0,0,0,1,1,1,1,1,1,1,1,1,1,1,1,0,0,0,1,1,1,1,0,1,1,0,0,1,0,0,0,0,0,1,1,1,1,0,0,0,1,1,1,1,0,0,0,0,0,1,1,1,0,0,0,0,1,1,1,0,0,0,0,1,1,0,0,1,0,0,1,1,1,1,1,0,0,1,1,1,0,0,0,0,1,0,0,0,1,1,1,1,1,1,1,0,1,1,1,1,0,0,0,0,1,1,0,0,1,1,1,0,0,1,1,1,1,1,1,0,0,0,1,0,0,1,1,0,0,1,1,0,1,1,0,1,1,1,1,1,1,1,1,1,0,1,1,1,0,1,1,1,1,0,0,0,1,1,0,0,1,1,1,1,0,0,0,0,1,1,1,1,0,0,0,0,0,0,1,1,0,0,1,1,1,1,0,0,1,1,1,0,0,0,0,0,0,0,1,1,1,1,1,0,0,0,1,1,1,0,1,1,1,0,0,1,1,1,1,1,0,0,0,1,1,1,0,0,0,1,1,1,1,1,1,0,1,1,0,1,1,1,1,0,0,1,1,0,0,0,0,0,0,1,1,1,0,1,1,1,1,1,1,1,0,0,0,0,1,1,1,0,0,1,1,1,0,0,0,0,1,1,0,0,0,1,1,0,0,1,0,0,1,1,0,0,0,0,0,0,0,0,0,1,1,1,1,1,1,1,1,1,1,1,0,1,1,0,1,1,1,1,0,1,1,1,1,1,1,0,0,0,1,1,1,0,0,0,0,0,0,1,1,0,0,0,1,1,0,0,0,0,1,1,1,1,0,0,0,0,1,1,1,0,0,1,0,0,1,1,1,0,0,0,1,1,0,0,0,0,0,1,1,1,1,0,1,1,1,1,1,1,1,1,0,0,0,0,0,0,0,0,1,1,1,0,0,1,0,0,0,1,1,1,0,0,0,0,0,0,1,0,1,1,1,1,0,0,1,1,0,0,0,0,1,0,1,1,0,1,1,1,0,1,1,1,1,0,1,1,0,0,0,0,0,1,1,0,0,0,0,0,1,1,0,1,0,0,1,0],\"coloraxis\":\"coloraxis\",\"size\":[4,4,4,4,4,4,4,4,2,2,5,5,5,5,5,6,6,6,6,6,6,1,6,6,6,6,6,6,3,3,3,1,1,8,8,8,8,8,8,8,8,1,2,2,3,3,3,9,9,9,9,9,9,9,9,9,6,6,6,6,6,6,3,3,3,1,8,8,8,8,8,8,8,8,3,3,3,3,3,3,7,7,7,7,7,7,7,1,2,2,5,5,5,5,5,3,3,3,6,6,6,6,6,6,3,3,3,1,6,6,6,6,6,6,5,5,5,5,5,5,5,5,5,5,1,5,5,5,5,5,4,4,4,4,4,4,4,4,6,6,6,6,6,6,2,2,5,5,5,5,5,1,6,6,6,6,6,6,2,2,2,2,3,3,3,8,8,8,8,8,8,8,8,4,4,4,4,3,3,3,7,7,7,7,7,7,7,2,2,5,5,5,5,5,9,9,9,9,9,9,9,9,9,4,4,4,4,5,5,5,5,5,5,5,5,5,5,5,5,5,5,5,7,7,7,7,7,7,7,1,2,2,4,4,4,4,6,6,6,6,6,6,1,5,5,5,5,5,1,11,11,11,11,11,11,11,11,11,11,11,4,4,4,4,5,5,5,5,5,8,8,8,8,8,8,8,8,5,5,5,5,5,6,6,6,6,6,6,7,7,7,7,7,7,7,3,3,3,2,2,7,7,7,7,7,7,7,7,7,7,7,7,7,7,4,4,4,4,5,5,5,5,5,8,8,8,8,8,8,8,8,1,4,4,4,4,9,9,9,9,9,9,9,9,9,8,8,8,8,8,8,8,8,5,5,5,5,5,4,4,4,4,4,4,4,4,4,4,4,4,8,8,8,8,8,8,8,8,7,7,7,7,7,7,7,3,3,3,2,2,4,4,4,4,2,2,3,3,3,5,5,5,5,5,10,10,10,10,10,10,10,10,10,10,1,8,8,8,8,8,8,8,8,3,3,3,6,6,6,6,6,6,6,6,6,6,6,6,5,5,5,5,5,4,4,4,4,6,6,6,6,6,6,7,7,7,7,7,7,7,9,9,9,9,9,9,9,9,9,7,7,7,7,7,7,7,7,7,7,7,7,7,7,4,4,4,4,3,3,3,1,6,6,6,6,6,6,7,7,7,7,7,7,7,3,3,3,1,3,3,3,5,5,5,5,5,8,8,8,8,8,8,8,8,4,4,4,4,5,5,5,5,5,9,9,9,9,9,9,9,9,9,3,3,3,4,4,4,4,1,2,2,3,3,3,11,11,11,11,11,11,11,11,11,11,2,2,2,2,7,7,7,7,7,7,7,4,4,4,4,8,8,8,8,8,8,8,8,10,10,10,10,10,10,10,10,10,10,4,4,4,4,5,5,5,5,5,1,10,10,10,10,10,10,10,10,10,10,8,8,8,8,8,8,8,8,4,4,4,4,1,4,4,4,4,8,8,8,8,8,8,8,8,6,6,6,6,6,6,1,1,5,5,5,5,5,1,2,2,1,5,5,5,5,5,1,7,7,7,7,7,7,7,4,4,4,4,1,10,10,10,10,10,10,10,10,10,10,5,5,5,5,5,1,6,6,6,6,6,6,5,5,5,5,5,4,4,4,4,3,3,3,11,11,11,11,11,11,11,11,11,11,11,4,4,4,4,8,8,8,8,8,8,8,8,3,3,3,5,5,5,5,5,1,8,8,8,8,8,8,8,8,9,9,9,9,9,9,9,9,9,5,5,5,5,5,6,6,6,6,6,6,8,8,8,8,8,8,8,8,5,5,5,5,5,1,2,2,6,6,6,6,6,6,7,7,7,7,7,7,7,1,4,4,4,4,1,15,15,15,15,15,15,15,15,15,15,15,15,15,15,15,4,4,4,4,1,4,4,4,4,9,9,9,9,9,9,9,9,9,2,2,6,6,6,6,6,6,6,6,6,6,6,6,2,2,3,3,3,4,4,4,4,5,5,5,5,5,7,7,7,7,7,7,7,7,7,7,7,7,7,7,1,2,2,3,3,3,2,2],\"sizemode\":\"area\",\"sizeref\":0.0375,\"symbol\":\"circle\"},\"mode\":\"markers\",\"name\":\"\",\"orientation\":\"v\",\"showlegend\":false,\"x\":[78.5,78.5,78.5,78.5,75.5,75.5,75.5,75.5,75.0,75.0,75.0,75.0,75.0,75.0,75.0,75.0,75.0,75.0,75.0,75.0,75.0,74.0,74.0,74.0,74.0,74.0,74.0,74.0,74.0,74.0,74.0,74.5,74.0,74.0,74.0,74.0,74.0,74.0,74.0,74.0,74.0,74.0,73.0,73.0,73.0,73.0,73.0,73.0,73.0,73.0,73.0,73.0,73.0,73.0,73.0,73.0,73.0,73.0,73.0,73.0,73.0,73.0,73.0,73.0,73.0,73.2,72.7,72.7,72.7,72.7,72.7,72.7,72.7,72.7,72.0,72.0,72.0,72.0,72.0,72.0,72.0,72.0,72.0,72.0,72.0,72.0,72.0,72.0,72.0,72.0,72.0,72.0,72.0,72.0,72.0,72.0,72.0,72.0,72.0,72.0,72.0,72.0,72.0,72.0,72.5,72.5,72.5,72.0,72.5,72.5,72.5,72.5,72.5,72.5,72.0,72.0,72.0,72.0,72.0,72.0,72.0,72.0,72.0,72.0,72.0,71.0,71.0,71.0,71.0,71.0,71.0,71.0,71.0,71.0,71.0,71.0,71.0,71.0,71.0,71.0,71.0,71.0,71.0,71.0,71.0,71.0,71.0,71.0,71.0,71.0,71.0,71.7,71.0,71.0,71.0,71.0,71.0,71.0,71.5,71.5,71.5,71.5,71.0,71.0,71.0,71.0,71.0,71.0,71.0,71.0,71.0,71.0,71.0,71.7,71.7,71.7,71.7,71.0,71.0,71.0,71.5,71.5,71.5,71.5,71.5,71.5,71.5,71.2,71.2,71.0,71.0,71.0,71.0,71.0,71.0,71.0,71.0,71.0,71.0,71.0,71.0,71.0,71.0,71.0,71.0,71.0,71.0,71.0,71.0,71.0,71.0,71.0,71.0,71.0,71.0,71.0,71.0,71.0,71.0,71.0,71.0,71.0,71.0,71.0,71.0,71.0,71.0,71.0,71.0,71.0,71.0,71.0,70.0,70.0,70.0,70.0,70.0,70.0,70.0,70.0,70.0,70.0,70.0,70.0,70.0,70.0,70.0,70.0,70.0,70.0,70.0,70.0,70.0,70.0,70.0,70.0,70.0,70.0,70.0,70.0,70.5,70.5,70.5,70.5,70.5,70.5,70.5,70.5,70.5,70.0,70.0,70.0,70.0,70.0,70.0,70.0,70.0,70.0,70.0,70.0,70.0,70.0,70.0,70.0,70.0,70.0,70.0,70.0,70.0,70.0,70.0,70.0,70.0,70.0,70.0,70.0,70.0,70.0,70.0,70.0,70.0,70.0,70.0,70.0,70.0,70.0,70.0,70.0,70.0,70.0,70.0,70.0,70.0,70.0,70.0,70.0,70.0,70.0,70.0,70.0,70.0,70.0,70.0,70.5,70.5,70.5,70.5,70.5,70.5,70.5,70.5,70.5,70.0,70.0,70.0,70.0,70.0,70.0,70.0,70.0,70.0,70.0,70.0,70.0,70.0,70.0,70.0,70.0,70.0,70.0,70.0,70.0,70.0,70.5,70.5,70.5,70.5,70.5,70.0,70.0,70.0,70.0,70.0,70.0,70.0,70.0,70.0,70.0,70.0,70.0,70.5,70.5,70.5,70.5,70.5,70.5,70.5,70.5,70.3,70.3,70.3,70.3,70.3,70.3,70.3,70.5,70.5,70.5,70.0,70.0,70.0,70.0,70.0,70.0,70.0,70.0,70.0,70.0,70.0,70.0,70.0,70.0,70.0,70.0,69.0,69.0,69.0,69.0,69.0,69.0,69.0,69.0,69.0,69.0,69.0,69.0,69.0,69.0,69.0,69.0,69.0,69.0,69.0,69.0,69.0,69.0,69.0,69.0,69.0,69.0,69.0,69.0,69.0,69.0,69.0,69.0,69.0,69.0,69.0,69.0,69.0,69.0,69.0,69.5,69.5,69.5,69.5,69.0,69.0,69.0,69.0,69.0,69.0,69.5,69.5,69.5,69.5,69.5,69.5,69.5,69.0,69.0,69.0,69.0,69.0,69.0,69.0,69.0,69.0,69.0,69.0,69.0,69.0,69.0,69.0,69.0,69.5,69.5,69.5,69.5,69.5,69.5,69.5,69.2,69.2,69.2,69.2,69.0,69.0,69.0,69.0,69.0,69.0,69.0,69.0,69.0,69.0,69.0,69.0,69.0,69.0,69.0,69.0,69.0,69.0,69.0,69.0,69.7,69.5,69.5,69.5,69.0,69.0,69.0,69.0,69.0,69.0,69.0,69.0,69.0,69.0,69.0,69.0,69.0,69.0,69.0,69.0,69.0,69.5,69.5,69.5,69.5,69.5,69.0,69.0,69.0,69.0,69.0,69.0,69.0,69.0,69.0,69.0,69.0,69.0,69.0,69.0,69.0,69.0,69.0,68.7,68.7,68.5,68.5,68.5,68.5,68.5,68.5,68.5,68.5,68.5,68.5,68.5,68.5,68.5,68.0,68.0,68.0,68.0,68.0,68.0,68.0,68.0,68.0,68.0,68.0,68.0,68.0,68.0,68.0,68.5,68.5,68.5,68.5,68.5,68.5,68.5,68.5,68.0,68.0,68.0,68.0,68.0,68.0,68.0,68.0,68.0,68.0,68.0,68.0,68.0,68.0,68.0,68.0,68.0,68.0,68.0,68.0,68.0,68.0,68.0,68.0,68.0,68.0,68.0,68.0,68.0,68.0,68.0,68.0,68.0,68.0,68.0,68.0,68.0,68.0,68.5,68.5,68.5,68.5,68.0,68.0,68.0,68.0,68.0,68.0,68.0,68.0,68.0,68.0,68.0,68.0,68.0,68.0,68.0,68.0,68.0,68.0,68.0,68.5,68.0,68.2,68.2,68.2,68.2,68.2,68.0,68.7,68.7,68.0,68.0,68.0,68.0,68.0,68.0,68.0,68.0,68.0,68.0,68.0,68.0,68.0,68.0,68.0,68.0,68.0,68.0,68.5,68.0,68.0,68.0,68.0,68.0,68.0,68.0,68.0,68.0,68.0,67.0,67.0,67.0,67.0,67.0,67.0,67.0,67.0,67.0,67.0,67.0,67.0,67.0,67.0,67.0,67.0,67.0,67.0,67.0,67.0,67.0,67.0,67.0,67.0,67.5,67.5,67.5,67.5,67.5,67.5,67.5,67.5,67.5,67.5,67.5,67.0,67.0,67.0,67.0,67.0,67.0,67.0,67.0,67.0,67.0,67.0,67.0,67.0,67.0,67.0,67.5,67.5,67.5,67.5,67.5,67.0,66.0,66.0,66.0,66.0,66.0,66.0,66.0,66.0,66.0,66.0,66.0,66.0,66.0,66.0,66.0,66.0,66.0,66.0,66.0,66.0,66.0,66.0,66.0,66.0,66.0,66.0,66.0,66.0,66.5,66.5,66.5,66.5,66.5,66.5,66.5,66.5,66.0,66.0,66.0,66.0,66.0,66.0,66.0,66.0,66.5,66.5,66.5,66.5,66.5,66.5,66.5,66.5,66.5,66.5,66.5,66.5,66.5,66.0,66.0,66.0,66.0,66.0,66.0,66.0,66.0,66.0,66.0,66.0,66.0,66.0,66.0,66.0,66.0,66.0,66.0,66.0,66.0,66.0,65.0,65.0,65.0,65.0,65.0,65.0,65.0,65.0,65.0,65.0,65.0,65.0,65.0,65.0,65.0,65.0,65.0,65.0,65.0,65.0,65.0,65.0,65.0,65.0,65.0,65.0,65.0,65.0,65.0,65.0,65.0,65.0,65.0,65.0,65.0,65.0,65.0,65.5,65.5,65.5,65.5,65.5,65.5,65.5,65.5,65.5,64.0,64.0,64.0,64.0,64.0,64.0,64.0,64.0,64.0,64.0,64.0,64.0,64.0,64.0,64.0,64.0,64.0,62.0,62.0,62.0,62.5,62.5],\"xaxis\":\"x\",\"y\":[73.2,69.2,69.0,69.0,73.5,72.5,65.5,65.5,71.0,68.0,70.5,68.5,67.0,64.5,63.0,72.0,69.0,68.0,66.5,62.5,62.5,69.5,76.5,74.0,73.0,73.0,70.5,64.0,70.5,68.0,66.0,66.0,65.5,74.0,70.0,68.0,67.0,67.0,66.0,63.5,63.0,65.0,68.0,67.0,71.0,70.5,66.7,72.0,70.5,70.2,70.2,69.2,68.7,66.5,64.5,63.5,74.0,73.0,71.5,62.5,66.5,62.3,66.0,64.5,64.0,62.7,73.2,73.0,72.7,70.0,69.0,68.5,68.0,66.0,73.0,68.5,68.0,73.0,71.0,67.0,74.2,70.5,69.5,66.0,65.5,65.0,65.0,65.5,66.0,63.0,70.5,70.5,69.0,65.0,63.0,69.0,67.0,63.0,73.0,67.0,70.5,70.0,66.5,63.0,67.5,67.2,66.7,64.0,71.0,70.0,70.0,66.0,65.0,65.0,74.0,72.0,69.0,67.5,63.5,72.0,71.5,71.5,70.0,68.0,65.7,78.0,74.0,73.0,72.0,67.0,73.2,73.0,69.0,67.0,70.0,67.0,67.0,66.5,70.0,69.0,68.5,66.0,64.5,63.0,71.0,67.0,76.0,72.0,71.0,66.0,66.0,70.5,72.0,72.0,71.0,69.0,66.0,65.0,73.0,65.2,68.5,67.7,68.0,68.0,62.0,68.0,68.0,67.5,66.5,66.5,66.0,65.5,65.0,72.0,71.0,70.5,67.0,68.0,68.0,68.0,72.0,71.0,70.0,66.0,64.5,64.5,62.0,67.5,64.5,71.0,67.0,66.0,65.0,63.5,71.0,70.0,70.0,64.0,65.0,65.0,64.0,63.0,63.0,71.0,71.0,70.0,63.5,71.0,70.0,64.5,62.5,61.5,72.0,70.5,70.5,64.5,60.0,70.0,64.0,64.0,64.0,62.5,70.5,70.0,69.0,69.0,66.0,64.5,64.0,62.0,71.5,69.0,71.0,70.0,69.0,69.0,70.0,68.7,68.0,66.0,64.0,62.0,75.0,70.0,69.0,66.0,64.0,60.0,67.5,73.0,72.0,72.0,66.5,69.2,67.2,66.5,66.0,66.0,64.2,63.7,72.0,70.2,69.0,68.5,68.0,65.0,61.5,61.0,61.0,73.0,72.0,70.5,65.0,65.0,64.5,63.0,62.0,67.0,65.0,64.5,62.5,62.5,70.0,70.0,67.0,65.0,65.0,63.0,79.0,75.0,71.0,69.0,67.0,65.7,62.0,73.0,72.5,65.0,69.0,69.0,72.0,70.0,68.7,66.5,65.5,64.7,64.5,70.7,70.0,68.0,67.0,66.0,65.0,67.0,70.0,68.0,66.7,65.5,72.0,70.0,62.5,61.2,60.1,74.0,69.5,69.0,68.0,68.0,68.0,65.5,65.0,60.0,68.0,65.0,64.0,62.0,71.0,70.0,70.0,70.0,69.5,68.5,69.0,65.0,64.0,70.0,67.0,65.5,63.7,63.2,62.5,62.2,61.0,72.5,69.0,67.0,64.5,64.0,71.0,67.5,67.5,63.5,68.0,67.0,63.7,62.0,70.0,66.5,62.0,61.0,72.0,70.0,69.5,69.5,68.0,65.0,64.0,63.0,70.7,69.7,69.2,65.2,64.0,63.5,63.2,72.0,72.0,60.0,71.2,67.0,67.0,64.5,65.0,63.0,65.0,65.0,71.5,64.5,63.0,72.0,66.0,66.0,65.0,63.0,75.0,71.0,70.0,66.0,66.0,65.5,65.0,65.0,64.0,64.0,64.0,73.0,72.0,71.7,71.5,65.5,65.0,62.7,62.5,71.2,71.0,70.0,75.0,74.0,72.0,68.5,67.0,66.0,70.0,68.5,68.0,65.0,63.0,62.5,73.0,71.0,70.5,70.5,61.0,70.5,67.5,64.5,64.0,71.0,68.5,67.5,66.0,63.0,63.0,71.0,71.0,70.5,70.5,66.5,65.5,64.5,73.0,72.0,69.0,69.0,66.5,65.5,65.5,65.0,64.0,70.0,68.5,67.0,65.0,64.0,63.5,61.0,69.7,68.0,60.0,65.2,64.5,63.7,60.0,71.7,66.5,65.0,63.5,69.0,67.5,63.5,72.0,73.0,70.0,70.0,64.0,66.0,62.0,70.5,67.0,66.0,65.0,63.0,62.0,61.0,70.5,63.7,63.0,62.5,73.0,72.0,69.0,73.0,71.0,71.0,69.0,63.0,71.0,70.0,70.0,69.0,63.5,62.5,62.5,62.0,72.0,68.0,66.0,66.0,70.0,69.5,69.0,63.0,62.0,68.0,68.0,67.5,64.0,63.0,63.0,63.5,62.0,62.0,70.5,68.0,62.5,69.0,66.0,61.7,60.5,69.5,71.0,61.7,73.0,71.0,67.0,70.0,69.0,69.0,68.7,68.5,68.5,68.0,68.0,68.0,63.2,67.5,66.0,66.0,64.0,71.7,71.5,70.7,65.5,66.5,65.2,61.5,72.0,72.0,68.0,66.0,69.2,68.0,66.0,66.0,62.0,61.5,61.0,60.0,71.0,68.0,68.0,67.0,65.0,64.0,63.0,63.0,62.0,61.0,66.0,63.0,65.5,62.0,71.2,71.2,69.0,68.5,62.5,62.0,69.0,67.0,66.0,66.0,66.0,65.0,65.0,65.0,64.0,63.0,70.5,70.0,68.0,66.0,66.0,66.0,62.0,61.5,73.5,70.0,69.5,65.5,67.0,70.0,68.0,64.5,64.0,71.0,68.0,66.0,65.5,65.0,63.0,62.0,62.0,67.0,67.0,66.0,64.0,63.5,61.0,68.2,70.0,70.0,69.0,67.0,65.5,64.5,68.5,67.7,61.7,66.5,68.5,68.0,64.0,63.5,63.0,66.7,64.0,61.0,61.0,60.0,60.0,60.0,56.0,67.5,67.0,66.5,60.0,69.0,68.0,65.0,64.7,64.0,64.0,63.0,65.0,65.0,62.0,61.0,72.7,72.7,71.5,65.5,63.5,71.0,69.7,67.5,65.5,65.0,64.5,63.5,70.0,69.0,65.5,65.5,63.0,70.0,67.7,63.0,60.0,65.0,62.0,62.0,71.0,69.0,64.0,64.0,63.0,63.0,63.0,63.0,63.0,62.5,62.0,71.5,70.0,67.0,67.0,71.0,70.2,69.2,68.5,68.0,67.0,65.5,63.5,69.0,68.0,63.0,70.0,69.5,69.0,68.5,66.0,67.0,70.5,70.5,67.0,66.0,66.0,62.0,62.0,61.5,72.0,65.0,65.0,67.0,64.0,64.0,62.0,60.0,60.0,66.0,65.0,67.0,66.5,65.5,72.0,68.0,66.0,65.0,62.0,61.0,68.7,68.5,66.5,64.5,62.5,60.5,60.5,57.5,72.0,71.0,67.0,66.0,65.0,70.0,64.5,62.0,67.2,67.0,65.0,65.0,65.0,63.0,70.0,68.0,63.5,62.5,62.5,62.5,62.5,70.0,68.0,67.0,65.0,60.0,65.0,68.0,67.0,66.5,66.0,65.7,65.5,65.0,65.0,64.0,63.0,62.0,61.0,60.0,58.0,57.0,66.5,66.0,66.0,65.0,63.0,63.0,63.0,63.0,60.0,69.0,68.0,68.0,65.0,65.0,62.0,62.0,61.0,59.0,70.7,65.5,69.2,69.0,68.0,67.7,64.5,60.5,67.0,67.0,64.0,64.0,62.5,60.5,70.0,63.0,66.0,66.0,63.0,71.0,71.0,69.0,63.5,68.0,68.0,67.0,67.0,62.0,71.5,68.0,65.5,64.0,62.0,62.0,61.0,70.5,68.0,67.0,65.0,64.0,64.0,60.0,64.5,66.0,60.0,64.0,62.0,61.0,66.5,57.0],\"yaxis\":\"y\",\"type\":\"scatter\"},{\"hovertemplate\":\"\\u003cb\\u003eOLS trendline\\u003c\\u002fb\\u003e\\u003cbr\\u003eheight = 0.400214 * father + 39.0458\\u003cbr\\u003eR\\u003csup\\u003e2\\u003c\\u002fsup\\u003e=0.076619\\u003cbr\\u003e\\u003cbr\\u003efather=%{x}\\u003cbr\\u003eheight=%{y} \\u003cb\\u003e(trend)\\u003c\\u002fb\\u003e\\u003cextra\\u003e\\u003c\\u002fextra\\u003e\",\"legendgroup\":\"\",\"marker\":{\"symbol\":\"circle\"},\"mode\":\"lines\",\"name\":\"\",\"showlegend\":false,\"x\":[62.0,62.0,62.0,62.5,62.5,64.0,64.0,64.0,64.0,64.0,64.0,64.0,64.0,64.0,64.0,64.0,64.0,64.0,64.0,64.0,64.0,64.0,65.0,65.0,65.0,65.0,65.0,65.0,65.0,65.0,65.0,65.0,65.0,65.0,65.0,65.0,65.0,65.0,65.0,65.0,65.0,65.0,65.0,65.0,65.0,65.0,65.0,65.0,65.0,65.0,65.0,65.0,65.0,65.0,65.0,65.0,65.0,65.0,65.0,65.5,65.5,65.5,65.5,65.5,65.5,65.5,65.5,65.5,66.0,66.0,66.0,66.0,66.0,66.0,66.0,66.0,66.0,66.0,66.0,66.0,66.0,66.0,66.0,66.0,66.0,66.0,66.0,66.0,66.0,66.0,66.0,66.0,66.0,66.0,66.0,66.0,66.0,66.0,66.0,66.0,66.0,66.0,66.0,66.0,66.0,66.0,66.0,66.0,66.0,66.0,66.0,66.0,66.0,66.0,66.0,66.0,66.0,66.0,66.0,66.0,66.0,66.0,66.0,66.0,66.0,66.5,66.5,66.5,66.5,66.5,66.5,66.5,66.5,66.5,66.5,66.5,66.5,66.5,66.5,66.5,66.5,66.5,66.5,66.5,66.5,66.5,67.0,67.0,67.0,67.0,67.0,67.0,67.0,67.0,67.0,67.0,67.0,67.0,67.0,67.0,67.0,67.0,67.0,67.0,67.0,67.0,67.0,67.0,67.0,67.0,67.0,67.0,67.0,67.0,67.0,67.0,67.0,67.0,67.0,67.0,67.0,67.0,67.0,67.0,67.0,67.0,67.5,67.5,67.5,67.5,67.5,67.5,67.5,67.5,67.5,67.5,67.5,67.5,67.5,67.5,67.5,67.5,68.0,68.0,68.0,68.0,68.0,68.0,68.0,68.0,68.0,68.0,68.0,68.0,68.0,68.0,68.0,68.0,68.0,68.0,68.0,68.0,68.0,68.0,68.0,68.0,68.0,68.0,68.0,68.0,68.0,68.0,68.0,68.0,68.0,68.0,68.0,68.0,68.0,68.0,68.0,68.0,68.0,68.0,68.0,68.0,68.0,68.0,68.0,68.0,68.0,68.0,68.0,68.0,68.0,68.0,68.0,68.0,68.0,68.0,68.0,68.0,68.0,68.0,68.0,68.0,68.0,68.0,68.0,68.0,68.0,68.0,68.0,68.0,68.0,68.0,68.0,68.0,68.0,68.0,68.0,68.0,68.0,68.0,68.0,68.0,68.0,68.0,68.0,68.0,68.0,68.0,68.0,68.0,68.0,68.0,68.0,68.0,68.0,68.0,68.0,68.0,68.0,68.0,68.2,68.2,68.2,68.2,68.2,68.5,68.5,68.5,68.5,68.5,68.5,68.5,68.5,68.5,68.5,68.5,68.5,68.5,68.5,68.5,68.5,68.5,68.5,68.5,68.5,68.5,68.5,68.5,68.5,68.5,68.5,68.5,68.7,68.7,68.7,68.7,69.0,69.0,69.0,69.0,69.0,69.0,69.0,69.0,69.0,69.0,69.0,69.0,69.0,69.0,69.0,69.0,69.0,69.0,69.0,69.0,69.0,69.0,69.0,69.0,69.0,69.0,69.0,69.0,69.0,69.0,69.0,69.0,69.0,69.0,69.0,69.0,69.0,69.0,69.0,69.0,69.0,69.0,69.0,69.0,69.0,69.0,69.0,69.0,69.0,69.0,69.0,69.0,69.0,69.0,69.0,69.0,69.0,69.0,69.0,69.0,69.0,69.0,69.0,69.0,69.0,69.0,69.0,69.0,69.0,69.0,69.0,69.0,69.0,69.0,69.0,69.0,69.0,69.0,69.0,69.0,69.0,69.0,69.0,69.0,69.0,69.0,69.0,69.0,69.0,69.0,69.0,69.0,69.0,69.0,69.0,69.0,69.0,69.0,69.0,69.0,69.0,69.0,69.0,69.0,69.0,69.0,69.0,69.0,69.0,69.0,69.0,69.0,69.0,69.0,69.0,69.2,69.2,69.2,69.2,69.5,69.5,69.5,69.5,69.5,69.5,69.5,69.5,69.5,69.5,69.5,69.5,69.5,69.5,69.5,69.5,69.5,69.5,69.5,69.5,69.5,69.5,69.5,69.5,69.5,69.5,69.7,70.0,70.0,70.0,70.0,70.0,70.0,70.0,70.0,70.0,70.0,70.0,70.0,70.0,70.0,70.0,70.0,70.0,70.0,70.0,70.0,70.0,70.0,70.0,70.0,70.0,70.0,70.0,70.0,70.0,70.0,70.0,70.0,70.0,70.0,70.0,70.0,70.0,70.0,70.0,70.0,70.0,70.0,70.0,70.0,70.0,70.0,70.0,70.0,70.0,70.0,70.0,70.0,70.0,70.0,70.0,70.0,70.0,70.0,70.0,70.0,70.0,70.0,70.0,70.0,70.0,70.0,70.0,70.0,70.0,70.0,70.0,70.0,70.0,70.0,70.0,70.0,70.0,70.0,70.0,70.0,70.0,70.0,70.0,70.0,70.0,70.0,70.0,70.0,70.0,70.0,70.0,70.0,70.0,70.0,70.0,70.0,70.0,70.0,70.0,70.0,70.0,70.0,70.0,70.0,70.0,70.0,70.0,70.0,70.0,70.0,70.0,70.0,70.0,70.0,70.0,70.0,70.0,70.0,70.0,70.0,70.0,70.0,70.0,70.0,70.0,70.0,70.0,70.0,70.0,70.0,70.0,70.3,70.3,70.3,70.3,70.3,70.3,70.3,70.5,70.5,70.5,70.5,70.5,70.5,70.5,70.5,70.5,70.5,70.5,70.5,70.5,70.5,70.5,70.5,70.5,70.5,70.5,70.5,70.5,70.5,70.5,70.5,70.5,70.5,70.5,70.5,70.5,70.5,70.5,70.5,70.5,70.5,71.0,71.0,71.0,71.0,71.0,71.0,71.0,71.0,71.0,71.0,71.0,71.0,71.0,71.0,71.0,71.0,71.0,71.0,71.0,71.0,71.0,71.0,71.0,71.0,71.0,71.0,71.0,71.0,71.0,71.0,71.0,71.0,71.0,71.0,71.0,71.0,71.0,71.0,71.0,71.0,71.0,71.0,71.0,71.0,71.0,71.0,71.0,71.0,71.0,71.0,71.0,71.0,71.0,71.0,71.0,71.0,71.0,71.0,71.0,71.0,71.0,71.0,71.0,71.0,71.0,71.0,71.0,71.0,71.0,71.0,71.0,71.0,71.0,71.0,71.0,71.0,71.0,71.0,71.0,71.0,71.0,71.0,71.0,71.0,71.0,71.0,71.0,71.0,71.0,71.2,71.2,71.5,71.5,71.5,71.5,71.5,71.5,71.5,71.5,71.5,71.5,71.5,71.7,71.7,71.7,71.7,71.7,72.0,72.0,72.0,72.0,72.0,72.0,72.0,72.0,72.0,72.0,72.0,72.0,72.0,72.0,72.0,72.0,72.0,72.0,72.0,72.0,72.0,72.0,72.0,72.0,72.0,72.0,72.0,72.0,72.0,72.0,72.0,72.0,72.0,72.0,72.0,72.0,72.0,72.0,72.0,72.0,72.0,72.0,72.5,72.5,72.5,72.5,72.5,72.5,72.5,72.5,72.5,72.7,72.7,72.7,72.7,72.7,72.7,72.7,72.7,73.0,73.0,73.0,73.0,73.0,73.0,73.0,73.0,73.0,73.0,73.0,73.0,73.0,73.0,73.0,73.0,73.0,73.0,73.0,73.0,73.0,73.0,73.0,73.2,74.0,74.0,74.0,74.0,74.0,74.0,74.0,74.0,74.0,74.0,74.0,74.0,74.0,74.0,74.0,74.0,74.0,74.0,74.0,74.0,74.5,75.0,75.0,75.0,75.0,75.0,75.0,75.0,75.0,75.0,75.0,75.0,75.0,75.0,75.5,75.5,75.5,75.5,78.5,78.5,78.5,78.5],\"xaxis\":\"x\",\"y\":[63.85908330508783,63.85908330508783,63.85908330508783,64.05919007500222,64.05919007500222,64.65951038474536,64.65951038474536,64.65951038474536,64.65951038474536,64.65951038474536,64.65951038474536,64.65951038474536,64.65951038474536,64.65951038474536,64.65951038474536,64.65951038474536,64.65951038474536,64.65951038474536,64.65951038474536,64.65951038474536,64.65951038474536,64.65951038474536,65.05972392457413,65.05972392457413,65.05972392457413,65.05972392457413,65.05972392457413,65.05972392457413,65.05972392457413,65.05972392457413,65.05972392457413,65.05972392457413,65.05972392457413,65.05972392457413,65.05972392457413,65.05972392457413,65.05972392457413,65.05972392457413,65.05972392457413,65.05972392457413,65.05972392457413,65.05972392457413,65.05972392457413,65.05972392457413,65.05972392457413,65.05972392457413,65.05972392457413,65.05972392457413,65.05972392457413,65.05972392457413,65.05972392457413,65.05972392457413,65.05972392457413,65.05972392457413,65.05972392457413,65.05972392457413,65.05972392457413,65.05972392457413,65.05972392457413,65.2598306944885,65.2598306944885,65.2598306944885,65.2598306944885,65.2598306944885,65.2598306944885,65.2598306944885,65.2598306944885,65.2598306944885,65.45993746440288,65.45993746440288,65.45993746440288,65.45993746440288,65.45993746440288,65.45993746440288,65.45993746440288,65.45993746440288,65.45993746440288,65.45993746440288,65.45993746440288,65.45993746440288,65.45993746440288,65.45993746440288,65.45993746440288,65.45993746440288,65.45993746440288,65.45993746440288,65.45993746440288,65.45993746440288,65.45993746440288,65.45993746440288,65.45993746440288,65.45993746440288,65.45993746440288,65.45993746440288,65.45993746440288,65.45993746440288,65.45993746440288,65.45993746440288,65.45993746440288,65.45993746440288,65.45993746440288,65.45993746440288,65.45993746440288,65.45993746440288,65.45993746440288,65.45993746440288,65.45993746440288,65.45993746440288,65.45993746440288,65.45993746440288,65.45993746440288,65.45993746440288,65.45993746440288,65.45993746440288,65.45993746440288,65.45993746440288,65.45993746440288,65.45993746440288,65.45993746440288,65.45993746440288,65.45993746440288,65.45993746440288,65.45993746440288,65.45993746440288,65.45993746440288,65.66004423431727,65.66004423431727,65.66004423431727,65.66004423431727,65.66004423431727,65.66004423431727,65.66004423431727,65.66004423431727,65.66004423431727,65.66004423431727,65.66004423431727,65.66004423431727,65.66004423431727,65.66004423431727,65.66004423431727,65.66004423431727,65.66004423431727,65.66004423431727,65.66004423431727,65.66004423431727,65.66004423431727,65.86015100423165,65.86015100423165,65.86015100423165,65.86015100423165,65.86015100423165,65.86015100423165,65.86015100423165,65.86015100423165,65.86015100423165,65.86015100423165,65.86015100423165,65.86015100423165,65.86015100423165,65.86015100423165,65.86015100423165,65.86015100423165,65.86015100423165,65.86015100423165,65.86015100423165,65.86015100423165,65.86015100423165,65.86015100423165,65.86015100423165,65.86015100423165,65.86015100423165,65.86015100423165,65.86015100423165,65.86015100423165,65.86015100423165,65.86015100423165,65.86015100423165,65.86015100423165,65.86015100423165,65.86015100423165,65.86015100423165,65.86015100423165,65.86015100423165,65.86015100423165,65.86015100423165,65.86015100423165,66.06025777414604,66.06025777414604,66.06025777414604,66.06025777414604,66.06025777414604,66.06025777414604,66.06025777414604,66.06025777414604,66.06025777414604,66.06025777414604,66.06025777414604,66.06025777414604,66.06025777414604,66.06025777414604,66.06025777414604,66.06025777414604,66.26036454406042,66.26036454406042,66.26036454406042,66.26036454406042,66.26036454406042,66.26036454406042,66.26036454406042,66.26036454406042,66.26036454406042,66.26036454406042,66.26036454406042,66.26036454406042,66.26036454406042,66.26036454406042,66.26036454406042,66.26036454406042,66.26036454406042,66.26036454406042,66.26036454406042,66.26036454406042,66.26036454406042,66.26036454406042,66.26036454406042,66.26036454406042,66.26036454406042,66.26036454406042,66.26036454406042,66.26036454406042,66.26036454406042,66.26036454406042,66.26036454406042,66.26036454406042,66.26036454406042,66.26036454406042,66.26036454406042,66.26036454406042,66.26036454406042,66.26036454406042,66.26036454406042,66.26036454406042,66.26036454406042,66.26036454406042,66.26036454406042,66.26036454406042,66.26036454406042,66.26036454406042,66.26036454406042,66.26036454406042,66.26036454406042,66.26036454406042,66.26036454406042,66.26036454406042,66.26036454406042,66.26036454406042,66.26036454406042,66.26036454406042,66.26036454406042,66.26036454406042,66.26036454406042,66.26036454406042,66.26036454406042,66.26036454406042,66.26036454406042,66.26036454406042,66.26036454406042,66.26036454406042,66.26036454406042,66.26036454406042,66.26036454406042,66.26036454406042,66.26036454406042,66.26036454406042,66.26036454406042,66.26036454406042,66.26036454406042,66.26036454406042,66.26036454406042,66.26036454406042,66.26036454406042,66.26036454406042,66.26036454406042,66.26036454406042,66.26036454406042,66.26036454406042,66.26036454406042,66.26036454406042,66.26036454406042,66.26036454406042,66.26036454406042,66.26036454406042,66.26036454406042,66.26036454406042,66.26036454406042,66.26036454406042,66.26036454406042,66.26036454406042,66.26036454406042,66.26036454406042,66.26036454406042,66.26036454406042,66.26036454406042,66.26036454406042,66.34040725202617,66.34040725202617,66.34040725202617,66.34040725202617,66.34040725202617,66.46047131397481,66.46047131397481,66.46047131397481,66.46047131397481,66.46047131397481,66.46047131397481,66.46047131397481,66.46047131397481,66.46047131397481,66.46047131397481,66.46047131397481,66.46047131397481,66.46047131397481,66.46047131397481,66.46047131397481,66.46047131397481,66.46047131397481,66.46047131397481,66.46047131397481,66.46047131397481,66.46047131397481,66.46047131397481,66.46047131397481,66.46047131397481,66.46047131397481,66.46047131397481,66.46047131397481,66.54051402194055,66.54051402194055,66.54051402194055,66.54051402194055,66.66057808388919,66.66057808388919,66.66057808388919,66.66057808388919,66.66057808388919,66.66057808388919,66.66057808388919,66.66057808388919,66.66057808388919,66.66057808388919,66.66057808388919,66.66057808388919,66.66057808388919,66.66057808388919,66.66057808388919,66.66057808388919,66.66057808388919,66.66057808388919,66.66057808388919,66.66057808388919,66.66057808388919,66.66057808388919,66.66057808388919,66.66057808388919,66.66057808388919,66.66057808388919,66.66057808388919,66.66057808388919,66.66057808388919,66.66057808388919,66.66057808388919,66.66057808388919,66.66057808388919,66.66057808388919,66.66057808388919,66.66057808388919,66.66057808388919,66.66057808388919,66.66057808388919,66.66057808388919,66.66057808388919,66.66057808388919,66.66057808388919,66.66057808388919,66.66057808388919,66.66057808388919,66.66057808388919,66.66057808388919,66.66057808388919,66.66057808388919,66.66057808388919,66.66057808388919,66.66057808388919,66.66057808388919,66.66057808388919,66.66057808388919,66.66057808388919,66.66057808388919,66.66057808388919,66.66057808388919,66.66057808388919,66.66057808388919,66.66057808388919,66.66057808388919,66.66057808388919,66.66057808388919,66.66057808388919,66.66057808388919,66.66057808388919,66.66057808388919,66.66057808388919,66.66057808388919,66.66057808388919,66.66057808388919,66.66057808388919,66.66057808388919,66.66057808388919,66.66057808388919,66.66057808388919,66.66057808388919,66.66057808388919,66.66057808388919,66.66057808388919,66.66057808388919,66.66057808388919,66.66057808388919,66.66057808388919,66.66057808388919,66.66057808388919,66.66057808388919,66.66057808388919,66.66057808388919,66.66057808388919,66.66057808388919,66.66057808388919,66.66057808388919,66.66057808388919,66.66057808388919,66.66057808388919,66.66057808388919,66.66057808388919,66.66057808388919,66.66057808388919,66.66057808388919,66.66057808388919,66.66057808388919,66.66057808388919,66.66057808388919,66.66057808388919,66.66057808388919,66.66057808388919,66.66057808388919,66.66057808388919,66.66057808388919,66.66057808388919,66.74062079185494,66.74062079185494,66.74062079185494,66.74062079185494,66.86068485380356,66.86068485380356,66.86068485380356,66.86068485380356,66.86068485380356,66.86068485380356,66.86068485380356,66.86068485380356,66.86068485380356,66.86068485380356,66.86068485380356,66.86068485380356,66.86068485380356,66.86068485380356,66.86068485380356,66.86068485380356,66.86068485380356,66.86068485380356,66.86068485380356,66.86068485380356,66.86068485380356,66.86068485380356,66.86068485380356,66.86068485380356,66.86068485380356,66.86068485380356,66.94072756176932,67.06079162371795,67.06079162371795,67.06079162371795,67.06079162371795,67.06079162371795,67.06079162371795,67.06079162371795,67.06079162371795,67.06079162371795,67.06079162371795,67.06079162371795,67.06079162371795,67.06079162371795,67.06079162371795,67.06079162371795,67.06079162371795,67.06079162371795,67.06079162371795,67.06079162371795,67.06079162371795,67.06079162371795,67.06079162371795,67.06079162371795,67.06079162371795,67.06079162371795,67.06079162371795,67.06079162371795,67.06079162371795,67.06079162371795,67.06079162371795,67.06079162371795,67.06079162371795,67.06079162371795,67.06079162371795,67.06079162371795,67.06079162371795,67.06079162371795,67.06079162371795,67.06079162371795,67.06079162371795,67.06079162371795,67.06079162371795,67.06079162371795,67.06079162371795,67.06079162371795,67.06079162371795,67.06079162371795,67.06079162371795,67.06079162371795,67.06079162371795,67.06079162371795,67.06079162371795,67.06079162371795,67.06079162371795,67.06079162371795,67.06079162371795,67.06079162371795,67.06079162371795,67.06079162371795,67.06079162371795,67.06079162371795,67.06079162371795,67.06079162371795,67.06079162371795,67.06079162371795,67.06079162371795,67.06079162371795,67.06079162371795,67.06079162371795,67.06079162371795,67.06079162371795,67.06079162371795,67.06079162371795,67.06079162371795,67.06079162371795,67.06079162371795,67.06079162371795,67.06079162371795,67.06079162371795,67.06079162371795,67.06079162371795,67.06079162371795,67.06079162371795,67.06079162371795,67.06079162371795,67.06079162371795,67.06079162371795,67.06079162371795,67.06079162371795,67.06079162371795,67.06079162371795,67.06079162371795,67.06079162371795,67.06079162371795,67.06079162371795,67.06079162371795,67.06079162371795,67.06079162371795,67.06079162371795,67.06079162371795,67.06079162371795,67.06079162371795,67.06079162371795,67.06079162371795,67.06079162371795,67.06079162371795,67.06079162371795,67.06079162371795,67.06079162371795,67.06079162371795,67.06079162371795,67.06079162371795,67.06079162371795,67.06079162371795,67.06079162371795,67.06079162371795,67.06079162371795,67.06079162371795,67.06079162371795,67.06079162371795,67.06079162371795,67.06079162371795,67.06079162371795,67.06079162371795,67.06079162371795,67.06079162371795,67.06079162371795,67.06079162371795,67.06079162371795,67.06079162371795,67.06079162371795,67.18085568566657,67.18085568566657,67.18085568566657,67.18085568566657,67.18085568566657,67.18085568566657,67.18085568566657,67.26089839363233,67.26089839363233,67.26089839363233,67.26089839363233,67.26089839363233,67.26089839363233,67.26089839363233,67.26089839363233,67.26089839363233,67.26089839363233,67.26089839363233,67.26089839363233,67.26089839363233,67.26089839363233,67.26089839363233,67.26089839363233,67.26089839363233,67.26089839363233,67.26089839363233,67.26089839363233,67.26089839363233,67.26089839363233,67.26089839363233,67.26089839363233,67.26089839363233,67.26089839363233,67.26089839363233,67.26089839363233,67.26089839363233,67.26089839363233,67.26089839363233,67.26089839363233,67.26089839363233,67.26089839363233,67.46100516354672,67.46100516354672,67.46100516354672,67.46100516354672,67.46100516354672,67.46100516354672,67.46100516354672,67.46100516354672,67.46100516354672,67.46100516354672,67.46100516354672,67.46100516354672,67.46100516354672,67.46100516354672,67.46100516354672,67.46100516354672,67.46100516354672,67.46100516354672,67.46100516354672,67.46100516354672,67.46100516354672,67.46100516354672,67.46100516354672,67.46100516354672,67.46100516354672,67.46100516354672,67.46100516354672,67.46100516354672,67.46100516354672,67.46100516354672,67.46100516354672,67.46100516354672,67.46100516354672,67.46100516354672,67.46100516354672,67.46100516354672,67.46100516354672,67.46100516354672,67.46100516354672,67.46100516354672,67.46100516354672,67.46100516354672,67.46100516354672,67.46100516354672,67.46100516354672,67.46100516354672,67.46100516354672,67.46100516354672,67.46100516354672,67.46100516354672,67.46100516354672,67.46100516354672,67.46100516354672,67.46100516354672,67.46100516354672,67.46100516354672,67.46100516354672,67.46100516354672,67.46100516354672,67.46100516354672,67.46100516354672,67.46100516354672,67.46100516354672,67.46100516354672,67.46100516354672,67.46100516354672,67.46100516354672,67.46100516354672,67.46100516354672,67.46100516354672,67.46100516354672,67.46100516354672,67.46100516354672,67.46100516354672,67.46100516354672,67.46100516354672,67.46100516354672,67.46100516354672,67.46100516354672,67.46100516354672,67.46100516354672,67.46100516354672,67.46100516354672,67.46100516354672,67.46100516354672,67.46100516354672,67.46100516354672,67.46100516354672,67.46100516354672,67.54104787151246,67.54104787151246,67.6611119334611,67.6611119334611,67.6611119334611,67.6611119334611,67.6611119334611,67.6611119334611,67.6611119334611,67.6611119334611,67.6611119334611,67.6611119334611,67.6611119334611,67.74115464142685,67.74115464142685,67.74115464142685,67.74115464142685,67.74115464142685,67.86121870337547,67.86121870337547,67.86121870337547,67.86121870337547,67.86121870337547,67.86121870337547,67.86121870337547,67.86121870337547,67.86121870337547,67.86121870337547,67.86121870337547,67.86121870337547,67.86121870337547,67.86121870337547,67.86121870337547,67.86121870337547,67.86121870337547,67.86121870337547,67.86121870337547,67.86121870337547,67.86121870337547,67.86121870337547,67.86121870337547,67.86121870337547,67.86121870337547,67.86121870337547,67.86121870337547,67.86121870337547,67.86121870337547,67.86121870337547,67.86121870337547,67.86121870337547,67.86121870337547,67.86121870337547,67.86121870337547,67.86121870337547,67.86121870337547,67.86121870337547,67.86121870337547,67.86121870337547,67.86121870337547,67.86121870337547,68.06132547328986,68.06132547328986,68.06132547328986,68.06132547328986,68.06132547328986,68.06132547328986,68.06132547328986,68.06132547328986,68.06132547328986,68.14136818125561,68.14136818125561,68.14136818125561,68.14136818125561,68.14136818125561,68.14136818125561,68.14136818125561,68.14136818125561,68.26143224320424,68.26143224320424,68.26143224320424,68.26143224320424,68.26143224320424,68.26143224320424,68.26143224320424,68.26143224320424,68.26143224320424,68.26143224320424,68.26143224320424,68.26143224320424,68.26143224320424,68.26143224320424,68.26143224320424,68.26143224320424,68.26143224320424,68.26143224320424,68.26143224320424,68.26143224320424,68.26143224320424,68.26143224320424,68.26143224320424,68.34147495117,68.66164578303301,68.66164578303301,68.66164578303301,68.66164578303301,68.66164578303301,68.66164578303301,68.66164578303301,68.66164578303301,68.66164578303301,68.66164578303301,68.66164578303301,68.66164578303301,68.66164578303301,68.66164578303301,68.66164578303301,68.66164578303301,68.66164578303301,68.66164578303301,68.66164578303301,68.66164578303301,68.8617525529474,69.06185932286178,69.06185932286178,69.06185932286178,69.06185932286178,69.06185932286178,69.06185932286178,69.06185932286178,69.06185932286178,69.06185932286178,69.06185932286178,69.06185932286178,69.06185932286178,69.06185932286178,69.26196609277616,69.26196609277616,69.26196609277616,69.26196609277616,70.46260671226244,70.46260671226244,70.46260671226244,70.46260671226244],\"yaxis\":\"y\",\"type\":\"scatter\"}],                        {\"template\":{\"data\":{\"histogram2dcontour\":[{\"type\":\"histogram2dcontour\",\"colorbar\":{\"outlinewidth\":0,\"ticks\":\"\"},\"colorscale\":[[0.0,\"#0d0887\"],[0.1111111111111111,\"#46039f\"],[0.2222222222222222,\"#7201a8\"],[0.3333333333333333,\"#9c179e\"],[0.4444444444444444,\"#bd3786\"],[0.5555555555555556,\"#d8576b\"],[0.6666666666666666,\"#ed7953\"],[0.7777777777777778,\"#fb9f3a\"],[0.8888888888888888,\"#fdca26\"],[1.0,\"#f0f921\"]]}],\"choropleth\":[{\"type\":\"choropleth\",\"colorbar\":{\"outlinewidth\":0,\"ticks\":\"\"}}],\"histogram2d\":[{\"type\":\"histogram2d\",\"colorbar\":{\"outlinewidth\":0,\"ticks\":\"\"},\"colorscale\":[[0.0,\"#0d0887\"],[0.1111111111111111,\"#46039f\"],[0.2222222222222222,\"#7201a8\"],[0.3333333333333333,\"#9c179e\"],[0.4444444444444444,\"#bd3786\"],[0.5555555555555556,\"#d8576b\"],[0.6666666666666666,\"#ed7953\"],[0.7777777777777778,\"#fb9f3a\"],[0.8888888888888888,\"#fdca26\"],[1.0,\"#f0f921\"]]}],\"heatmap\":[{\"type\":\"heatmap\",\"colorbar\":{\"outlinewidth\":0,\"ticks\":\"\"},\"colorscale\":[[0.0,\"#0d0887\"],[0.1111111111111111,\"#46039f\"],[0.2222222222222222,\"#7201a8\"],[0.3333333333333333,\"#9c179e\"],[0.4444444444444444,\"#bd3786\"],[0.5555555555555556,\"#d8576b\"],[0.6666666666666666,\"#ed7953\"],[0.7777777777777778,\"#fb9f3a\"],[0.8888888888888888,\"#fdca26\"],[1.0,\"#f0f921\"]]}],\"heatmapgl\":[{\"type\":\"heatmapgl\",\"colorbar\":{\"outlinewidth\":0,\"ticks\":\"\"},\"colorscale\":[[0.0,\"#0d0887\"],[0.1111111111111111,\"#46039f\"],[0.2222222222222222,\"#7201a8\"],[0.3333333333333333,\"#9c179e\"],[0.4444444444444444,\"#bd3786\"],[0.5555555555555556,\"#d8576b\"],[0.6666666666666666,\"#ed7953\"],[0.7777777777777778,\"#fb9f3a\"],[0.8888888888888888,\"#fdca26\"],[1.0,\"#f0f921\"]]}],\"contourcarpet\":[{\"type\":\"contourcarpet\",\"colorbar\":{\"outlinewidth\":0,\"ticks\":\"\"}}],\"contour\":[{\"type\":\"contour\",\"colorbar\":{\"outlinewidth\":0,\"ticks\":\"\"},\"colorscale\":[[0.0,\"#0d0887\"],[0.1111111111111111,\"#46039f\"],[0.2222222222222222,\"#7201a8\"],[0.3333333333333333,\"#9c179e\"],[0.4444444444444444,\"#bd3786\"],[0.5555555555555556,\"#d8576b\"],[0.6666666666666666,\"#ed7953\"],[0.7777777777777778,\"#fb9f3a\"],[0.8888888888888888,\"#fdca26\"],[1.0,\"#f0f921\"]]}],\"surface\":[{\"type\":\"surface\",\"colorbar\":{\"outlinewidth\":0,\"ticks\":\"\"},\"colorscale\":[[0.0,\"#0d0887\"],[0.1111111111111111,\"#46039f\"],[0.2222222222222222,\"#7201a8\"],[0.3333333333333333,\"#9c179e\"],[0.4444444444444444,\"#bd3786\"],[0.5555555555555556,\"#d8576b\"],[0.6666666666666666,\"#ed7953\"],[0.7777777777777778,\"#fb9f3a\"],[0.8888888888888888,\"#fdca26\"],[1.0,\"#f0f921\"]]}],\"mesh3d\":[{\"type\":\"mesh3d\",\"colorbar\":{\"outlinewidth\":0,\"ticks\":\"\"}}],\"scatter\":[{\"fillpattern\":{\"fillmode\":\"overlay\",\"size\":10,\"solidity\":0.2},\"type\":\"scatter\"}],\"parcoords\":[{\"type\":\"parcoords\",\"line\":{\"colorbar\":{\"outlinewidth\":0,\"ticks\":\"\"}}}],\"scatterpolargl\":[{\"type\":\"scatterpolargl\",\"marker\":{\"colorbar\":{\"outlinewidth\":0,\"ticks\":\"\"}}}],\"bar\":[{\"error_x\":{\"color\":\"#2a3f5f\"},\"error_y\":{\"color\":\"#2a3f5f\"},\"marker\":{\"line\":{\"color\":\"#E5ECF6\",\"width\":0.5},\"pattern\":{\"fillmode\":\"overlay\",\"size\":10,\"solidity\":0.2}},\"type\":\"bar\"}],\"scattergeo\":[{\"type\":\"scattergeo\",\"marker\":{\"colorbar\":{\"outlinewidth\":0,\"ticks\":\"\"}}}],\"scatterpolar\":[{\"type\":\"scatterpolar\",\"marker\":{\"colorbar\":{\"outlinewidth\":0,\"ticks\":\"\"}}}],\"histogram\":[{\"marker\":{\"pattern\":{\"fillmode\":\"overlay\",\"size\":10,\"solidity\":0.2}},\"type\":\"histogram\"}],\"scattergl\":[{\"type\":\"scattergl\",\"marker\":{\"colorbar\":{\"outlinewidth\":0,\"ticks\":\"\"}}}],\"scatter3d\":[{\"type\":\"scatter3d\",\"line\":{\"colorbar\":{\"outlinewidth\":0,\"ticks\":\"\"}},\"marker\":{\"colorbar\":{\"outlinewidth\":0,\"ticks\":\"\"}}}],\"scattermapbox\":[{\"type\":\"scattermapbox\",\"marker\":{\"colorbar\":{\"outlinewidth\":0,\"ticks\":\"\"}}}],\"scatterternary\":[{\"type\":\"scatterternary\",\"marker\":{\"colorbar\":{\"outlinewidth\":0,\"ticks\":\"\"}}}],\"scattercarpet\":[{\"type\":\"scattercarpet\",\"marker\":{\"colorbar\":{\"outlinewidth\":0,\"ticks\":\"\"}}}],\"carpet\":[{\"aaxis\":{\"endlinecolor\":\"#2a3f5f\",\"gridcolor\":\"white\",\"linecolor\":\"white\",\"minorgridcolor\":\"white\",\"startlinecolor\":\"#2a3f5f\"},\"baxis\":{\"endlinecolor\":\"#2a3f5f\",\"gridcolor\":\"white\",\"linecolor\":\"white\",\"minorgridcolor\":\"white\",\"startlinecolor\":\"#2a3f5f\"},\"type\":\"carpet\"}],\"table\":[{\"cells\":{\"fill\":{\"color\":\"#EBF0F8\"},\"line\":{\"color\":\"white\"}},\"header\":{\"fill\":{\"color\":\"#C8D4E3\"},\"line\":{\"color\":\"white\"}},\"type\":\"table\"}],\"barpolar\":[{\"marker\":{\"line\":{\"color\":\"#E5ECF6\",\"width\":0.5},\"pattern\":{\"fillmode\":\"overlay\",\"size\":10,\"solidity\":0.2}},\"type\":\"barpolar\"}],\"pie\":[{\"automargin\":true,\"type\":\"pie\"}]},\"layout\":{\"autotypenumbers\":\"strict\",\"colorway\":[\"#636efa\",\"#EF553B\",\"#00cc96\",\"#ab63fa\",\"#FFA15A\",\"#19d3f3\",\"#FF6692\",\"#B6E880\",\"#FF97FF\",\"#FECB52\"],\"font\":{\"color\":\"#2a3f5f\"},\"hovermode\":\"closest\",\"hoverlabel\":{\"align\":\"left\"},\"paper_bgcolor\":\"white\",\"plot_bgcolor\":\"#E5ECF6\",\"polar\":{\"bgcolor\":\"#E5ECF6\",\"angularaxis\":{\"gridcolor\":\"white\",\"linecolor\":\"white\",\"ticks\":\"\"},\"radialaxis\":{\"gridcolor\":\"white\",\"linecolor\":\"white\",\"ticks\":\"\"}},\"ternary\":{\"bgcolor\":\"#E5ECF6\",\"aaxis\":{\"gridcolor\":\"white\",\"linecolor\":\"white\",\"ticks\":\"\"},\"baxis\":{\"gridcolor\":\"white\",\"linecolor\":\"white\",\"ticks\":\"\"},\"caxis\":{\"gridcolor\":\"white\",\"linecolor\":\"white\",\"ticks\":\"\"}},\"coloraxis\":{\"colorbar\":{\"outlinewidth\":0,\"ticks\":\"\"}},\"colorscale\":{\"sequential\":[[0.0,\"#0d0887\"],[0.1111111111111111,\"#46039f\"],[0.2222222222222222,\"#7201a8\"],[0.3333333333333333,\"#9c179e\"],[0.4444444444444444,\"#bd3786\"],[0.5555555555555556,\"#d8576b\"],[0.6666666666666666,\"#ed7953\"],[0.7777777777777778,\"#fb9f3a\"],[0.8888888888888888,\"#fdca26\"],[1.0,\"#f0f921\"]],\"sequentialminus\":[[0.0,\"#0d0887\"],[0.1111111111111111,\"#46039f\"],[0.2222222222222222,\"#7201a8\"],[0.3333333333333333,\"#9c179e\"],[0.4444444444444444,\"#bd3786\"],[0.5555555555555556,\"#d8576b\"],[0.6666666666666666,\"#ed7953\"],[0.7777777777777778,\"#fb9f3a\"],[0.8888888888888888,\"#fdca26\"],[1.0,\"#f0f921\"]],\"diverging\":[[0,\"#8e0152\"],[0.1,\"#c51b7d\"],[0.2,\"#de77ae\"],[0.3,\"#f1b6da\"],[0.4,\"#fde0ef\"],[0.5,\"#f7f7f7\"],[0.6,\"#e6f5d0\"],[0.7,\"#b8e186\"],[0.8,\"#7fbc41\"],[0.9,\"#4d9221\"],[1,\"#276419\"]]},\"xaxis\":{\"gridcolor\":\"white\",\"linecolor\":\"white\",\"ticks\":\"\",\"title\":{\"standoff\":15},\"zerolinecolor\":\"white\",\"automargin\":true,\"zerolinewidth\":2},\"yaxis\":{\"gridcolor\":\"white\",\"linecolor\":\"white\",\"ticks\":\"\",\"title\":{\"standoff\":15},\"zerolinecolor\":\"white\",\"automargin\":true,\"zerolinewidth\":2},\"scene\":{\"xaxis\":{\"backgroundcolor\":\"#E5ECF6\",\"gridcolor\":\"white\",\"linecolor\":\"white\",\"showbackground\":true,\"ticks\":\"\",\"zerolinecolor\":\"white\",\"gridwidth\":2},\"yaxis\":{\"backgroundcolor\":\"#E5ECF6\",\"gridcolor\":\"white\",\"linecolor\":\"white\",\"showbackground\":true,\"ticks\":\"\",\"zerolinecolor\":\"white\",\"gridwidth\":2},\"zaxis\":{\"backgroundcolor\":\"#E5ECF6\",\"gridcolor\":\"white\",\"linecolor\":\"white\",\"showbackground\":true,\"ticks\":\"\",\"zerolinecolor\":\"white\",\"gridwidth\":2}},\"shapedefaults\":{\"line\":{\"color\":\"#2a3f5f\"}},\"annotationdefaults\":{\"arrowcolor\":\"#2a3f5f\",\"arrowhead\":0,\"arrowwidth\":1},\"geo\":{\"bgcolor\":\"white\",\"landcolor\":\"#E5ECF6\",\"subunitcolor\":\"white\",\"showland\":true,\"showlakes\":true,\"lakecolor\":\"white\"},\"title\":{\"x\":0.05},\"mapbox\":{\"style\":\"light\"}}},\"xaxis\":{\"anchor\":\"y\",\"domain\":[0.0,1.0],\"title\":{\"text\":\"father\"}},\"yaxis\":{\"anchor\":\"x\",\"domain\":[0.0,1.0],\"title\":{\"text\":\"height\"}},\"coloraxis\":{\"colorbar\":{\"title\":{\"text\":\"gender\"}},\"colorscale\":[[0.0,\"#0d0887\"],[0.1111111111111111,\"#46039f\"],[0.2222222222222222,\"#7201a8\"],[0.3333333333333333,\"#9c179e\"],[0.4444444444444444,\"#bd3786\"],[0.5555555555555556,\"#d8576b\"],[0.6666666666666666,\"#ed7953\"],[0.7777777777777778,\"#fb9f3a\"],[0.8888888888888888,\"#fdca26\"],[1.0,\"#f0f921\"]]},\"legend\":{\"tracegroupgap\":0,\"itemsizing\":\"constant\"},\"margin\":{\"t\":60}},                        {\"responsive\": true}                    ).then(function(){\n",
              "                            \n",
              "var gd = document.getElementById('4c7662e4-bf83-4da6-b2f2-ae3e794a7920');\n",
              "var x = new MutationObserver(function (mutations, observer) {{\n",
              "        var display = window.getComputedStyle(gd).display;\n",
              "        if (!display || display === 'none') {{\n",
              "            console.log([gd, 'removed!']);\n",
              "            Plotly.purge(gd);\n",
              "            observer.disconnect();\n",
              "        }}\n",
              "}});\n",
              "\n",
              "// Listen for the removal of the full notebook cells\n",
              "var notebookContainer = gd.closest('#notebook-container');\n",
              "if (notebookContainer) {{\n",
              "    x.observe(notebookContainer, {childList: true});\n",
              "}}\n",
              "\n",
              "// Listen for the clearing of the current output cell\n",
              "var outputEl = gd.closest('.output');\n",
              "if (outputEl) {{\n",
              "    x.observe(outputEl, {childList: true});\n",
              "}}\n",
              "\n",
              "                        })                };                            </script>        </div>\n",
              "</body>\n",
              "</html>"
            ]
          },
          "metadata": {}
        }
      ]
    },
    {
      "cell_type": "markdown",
      "source": [
        "# Distribution of children's height relative to mother's height"
      ],
      "metadata": {
        "id": "_XotCoyXQi3U"
      }
    },
    {
      "cell_type": "code",
      "source": [
        "\n",
        "import pandas as pd\n",
        "import numpy as np\n",
        "import plotly.express as px\n",
        "import plotly.graph_objects as go\n",
        "\n",
        "figure = px.scatter(data_frame = df, x=\"mother\", y=\"height\", size =\"kids\", color = \"gender\", trendline=\"ols\")\n",
        "figure.show()\n"
      ],
      "metadata": {
        "colab": {
          "base_uri": "https://localhost:8080/",
          "height": 542
        },
        "id": "imMx_aMMQoQt",
        "outputId": "2473b2ea-9795-4dc2-8c2d-520f48465bdb"
      },
      "execution_count": 12,
      "outputs": [
        {
          "output_type": "display_data",
          "data": {
            "text/html": [
              "<html>\n",
              "<head><meta charset=\"utf-8\" /></head>\n",
              "<body>\n",
              "    <div>            <script src=\"https://cdnjs.cloudflare.com/ajax/libs/mathjax/2.7.5/MathJax.js?config=TeX-AMS-MML_SVG\"></script><script type=\"text/javascript\">if (window.MathJax && window.MathJax.Hub && window.MathJax.Hub.Config) {window.MathJax.Hub.Config({SVG: {font: \"STIX-Web\"}});}</script>                <script type=\"text/javascript\">window.PlotlyConfig = {MathJaxConfig: 'local'};</script>\n",
              "        <script charset=\"utf-8\" src=\"https://cdn.plot.ly/plotly-2.35.2.min.js\"></script>                <div id=\"e0e76001-adcb-429e-8783-8010b70554a5\" class=\"plotly-graph-div\" style=\"height:525px; width:100%;\"></div>            <script type=\"text/javascript\">                                    window.PLOTLYENV=window.PLOTLYENV || {};                                    if (document.getElementById(\"e0e76001-adcb-429e-8783-8010b70554a5\")) {                    Plotly.newPlot(                        \"e0e76001-adcb-429e-8783-8010b70554a5\",                        [{\"hovertemplate\":\"mother=%{x}\\u003cbr\\u003eheight=%{y}\\u003cbr\\u003ekids=%{marker.size}\\u003cbr\\u003egender=%{marker.color}\\u003cextra\\u003e\\u003c\\u002fextra\\u003e\",\"legendgroup\":\"\",\"marker\":{\"color\":[1,0,0,0,1,1,0,0,1,0,1,1,0,0,0,1,1,1,0,0,0,0,1,1,1,1,0,0,0,0,0,0,0,1,1,0,0,0,0,0,0,0,1,1,1,1,0,1,1,1,1,1,0,0,0,0,1,1,1,1,0,0,0,0,0,0,1,1,1,0,0,0,0,0,1,0,0,1,1,0,1,1,1,0,0,0,0,0,0,0,1,1,1,0,0,1,1,0,1,1,0,0,0,0,0,0,0,0,1,1,1,0,0,0,1,1,1,0,0,1,1,1,1,0,0,1,1,1,1,0,1,1,1,0,1,0,0,0,1,1,1,0,0,0,1,0,1,1,1,1,0,1,1,1,1,1,0,0,1,0,1,1,1,1,0,0,0,0,0,0,0,0,0,1,1,1,0,1,1,1,1,1,1,0,0,0,0,0,0,1,1,0,0,0,1,1,1,1,0,0,0,0,0,1,1,1,0,1,1,0,0,0,1,1,1,0,0,1,0,0,0,0,1,1,1,1,1,0,0,0,1,1,1,1,1,0,1,1,0,0,0,0,1,1,1,0,0,0,0,1,1,1,1,0,0,0,0,0,0,0,1,1,1,1,0,0,0,0,0,1,1,1,1,1,0,0,0,1,1,0,0,0,1,1,0,0,0,0,1,1,1,0,0,0,0,1,1,0,1,1,1,1,1,0,0,0,0,1,1,1,1,1,1,0,1,1,1,0,1,1,0,0,0,1,1,1,1,1,1,0,0,0,1,0,0,0,1,1,1,1,1,1,0,0,0,1,1,1,0,0,0,0,0,1,1,1,0,0,1,1,0,0,1,1,0,0,1,1,0,0,1,1,1,1,1,0,0,0,1,1,1,1,0,0,0,1,1,0,1,1,1,1,0,0,0,0,1,1,0,1,1,0,0,0,1,1,1,0,0,0,0,0,0,0,0,1,1,1,1,0,0,0,0,1,1,1,1,1,1,1,1,1,1,1,1,0,0,0,1,1,1,1,0,1,1,0,0,1,0,0,0,0,0,1,1,1,1,0,0,0,1,1,1,1,0,0,0,0,0,1,1,1,0,0,0,0,1,1,1,0,0,0,0,1,1,0,0,1,0,0,1,1,1,1,1,0,0,1,1,1,0,0,0,0,1,0,0,0,1,1,1,1,1,1,1,0,1,1,1,1,0,0,0,0,1,1,0,0,1,1,1,0,0,1,1,1,1,1,1,0,0,0,1,0,0,1,1,0,0,1,1,0,1,1,0,1,1,1,1,1,1,1,1,1,0,1,1,1,0,1,1,1,1,0,0,0,1,1,0,0,1,1,1,1,0,0,0,0,1,1,1,1,0,0,0,0,0,0,1,1,0,0,1,1,1,1,0,0,1,1,1,0,0,0,0,0,0,0,1,1,1,1,1,0,0,0,1,1,1,0,1,1,1,0,0,1,1,1,1,1,0,0,0,1,1,1,0,0,0,1,1,1,1,1,1,0,1,1,0,1,1,1,1,0,0,1,1,0,0,0,0,0,0,1,1,1,0,1,1,1,1,1,1,1,0,0,0,0,1,1,1,0,0,1,1,1,0,0,0,0,1,1,0,0,0,1,1,0,0,1,0,0,1,1,0,0,0,0,0,0,0,0,0,1,1,1,1,1,1,1,1,1,1,1,0,1,1,0,1,1,1,1,0,1,1,1,1,1,1,0,0,0,1,1,1,0,0,0,0,0,0,1,1,0,0,0,1,1,0,0,0,0,1,1,1,1,0,0,0,0,1,1,1,0,0,1,0,0,1,1,1,0,0,0,1,1,0,0,0,0,0,1,1,1,1,0,1,1,1,1,1,1,1,1,0,0,0,0,0,0,0,0,1,1,1,0,0,1,0,0,0,1,1,1,0,0,0,0,0,0,1,0,1,1,1,1,0,0,1,1,0,0,0,0,1,0,1,1,0,1,1,1,0,1,1,1,1,0,1,1,0,0,0,0,0,1,1,0,0,0,0,0,1,1,0,1,0,0,1,0],\"coloraxis\":\"coloraxis\",\"size\":[4,4,4,4,4,4,4,4,2,2,5,5,5,5,5,6,6,6,6,6,6,1,6,6,6,6,6,6,3,3,3,1,1,8,8,8,8,8,8,8,8,1,2,2,3,3,3,9,9,9,9,9,9,9,9,9,6,6,6,6,6,6,3,3,3,1,8,8,8,8,8,8,8,8,3,3,3,3,3,3,7,7,7,7,7,7,7,1,2,2,5,5,5,5,5,3,3,3,6,6,6,6,6,6,3,3,3,1,6,6,6,6,6,6,5,5,5,5,5,5,5,5,5,5,1,5,5,5,5,5,4,4,4,4,4,4,4,4,6,6,6,6,6,6,2,2,5,5,5,5,5,1,6,6,6,6,6,6,2,2,2,2,3,3,3,8,8,8,8,8,8,8,8,4,4,4,4,3,3,3,7,7,7,7,7,7,7,2,2,5,5,5,5,5,9,9,9,9,9,9,9,9,9,4,4,4,4,5,5,5,5,5,5,5,5,5,5,5,5,5,5,5,7,7,7,7,7,7,7,1,2,2,4,4,4,4,6,6,6,6,6,6,1,5,5,5,5,5,1,11,11,11,11,11,11,11,11,11,11,11,4,4,4,4,5,5,5,5,5,8,8,8,8,8,8,8,8,5,5,5,5,5,6,6,6,6,6,6,7,7,7,7,7,7,7,3,3,3,2,2,7,7,7,7,7,7,7,7,7,7,7,7,7,7,4,4,4,4,5,5,5,5,5,8,8,8,8,8,8,8,8,1,4,4,4,4,9,9,9,9,9,9,9,9,9,8,8,8,8,8,8,8,8,5,5,5,5,5,4,4,4,4,4,4,4,4,4,4,4,4,8,8,8,8,8,8,8,8,7,7,7,7,7,7,7,3,3,3,2,2,4,4,4,4,2,2,3,3,3,5,5,5,5,5,10,10,10,10,10,10,10,10,10,10,1,8,8,8,8,8,8,8,8,3,3,3,6,6,6,6,6,6,6,6,6,6,6,6,5,5,5,5,5,4,4,4,4,6,6,6,6,6,6,7,7,7,7,7,7,7,9,9,9,9,9,9,9,9,9,7,7,7,7,7,7,7,7,7,7,7,7,7,7,4,4,4,4,3,3,3,1,6,6,6,6,6,6,7,7,7,7,7,7,7,3,3,3,1,3,3,3,5,5,5,5,5,8,8,8,8,8,8,8,8,4,4,4,4,5,5,5,5,5,9,9,9,9,9,9,9,9,9,3,3,3,4,4,4,4,1,2,2,3,3,3,11,11,11,11,11,11,11,11,11,11,2,2,2,2,7,7,7,7,7,7,7,4,4,4,4,8,8,8,8,8,8,8,8,10,10,10,10,10,10,10,10,10,10,4,4,4,4,5,5,5,5,5,1,10,10,10,10,10,10,10,10,10,10,8,8,8,8,8,8,8,8,4,4,4,4,1,4,4,4,4,8,8,8,8,8,8,8,8,6,6,6,6,6,6,1,1,5,5,5,5,5,1,2,2,1,5,5,5,5,5,1,7,7,7,7,7,7,7,4,4,4,4,1,10,10,10,10,10,10,10,10,10,10,5,5,5,5,5,1,6,6,6,6,6,6,5,5,5,5,5,4,4,4,4,3,3,3,11,11,11,11,11,11,11,11,11,11,11,4,4,4,4,8,8,8,8,8,8,8,8,3,3,3,5,5,5,5,5,1,8,8,8,8,8,8,8,8,9,9,9,9,9,9,9,9,9,5,5,5,5,5,6,6,6,6,6,6,8,8,8,8,8,8,8,8,5,5,5,5,5,1,2,2,6,6,6,6,6,6,7,7,7,7,7,7,7,1,4,4,4,4,1,15,15,15,15,15,15,15,15,15,15,15,15,15,15,15,4,4,4,4,1,4,4,4,4,9,9,9,9,9,9,9,9,9,2,2,6,6,6,6,6,6,6,6,6,6,6,6,2,2,3,3,3,4,4,4,4,5,5,5,5,5,7,7,7,7,7,7,7,7,7,7,7,7,7,7,1,2,2,3,3,3,2,2],\"sizemode\":\"area\",\"sizeref\":0.0375,\"symbol\":\"circle\"},\"mode\":\"markers\",\"name\":\"\",\"orientation\":\"v\",\"showlegend\":false,\"x\":[67.0,67.0,67.0,67.0,66.5,66.5,66.5,66.5,64.0,64.0,64.0,64.0,64.0,64.0,64.0,58.5,58.5,58.5,58.5,58.5,58.5,68.0,68.0,68.0,68.0,68.0,68.0,68.0,66.5,66.5,66.5,66.0,65.5,62.0,62.0,62.0,62.0,62.0,62.0,62.0,62.0,61.0,67.0,67.0,66.5,66.5,66.5,65.0,65.0,65.0,65.0,65.0,65.0,65.0,65.0,65.0,64.5,64.5,64.5,64.5,64.5,64.5,64.0,64.0,64.0,63.0,69.0,69.0,69.0,69.0,69.0,69.0,69.0,69.0,68.0,68.0,68.0,67.0,67.0,67.0,65.0,65.0,65.0,65.0,65.0,65.0,65.0,65.5,64.0,64.0,63.0,63.0,63.0,63.0,63.0,63.0,63.0,63.0,63.0,63.0,63.0,63.0,63.0,63.0,63.5,63.5,63.5,62.0,62.0,62.0,62.0,62.0,62.0,62.0,62.0,62.0,62.0,62.0,62.0,62.0,62.0,62.0,62.0,62.0,61.0,69.0,69.0,69.0,69.0,69.0,67.0,67.0,67.0,67.0,66.0,66.0,66.0,66.0,66.0,66.0,66.0,66.0,66.0,66.0,66.0,66.0,66.0,66.0,66.0,66.0,66.0,65.5,65.5,65.5,65.5,65.5,65.5,65.5,65.5,65.5,65.0,65.0,65.0,65.0,65.0,64.0,64.0,64.0,64.0,64.0,64.0,64.0,64.0,64.5,64.5,64.5,64.5,64.0,64.0,64.0,64.5,64.5,64.5,64.5,64.5,64.5,64.5,63.0,63.0,63.5,63.5,63.5,63.5,63.5,63.0,63.0,63.0,63.0,63.0,63.0,63.0,63.0,63.0,63.0,63.0,63.0,63.0,62.0,62.0,62.0,62.0,62.0,62.0,62.0,62.0,62.0,62.0,62.5,62.5,62.5,62.5,62.5,62.0,62.0,62.0,62.0,62.0,62.0,62.0,61.0,58.0,58.0,69.0,69.0,69.0,69.0,69.0,69.0,69.0,69.0,69.0,69.0,68.0,67.0,67.0,67.0,67.0,67.0,67.0,66.5,66.5,66.5,66.5,66.5,66.5,66.5,66.5,66.5,66.5,66.5,65.0,65.0,65.0,65.0,65.0,65.0,65.0,65.0,65.0,65.0,65.0,65.0,65.0,65.0,65.0,65.0,65.0,65.0,65.0,65.0,65.0,65.0,65.0,65.0,65.0,65.0,65.0,65.0,65.0,65.0,65.0,65.0,65.0,65.0,65.0,65.0,65.0,65.0,65.0,65.0,64.7,64.7,64.7,64.7,64.7,64.7,64.7,64.0,64.0,64.0,64.0,64.0,64.0,64.0,64.0,64.0,64.0,64.0,64.2,64.2,64.2,64.2,64.2,64.0,64.0,64.0,64.0,64.0,64.0,64.0,64.0,64.5,64.0,64.0,64.0,64.0,64.0,64.0,64.0,64.0,64.0,64.0,64.0,64.0,64.0,63.7,63.7,63.7,63.7,63.7,63.7,63.7,63.7,63.0,63.0,63.0,63.0,63.0,63.5,63.5,63.5,63.5,63.0,63.0,63.0,63.0,63.0,63.0,63.0,63.0,62.0,62.0,62.0,62.0,62.0,62.0,62.0,62.0,62.7,62.7,62.7,62.7,62.7,62.7,62.7,62.0,62.0,62.0,61.0,61.0,60.0,60.0,60.0,60.0,60.0,60.0,58.5,58.5,58.5,58.0,58.0,58.0,58.0,58.0,68.5,68.5,68.5,68.5,68.5,68.5,68.5,68.5,68.5,68.5,67.0,66.0,66.0,66.0,66.0,66.0,66.0,66.0,66.0,66.0,66.0,66.0,66.7,66.7,66.7,66.7,66.7,66.7,66.0,66.0,66.0,66.0,66.0,66.0,66.5,66.5,66.5,66.5,66.5,66.5,66.5,66.5,66.5,66.5,66.5,66.5,66.5,66.5,66.5,66.0,66.0,66.0,66.0,66.0,66.0,66.0,66.0,66.0,66.0,66.0,66.0,66.0,66.0,66.0,66.0,65.0,65.0,65.0,65.0,65.0,65.0,65.0,64.5,64.5,64.5,64.5,64.5,64.5,64.5,64.0,64.0,64.0,64.0,63.0,63.0,63.0,63.0,63.0,63.0,63.0,63.0,63.0,63.0,63.5,63.5,63.5,63.5,63.5,63.5,63.5,63.5,63.5,63.5,62.0,62.0,62.0,62.0,62.0,62.0,62.0,62.0,62.0,62.5,62.5,62.5,62.5,62.5,62.5,62.5,62.5,62.0,62.0,62.0,62.0,61.0,61.0,61.0,61.0,61.0,61.0,61.0,61.0,61.0,61.0,61.0,61.0,61.0,61.0,60.0,60.0,60.0,60.0,60.0,60.0,60.0,60.5,70.5,70.5,67.0,67.0,67.0,66.5,66.5,66.5,66.5,66.5,66.5,66.5,66.5,66.5,66.5,65.0,65.0,65.5,65.5,65.5,65.5,65.5,65.5,65.5,65.5,65.5,65.0,65.0,65.0,65.0,65.0,65.0,65.0,65.0,65.0,65.0,65.0,65.0,64.0,64.0,64.0,64.0,64.0,64.0,64.0,64.0,64.0,64.0,64.0,64.0,64.0,64.0,64.0,64.0,64.0,64.0,64.0,64.5,64.0,64.0,64.0,64.0,64.0,64.0,64.0,64.0,64.0,64.0,63.0,63.0,63.0,63.0,63.0,63.0,63.0,63.0,63.5,63.5,63.5,63.5,63.0,63.0,63.0,63.0,63.0,63.0,63.0,63.0,63.0,63.0,63.0,63.0,63.0,63.0,63.0,63.0,63.0,63.0,63.0,63.5,63.0,63.5,63.5,63.5,63.5,63.5,62.5,62.0,62.0,62.5,61.0,61.0,61.0,61.0,61.0,60.2,60.0,60.0,60.0,60.0,60.0,60.0,60.0,60.0,60.0,60.0,60.0,59.0,59.0,59.0,59.0,59.0,59.0,59.0,59.0,59.0,59.0,59.0,66.2,66.2,66.2,66.2,66.2,66.5,65.0,65.0,65.0,65.0,65.0,65.0,65.5,65.5,65.5,65.5,65.5,65.5,65.5,65.5,65.5,65.0,65.0,65.0,65.0,65.0,65.0,65.0,65.0,65.0,65.0,65.0,65.0,65.0,65.0,64.0,64.0,64.0,64.0,63.5,63.5,63.5,63.5,63.5,63.5,63.5,63.5,63.0,63.0,63.0,62.0,62.0,62.0,62.0,62.0,61.0,67.0,67.0,67.0,67.0,67.0,67.0,67.0,67.0,67.0,67.0,67.0,67.0,67.0,67.0,67.0,67.0,67.0,66.0,66.0,66.0,66.0,66.0,66.0,66.0,66.0,66.0,66.0,66.0,65.0,65.0,65.0,65.0,65.0,65.0,65.0,65.0,65.5,65.5,65.5,65.5,65.5,63.0,63.5,63.5,63.0,63.0,63.0,63.0,63.0,63.0,62.5,62.5,62.5,62.5,62.5,62.5,62.5,61.5,60.0,60.0,60.0,60.0,60.0,59.0,59.0,59.0,59.0,59.0,59.0,59.0,59.0,59.0,59.0,59.0,59.0,59.0,59.0,59.0,67.0,67.0,67.0,67.0,67.0,66.0,66.0,66.0,66.0,65.0,65.0,65.0,65.0,65.0,65.0,65.0,65.0,65.0,65.5,65.5,65.0,65.0,65.0,65.0,65.0,65.0,64.0,64.0,64.0,64.0,64.0,64.0,63.0,63.0,63.0,63.0,63.0,63.0,63.0,63.0,63.0,60.0,60.0,60.0,60.0,60.0,64.0,64.0,64.0,64.0,64.0,64.0,64.0,64.0,64.0,64.0,64.0,64.0,64.0,64.0,63.0,60.0,60.0,66.0,66.0,66.0,63.0,63.0],\"xaxis\":\"x\",\"y\":[73.2,69.2,69.0,69.0,73.5,72.5,65.5,65.5,71.0,68.0,70.5,68.5,67.0,64.5,63.0,72.0,69.0,68.0,66.5,62.5,62.5,69.5,76.5,74.0,73.0,73.0,70.5,64.0,70.5,68.0,66.0,66.0,65.5,74.0,70.0,68.0,67.0,67.0,66.0,63.5,63.0,65.0,68.0,67.0,71.0,70.5,66.7,72.0,70.5,70.2,70.2,69.2,68.7,66.5,64.5,63.5,74.0,73.0,71.5,62.5,66.5,62.3,66.0,64.5,64.0,62.7,73.2,73.0,72.7,70.0,69.0,68.5,68.0,66.0,73.0,68.5,68.0,73.0,71.0,67.0,74.2,70.5,69.5,66.0,65.5,65.0,65.0,65.5,66.0,63.0,70.5,70.5,69.0,65.0,63.0,69.0,67.0,63.0,73.0,67.0,70.5,70.0,66.5,63.0,67.5,67.2,66.7,64.0,71.0,70.0,70.0,66.0,65.0,65.0,74.0,72.0,69.0,67.5,63.5,72.0,71.5,71.5,70.0,68.0,65.7,78.0,74.0,73.0,72.0,67.0,73.2,73.0,69.0,67.0,70.0,67.0,67.0,66.5,70.0,69.0,68.5,66.0,64.5,63.0,71.0,67.0,76.0,72.0,71.0,66.0,66.0,70.5,72.0,72.0,71.0,69.0,66.0,65.0,73.0,65.2,68.5,67.7,68.0,68.0,62.0,68.0,68.0,67.5,66.5,66.5,66.0,65.5,65.0,72.0,71.0,70.5,67.0,68.0,68.0,68.0,72.0,71.0,70.0,66.0,64.5,64.5,62.0,67.5,64.5,71.0,67.0,66.0,65.0,63.5,71.0,70.0,70.0,64.0,65.0,65.0,64.0,63.0,63.0,71.0,71.0,70.0,63.5,71.0,70.0,64.5,62.5,61.5,72.0,70.5,70.5,64.5,60.0,70.0,64.0,64.0,64.0,62.5,70.5,70.0,69.0,69.0,66.0,64.5,64.0,62.0,71.5,69.0,71.0,70.0,69.0,69.0,70.0,68.7,68.0,66.0,64.0,62.0,75.0,70.0,69.0,66.0,64.0,60.0,67.5,73.0,72.0,72.0,66.5,69.2,67.2,66.5,66.0,66.0,64.2,63.7,72.0,70.2,69.0,68.5,68.0,65.0,61.5,61.0,61.0,73.0,72.0,70.5,65.0,65.0,64.5,63.0,62.0,67.0,65.0,64.5,62.5,62.5,70.0,70.0,67.0,65.0,65.0,63.0,79.0,75.0,71.0,69.0,67.0,65.7,62.0,73.0,72.5,65.0,69.0,69.0,72.0,70.0,68.7,66.5,65.5,64.7,64.5,70.7,70.0,68.0,67.0,66.0,65.0,67.0,70.0,68.0,66.7,65.5,72.0,70.0,62.5,61.2,60.1,74.0,69.5,69.0,68.0,68.0,68.0,65.5,65.0,60.0,68.0,65.0,64.0,62.0,71.0,70.0,70.0,70.0,69.5,68.5,69.0,65.0,64.0,70.0,67.0,65.5,63.7,63.2,62.5,62.2,61.0,72.5,69.0,67.0,64.5,64.0,71.0,67.5,67.5,63.5,68.0,67.0,63.7,62.0,70.0,66.5,62.0,61.0,72.0,70.0,69.5,69.5,68.0,65.0,64.0,63.0,70.7,69.7,69.2,65.2,64.0,63.5,63.2,72.0,72.0,60.0,71.2,67.0,67.0,64.5,65.0,63.0,65.0,65.0,71.5,64.5,63.0,72.0,66.0,66.0,65.0,63.0,75.0,71.0,70.0,66.0,66.0,65.5,65.0,65.0,64.0,64.0,64.0,73.0,72.0,71.7,71.5,65.5,65.0,62.7,62.5,71.2,71.0,70.0,75.0,74.0,72.0,68.5,67.0,66.0,70.0,68.5,68.0,65.0,63.0,62.5,73.0,71.0,70.5,70.5,61.0,70.5,67.5,64.5,64.0,71.0,68.5,67.5,66.0,63.0,63.0,71.0,71.0,70.5,70.5,66.5,65.5,64.5,73.0,72.0,69.0,69.0,66.5,65.5,65.5,65.0,64.0,70.0,68.5,67.0,65.0,64.0,63.5,61.0,69.7,68.0,60.0,65.2,64.5,63.7,60.0,71.7,66.5,65.0,63.5,69.0,67.5,63.5,72.0,73.0,70.0,70.0,64.0,66.0,62.0,70.5,67.0,66.0,65.0,63.0,62.0,61.0,70.5,63.7,63.0,62.5,73.0,72.0,69.0,73.0,71.0,71.0,69.0,63.0,71.0,70.0,70.0,69.0,63.5,62.5,62.5,62.0,72.0,68.0,66.0,66.0,70.0,69.5,69.0,63.0,62.0,68.0,68.0,67.5,64.0,63.0,63.0,63.5,62.0,62.0,70.5,68.0,62.5,69.0,66.0,61.7,60.5,69.5,71.0,61.7,73.0,71.0,67.0,70.0,69.0,69.0,68.7,68.5,68.5,68.0,68.0,68.0,63.2,67.5,66.0,66.0,64.0,71.7,71.5,70.7,65.5,66.5,65.2,61.5,72.0,72.0,68.0,66.0,69.2,68.0,66.0,66.0,62.0,61.5,61.0,60.0,71.0,68.0,68.0,67.0,65.0,64.0,63.0,63.0,62.0,61.0,66.0,63.0,65.5,62.0,71.2,71.2,69.0,68.5,62.5,62.0,69.0,67.0,66.0,66.0,66.0,65.0,65.0,65.0,64.0,63.0,70.5,70.0,68.0,66.0,66.0,66.0,62.0,61.5,73.5,70.0,69.5,65.5,67.0,70.0,68.0,64.5,64.0,71.0,68.0,66.0,65.5,65.0,63.0,62.0,62.0,67.0,67.0,66.0,64.0,63.5,61.0,68.2,70.0,70.0,69.0,67.0,65.5,64.5,68.5,67.7,61.7,66.5,68.5,68.0,64.0,63.5,63.0,66.7,64.0,61.0,61.0,60.0,60.0,60.0,56.0,67.5,67.0,66.5,60.0,69.0,68.0,65.0,64.7,64.0,64.0,63.0,65.0,65.0,62.0,61.0,72.7,72.7,71.5,65.5,63.5,71.0,69.7,67.5,65.5,65.0,64.5,63.5,70.0,69.0,65.5,65.5,63.0,70.0,67.7,63.0,60.0,65.0,62.0,62.0,71.0,69.0,64.0,64.0,63.0,63.0,63.0,63.0,63.0,62.5,62.0,71.5,70.0,67.0,67.0,71.0,70.2,69.2,68.5,68.0,67.0,65.5,63.5,69.0,68.0,63.0,70.0,69.5,69.0,68.5,66.0,67.0,70.5,70.5,67.0,66.0,66.0,62.0,62.0,61.5,72.0,65.0,65.0,67.0,64.0,64.0,62.0,60.0,60.0,66.0,65.0,67.0,66.5,65.5,72.0,68.0,66.0,65.0,62.0,61.0,68.7,68.5,66.5,64.5,62.5,60.5,60.5,57.5,72.0,71.0,67.0,66.0,65.0,70.0,64.5,62.0,67.2,67.0,65.0,65.0,65.0,63.0,70.0,68.0,63.5,62.5,62.5,62.5,62.5,70.0,68.0,67.0,65.0,60.0,65.0,68.0,67.0,66.5,66.0,65.7,65.5,65.0,65.0,64.0,63.0,62.0,61.0,60.0,58.0,57.0,66.5,66.0,66.0,65.0,63.0,63.0,63.0,63.0,60.0,69.0,68.0,68.0,65.0,65.0,62.0,62.0,61.0,59.0,70.7,65.5,69.2,69.0,68.0,67.7,64.5,60.5,67.0,67.0,64.0,64.0,62.5,60.5,70.0,63.0,66.0,66.0,63.0,71.0,71.0,69.0,63.5,68.0,68.0,67.0,67.0,62.0,71.5,68.0,65.5,64.0,62.0,62.0,61.0,70.5,68.0,67.0,65.0,64.0,64.0,60.0,64.5,66.0,60.0,64.0,62.0,61.0,66.5,57.0],\"yaxis\":\"y\",\"type\":\"scatter\"},{\"hovertemplate\":\"\\u003cb\\u003eOLS trendline\\u003c\\u002fb\\u003e\\u003cbr\\u003eheight = 0.312885 * mother + 46.7079\\u003cbr\\u003eR\\u003csup\\u003e2\\u003c\\u002fsup\\u003e=0.040820\\u003cbr\\u003e\\u003cbr\\u003emother=%{x}\\u003cbr\\u003eheight=%{y} \\u003cb\\u003e(trend)\\u003c\\u002fb\\u003e\\u003cextra\\u003e\\u003c\\u002fextra\\u003e\",\"legendgroup\":\"\",\"marker\":{\"symbol\":\"circle\"},\"mode\":\"lines\",\"name\":\"\",\"showlegend\":false,\"x\":[58.0,58.0,58.0,58.0,58.0,58.0,58.0,58.5,58.5,58.5,58.5,58.5,58.5,58.5,58.5,58.5,59.0,59.0,59.0,59.0,59.0,59.0,59.0,59.0,59.0,59.0,59.0,59.0,59.0,59.0,59.0,59.0,59.0,59.0,59.0,59.0,59.0,59.0,59.0,59.0,59.0,59.0,60.0,60.0,60.0,60.0,60.0,60.0,60.0,60.0,60.0,60.0,60.0,60.0,60.0,60.0,60.0,60.0,60.0,60.0,60.0,60.0,60.0,60.0,60.0,60.0,60.0,60.0,60.0,60.0,60.0,60.0,60.0,60.0,60.0,60.0,60.0,60.0,60.2,60.5,61.0,61.0,61.0,61.0,61.0,61.0,61.0,61.0,61.0,61.0,61.0,61.0,61.0,61.0,61.0,61.0,61.0,61.0,61.0,61.0,61.0,61.0,61.0,61.0,61.0,61.5,62.0,62.0,62.0,62.0,62.0,62.0,62.0,62.0,62.0,62.0,62.0,62.0,62.0,62.0,62.0,62.0,62.0,62.0,62.0,62.0,62.0,62.0,62.0,62.0,62.0,62.0,62.0,62.0,62.0,62.0,62.0,62.0,62.0,62.0,62.0,62.0,62.0,62.0,62.0,62.0,62.0,62.0,62.0,62.0,62.0,62.0,62.0,62.0,62.0,62.0,62.0,62.0,62.0,62.0,62.0,62.0,62.0,62.0,62.0,62.0,62.0,62.0,62.0,62.0,62.0,62.0,62.0,62.0,62.0,62.0,62.0,62.0,62.0,62.5,62.5,62.5,62.5,62.5,62.5,62.5,62.5,62.5,62.5,62.5,62.5,62.5,62.5,62.5,62.5,62.5,62.5,62.5,62.5,62.5,62.5,62.7,62.7,62.7,62.7,62.7,62.7,62.7,63.0,63.0,63.0,63.0,63.0,63.0,63.0,63.0,63.0,63.0,63.0,63.0,63.0,63.0,63.0,63.0,63.0,63.0,63.0,63.0,63.0,63.0,63.0,63.0,63.0,63.0,63.0,63.0,63.0,63.0,63.0,63.0,63.0,63.0,63.0,63.0,63.0,63.0,63.0,63.0,63.0,63.0,63.0,63.0,63.0,63.0,63.0,63.0,63.0,63.0,63.0,63.0,63.0,63.0,63.0,63.0,63.0,63.0,63.0,63.0,63.0,63.0,63.0,63.0,63.0,63.0,63.0,63.0,63.0,63.0,63.0,63.0,63.0,63.0,63.0,63.0,63.0,63.0,63.0,63.0,63.0,63.0,63.0,63.0,63.0,63.0,63.0,63.0,63.0,63.0,63.0,63.0,63.0,63.0,63.0,63.0,63.0,63.0,63.0,63.0,63.0,63.0,63.0,63.5,63.5,63.5,63.5,63.5,63.5,63.5,63.5,63.5,63.5,63.5,63.5,63.5,63.5,63.5,63.5,63.5,63.5,63.5,63.5,63.5,63.5,63.5,63.5,63.5,63.5,63.5,63.5,63.5,63.5,63.5,63.5,63.5,63.5,63.5,63.5,63.5,63.5,63.5,63.5,63.5,63.5,63.7,63.7,63.7,63.7,63.7,63.7,63.7,63.7,64.0,64.0,64.0,64.0,64.0,64.0,64.0,64.0,64.0,64.0,64.0,64.0,64.0,64.0,64.0,64.0,64.0,64.0,64.0,64.0,64.0,64.0,64.0,64.0,64.0,64.0,64.0,64.0,64.0,64.0,64.0,64.0,64.0,64.0,64.0,64.0,64.0,64.0,64.0,64.0,64.0,64.0,64.0,64.0,64.0,64.0,64.0,64.0,64.0,64.0,64.0,64.0,64.0,64.0,64.0,64.0,64.0,64.0,64.0,64.0,64.0,64.0,64.0,64.0,64.0,64.0,64.0,64.0,64.0,64.0,64.0,64.0,64.0,64.0,64.0,64.0,64.0,64.0,64.0,64.0,64.0,64.0,64.0,64.0,64.0,64.0,64.0,64.0,64.0,64.0,64.0,64.0,64.0,64.0,64.0,64.0,64.0,64.0,64.0,64.0,64.0,64.0,64.0,64.0,64.0,64.0,64.0,64.0,64.0,64.0,64.0,64.0,64.2,64.2,64.2,64.2,64.2,64.5,64.5,64.5,64.5,64.5,64.5,64.5,64.5,64.5,64.5,64.5,64.5,64.5,64.5,64.5,64.5,64.5,64.5,64.5,64.5,64.5,64.5,64.5,64.5,64.5,64.5,64.7,64.7,64.7,64.7,64.7,64.7,64.7,65.0,65.0,65.0,65.0,65.0,65.0,65.0,65.0,65.0,65.0,65.0,65.0,65.0,65.0,65.0,65.0,65.0,65.0,65.0,65.0,65.0,65.0,65.0,65.0,65.0,65.0,65.0,65.0,65.0,65.0,65.0,65.0,65.0,65.0,65.0,65.0,65.0,65.0,65.0,65.0,65.0,65.0,65.0,65.0,65.0,65.0,65.0,65.0,65.0,65.0,65.0,65.0,65.0,65.0,65.0,65.0,65.0,65.0,65.0,65.0,65.0,65.0,65.0,65.0,65.0,65.0,65.0,65.0,65.0,65.0,65.0,65.0,65.0,65.0,65.0,65.0,65.0,65.0,65.0,65.0,65.0,65.0,65.0,65.0,65.0,65.0,65.0,65.0,65.0,65.0,65.0,65.0,65.0,65.0,65.0,65.0,65.0,65.0,65.0,65.0,65.0,65.0,65.0,65.0,65.0,65.0,65.0,65.0,65.0,65.0,65.0,65.0,65.0,65.0,65.0,65.0,65.0,65.0,65.0,65.0,65.0,65.0,65.0,65.0,65.0,65.5,65.5,65.5,65.5,65.5,65.5,65.5,65.5,65.5,65.5,65.5,65.5,65.5,65.5,65.5,65.5,65.5,65.5,65.5,65.5,65.5,65.5,65.5,65.5,65.5,65.5,65.5,65.5,65.5,65.5,65.5,65.5,65.5,65.5,65.5,65.5,66.0,66.0,66.0,66.0,66.0,66.0,66.0,66.0,66.0,66.0,66.0,66.0,66.0,66.0,66.0,66.0,66.0,66.0,66.0,66.0,66.0,66.0,66.0,66.0,66.0,66.0,66.0,66.0,66.0,66.0,66.0,66.0,66.0,66.0,66.0,66.0,66.0,66.0,66.0,66.0,66.0,66.0,66.0,66.0,66.0,66.0,66.0,66.0,66.0,66.0,66.0,66.0,66.0,66.0,66.0,66.0,66.0,66.0,66.0,66.0,66.0,66.0,66.0,66.0,66.0,66.0,66.0,66.0,66.0,66.2,66.2,66.2,66.2,66.2,66.5,66.5,66.5,66.5,66.5,66.5,66.5,66.5,66.5,66.5,66.5,66.5,66.5,66.5,66.5,66.5,66.5,66.5,66.5,66.5,66.5,66.5,66.5,66.5,66.5,66.5,66.5,66.5,66.5,66.5,66.5,66.5,66.5,66.5,66.5,66.5,66.5,66.5,66.5,66.5,66.5,66.5,66.5,66.5,66.5,66.5,66.5,66.7,66.7,66.7,66.7,66.7,66.7,67.0,67.0,67.0,67.0,67.0,67.0,67.0,67.0,67.0,67.0,67.0,67.0,67.0,67.0,67.0,67.0,67.0,67.0,67.0,67.0,67.0,67.0,67.0,67.0,67.0,67.0,67.0,67.0,67.0,67.0,67.0,67.0,67.0,67.0,67.0,67.0,67.0,67.0,67.0,67.0,67.0,67.0,67.0,67.0,67.0,68.0,68.0,68.0,68.0,68.0,68.0,68.0,68.0,68.0,68.0,68.0,68.5,68.5,68.5,68.5,68.5,68.5,68.5,68.5,68.5,68.5,69.0,69.0,69.0,69.0,69.0,69.0,69.0,69.0,69.0,69.0,69.0,69.0,69.0,69.0,69.0,69.0,69.0,69.0,69.0,69.0,69.0,69.0,69.0,70.5,70.5],\"xaxis\":\"x\",\"y\":[64.85525976643845,64.85525976643845,64.85525976643845,64.85525976643845,64.85525976643845,64.85525976643845,64.85525976643845,65.01170220216756,65.01170220216756,65.01170220216756,65.01170220216756,65.01170220216756,65.01170220216756,65.01170220216756,65.01170220216756,65.01170220216756,65.16814463789666,65.16814463789666,65.16814463789666,65.16814463789666,65.16814463789666,65.16814463789666,65.16814463789666,65.16814463789666,65.16814463789666,65.16814463789666,65.16814463789666,65.16814463789666,65.16814463789666,65.16814463789666,65.16814463789666,65.16814463789666,65.16814463789666,65.16814463789666,65.16814463789666,65.16814463789666,65.16814463789666,65.16814463789666,65.16814463789666,65.16814463789666,65.16814463789666,65.16814463789666,65.48102950935487,65.48102950935487,65.48102950935487,65.48102950935487,65.48102950935487,65.48102950935487,65.48102950935487,65.48102950935487,65.48102950935487,65.48102950935487,65.48102950935487,65.48102950935487,65.48102950935487,65.48102950935487,65.48102950935487,65.48102950935487,65.48102950935487,65.48102950935487,65.48102950935487,65.48102950935487,65.48102950935487,65.48102950935487,65.48102950935487,65.48102950935487,65.48102950935487,65.48102950935487,65.48102950935487,65.48102950935487,65.48102950935487,65.48102950935487,65.48102950935487,65.48102950935487,65.48102950935487,65.48102950935487,65.48102950935487,65.48102950935487,65.5436064836465,65.63747194508397,65.79391438081308,65.79391438081308,65.79391438081308,65.79391438081308,65.79391438081308,65.79391438081308,65.79391438081308,65.79391438081308,65.79391438081308,65.79391438081308,65.79391438081308,65.79391438081308,65.79391438081308,65.79391438081308,65.79391438081308,65.79391438081308,65.79391438081308,65.79391438081308,65.79391438081308,65.79391438081308,65.79391438081308,65.79391438081308,65.79391438081308,65.79391438081308,65.79391438081308,65.95035681654218,66.10679925227127,66.10679925227127,66.10679925227127,66.10679925227127,66.10679925227127,66.10679925227127,66.10679925227127,66.10679925227127,66.10679925227127,66.10679925227127,66.10679925227127,66.10679925227127,66.10679925227127,66.10679925227127,66.10679925227127,66.10679925227127,66.10679925227127,66.10679925227127,66.10679925227127,66.10679925227127,66.10679925227127,66.10679925227127,66.10679925227127,66.10679925227127,66.10679925227127,66.10679925227127,66.10679925227127,66.10679925227127,66.10679925227127,66.10679925227127,66.10679925227127,66.10679925227127,66.10679925227127,66.10679925227127,66.10679925227127,66.10679925227127,66.10679925227127,66.10679925227127,66.10679925227127,66.10679925227127,66.10679925227127,66.10679925227127,66.10679925227127,66.10679925227127,66.10679925227127,66.10679925227127,66.10679925227127,66.10679925227127,66.10679925227127,66.10679925227127,66.10679925227127,66.10679925227127,66.10679925227127,66.10679925227127,66.10679925227127,66.10679925227127,66.10679925227127,66.10679925227127,66.10679925227127,66.10679925227127,66.10679925227127,66.10679925227127,66.10679925227127,66.10679925227127,66.10679925227127,66.10679925227127,66.10679925227127,66.10679925227127,66.10679925227127,66.10679925227127,66.10679925227127,66.10679925227127,66.10679925227127,66.26324168800038,66.26324168800038,66.26324168800038,66.26324168800038,66.26324168800038,66.26324168800038,66.26324168800038,66.26324168800038,66.26324168800038,66.26324168800038,66.26324168800038,66.26324168800038,66.26324168800038,66.26324168800038,66.26324168800038,66.26324168800038,66.26324168800038,66.26324168800038,66.26324168800038,66.26324168800038,66.26324168800038,66.26324168800038,66.32581866229202,66.32581866229202,66.32581866229202,66.32581866229202,66.32581866229202,66.32581866229202,66.32581866229202,66.41968412372948,66.41968412372948,66.41968412372948,66.41968412372948,66.41968412372948,66.41968412372948,66.41968412372948,66.41968412372948,66.41968412372948,66.41968412372948,66.41968412372948,66.41968412372948,66.41968412372948,66.41968412372948,66.41968412372948,66.41968412372948,66.41968412372948,66.41968412372948,66.41968412372948,66.41968412372948,66.41968412372948,66.41968412372948,66.41968412372948,66.41968412372948,66.41968412372948,66.41968412372948,66.41968412372948,66.41968412372948,66.41968412372948,66.41968412372948,66.41968412372948,66.41968412372948,66.41968412372948,66.41968412372948,66.41968412372948,66.41968412372948,66.41968412372948,66.41968412372948,66.41968412372948,66.41968412372948,66.41968412372948,66.41968412372948,66.41968412372948,66.41968412372948,66.41968412372948,66.41968412372948,66.41968412372948,66.41968412372948,66.41968412372948,66.41968412372948,66.41968412372948,66.41968412372948,66.41968412372948,66.41968412372948,66.41968412372948,66.41968412372948,66.41968412372948,66.41968412372948,66.41968412372948,66.41968412372948,66.41968412372948,66.41968412372948,66.41968412372948,66.41968412372948,66.41968412372948,66.41968412372948,66.41968412372948,66.41968412372948,66.41968412372948,66.41968412372948,66.41968412372948,66.41968412372948,66.41968412372948,66.41968412372948,66.41968412372948,66.41968412372948,66.41968412372948,66.41968412372948,66.41968412372948,66.41968412372948,66.41968412372948,66.41968412372948,66.41968412372948,66.41968412372948,66.41968412372948,66.41968412372948,66.41968412372948,66.41968412372948,66.41968412372948,66.41968412372948,66.41968412372948,66.41968412372948,66.41968412372948,66.41968412372948,66.41968412372948,66.41968412372948,66.41968412372948,66.41968412372948,66.41968412372948,66.41968412372948,66.41968412372948,66.41968412372948,66.41968412372948,66.57612655945859,66.57612655945859,66.57612655945859,66.57612655945859,66.57612655945859,66.57612655945859,66.57612655945859,66.57612655945859,66.57612655945859,66.57612655945859,66.57612655945859,66.57612655945859,66.57612655945859,66.57612655945859,66.57612655945859,66.57612655945859,66.57612655945859,66.57612655945859,66.57612655945859,66.57612655945859,66.57612655945859,66.57612655945859,66.57612655945859,66.57612655945859,66.57612655945859,66.57612655945859,66.57612655945859,66.57612655945859,66.57612655945859,66.57612655945859,66.57612655945859,66.57612655945859,66.57612655945859,66.57612655945859,66.57612655945859,66.57612655945859,66.57612655945859,66.57612655945859,66.57612655945859,66.57612655945859,66.57612655945859,66.57612655945859,66.63870353375023,66.63870353375023,66.63870353375023,66.63870353375023,66.63870353375023,66.63870353375023,66.63870353375023,66.63870353375023,66.73256899518769,66.73256899518769,66.73256899518769,66.73256899518769,66.73256899518769,66.73256899518769,66.73256899518769,66.73256899518769,66.73256899518769,66.73256899518769,66.73256899518769,66.73256899518769,66.73256899518769,66.73256899518769,66.73256899518769,66.73256899518769,66.73256899518769,66.73256899518769,66.73256899518769,66.73256899518769,66.73256899518769,66.73256899518769,66.73256899518769,66.73256899518769,66.73256899518769,66.73256899518769,66.73256899518769,66.73256899518769,66.73256899518769,66.73256899518769,66.73256899518769,66.73256899518769,66.73256899518769,66.73256899518769,66.73256899518769,66.73256899518769,66.73256899518769,66.73256899518769,66.73256899518769,66.73256899518769,66.73256899518769,66.73256899518769,66.73256899518769,66.73256899518769,66.73256899518769,66.73256899518769,66.73256899518769,66.73256899518769,66.73256899518769,66.73256899518769,66.73256899518769,66.73256899518769,66.73256899518769,66.73256899518769,66.73256899518769,66.73256899518769,66.73256899518769,66.73256899518769,66.73256899518769,66.73256899518769,66.73256899518769,66.73256899518769,66.73256899518769,66.73256899518769,66.73256899518769,66.73256899518769,66.73256899518769,66.73256899518769,66.73256899518769,66.73256899518769,66.73256899518769,66.73256899518769,66.73256899518769,66.73256899518769,66.73256899518769,66.73256899518769,66.73256899518769,66.73256899518769,66.73256899518769,66.73256899518769,66.73256899518769,66.73256899518769,66.73256899518769,66.73256899518769,66.73256899518769,66.73256899518769,66.73256899518769,66.73256899518769,66.73256899518769,66.73256899518769,66.73256899518769,66.73256899518769,66.73256899518769,66.73256899518769,66.73256899518769,66.73256899518769,66.73256899518769,66.73256899518769,66.73256899518769,66.73256899518769,66.73256899518769,66.73256899518769,66.73256899518769,66.73256899518769,66.73256899518769,66.73256899518769,66.73256899518769,66.73256899518769,66.73256899518769,66.73256899518769,66.73256899518769,66.73256899518769,66.79514596947934,66.79514596947934,66.79514596947934,66.79514596947934,66.79514596947934,66.8890114309168,66.8890114309168,66.8890114309168,66.8890114309168,66.8890114309168,66.8890114309168,66.8890114309168,66.8890114309168,66.8890114309168,66.8890114309168,66.8890114309168,66.8890114309168,66.8890114309168,66.8890114309168,66.8890114309168,66.8890114309168,66.8890114309168,66.8890114309168,66.8890114309168,66.8890114309168,66.8890114309168,66.8890114309168,66.8890114309168,66.8890114309168,66.8890114309168,66.8890114309168,66.95158840520844,66.95158840520844,66.95158840520844,66.95158840520844,66.95158840520844,66.95158840520844,66.95158840520844,67.0454538666459,67.0454538666459,67.0454538666459,67.0454538666459,67.0454538666459,67.0454538666459,67.0454538666459,67.0454538666459,67.0454538666459,67.0454538666459,67.0454538666459,67.0454538666459,67.0454538666459,67.0454538666459,67.0454538666459,67.0454538666459,67.0454538666459,67.0454538666459,67.0454538666459,67.0454538666459,67.0454538666459,67.0454538666459,67.0454538666459,67.0454538666459,67.0454538666459,67.0454538666459,67.0454538666459,67.0454538666459,67.0454538666459,67.0454538666459,67.0454538666459,67.0454538666459,67.0454538666459,67.0454538666459,67.0454538666459,67.0454538666459,67.0454538666459,67.0454538666459,67.0454538666459,67.0454538666459,67.0454538666459,67.0454538666459,67.0454538666459,67.0454538666459,67.0454538666459,67.0454538666459,67.0454538666459,67.0454538666459,67.0454538666459,67.0454538666459,67.0454538666459,67.0454538666459,67.0454538666459,67.0454538666459,67.0454538666459,67.0454538666459,67.0454538666459,67.0454538666459,67.0454538666459,67.0454538666459,67.0454538666459,67.0454538666459,67.0454538666459,67.0454538666459,67.0454538666459,67.0454538666459,67.0454538666459,67.0454538666459,67.0454538666459,67.0454538666459,67.0454538666459,67.0454538666459,67.0454538666459,67.0454538666459,67.0454538666459,67.0454538666459,67.0454538666459,67.0454538666459,67.0454538666459,67.0454538666459,67.0454538666459,67.0454538666459,67.0454538666459,67.0454538666459,67.0454538666459,67.0454538666459,67.0454538666459,67.0454538666459,67.0454538666459,67.0454538666459,67.0454538666459,67.0454538666459,67.0454538666459,67.0454538666459,67.0454538666459,67.0454538666459,67.0454538666459,67.0454538666459,67.0454538666459,67.0454538666459,67.0454538666459,67.0454538666459,67.0454538666459,67.0454538666459,67.0454538666459,67.0454538666459,67.0454538666459,67.0454538666459,67.0454538666459,67.0454538666459,67.0454538666459,67.0454538666459,67.0454538666459,67.0454538666459,67.0454538666459,67.0454538666459,67.0454538666459,67.0454538666459,67.0454538666459,67.0454538666459,67.0454538666459,67.0454538666459,67.0454538666459,67.0454538666459,67.0454538666459,67.201896302375,67.201896302375,67.201896302375,67.201896302375,67.201896302375,67.201896302375,67.201896302375,67.201896302375,67.201896302375,67.201896302375,67.201896302375,67.201896302375,67.201896302375,67.201896302375,67.201896302375,67.201896302375,67.201896302375,67.201896302375,67.201896302375,67.201896302375,67.201896302375,67.201896302375,67.201896302375,67.201896302375,67.201896302375,67.201896302375,67.201896302375,67.201896302375,67.201896302375,67.201896302375,67.201896302375,67.201896302375,67.201896302375,67.201896302375,67.201896302375,67.201896302375,67.35833873810411,67.35833873810411,67.35833873810411,67.35833873810411,67.35833873810411,67.35833873810411,67.35833873810411,67.35833873810411,67.35833873810411,67.35833873810411,67.35833873810411,67.35833873810411,67.35833873810411,67.35833873810411,67.35833873810411,67.35833873810411,67.35833873810411,67.35833873810411,67.35833873810411,67.35833873810411,67.35833873810411,67.35833873810411,67.35833873810411,67.35833873810411,67.35833873810411,67.35833873810411,67.35833873810411,67.35833873810411,67.35833873810411,67.35833873810411,67.35833873810411,67.35833873810411,67.35833873810411,67.35833873810411,67.35833873810411,67.35833873810411,67.35833873810411,67.35833873810411,67.35833873810411,67.35833873810411,67.35833873810411,67.35833873810411,67.35833873810411,67.35833873810411,67.35833873810411,67.35833873810411,67.35833873810411,67.35833873810411,67.35833873810411,67.35833873810411,67.35833873810411,67.35833873810411,67.35833873810411,67.35833873810411,67.35833873810411,67.35833873810411,67.35833873810411,67.35833873810411,67.35833873810411,67.35833873810411,67.35833873810411,67.35833873810411,67.35833873810411,67.35833873810411,67.35833873810411,67.35833873810411,67.35833873810411,67.35833873810411,67.35833873810411,67.42091571239575,67.42091571239575,67.42091571239575,67.42091571239575,67.42091571239575,67.5147811738332,67.5147811738332,67.5147811738332,67.5147811738332,67.5147811738332,67.5147811738332,67.5147811738332,67.5147811738332,67.5147811738332,67.5147811738332,67.5147811738332,67.5147811738332,67.5147811738332,67.5147811738332,67.5147811738332,67.5147811738332,67.5147811738332,67.5147811738332,67.5147811738332,67.5147811738332,67.5147811738332,67.5147811738332,67.5147811738332,67.5147811738332,67.5147811738332,67.5147811738332,67.5147811738332,67.5147811738332,67.5147811738332,67.5147811738332,67.5147811738332,67.5147811738332,67.5147811738332,67.5147811738332,67.5147811738332,67.5147811738332,67.5147811738332,67.5147811738332,67.5147811738332,67.5147811738332,67.5147811738332,67.5147811738332,67.5147811738332,67.5147811738332,67.5147811738332,67.5147811738332,67.5147811738332,67.57735814812486,67.57735814812486,67.57735814812486,67.57735814812486,67.57735814812486,67.57735814812486,67.6712236095623,67.6712236095623,67.6712236095623,67.6712236095623,67.6712236095623,67.6712236095623,67.6712236095623,67.6712236095623,67.6712236095623,67.6712236095623,67.6712236095623,67.6712236095623,67.6712236095623,67.6712236095623,67.6712236095623,67.6712236095623,67.6712236095623,67.6712236095623,67.6712236095623,67.6712236095623,67.6712236095623,67.6712236095623,67.6712236095623,67.6712236095623,67.6712236095623,67.6712236095623,67.6712236095623,67.6712236095623,67.6712236095623,67.6712236095623,67.6712236095623,67.6712236095623,67.6712236095623,67.6712236095623,67.6712236095623,67.6712236095623,67.6712236095623,67.6712236095623,67.6712236095623,67.6712236095623,67.6712236095623,67.6712236095623,67.6712236095623,67.6712236095623,67.6712236095623,67.98410848102051,67.98410848102051,67.98410848102051,67.98410848102051,67.98410848102051,67.98410848102051,67.98410848102051,67.98410848102051,67.98410848102051,67.98410848102051,67.98410848102051,68.14055091674962,68.14055091674962,68.14055091674962,68.14055091674962,68.14055091674962,68.14055091674962,68.14055091674962,68.14055091674962,68.14055091674962,68.14055091674962,68.29699335247872,68.29699335247872,68.29699335247872,68.29699335247872,68.29699335247872,68.29699335247872,68.29699335247872,68.29699335247872,68.29699335247872,68.29699335247872,68.29699335247872,68.29699335247872,68.29699335247872,68.29699335247872,68.29699335247872,68.29699335247872,68.29699335247872,68.29699335247872,68.29699335247872,68.29699335247872,68.29699335247872,68.29699335247872,68.29699335247872,68.76632065966604,68.76632065966604],\"yaxis\":\"y\",\"type\":\"scatter\"}],                        {\"template\":{\"data\":{\"histogram2dcontour\":[{\"type\":\"histogram2dcontour\",\"colorbar\":{\"outlinewidth\":0,\"ticks\":\"\"},\"colorscale\":[[0.0,\"#0d0887\"],[0.1111111111111111,\"#46039f\"],[0.2222222222222222,\"#7201a8\"],[0.3333333333333333,\"#9c179e\"],[0.4444444444444444,\"#bd3786\"],[0.5555555555555556,\"#d8576b\"],[0.6666666666666666,\"#ed7953\"],[0.7777777777777778,\"#fb9f3a\"],[0.8888888888888888,\"#fdca26\"],[1.0,\"#f0f921\"]]}],\"choropleth\":[{\"type\":\"choropleth\",\"colorbar\":{\"outlinewidth\":0,\"ticks\":\"\"}}],\"histogram2d\":[{\"type\":\"histogram2d\",\"colorbar\":{\"outlinewidth\":0,\"ticks\":\"\"},\"colorscale\":[[0.0,\"#0d0887\"],[0.1111111111111111,\"#46039f\"],[0.2222222222222222,\"#7201a8\"],[0.3333333333333333,\"#9c179e\"],[0.4444444444444444,\"#bd3786\"],[0.5555555555555556,\"#d8576b\"],[0.6666666666666666,\"#ed7953\"],[0.7777777777777778,\"#fb9f3a\"],[0.8888888888888888,\"#fdca26\"],[1.0,\"#f0f921\"]]}],\"heatmap\":[{\"type\":\"heatmap\",\"colorbar\":{\"outlinewidth\":0,\"ticks\":\"\"},\"colorscale\":[[0.0,\"#0d0887\"],[0.1111111111111111,\"#46039f\"],[0.2222222222222222,\"#7201a8\"],[0.3333333333333333,\"#9c179e\"],[0.4444444444444444,\"#bd3786\"],[0.5555555555555556,\"#d8576b\"],[0.6666666666666666,\"#ed7953\"],[0.7777777777777778,\"#fb9f3a\"],[0.8888888888888888,\"#fdca26\"],[1.0,\"#f0f921\"]]}],\"heatmapgl\":[{\"type\":\"heatmapgl\",\"colorbar\":{\"outlinewidth\":0,\"ticks\":\"\"},\"colorscale\":[[0.0,\"#0d0887\"],[0.1111111111111111,\"#46039f\"],[0.2222222222222222,\"#7201a8\"],[0.3333333333333333,\"#9c179e\"],[0.4444444444444444,\"#bd3786\"],[0.5555555555555556,\"#d8576b\"],[0.6666666666666666,\"#ed7953\"],[0.7777777777777778,\"#fb9f3a\"],[0.8888888888888888,\"#fdca26\"],[1.0,\"#f0f921\"]]}],\"contourcarpet\":[{\"type\":\"contourcarpet\",\"colorbar\":{\"outlinewidth\":0,\"ticks\":\"\"}}],\"contour\":[{\"type\":\"contour\",\"colorbar\":{\"outlinewidth\":0,\"ticks\":\"\"},\"colorscale\":[[0.0,\"#0d0887\"],[0.1111111111111111,\"#46039f\"],[0.2222222222222222,\"#7201a8\"],[0.3333333333333333,\"#9c179e\"],[0.4444444444444444,\"#bd3786\"],[0.5555555555555556,\"#d8576b\"],[0.6666666666666666,\"#ed7953\"],[0.7777777777777778,\"#fb9f3a\"],[0.8888888888888888,\"#fdca26\"],[1.0,\"#f0f921\"]]}],\"surface\":[{\"type\":\"surface\",\"colorbar\":{\"outlinewidth\":0,\"ticks\":\"\"},\"colorscale\":[[0.0,\"#0d0887\"],[0.1111111111111111,\"#46039f\"],[0.2222222222222222,\"#7201a8\"],[0.3333333333333333,\"#9c179e\"],[0.4444444444444444,\"#bd3786\"],[0.5555555555555556,\"#d8576b\"],[0.6666666666666666,\"#ed7953\"],[0.7777777777777778,\"#fb9f3a\"],[0.8888888888888888,\"#fdca26\"],[1.0,\"#f0f921\"]]}],\"mesh3d\":[{\"type\":\"mesh3d\",\"colorbar\":{\"outlinewidth\":0,\"ticks\":\"\"}}],\"scatter\":[{\"fillpattern\":{\"fillmode\":\"overlay\",\"size\":10,\"solidity\":0.2},\"type\":\"scatter\"}],\"parcoords\":[{\"type\":\"parcoords\",\"line\":{\"colorbar\":{\"outlinewidth\":0,\"ticks\":\"\"}}}],\"scatterpolargl\":[{\"type\":\"scatterpolargl\",\"marker\":{\"colorbar\":{\"outlinewidth\":0,\"ticks\":\"\"}}}],\"bar\":[{\"error_x\":{\"color\":\"#2a3f5f\"},\"error_y\":{\"color\":\"#2a3f5f\"},\"marker\":{\"line\":{\"color\":\"#E5ECF6\",\"width\":0.5},\"pattern\":{\"fillmode\":\"overlay\",\"size\":10,\"solidity\":0.2}},\"type\":\"bar\"}],\"scattergeo\":[{\"type\":\"scattergeo\",\"marker\":{\"colorbar\":{\"outlinewidth\":0,\"ticks\":\"\"}}}],\"scatterpolar\":[{\"type\":\"scatterpolar\",\"marker\":{\"colorbar\":{\"outlinewidth\":0,\"ticks\":\"\"}}}],\"histogram\":[{\"marker\":{\"pattern\":{\"fillmode\":\"overlay\",\"size\":10,\"solidity\":0.2}},\"type\":\"histogram\"}],\"scattergl\":[{\"type\":\"scattergl\",\"marker\":{\"colorbar\":{\"outlinewidth\":0,\"ticks\":\"\"}}}],\"scatter3d\":[{\"type\":\"scatter3d\",\"line\":{\"colorbar\":{\"outlinewidth\":0,\"ticks\":\"\"}},\"marker\":{\"colorbar\":{\"outlinewidth\":0,\"ticks\":\"\"}}}],\"scattermapbox\":[{\"type\":\"scattermapbox\",\"marker\":{\"colorbar\":{\"outlinewidth\":0,\"ticks\":\"\"}}}],\"scatterternary\":[{\"type\":\"scatterternary\",\"marker\":{\"colorbar\":{\"outlinewidth\":0,\"ticks\":\"\"}}}],\"scattercarpet\":[{\"type\":\"scattercarpet\",\"marker\":{\"colorbar\":{\"outlinewidth\":0,\"ticks\":\"\"}}}],\"carpet\":[{\"aaxis\":{\"endlinecolor\":\"#2a3f5f\",\"gridcolor\":\"white\",\"linecolor\":\"white\",\"minorgridcolor\":\"white\",\"startlinecolor\":\"#2a3f5f\"},\"baxis\":{\"endlinecolor\":\"#2a3f5f\",\"gridcolor\":\"white\",\"linecolor\":\"white\",\"minorgridcolor\":\"white\",\"startlinecolor\":\"#2a3f5f\"},\"type\":\"carpet\"}],\"table\":[{\"cells\":{\"fill\":{\"color\":\"#EBF0F8\"},\"line\":{\"color\":\"white\"}},\"header\":{\"fill\":{\"color\":\"#C8D4E3\"},\"line\":{\"color\":\"white\"}},\"type\":\"table\"}],\"barpolar\":[{\"marker\":{\"line\":{\"color\":\"#E5ECF6\",\"width\":0.5},\"pattern\":{\"fillmode\":\"overlay\",\"size\":10,\"solidity\":0.2}},\"type\":\"barpolar\"}],\"pie\":[{\"automargin\":true,\"type\":\"pie\"}]},\"layout\":{\"autotypenumbers\":\"strict\",\"colorway\":[\"#636efa\",\"#EF553B\",\"#00cc96\",\"#ab63fa\",\"#FFA15A\",\"#19d3f3\",\"#FF6692\",\"#B6E880\",\"#FF97FF\",\"#FECB52\"],\"font\":{\"color\":\"#2a3f5f\"},\"hovermode\":\"closest\",\"hoverlabel\":{\"align\":\"left\"},\"paper_bgcolor\":\"white\",\"plot_bgcolor\":\"#E5ECF6\",\"polar\":{\"bgcolor\":\"#E5ECF6\",\"angularaxis\":{\"gridcolor\":\"white\",\"linecolor\":\"white\",\"ticks\":\"\"},\"radialaxis\":{\"gridcolor\":\"white\",\"linecolor\":\"white\",\"ticks\":\"\"}},\"ternary\":{\"bgcolor\":\"#E5ECF6\",\"aaxis\":{\"gridcolor\":\"white\",\"linecolor\":\"white\",\"ticks\":\"\"},\"baxis\":{\"gridcolor\":\"white\",\"linecolor\":\"white\",\"ticks\":\"\"},\"caxis\":{\"gridcolor\":\"white\",\"linecolor\":\"white\",\"ticks\":\"\"}},\"coloraxis\":{\"colorbar\":{\"outlinewidth\":0,\"ticks\":\"\"}},\"colorscale\":{\"sequential\":[[0.0,\"#0d0887\"],[0.1111111111111111,\"#46039f\"],[0.2222222222222222,\"#7201a8\"],[0.3333333333333333,\"#9c179e\"],[0.4444444444444444,\"#bd3786\"],[0.5555555555555556,\"#d8576b\"],[0.6666666666666666,\"#ed7953\"],[0.7777777777777778,\"#fb9f3a\"],[0.8888888888888888,\"#fdca26\"],[1.0,\"#f0f921\"]],\"sequentialminus\":[[0.0,\"#0d0887\"],[0.1111111111111111,\"#46039f\"],[0.2222222222222222,\"#7201a8\"],[0.3333333333333333,\"#9c179e\"],[0.4444444444444444,\"#bd3786\"],[0.5555555555555556,\"#d8576b\"],[0.6666666666666666,\"#ed7953\"],[0.7777777777777778,\"#fb9f3a\"],[0.8888888888888888,\"#fdca26\"],[1.0,\"#f0f921\"]],\"diverging\":[[0,\"#8e0152\"],[0.1,\"#c51b7d\"],[0.2,\"#de77ae\"],[0.3,\"#f1b6da\"],[0.4,\"#fde0ef\"],[0.5,\"#f7f7f7\"],[0.6,\"#e6f5d0\"],[0.7,\"#b8e186\"],[0.8,\"#7fbc41\"],[0.9,\"#4d9221\"],[1,\"#276419\"]]},\"xaxis\":{\"gridcolor\":\"white\",\"linecolor\":\"white\",\"ticks\":\"\",\"title\":{\"standoff\":15},\"zerolinecolor\":\"white\",\"automargin\":true,\"zerolinewidth\":2},\"yaxis\":{\"gridcolor\":\"white\",\"linecolor\":\"white\",\"ticks\":\"\",\"title\":{\"standoff\":15},\"zerolinecolor\":\"white\",\"automargin\":true,\"zerolinewidth\":2},\"scene\":{\"xaxis\":{\"backgroundcolor\":\"#E5ECF6\",\"gridcolor\":\"white\",\"linecolor\":\"white\",\"showbackground\":true,\"ticks\":\"\",\"zerolinecolor\":\"white\",\"gridwidth\":2},\"yaxis\":{\"backgroundcolor\":\"#E5ECF6\",\"gridcolor\":\"white\",\"linecolor\":\"white\",\"showbackground\":true,\"ticks\":\"\",\"zerolinecolor\":\"white\",\"gridwidth\":2},\"zaxis\":{\"backgroundcolor\":\"#E5ECF6\",\"gridcolor\":\"white\",\"linecolor\":\"white\",\"showbackground\":true,\"ticks\":\"\",\"zerolinecolor\":\"white\",\"gridwidth\":2}},\"shapedefaults\":{\"line\":{\"color\":\"#2a3f5f\"}},\"annotationdefaults\":{\"arrowcolor\":\"#2a3f5f\",\"arrowhead\":0,\"arrowwidth\":1},\"geo\":{\"bgcolor\":\"white\",\"landcolor\":\"#E5ECF6\",\"subunitcolor\":\"white\",\"showland\":true,\"showlakes\":true,\"lakecolor\":\"white\"},\"title\":{\"x\":0.05},\"mapbox\":{\"style\":\"light\"}}},\"xaxis\":{\"anchor\":\"y\",\"domain\":[0.0,1.0],\"title\":{\"text\":\"mother\"}},\"yaxis\":{\"anchor\":\"x\",\"domain\":[0.0,1.0],\"title\":{\"text\":\"height\"}},\"coloraxis\":{\"colorbar\":{\"title\":{\"text\":\"gender\"}},\"colorscale\":[[0.0,\"#0d0887\"],[0.1111111111111111,\"#46039f\"],[0.2222222222222222,\"#7201a8\"],[0.3333333333333333,\"#9c179e\"],[0.4444444444444444,\"#bd3786\"],[0.5555555555555556,\"#d8576b\"],[0.6666666666666666,\"#ed7953\"],[0.7777777777777778,\"#fb9f3a\"],[0.8888888888888888,\"#fdca26\"],[1.0,\"#f0f921\"]]},\"legend\":{\"tracegroupgap\":0,\"itemsizing\":\"constant\"},\"margin\":{\"t\":60}},                        {\"responsive\": true}                    ).then(function(){\n",
              "                            \n",
              "var gd = document.getElementById('e0e76001-adcb-429e-8783-8010b70554a5');\n",
              "var x = new MutationObserver(function (mutations, observer) {{\n",
              "        var display = window.getComputedStyle(gd).display;\n",
              "        if (!display || display === 'none') {{\n",
              "            console.log([gd, 'removed!']);\n",
              "            Plotly.purge(gd);\n",
              "            observer.disconnect();\n",
              "        }}\n",
              "}});\n",
              "\n",
              "// Listen for the removal of the full notebook cells\n",
              "var notebookContainer = gd.closest('#notebook-container');\n",
              "if (notebookContainer) {{\n",
              "    x.observe(notebookContainer, {childList: true});\n",
              "}}\n",
              "\n",
              "// Listen for the clearing of the current output cell\n",
              "var outputEl = gd.closest('.output');\n",
              "if (outputEl) {{\n",
              "    x.observe(outputEl, {childList: true});\n",
              "}}\n",
              "\n",
              "                        })                };                            </script>        </div>\n",
              "</body>\n",
              "</html>"
            ]
          },
          "metadata": {}
        }
      ]
    },
    {
      "cell_type": "markdown",
      "source": [
        "# distribution of son's height relative to mother's height"
      ],
      "metadata": {
        "id": "FQ6SEpjnVVTX"
      }
    },
    {
      "cell_type": "code",
      "source": [
        "# prompt: distribution od son's height relative to mother's height\n",
        "\n",
        "figure = px.scatter(data_frame = df[df['gender'] == 1], x=\"mother\", y=\"height\", size =\"kids\", color_discrete_sequence=[\"yellow\"], trendline=\"ols\")\n",
        "# Manually change the trendline color\n",
        "for trace in figure.data:\n",
        "    if trace.mode == 'lines':  # This is the trendline trace\n",
        "        trace.line.color = 'red'  # Change this to the color you prefer\n",
        "figure.show()\n"
      ],
      "metadata": {
        "colab": {
          "base_uri": "https://localhost:8080/",
          "height": 542
        },
        "id": "snF-rHvTUpBA",
        "outputId": "b973bad0-2a82-412f-b40f-74e5f6ecaeab"
      },
      "execution_count": 13,
      "outputs": [
        {
          "output_type": "display_data",
          "data": {
            "text/html": [
              "<html>\n",
              "<head><meta charset=\"utf-8\" /></head>\n",
              "<body>\n",
              "    <div>            <script src=\"https://cdnjs.cloudflare.com/ajax/libs/mathjax/2.7.5/MathJax.js?config=TeX-AMS-MML_SVG\"></script><script type=\"text/javascript\">if (window.MathJax && window.MathJax.Hub && window.MathJax.Hub.Config) {window.MathJax.Hub.Config({SVG: {font: \"STIX-Web\"}});}</script>                <script type=\"text/javascript\">window.PlotlyConfig = {MathJaxConfig: 'local'};</script>\n",
              "        <script charset=\"utf-8\" src=\"https://cdn.plot.ly/plotly-2.35.2.min.js\"></script>                <div id=\"e3bd3121-dd04-44bb-8d28-d9fdf9a699b8\" class=\"plotly-graph-div\" style=\"height:525px; width:100%;\"></div>            <script type=\"text/javascript\">                                    window.PLOTLYENV=window.PLOTLYENV || {};                                    if (document.getElementById(\"e3bd3121-dd04-44bb-8d28-d9fdf9a699b8\")) {                    Plotly.newPlot(                        \"e3bd3121-dd04-44bb-8d28-d9fdf9a699b8\",                        [{\"hovertemplate\":\"mother=%{x}\\u003cbr\\u003eheight=%{y}\\u003cbr\\u003ekids=%{marker.size}\\u003cextra\\u003e\\u003c\\u002fextra\\u003e\",\"legendgroup\":\"\",\"marker\":{\"color\":\"yellow\",\"size\":[4,4,4,2,5,5,6,6,6,6,6,6,6,8,8,2,2,3,3,9,9,9,9,9,6,6,6,6,8,8,8,3,3,3,7,7,7,5,5,5,3,3,6,6,6,6,6,5,5,5,5,5,5,5,5,5,5,5,4,4,4,4,6,6,6,2,5,5,5,5,1,6,6,6,6,2,2,2,3,3,4,4,4,3,3,3,7,7,7,5,5,9,9,9,9,4,4,4,5,5,5,5,5,5,7,7,7,7,7,2,2,4,4,4,6,6,1,5,5,11,11,11,11,4,4,4,4,8,8,8,8,8,5,5,6,6,7,7,7,3,3,2,2,7,7,7,7,7,7,7,7,7,4,4,4,5,5,8,8,8,8,8,8,4,9,9,9,9,9,9,8,8,8,5,5,5,4,4,4,4,4,4,8,8,8,8,8,7,7,7,7,3,3,2,2,4,4,3,3,5,5,10,10,10,8,8,8,8,3,3,3,6,6,6,6,6,6,6,6,6,5,5,5,5,4,4,6,7,7,7,7,9,9,9,9,7,7,7,7,7,7,4,4,3,1,6,6,6,6,7,7,7,3,3,3,3,5,5,5,5,8,8,8,8,4,4,5,5,5,9,9,9,9,9,9,3,4,4,1,2,3,3,11,11,11,11,11,11,11,11,11,2,2,2,7,7,7,7,4,4,8,8,8,8,10,10,10,10,4,4,5,5,5,5,10,10,10,8,8,8,8,8,4,4,4,1,4,4,8,8,8,8,8,6,6,6,1,1,5,5,5,5,1,2,1,5,5,5,1,7,4,4,4,1,10,10,10,10,10,10,5,5,5,1,6,6,5,5,4,4,3,11,11,4,4,4,4,8,8,8,8,8,8,8,3,3,5,5,5,5,1,8,8,8,8,8,9,9,9,5,5,6,6,8,8,8,8,5,5,5,1,6,6,6,7,7,1,4,4,4,1,15,15,15,15,15,15,15,4,4,4,4,9,9,9,2,6,6,6,6,6,6,2,3,3,4,4,4,5,5,5,5,7,7,7,7,1,2,3,2],\"sizemode\":\"area\",\"sizeref\":0.0375,\"symbol\":\"circle\"},\"mode\":\"markers\",\"name\":\"\",\"orientation\":\"v\",\"showlegend\":false,\"x\":[67.0,66.5,66.5,64.0,64.0,64.0,58.5,58.5,58.5,68.0,68.0,68.0,68.0,62.0,62.0,67.0,67.0,66.5,66.5,65.0,65.0,65.0,65.0,65.0,64.5,64.5,64.5,64.5,69.0,69.0,69.0,68.0,67.0,67.0,65.0,65.0,65.0,63.0,63.0,63.0,63.0,63.0,63.0,63.0,62.0,62.0,62.0,62.0,62.0,62.0,62.0,62.0,62.0,62.0,69.0,69.0,69.0,69.0,67.0,67.0,67.0,66.0,66.0,66.0,66.0,66.0,66.0,66.0,66.0,66.0,65.5,65.5,65.5,65.5,65.5,65.5,65.0,65.0,65.0,65.0,64.5,64.5,64.5,64.0,64.0,64.0,64.5,64.5,64.5,63.5,63.5,63.0,63.0,63.0,63.0,63.0,63.0,63.0,62.0,62.0,62.0,62.0,62.0,62.5,62.0,62.0,62.0,62.0,62.0,58.0,58.0,69.0,69.0,69.0,69.0,69.0,68.0,67.0,67.0,66.5,66.5,66.5,66.5,65.0,65.0,65.0,65.0,65.0,65.0,65.0,65.0,65.0,65.0,65.0,65.0,65.0,65.0,65.0,65.0,65.0,65.0,65.0,65.0,64.7,64.7,64.7,64.0,64.0,64.0,64.0,64.0,64.0,64.0,64.0,64.0,64.2,64.2,64.0,64.0,64.0,64.0,64.0,64.0,64.0,64.0,64.0,64.0,64.0,64.0,64.0,63.7,63.7,63.7,63.0,63.0,63.0,63.5,63.5,63.0,63.0,63.0,63.0,62.0,62.0,62.0,62.0,62.0,62.7,62.7,62.7,62.7,62.0,62.0,61.0,61.0,60.0,60.0,58.5,58.5,58.0,58.0,68.5,68.5,68.5,66.0,66.0,66.0,66.0,66.0,66.0,66.0,66.7,66.7,66.7,66.7,66.7,66.7,66.0,66.0,66.0,66.5,66.5,66.5,66.5,66.5,66.5,66.5,66.0,66.0,66.0,66.0,66.0,66.0,66.0,66.0,65.0,65.0,65.0,64.5,64.5,64.5,64.0,64.0,63.0,63.0,63.0,63.0,63.0,63.0,63.5,63.5,63.5,63.5,62.0,62.0,62.0,62.0,62.0,62.0,62.0,62.5,62.5,62.5,62.5,62.0,62.0,61.0,61.0,61.0,61.0,61.0,61.0,61.0,61.0,61.0,60.0,60.0,60.0,60.5,70.5,67.0,67.0,66.5,66.5,66.5,66.5,66.5,66.5,66.5,66.5,66.5,65.0,65.0,65.5,65.5,65.5,65.5,65.5,65.0,65.0,65.0,65.0,65.0,65.0,64.0,64.0,64.0,64.0,64.0,64.0,64.0,64.0,64.0,64.0,64.0,64.0,64.0,63.0,63.0,63.0,63.0,63.0,63.5,63.5,63.5,63.0,63.0,63.0,63.0,63.0,63.0,63.0,63.0,63.0,63.0,63.0,63.5,63.0,63.5,63.5,63.5,63.5,62.5,62.0,62.5,61.0,61.0,61.0,60.2,60.0,60.0,60.0,60.0,59.0,59.0,59.0,59.0,59.0,59.0,59.0,66.2,66.2,66.2,66.5,65.0,65.0,65.5,65.5,65.5,65.5,65.0,65.0,65.0,64.0,64.0,64.0,64.0,63.5,63.5,63.5,63.5,63.5,63.5,63.5,63.0,63.0,62.0,62.0,62.0,62.0,61.0,67.0,67.0,67.0,67.0,67.0,67.0,67.0,67.0,66.0,66.0,66.0,66.0,65.0,65.0,65.0,65.0,65.5,65.5,65.5,63.0,63.0,63.0,63.0,62.5,62.5,61.5,60.0,60.0,60.0,60.0,59.0,59.0,59.0,59.0,59.0,59.0,59.0,67.0,67.0,67.0,66.0,65.0,65.0,65.0,65.5,65.0,65.0,65.0,65.0,64.0,64.0,63.0,63.0,63.0,63.0,63.0,63.0,60.0,60.0,60.0,60.0,64.0,64.0,64.0,64.0,63.0,60.0,66.0,63.0],\"xaxis\":\"x\",\"y\":[73.2,73.5,72.5,71.0,70.5,68.5,72.0,69.0,68.0,76.5,74.0,73.0,73.0,74.0,70.0,68.0,67.0,71.0,70.5,72.0,70.5,70.2,70.2,69.2,74.0,73.0,71.5,62.5,73.2,73.0,72.7,73.0,73.0,71.0,74.2,70.5,69.5,70.5,70.5,69.0,69.0,67.0,73.0,67.0,71.0,70.0,70.0,74.0,72.0,69.0,72.0,71.5,71.5,70.0,78.0,74.0,73.0,72.0,73.2,73.0,69.0,70.0,70.0,69.0,68.5,71.0,76.0,72.0,71.0,66.0,70.5,72.0,72.0,71.0,69.0,73.0,68.5,67.7,68.0,68.0,72.0,71.0,70.5,68.0,68.0,68.0,72.0,71.0,70.0,71.0,67.0,71.0,70.0,70.0,64.0,71.0,71.0,70.0,71.0,70.0,72.0,70.5,70.5,70.0,70.5,70.0,69.0,69.0,66.0,71.5,69.0,71.0,70.0,69.0,70.0,68.7,75.0,70.0,69.0,73.0,72.0,72.0,66.5,72.0,70.2,69.0,68.5,73.0,72.0,70.5,65.0,65.0,67.0,65.0,70.0,70.0,79.0,75.0,71.0,73.0,72.5,69.0,69.0,72.0,70.0,68.7,70.7,70.0,68.0,67.0,66.0,65.0,70.0,68.0,66.7,72.0,70.0,74.0,69.5,69.0,68.0,68.0,68.0,68.0,71.0,70.0,70.0,70.0,69.5,68.5,70.0,67.0,65.5,72.5,69.0,67.0,71.0,67.5,68.0,67.0,70.0,66.5,72.0,70.0,69.5,69.5,68.0,70.7,69.7,69.2,65.2,72.0,72.0,71.2,67.0,67.0,64.5,71.5,64.5,72.0,66.0,75.0,71.0,70.0,73.0,72.0,71.7,71.5,71.2,71.0,70.0,75.0,74.0,72.0,68.5,67.0,66.0,70.0,68.5,68.0,73.0,71.0,70.5,70.5,70.5,67.5,71.0,71.0,71.0,70.5,70.5,73.0,72.0,69.0,69.0,70.0,68.5,67.0,69.7,68.0,60.0,71.7,66.5,69.0,72.0,73.0,70.0,70.0,64.0,70.5,67.0,66.0,70.5,73.0,72.0,69.0,73.0,71.0,71.0,69.0,71.0,70.0,70.0,69.0,72.0,68.0,70.0,69.5,69.0,68.0,68.0,67.5,64.0,63.0,63.0,70.5,69.0,66.0,69.5,71.0,73.0,71.0,70.0,69.0,69.0,68.7,68.5,68.5,68.0,68.0,68.0,67.5,66.0,66.0,71.7,71.5,70.7,65.5,72.0,72.0,69.2,68.0,66.0,66.0,71.0,68.0,68.0,67.0,66.0,63.0,71.2,71.2,69.0,68.5,69.0,67.0,66.0,70.5,70.0,68.0,66.0,66.0,73.5,70.0,69.5,67.0,70.0,68.0,71.0,68.0,66.0,65.5,65.0,67.0,67.0,66.0,68.2,70.0,70.0,69.0,67.0,65.5,68.5,67.7,66.5,68.5,68.0,64.0,66.7,64.0,67.5,67.0,66.5,69.0,68.0,65.0,64.7,64.0,64.0,63.0,72.7,72.7,71.5,71.0,69.7,67.5,70.0,69.0,70.0,67.7,65.0,71.0,69.0,71.5,70.0,67.0,67.0,71.0,70.2,69.2,68.5,68.0,67.0,65.5,69.0,68.0,70.0,69.5,69.0,68.5,67.0,70.5,70.5,67.0,66.0,66.0,72.0,65.0,65.0,66.0,65.0,72.0,68.0,68.7,68.5,66.5,64.5,72.0,71.0,67.0,70.0,67.2,67.0,65.0,70.0,68.0,70.0,68.0,67.0,65.0,65.0,68.0,67.0,66.5,66.0,65.7,65.5,65.0,66.5,66.0,66.0,63.0,69.0,68.0,68.0,70.7,69.2,69.0,68.0,67.7,67.0,67.0,70.0,66.0,66.0,71.0,71.0,69.0,68.0,68.0,67.0,67.0,71.5,68.0,70.5,68.0,64.5,66.0,64.0,66.5],\"yaxis\":\"y\",\"type\":\"scatter\"},{\"hovertemplate\":\"\\u003cb\\u003eOLS trendline\\u003c\\u002fb\\u003e\\u003cbr\\u003eheight = 0.376935 * mother + 45.1044\\u003cbr\\u003eR\\u003csup\\u003e2\\u003c\\u002fsup\\u003e=0.112002\\u003cbr\\u003e\\u003cbr\\u003emother=%{x}\\u003cbr\\u003eheight=%{y} \\u003cb\\u003e(trend)\\u003c\\u002fb\\u003e\\u003cextra\\u003e\\u003c\\u002fextra\\u003e\",\"legendgroup\":\"\",\"marker\":{\"color\":\"yellow\",\"symbol\":\"circle\"},\"mode\":\"lines\",\"name\":\"\",\"showlegend\":false,\"x\":[58.0,58.0,58.0,58.0,58.5,58.5,58.5,58.5,58.5,59.0,59.0,59.0,59.0,59.0,59.0,59.0,59.0,59.0,59.0,59.0,59.0,59.0,59.0,60.0,60.0,60.0,60.0,60.0,60.0,60.0,60.0,60.0,60.0,60.0,60.0,60.0,60.0,60.0,60.0,60.0,60.0,60.2,60.5,61.0,61.0,61.0,61.0,61.0,61.0,61.0,61.0,61.0,61.0,61.0,61.0,61.0,61.0,61.0,61.5,62.0,62.0,62.0,62.0,62.0,62.0,62.0,62.0,62.0,62.0,62.0,62.0,62.0,62.0,62.0,62.0,62.0,62.0,62.0,62.0,62.0,62.0,62.0,62.0,62.0,62.0,62.0,62.0,62.0,62.0,62.0,62.0,62.0,62.0,62.0,62.0,62.0,62.0,62.0,62.0,62.0,62.0,62.0,62.5,62.5,62.5,62.5,62.5,62.5,62.5,62.5,62.5,62.7,62.7,62.7,62.7,63.0,63.0,63.0,63.0,63.0,63.0,63.0,63.0,63.0,63.0,63.0,63.0,63.0,63.0,63.0,63.0,63.0,63.0,63.0,63.0,63.0,63.0,63.0,63.0,63.0,63.0,63.0,63.0,63.0,63.0,63.0,63.0,63.0,63.0,63.0,63.0,63.0,63.0,63.0,63.0,63.0,63.0,63.0,63.0,63.0,63.0,63.0,63.0,63.0,63.0,63.0,63.0,63.0,63.0,63.0,63.0,63.0,63.0,63.5,63.5,63.5,63.5,63.5,63.5,63.5,63.5,63.5,63.5,63.5,63.5,63.5,63.5,63.5,63.5,63.5,63.5,63.5,63.5,63.5,63.5,63.5,63.7,63.7,63.7,64.0,64.0,64.0,64.0,64.0,64.0,64.0,64.0,64.0,64.0,64.0,64.0,64.0,64.0,64.0,64.0,64.0,64.0,64.0,64.0,64.0,64.0,64.0,64.0,64.0,64.0,64.0,64.0,64.0,64.0,64.0,64.0,64.0,64.0,64.0,64.0,64.0,64.0,64.0,64.0,64.0,64.0,64.0,64.0,64.0,64.0,64.0,64.0,64.0,64.0,64.0,64.0,64.0,64.2,64.2,64.5,64.5,64.5,64.5,64.5,64.5,64.5,64.5,64.5,64.5,64.5,64.5,64.5,64.7,64.7,64.7,65.0,65.0,65.0,65.0,65.0,65.0,65.0,65.0,65.0,65.0,65.0,65.0,65.0,65.0,65.0,65.0,65.0,65.0,65.0,65.0,65.0,65.0,65.0,65.0,65.0,65.0,65.0,65.0,65.0,65.0,65.0,65.0,65.0,65.0,65.0,65.0,65.0,65.0,65.0,65.0,65.0,65.0,65.0,65.0,65.0,65.0,65.0,65.0,65.0,65.0,65.0,65.0,65.0,65.0,65.0,65.0,65.0,65.0,65.0,65.5,65.5,65.5,65.5,65.5,65.5,65.5,65.5,65.5,65.5,65.5,65.5,65.5,65.5,65.5,65.5,65.5,65.5,65.5,66.0,66.0,66.0,66.0,66.0,66.0,66.0,66.0,66.0,66.0,66.0,66.0,66.0,66.0,66.0,66.0,66.0,66.0,66.0,66.0,66.0,66.0,66.0,66.0,66.0,66.0,66.0,66.0,66.0,66.0,66.0,66.0,66.0,66.2,66.2,66.2,66.5,66.5,66.5,66.5,66.5,66.5,66.5,66.5,66.5,66.5,66.5,66.5,66.5,66.5,66.5,66.5,66.5,66.5,66.5,66.5,66.5,66.5,66.5,66.5,66.5,66.7,66.7,66.7,66.7,66.7,66.7,67.0,67.0,67.0,67.0,67.0,67.0,67.0,67.0,67.0,67.0,67.0,67.0,67.0,67.0,67.0,67.0,67.0,67.0,67.0,67.0,67.0,67.0,67.0,68.0,68.0,68.0,68.0,68.0,68.0,68.5,68.5,68.5,69.0,69.0,69.0,69.0,69.0,69.0,69.0,69.0,69.0,69.0,69.0,69.0,70.5],\"xaxis\":\"x\",\"y\":[66.9666055140211,66.9666055140211,66.9666055140211,66.9666055140211,67.1550731762301,67.1550731762301,67.1550731762301,67.1550731762301,67.1550731762301,67.3435408384391,67.3435408384391,67.3435408384391,67.3435408384391,67.3435408384391,67.3435408384391,67.3435408384391,67.3435408384391,67.3435408384391,67.3435408384391,67.3435408384391,67.3435408384391,67.3435408384391,67.3435408384391,67.7204761628571,67.7204761628571,67.7204761628571,67.7204761628571,67.7204761628571,67.7204761628571,67.7204761628571,67.7204761628571,67.7204761628571,67.7204761628571,67.7204761628571,67.7204761628571,67.7204761628571,67.7204761628571,67.7204761628571,67.7204761628571,67.7204761628571,67.7204761628571,67.79586322774071,67.9089438250661,68.0974114872751,68.0974114872751,68.0974114872751,68.0974114872751,68.0974114872751,68.0974114872751,68.0974114872751,68.0974114872751,68.0974114872751,68.0974114872751,68.0974114872751,68.0974114872751,68.0974114872751,68.0974114872751,68.0974114872751,68.2858791494841,68.4743468116931,68.4743468116931,68.4743468116931,68.4743468116931,68.4743468116931,68.4743468116931,68.4743468116931,68.4743468116931,68.4743468116931,68.4743468116931,68.4743468116931,68.4743468116931,68.4743468116931,68.4743468116931,68.4743468116931,68.4743468116931,68.4743468116931,68.4743468116931,68.4743468116931,68.4743468116931,68.4743468116931,68.4743468116931,68.4743468116931,68.4743468116931,68.4743468116931,68.4743468116931,68.4743468116931,68.4743468116931,68.4743468116931,68.4743468116931,68.4743468116931,68.4743468116931,68.4743468116931,68.4743468116931,68.4743468116931,68.4743468116931,68.4743468116931,68.4743468116931,68.4743468116931,68.4743468116931,68.4743468116931,68.4743468116931,68.4743468116931,68.6628144739021,68.6628144739021,68.6628144739021,68.6628144739021,68.6628144739021,68.6628144739021,68.6628144739021,68.6628144739021,68.6628144739021,68.7382015387857,68.7382015387857,68.7382015387857,68.7382015387857,68.85128213611111,68.85128213611111,68.85128213611111,68.85128213611111,68.85128213611111,68.85128213611111,68.85128213611111,68.85128213611111,68.85128213611111,68.85128213611111,68.85128213611111,68.85128213611111,68.85128213611111,68.85128213611111,68.85128213611111,68.85128213611111,68.85128213611111,68.85128213611111,68.85128213611111,68.85128213611111,68.85128213611111,68.85128213611111,68.85128213611111,68.85128213611111,68.85128213611111,68.85128213611111,68.85128213611111,68.85128213611111,68.85128213611111,68.85128213611111,68.85128213611111,68.85128213611111,68.85128213611111,68.85128213611111,68.85128213611111,68.85128213611111,68.85128213611111,68.85128213611111,68.85128213611111,68.85128213611111,68.85128213611111,68.85128213611111,68.85128213611111,68.85128213611111,68.85128213611111,68.85128213611111,68.85128213611111,68.85128213611111,68.85128213611111,68.85128213611111,68.85128213611111,68.85128213611111,68.85128213611111,68.85128213611111,68.85128213611111,68.85128213611111,68.85128213611111,68.85128213611111,69.0397497983201,69.0397497983201,69.0397497983201,69.0397497983201,69.0397497983201,69.0397497983201,69.0397497983201,69.0397497983201,69.0397497983201,69.0397497983201,69.0397497983201,69.0397497983201,69.0397497983201,69.0397497983201,69.0397497983201,69.0397497983201,69.0397497983201,69.0397497983201,69.0397497983201,69.0397497983201,69.0397497983201,69.0397497983201,69.0397497983201,69.1151368632037,69.1151368632037,69.1151368632037,69.2282174605291,69.2282174605291,69.2282174605291,69.2282174605291,69.2282174605291,69.2282174605291,69.2282174605291,69.2282174605291,69.2282174605291,69.2282174605291,69.2282174605291,69.2282174605291,69.2282174605291,69.2282174605291,69.2282174605291,69.2282174605291,69.2282174605291,69.2282174605291,69.2282174605291,69.2282174605291,69.2282174605291,69.2282174605291,69.2282174605291,69.2282174605291,69.2282174605291,69.2282174605291,69.2282174605291,69.2282174605291,69.2282174605291,69.2282174605291,69.2282174605291,69.2282174605291,69.2282174605291,69.2282174605291,69.2282174605291,69.2282174605291,69.2282174605291,69.2282174605291,69.2282174605291,69.2282174605291,69.2282174605291,69.2282174605291,69.2282174605291,69.2282174605291,69.2282174605291,69.2282174605291,69.2282174605291,69.2282174605291,69.2282174605291,69.2282174605291,69.2282174605291,69.2282174605291,69.2282174605291,69.30360452541271,69.30360452541271,69.4166851227381,69.4166851227381,69.4166851227381,69.4166851227381,69.4166851227381,69.4166851227381,69.4166851227381,69.4166851227381,69.4166851227381,69.4166851227381,69.4166851227381,69.4166851227381,69.4166851227381,69.4920721876217,69.4920721876217,69.4920721876217,69.60515278494711,69.60515278494711,69.60515278494711,69.60515278494711,69.60515278494711,69.60515278494711,69.60515278494711,69.60515278494711,69.60515278494711,69.60515278494711,69.60515278494711,69.60515278494711,69.60515278494711,69.60515278494711,69.60515278494711,69.60515278494711,69.60515278494711,69.60515278494711,69.60515278494711,69.60515278494711,69.60515278494711,69.60515278494711,69.60515278494711,69.60515278494711,69.60515278494711,69.60515278494711,69.60515278494711,69.60515278494711,69.60515278494711,69.60515278494711,69.60515278494711,69.60515278494711,69.60515278494711,69.60515278494711,69.60515278494711,69.60515278494711,69.60515278494711,69.60515278494711,69.60515278494711,69.60515278494711,69.60515278494711,69.60515278494711,69.60515278494711,69.60515278494711,69.60515278494711,69.60515278494711,69.60515278494711,69.60515278494711,69.60515278494711,69.60515278494711,69.60515278494711,69.60515278494711,69.60515278494711,69.60515278494711,69.60515278494711,69.60515278494711,69.60515278494711,69.60515278494711,69.60515278494711,69.7936204471561,69.7936204471561,69.7936204471561,69.7936204471561,69.7936204471561,69.7936204471561,69.7936204471561,69.7936204471561,69.7936204471561,69.7936204471561,69.7936204471561,69.7936204471561,69.7936204471561,69.7936204471561,69.7936204471561,69.7936204471561,69.7936204471561,69.7936204471561,69.7936204471561,69.9820881093651,69.9820881093651,69.9820881093651,69.9820881093651,69.9820881093651,69.9820881093651,69.9820881093651,69.9820881093651,69.9820881093651,69.9820881093651,69.9820881093651,69.9820881093651,69.9820881093651,69.9820881093651,69.9820881093651,69.9820881093651,69.9820881093651,69.9820881093651,69.9820881093651,69.9820881093651,69.9820881093651,69.9820881093651,69.9820881093651,69.9820881093651,69.9820881093651,69.9820881093651,69.9820881093651,69.9820881093651,69.9820881093651,69.9820881093651,69.9820881093651,69.9820881093651,69.9820881093651,70.05747517424871,70.05747517424871,70.05747517424871,70.1705557715741,70.1705557715741,70.1705557715741,70.1705557715741,70.1705557715741,70.1705557715741,70.1705557715741,70.1705557715741,70.1705557715741,70.1705557715741,70.1705557715741,70.1705557715741,70.1705557715741,70.1705557715741,70.1705557715741,70.1705557715741,70.1705557715741,70.1705557715741,70.1705557715741,70.1705557715741,70.1705557715741,70.1705557715741,70.1705557715741,70.1705557715741,70.1705557715741,70.2459428364577,70.2459428364577,70.2459428364577,70.2459428364577,70.2459428364577,70.2459428364577,70.35902343378311,70.35902343378311,70.35902343378311,70.35902343378311,70.35902343378311,70.35902343378311,70.35902343378311,70.35902343378311,70.35902343378311,70.35902343378311,70.35902343378311,70.35902343378311,70.35902343378311,70.35902343378311,70.35902343378311,70.35902343378311,70.35902343378311,70.35902343378311,70.35902343378311,70.35902343378311,70.35902343378311,70.35902343378311,70.35902343378311,70.73595875820111,70.73595875820111,70.73595875820111,70.73595875820111,70.73595875820111,70.73595875820111,70.9244264204101,70.9244264204101,70.9244264204101,71.1128940826191,71.1128940826191,71.1128940826191,71.1128940826191,71.1128940826191,71.1128940826191,71.1128940826191,71.1128940826191,71.1128940826191,71.1128940826191,71.1128940826191,71.1128940826191,71.6782970692461],\"yaxis\":\"y\",\"type\":\"scatter\",\"line\":{\"color\":\"red\"}}],                        {\"template\":{\"data\":{\"histogram2dcontour\":[{\"type\":\"histogram2dcontour\",\"colorbar\":{\"outlinewidth\":0,\"ticks\":\"\"},\"colorscale\":[[0.0,\"#0d0887\"],[0.1111111111111111,\"#46039f\"],[0.2222222222222222,\"#7201a8\"],[0.3333333333333333,\"#9c179e\"],[0.4444444444444444,\"#bd3786\"],[0.5555555555555556,\"#d8576b\"],[0.6666666666666666,\"#ed7953\"],[0.7777777777777778,\"#fb9f3a\"],[0.8888888888888888,\"#fdca26\"],[1.0,\"#f0f921\"]]}],\"choropleth\":[{\"type\":\"choropleth\",\"colorbar\":{\"outlinewidth\":0,\"ticks\":\"\"}}],\"histogram2d\":[{\"type\":\"histogram2d\",\"colorbar\":{\"outlinewidth\":0,\"ticks\":\"\"},\"colorscale\":[[0.0,\"#0d0887\"],[0.1111111111111111,\"#46039f\"],[0.2222222222222222,\"#7201a8\"],[0.3333333333333333,\"#9c179e\"],[0.4444444444444444,\"#bd3786\"],[0.5555555555555556,\"#d8576b\"],[0.6666666666666666,\"#ed7953\"],[0.7777777777777778,\"#fb9f3a\"],[0.8888888888888888,\"#fdca26\"],[1.0,\"#f0f921\"]]}],\"heatmap\":[{\"type\":\"heatmap\",\"colorbar\":{\"outlinewidth\":0,\"ticks\":\"\"},\"colorscale\":[[0.0,\"#0d0887\"],[0.1111111111111111,\"#46039f\"],[0.2222222222222222,\"#7201a8\"],[0.3333333333333333,\"#9c179e\"],[0.4444444444444444,\"#bd3786\"],[0.5555555555555556,\"#d8576b\"],[0.6666666666666666,\"#ed7953\"],[0.7777777777777778,\"#fb9f3a\"],[0.8888888888888888,\"#fdca26\"],[1.0,\"#f0f921\"]]}],\"heatmapgl\":[{\"type\":\"heatmapgl\",\"colorbar\":{\"outlinewidth\":0,\"ticks\":\"\"},\"colorscale\":[[0.0,\"#0d0887\"],[0.1111111111111111,\"#46039f\"],[0.2222222222222222,\"#7201a8\"],[0.3333333333333333,\"#9c179e\"],[0.4444444444444444,\"#bd3786\"],[0.5555555555555556,\"#d8576b\"],[0.6666666666666666,\"#ed7953\"],[0.7777777777777778,\"#fb9f3a\"],[0.8888888888888888,\"#fdca26\"],[1.0,\"#f0f921\"]]}],\"contourcarpet\":[{\"type\":\"contourcarpet\",\"colorbar\":{\"outlinewidth\":0,\"ticks\":\"\"}}],\"contour\":[{\"type\":\"contour\",\"colorbar\":{\"outlinewidth\":0,\"ticks\":\"\"},\"colorscale\":[[0.0,\"#0d0887\"],[0.1111111111111111,\"#46039f\"],[0.2222222222222222,\"#7201a8\"],[0.3333333333333333,\"#9c179e\"],[0.4444444444444444,\"#bd3786\"],[0.5555555555555556,\"#d8576b\"],[0.6666666666666666,\"#ed7953\"],[0.7777777777777778,\"#fb9f3a\"],[0.8888888888888888,\"#fdca26\"],[1.0,\"#f0f921\"]]}],\"surface\":[{\"type\":\"surface\",\"colorbar\":{\"outlinewidth\":0,\"ticks\":\"\"},\"colorscale\":[[0.0,\"#0d0887\"],[0.1111111111111111,\"#46039f\"],[0.2222222222222222,\"#7201a8\"],[0.3333333333333333,\"#9c179e\"],[0.4444444444444444,\"#bd3786\"],[0.5555555555555556,\"#d8576b\"],[0.6666666666666666,\"#ed7953\"],[0.7777777777777778,\"#fb9f3a\"],[0.8888888888888888,\"#fdca26\"],[1.0,\"#f0f921\"]]}],\"mesh3d\":[{\"type\":\"mesh3d\",\"colorbar\":{\"outlinewidth\":0,\"ticks\":\"\"}}],\"scatter\":[{\"fillpattern\":{\"fillmode\":\"overlay\",\"size\":10,\"solidity\":0.2},\"type\":\"scatter\"}],\"parcoords\":[{\"type\":\"parcoords\",\"line\":{\"colorbar\":{\"outlinewidth\":0,\"ticks\":\"\"}}}],\"scatterpolargl\":[{\"type\":\"scatterpolargl\",\"marker\":{\"colorbar\":{\"outlinewidth\":0,\"ticks\":\"\"}}}],\"bar\":[{\"error_x\":{\"color\":\"#2a3f5f\"},\"error_y\":{\"color\":\"#2a3f5f\"},\"marker\":{\"line\":{\"color\":\"#E5ECF6\",\"width\":0.5},\"pattern\":{\"fillmode\":\"overlay\",\"size\":10,\"solidity\":0.2}},\"type\":\"bar\"}],\"scattergeo\":[{\"type\":\"scattergeo\",\"marker\":{\"colorbar\":{\"outlinewidth\":0,\"ticks\":\"\"}}}],\"scatterpolar\":[{\"type\":\"scatterpolar\",\"marker\":{\"colorbar\":{\"outlinewidth\":0,\"ticks\":\"\"}}}],\"histogram\":[{\"marker\":{\"pattern\":{\"fillmode\":\"overlay\",\"size\":10,\"solidity\":0.2}},\"type\":\"histogram\"}],\"scattergl\":[{\"type\":\"scattergl\",\"marker\":{\"colorbar\":{\"outlinewidth\":0,\"ticks\":\"\"}}}],\"scatter3d\":[{\"type\":\"scatter3d\",\"line\":{\"colorbar\":{\"outlinewidth\":0,\"ticks\":\"\"}},\"marker\":{\"colorbar\":{\"outlinewidth\":0,\"ticks\":\"\"}}}],\"scattermapbox\":[{\"type\":\"scattermapbox\",\"marker\":{\"colorbar\":{\"outlinewidth\":0,\"ticks\":\"\"}}}],\"scatterternary\":[{\"type\":\"scatterternary\",\"marker\":{\"colorbar\":{\"outlinewidth\":0,\"ticks\":\"\"}}}],\"scattercarpet\":[{\"type\":\"scattercarpet\",\"marker\":{\"colorbar\":{\"outlinewidth\":0,\"ticks\":\"\"}}}],\"carpet\":[{\"aaxis\":{\"endlinecolor\":\"#2a3f5f\",\"gridcolor\":\"white\",\"linecolor\":\"white\",\"minorgridcolor\":\"white\",\"startlinecolor\":\"#2a3f5f\"},\"baxis\":{\"endlinecolor\":\"#2a3f5f\",\"gridcolor\":\"white\",\"linecolor\":\"white\",\"minorgridcolor\":\"white\",\"startlinecolor\":\"#2a3f5f\"},\"type\":\"carpet\"}],\"table\":[{\"cells\":{\"fill\":{\"color\":\"#EBF0F8\"},\"line\":{\"color\":\"white\"}},\"header\":{\"fill\":{\"color\":\"#C8D4E3\"},\"line\":{\"color\":\"white\"}},\"type\":\"table\"}],\"barpolar\":[{\"marker\":{\"line\":{\"color\":\"#E5ECF6\",\"width\":0.5},\"pattern\":{\"fillmode\":\"overlay\",\"size\":10,\"solidity\":0.2}},\"type\":\"barpolar\"}],\"pie\":[{\"automargin\":true,\"type\":\"pie\"}]},\"layout\":{\"autotypenumbers\":\"strict\",\"colorway\":[\"#636efa\",\"#EF553B\",\"#00cc96\",\"#ab63fa\",\"#FFA15A\",\"#19d3f3\",\"#FF6692\",\"#B6E880\",\"#FF97FF\",\"#FECB52\"],\"font\":{\"color\":\"#2a3f5f\"},\"hovermode\":\"closest\",\"hoverlabel\":{\"align\":\"left\"},\"paper_bgcolor\":\"white\",\"plot_bgcolor\":\"#E5ECF6\",\"polar\":{\"bgcolor\":\"#E5ECF6\",\"angularaxis\":{\"gridcolor\":\"white\",\"linecolor\":\"white\",\"ticks\":\"\"},\"radialaxis\":{\"gridcolor\":\"white\",\"linecolor\":\"white\",\"ticks\":\"\"}},\"ternary\":{\"bgcolor\":\"#E5ECF6\",\"aaxis\":{\"gridcolor\":\"white\",\"linecolor\":\"white\",\"ticks\":\"\"},\"baxis\":{\"gridcolor\":\"white\",\"linecolor\":\"white\",\"ticks\":\"\"},\"caxis\":{\"gridcolor\":\"white\",\"linecolor\":\"white\",\"ticks\":\"\"}},\"coloraxis\":{\"colorbar\":{\"outlinewidth\":0,\"ticks\":\"\"}},\"colorscale\":{\"sequential\":[[0.0,\"#0d0887\"],[0.1111111111111111,\"#46039f\"],[0.2222222222222222,\"#7201a8\"],[0.3333333333333333,\"#9c179e\"],[0.4444444444444444,\"#bd3786\"],[0.5555555555555556,\"#d8576b\"],[0.6666666666666666,\"#ed7953\"],[0.7777777777777778,\"#fb9f3a\"],[0.8888888888888888,\"#fdca26\"],[1.0,\"#f0f921\"]],\"sequentialminus\":[[0.0,\"#0d0887\"],[0.1111111111111111,\"#46039f\"],[0.2222222222222222,\"#7201a8\"],[0.3333333333333333,\"#9c179e\"],[0.4444444444444444,\"#bd3786\"],[0.5555555555555556,\"#d8576b\"],[0.6666666666666666,\"#ed7953\"],[0.7777777777777778,\"#fb9f3a\"],[0.8888888888888888,\"#fdca26\"],[1.0,\"#f0f921\"]],\"diverging\":[[0,\"#8e0152\"],[0.1,\"#c51b7d\"],[0.2,\"#de77ae\"],[0.3,\"#f1b6da\"],[0.4,\"#fde0ef\"],[0.5,\"#f7f7f7\"],[0.6,\"#e6f5d0\"],[0.7,\"#b8e186\"],[0.8,\"#7fbc41\"],[0.9,\"#4d9221\"],[1,\"#276419\"]]},\"xaxis\":{\"gridcolor\":\"white\",\"linecolor\":\"white\",\"ticks\":\"\",\"title\":{\"standoff\":15},\"zerolinecolor\":\"white\",\"automargin\":true,\"zerolinewidth\":2},\"yaxis\":{\"gridcolor\":\"white\",\"linecolor\":\"white\",\"ticks\":\"\",\"title\":{\"standoff\":15},\"zerolinecolor\":\"white\",\"automargin\":true,\"zerolinewidth\":2},\"scene\":{\"xaxis\":{\"backgroundcolor\":\"#E5ECF6\",\"gridcolor\":\"white\",\"linecolor\":\"white\",\"showbackground\":true,\"ticks\":\"\",\"zerolinecolor\":\"white\",\"gridwidth\":2},\"yaxis\":{\"backgroundcolor\":\"#E5ECF6\",\"gridcolor\":\"white\",\"linecolor\":\"white\",\"showbackground\":true,\"ticks\":\"\",\"zerolinecolor\":\"white\",\"gridwidth\":2},\"zaxis\":{\"backgroundcolor\":\"#E5ECF6\",\"gridcolor\":\"white\",\"linecolor\":\"white\",\"showbackground\":true,\"ticks\":\"\",\"zerolinecolor\":\"white\",\"gridwidth\":2}},\"shapedefaults\":{\"line\":{\"color\":\"#2a3f5f\"}},\"annotationdefaults\":{\"arrowcolor\":\"#2a3f5f\",\"arrowhead\":0,\"arrowwidth\":1},\"geo\":{\"bgcolor\":\"white\",\"landcolor\":\"#E5ECF6\",\"subunitcolor\":\"white\",\"showland\":true,\"showlakes\":true,\"lakecolor\":\"white\"},\"title\":{\"x\":0.05},\"mapbox\":{\"style\":\"light\"}}},\"xaxis\":{\"anchor\":\"y\",\"domain\":[0.0,1.0],\"title\":{\"text\":\"mother\"}},\"yaxis\":{\"anchor\":\"x\",\"domain\":[0.0,1.0],\"title\":{\"text\":\"height\"}},\"legend\":{\"tracegroupgap\":0,\"itemsizing\":\"constant\"},\"margin\":{\"t\":60}},                        {\"responsive\": true}                    ).then(function(){\n",
              "                            \n",
              "var gd = document.getElementById('e3bd3121-dd04-44bb-8d28-d9fdf9a699b8');\n",
              "var x = new MutationObserver(function (mutations, observer) {{\n",
              "        var display = window.getComputedStyle(gd).display;\n",
              "        if (!display || display === 'none') {{\n",
              "            console.log([gd, 'removed!']);\n",
              "            Plotly.purge(gd);\n",
              "            observer.disconnect();\n",
              "        }}\n",
              "}});\n",
              "\n",
              "// Listen for the removal of the full notebook cells\n",
              "var notebookContainer = gd.closest('#notebook-container');\n",
              "if (notebookContainer) {{\n",
              "    x.observe(notebookContainer, {childList: true});\n",
              "}}\n",
              "\n",
              "// Listen for the clearing of the current output cell\n",
              "var outputEl = gd.closest('.output');\n",
              "if (outputEl) {{\n",
              "    x.observe(outputEl, {childList: true});\n",
              "}}\n",
              "\n",
              "                        })                };                            </script>        </div>\n",
              "</body>\n",
              "</html>"
            ]
          },
          "metadata": {}
        }
      ]
    },
    {
      "cell_type": "markdown",
      "source": [
        "# distribution od daughter's height relative to mother's height"
      ],
      "metadata": {
        "id": "_tYVM-PjV_TH"
      }
    },
    {
      "cell_type": "code",
      "source": [
        "# prompt: distribution od daughter's height relative to mother's height\n",
        "\n",
        "figure = px.scatter(data_frame = df[df['gender'] == 0], x=\"mother\", y=\"height\", size =\"kids\", color_discrete_sequence=[\"blue\"], trendline=\"ols\")\n",
        "# Manually change the trendline color\n",
        "for trace in figure.data:\n",
        "    if trace.mode == 'lines':  # This is the trendline trace\n",
        "        trace.line.color = 'red'  # Change this to the color you prefer\n",
        "figure.show()\n"
      ],
      "metadata": {
        "colab": {
          "base_uri": "https://localhost:8080/",
          "height": 542
        },
        "id": "cP40zfXTVZHz",
        "outputId": "f1da82d2-0fa0-4e0a-acd7-4345df09f19f"
      },
      "execution_count": 14,
      "outputs": [
        {
          "output_type": "display_data",
          "data": {
            "text/html": [
              "<html>\n",
              "<head><meta charset=\"utf-8\" /></head>\n",
              "<body>\n",
              "    <div>            <script src=\"https://cdnjs.cloudflare.com/ajax/libs/mathjax/2.7.5/MathJax.js?config=TeX-AMS-MML_SVG\"></script><script type=\"text/javascript\">if (window.MathJax && window.MathJax.Hub && window.MathJax.Hub.Config) {window.MathJax.Hub.Config({SVG: {font: \"STIX-Web\"}});}</script>                <script type=\"text/javascript\">window.PlotlyConfig = {MathJaxConfig: 'local'};</script>\n",
              "        <script charset=\"utf-8\" src=\"https://cdn.plot.ly/plotly-2.35.2.min.js\"></script>                <div id=\"e675ac55-47f4-4a58-addd-105722ea69d8\" class=\"plotly-graph-div\" style=\"height:525px; width:100%;\"></div>            <script type=\"text/javascript\">                                    window.PLOTLYENV=window.PLOTLYENV || {};                                    if (document.getElementById(\"e675ac55-47f4-4a58-addd-105722ea69d8\")) {                    Plotly.newPlot(                        \"e675ac55-47f4-4a58-addd-105722ea69d8\",                        [{\"hovertemplate\":\"mother=%{x}\\u003cbr\\u003eheight=%{y}\\u003cbr\\u003ekids=%{marker.size}\\u003cextra\\u003e\\u003c\\u002fextra\\u003e\",\"legendgroup\":\"\",\"marker\":{\"color\":\"blue\",\"size\":[4,4,4,4,4,2,5,5,5,6,6,6,1,6,6,3,3,3,1,1,8,8,8,8,8,8,1,3,9,9,9,9,6,6,3,3,3,1,8,8,8,8,8,3,3,3,7,7,7,7,1,2,2,5,5,3,6,6,6,6,3,3,3,1,6,6,6,5,5,5,1,5,4,4,4,4,6,6,6,2,5,6,6,2,3,8,8,8,8,8,8,8,8,4,7,7,7,7,2,2,5,5,5,9,9,9,9,9,4,5,5,5,5,5,5,5,5,5,7,7,1,4,6,6,6,6,5,5,5,1,11,11,11,11,11,11,11,5,5,5,5,5,8,8,8,5,5,5,6,6,6,6,7,7,7,7,3,7,7,7,7,7,4,5,5,5,8,8,1,4,4,4,9,9,9,8,8,8,8,8,5,5,4,4,4,4,4,4,8,8,8,7,7,7,3,4,4,2,2,3,5,5,5,10,10,10,10,10,10,10,1,8,8,8,8,6,6,6,5,4,4,6,6,6,6,6,7,7,7,9,9,9,9,9,7,7,7,7,7,7,7,7,4,4,3,3,6,6,7,7,7,7,3,3,1,5,8,8,8,8,4,4,5,5,9,9,9,3,3,4,4,2,3,11,2,7,7,7,4,4,8,8,8,8,10,10,10,10,10,10,4,4,5,1,10,10,10,10,10,10,10,8,8,8,4,4,4,8,8,8,6,6,6,5,2,5,5,7,7,7,7,7,7,4,10,10,10,10,5,5,6,6,6,6,5,5,5,4,4,3,3,11,11,11,11,11,11,11,11,11,8,3,5,8,8,8,9,9,9,9,9,9,5,5,5,6,6,6,6,8,8,8,8,5,5,2,2,6,6,6,7,7,7,7,7,4,15,15,15,15,15,15,15,15,4,1,4,4,4,9,9,9,9,9,9,2,6,6,6,6,6,6,2,3,4,5,7,7,7,7,7,7,7,7,7,7,2,3,3,2],\"sizemode\":\"area\",\"sizeref\":0.0375,\"symbol\":\"circle\"},\"mode\":\"markers\",\"name\":\"\",\"orientation\":\"v\",\"showlegend\":false,\"x\":[67.0,67.0,67.0,66.5,66.5,64.0,64.0,64.0,64.0,58.5,58.5,58.5,68.0,68.0,68.0,66.5,66.5,66.5,66.0,65.5,62.0,62.0,62.0,62.0,62.0,62.0,61.0,66.5,65.0,65.0,65.0,65.0,64.5,64.5,64.0,64.0,64.0,63.0,69.0,69.0,69.0,69.0,69.0,68.0,68.0,67.0,65.0,65.0,65.0,65.0,65.5,64.0,64.0,63.0,63.0,63.0,63.0,63.0,63.0,63.0,63.5,63.5,63.5,62.0,62.0,62.0,62.0,62.0,62.0,62.0,61.0,69.0,67.0,66.0,66.0,66.0,66.0,66.0,66.0,66.0,66.0,65.5,65.5,65.5,65.0,64.0,64.0,64.0,64.0,64.0,64.0,64.0,64.0,64.5,64.5,64.5,64.5,64.5,63.0,63.0,63.5,63.5,63.5,63.0,63.0,63.0,63.0,63.0,63.0,62.0,62.0,62.0,62.0,62.0,62.5,62.5,62.5,62.5,62.0,62.0,61.0,69.0,69.0,69.0,69.0,69.0,67.0,67.0,67.0,67.0,66.5,66.5,66.5,66.5,66.5,66.5,66.5,65.0,65.0,65.0,65.0,65.0,65.0,65.0,65.0,65.0,65.0,65.0,65.0,65.0,65.0,65.0,65.0,65.0,65.0,65.0,65.0,64.7,64.7,64.7,64.7,64.0,64.0,64.2,64.2,64.2,64.0,64.0,64.5,64.0,64.0,64.0,64.0,64.0,64.0,63.7,63.7,63.7,63.7,63.7,63.0,63.0,63.5,63.5,63.0,63.0,63.0,63.0,62.0,62.0,62.0,62.7,62.7,62.7,62.0,60.0,60.0,60.0,60.0,58.5,58.0,58.0,58.0,68.5,68.5,68.5,68.5,68.5,68.5,68.5,67.0,66.0,66.0,66.0,66.0,66.0,66.0,66.0,66.5,66.5,66.5,66.5,66.5,66.5,66.5,66.5,66.0,66.0,66.0,66.0,66.0,66.0,66.0,66.0,65.0,65.0,65.0,65.0,64.5,64.5,64.5,64.5,64.0,64.0,63.0,63.0,63.0,63.0,63.5,63.5,63.5,63.5,63.5,63.5,62.0,62.0,62.5,62.5,62.5,62.5,62.0,62.0,61.0,61.0,61.0,61.0,61.0,60.0,60.0,60.0,60.0,70.5,67.0,66.5,65.5,65.5,65.5,65.5,65.0,65.0,65.0,65.0,65.0,65.0,64.0,64.0,64.0,64.0,64.0,64.0,64.0,64.0,64.0,64.5,64.0,64.0,64.0,64.0,64.0,64.0,64.0,63.0,63.0,63.0,63.5,63.0,63.0,63.0,63.0,63.0,63.0,63.0,63.0,63.5,62.0,61.0,61.0,60.0,60.0,60.0,60.0,60.0,60.0,60.0,59.0,59.0,59.0,59.0,66.2,66.2,65.0,65.0,65.0,65.0,65.5,65.5,65.5,65.5,65.5,65.0,65.0,65.0,65.0,65.0,65.0,65.0,65.0,65.0,65.0,65.0,63.5,63.0,62.0,67.0,67.0,67.0,67.0,67.0,67.0,67.0,67.0,67.0,66.0,66.0,66.0,66.0,66.0,66.0,66.0,65.0,65.0,65.0,65.0,65.5,65.5,63.5,63.5,63.0,63.0,63.0,62.5,62.5,62.5,62.5,62.5,60.0,59.0,59.0,59.0,59.0,59.0,59.0,59.0,59.0,67.0,67.0,66.0,66.0,66.0,65.0,65.0,65.0,65.0,65.0,65.0,65.5,65.0,65.0,64.0,64.0,64.0,64.0,63.0,63.0,63.0,60.0,64.0,64.0,64.0,64.0,64.0,64.0,64.0,64.0,64.0,64.0,60.0,66.0,66.0,63.0],\"xaxis\":\"x\",\"y\":[69.2,69.0,69.0,65.5,65.5,68.0,67.0,64.5,63.0,66.5,62.5,62.5,69.5,70.5,64.0,70.5,68.0,66.0,66.0,65.5,68.0,67.0,67.0,66.0,63.5,63.0,65.0,66.7,68.7,66.5,64.5,63.5,66.5,62.3,66.0,64.5,64.0,62.7,70.0,69.0,68.5,68.0,66.0,68.5,68.0,67.0,66.0,65.5,65.0,65.0,65.5,66.0,63.0,65.0,63.0,63.0,70.5,70.0,66.5,63.0,67.5,67.2,66.7,64.0,66.0,65.0,65.0,67.5,63.5,68.0,65.7,67.0,67.0,67.0,67.0,66.5,66.0,64.5,63.0,67.0,66.0,66.0,65.0,65.2,62.0,68.0,68.0,67.5,66.5,66.5,66.0,65.5,65.0,67.0,66.0,64.5,64.5,62.0,67.5,64.5,66.0,65.0,63.5,65.0,65.0,64.0,63.0,63.0,63.5,64.5,62.5,61.5,64.5,60.0,64.0,64.0,64.0,62.5,64.5,64.0,62.0,69.0,68.0,66.0,64.0,62.0,66.0,64.0,60.0,67.5,69.2,67.2,66.5,66.0,66.0,64.2,63.7,68.0,65.0,61.5,61.0,61.0,64.5,63.0,62.0,64.5,62.5,62.5,67.0,65.0,65.0,63.0,69.0,67.0,65.7,62.0,65.0,66.5,65.5,64.7,64.5,67.0,65.5,62.5,61.2,60.1,65.5,65.0,60.0,65.0,64.0,62.0,69.0,65.0,64.0,63.7,63.2,62.5,62.2,61.0,64.5,64.0,67.5,63.5,63.7,62.0,62.0,61.0,65.0,64.0,63.0,64.0,63.5,63.2,60.0,65.0,63.0,65.0,65.0,63.0,66.0,65.0,63.0,66.0,66.0,65.5,65.0,65.0,64.0,64.0,64.0,65.5,65.0,62.7,62.5,65.0,63.0,62.5,61.0,64.5,64.0,68.5,67.5,66.0,63.0,63.0,66.5,65.5,64.5,66.5,65.5,65.5,65.0,64.0,65.0,64.0,63.5,61.0,65.2,64.5,63.7,60.0,65.0,63.5,67.5,63.5,66.0,62.0,65.0,63.0,62.0,61.0,63.7,63.0,62.5,63.0,63.5,62.5,62.5,62.0,66.0,66.0,63.0,62.0,63.5,62.0,62.0,68.0,62.5,61.7,60.5,61.7,67.0,63.2,64.0,66.5,65.2,61.5,68.0,66.0,62.0,61.5,61.0,60.0,65.0,64.0,63.0,63.0,62.0,61.0,65.5,62.0,62.5,62.0,66.0,66.0,65.0,65.0,65.0,64.0,63.0,66.0,62.0,61.5,65.5,64.5,64.0,63.0,62.0,62.0,64.0,63.5,61.0,64.5,61.7,63.5,63.0,61.0,61.0,60.0,60.0,60.0,56.0,60.0,65.0,65.0,62.0,61.0,65.5,63.5,65.5,65.0,64.5,63.5,65.5,65.5,63.0,63.0,60.0,62.0,62.0,64.0,64.0,63.0,63.0,63.0,63.0,63.0,62.5,62.0,63.5,63.0,66.0,62.0,62.0,61.5,67.0,64.0,64.0,62.0,60.0,60.0,67.0,66.5,65.5,66.0,65.0,62.0,61.0,62.5,60.5,60.5,57.5,66.0,65.0,64.5,62.0,65.0,65.0,63.0,63.5,62.5,62.5,62.5,62.5,60.0,65.0,64.0,63.0,62.0,61.0,60.0,58.0,57.0,65.0,63.0,63.0,63.0,60.0,65.0,65.0,62.0,62.0,61.0,59.0,65.5,64.5,60.5,64.0,64.0,62.5,60.5,63.0,63.0,63.5,62.0,65.5,64.0,62.0,62.0,61.0,67.0,65.0,64.0,64.0,60.0,60.0,62.0,61.0,57.0],\"yaxis\":\"y\",\"type\":\"scatter\"},{\"hovertemplate\":\"\\u003cb\\u003eOLS trendline\\u003c\\u002fb\\u003e\\u003cbr\\u003eheight = 0.32754 * mother + 43.0982\\u003cbr\\u003eR\\u003csup\\u003e2\\u003c\\u002fsup\\u003e=0.098977\\u003cbr\\u003e\\u003cbr\\u003emother=%{x}\\u003cbr\\u003eheight=%{y} \\u003cb\\u003e(trend)\\u003c\\u002fb\\u003e\\u003cextra\\u003e\\u003c\\u002fextra\\u003e\",\"legendgroup\":\"\",\"marker\":{\"color\":\"blue\",\"symbol\":\"circle\"},\"mode\":\"lines\",\"name\":\"\",\"showlegend\":false,\"x\":[58.0,58.0,58.0,58.5,58.5,58.5,58.5,59.0,59.0,59.0,59.0,59.0,59.0,59.0,59.0,59.0,59.0,59.0,59.0,60.0,60.0,60.0,60.0,60.0,60.0,60.0,60.0,60.0,60.0,60.0,60.0,60.0,60.0,60.0,60.0,60.0,60.0,61.0,61.0,61.0,61.0,61.0,61.0,61.0,61.0,61.0,61.0,62.0,62.0,62.0,62.0,62.0,62.0,62.0,62.0,62.0,62.0,62.0,62.0,62.0,62.0,62.0,62.0,62.0,62.0,62.0,62.0,62.0,62.0,62.0,62.0,62.0,62.0,62.0,62.0,62.0,62.0,62.5,62.5,62.5,62.5,62.5,62.5,62.5,62.5,62.5,62.5,62.5,62.5,62.5,62.7,62.7,62.7,63.0,63.0,63.0,63.0,63.0,63.0,63.0,63.0,63.0,63.0,63.0,63.0,63.0,63.0,63.0,63.0,63.0,63.0,63.0,63.0,63.0,63.0,63.0,63.0,63.0,63.0,63.0,63.0,63.0,63.0,63.0,63.0,63.0,63.0,63.0,63.0,63.0,63.0,63.0,63.0,63.0,63.0,63.0,63.0,63.0,63.5,63.5,63.5,63.5,63.5,63.5,63.5,63.5,63.5,63.5,63.5,63.5,63.5,63.5,63.5,63.5,63.5,63.5,63.5,63.7,63.7,63.7,63.7,63.7,64.0,64.0,64.0,64.0,64.0,64.0,64.0,64.0,64.0,64.0,64.0,64.0,64.0,64.0,64.0,64.0,64.0,64.0,64.0,64.0,64.0,64.0,64.0,64.0,64.0,64.0,64.0,64.0,64.0,64.0,64.0,64.0,64.0,64.0,64.0,64.0,64.0,64.0,64.0,64.0,64.0,64.0,64.0,64.0,64.0,64.0,64.0,64.0,64.0,64.0,64.0,64.0,64.0,64.0,64.0,64.0,64.0,64.0,64.0,64.2,64.2,64.2,64.5,64.5,64.5,64.5,64.5,64.5,64.5,64.5,64.5,64.5,64.5,64.5,64.5,64.7,64.7,64.7,64.7,65.0,65.0,65.0,65.0,65.0,65.0,65.0,65.0,65.0,65.0,65.0,65.0,65.0,65.0,65.0,65.0,65.0,65.0,65.0,65.0,65.0,65.0,65.0,65.0,65.0,65.0,65.0,65.0,65.0,65.0,65.0,65.0,65.0,65.0,65.0,65.0,65.0,65.0,65.0,65.0,65.0,65.0,65.0,65.0,65.0,65.0,65.0,65.0,65.0,65.0,65.0,65.0,65.0,65.0,65.0,65.0,65.0,65.0,65.0,65.0,65.0,65.0,65.0,65.0,65.0,65.0,65.5,65.5,65.5,65.5,65.5,65.5,65.5,65.5,65.5,65.5,65.5,65.5,65.5,65.5,65.5,65.5,65.5,66.0,66.0,66.0,66.0,66.0,66.0,66.0,66.0,66.0,66.0,66.0,66.0,66.0,66.0,66.0,66.0,66.0,66.0,66.0,66.0,66.0,66.0,66.0,66.0,66.0,66.0,66.0,66.0,66.0,66.0,66.0,66.0,66.0,66.0,66.0,66.0,66.2,66.2,66.5,66.5,66.5,66.5,66.5,66.5,66.5,66.5,66.5,66.5,66.5,66.5,66.5,66.5,66.5,66.5,66.5,66.5,66.5,66.5,66.5,66.5,67.0,67.0,67.0,67.0,67.0,67.0,67.0,67.0,67.0,67.0,67.0,67.0,67.0,67.0,67.0,67.0,67.0,67.0,67.0,67.0,67.0,67.0,68.0,68.0,68.0,68.0,68.0,68.5,68.5,68.5,68.5,68.5,68.5,68.5,69.0,69.0,69.0,69.0,69.0,69.0,69.0,69.0,69.0,69.0,69.0,70.5],\"xaxis\":\"x\",\"y\":[62.095550779817785,62.095550779817785,62.095550779817785,62.259320996516784,62.259320996516784,62.259320996516784,62.259320996516784,62.423091213215784,62.423091213215784,62.423091213215784,62.423091213215784,62.423091213215784,62.423091213215784,62.423091213215784,62.423091213215784,62.423091213215784,62.423091213215784,62.423091213215784,62.423091213215784,62.75063164661378,62.75063164661378,62.75063164661378,62.75063164661378,62.75063164661378,62.75063164661378,62.75063164661378,62.75063164661378,62.75063164661378,62.75063164661378,62.75063164661378,62.75063164661378,62.75063164661378,62.75063164661378,62.75063164661378,62.75063164661378,62.75063164661378,62.75063164661378,63.078172080011775,63.078172080011775,63.078172080011775,63.078172080011775,63.078172080011775,63.078172080011775,63.078172080011775,63.078172080011775,63.078172080011775,63.078172080011775,63.40571251340977,63.40571251340977,63.40571251340977,63.40571251340977,63.40571251340977,63.40571251340977,63.40571251340977,63.40571251340977,63.40571251340977,63.40571251340977,63.40571251340977,63.40571251340977,63.40571251340977,63.40571251340977,63.40571251340977,63.40571251340977,63.40571251340977,63.40571251340977,63.40571251340977,63.40571251340977,63.40571251340977,63.40571251340977,63.40571251340977,63.40571251340977,63.40571251340977,63.40571251340977,63.40571251340977,63.40571251340977,63.40571251340977,63.40571251340977,63.56948273010877,63.56948273010877,63.56948273010877,63.56948273010877,63.56948273010877,63.56948273010877,63.56948273010877,63.56948273010877,63.56948273010877,63.56948273010877,63.56948273010877,63.56948273010877,63.56948273010877,63.63499081678837,63.63499081678837,63.63499081678837,63.73325294680777,63.73325294680777,63.73325294680777,63.73325294680777,63.73325294680777,63.73325294680777,63.73325294680777,63.73325294680777,63.73325294680777,63.73325294680777,63.73325294680777,63.73325294680777,63.73325294680777,63.73325294680777,63.73325294680777,63.73325294680777,63.73325294680777,63.73325294680777,63.73325294680777,63.73325294680777,63.73325294680777,63.73325294680777,63.73325294680777,63.73325294680777,63.73325294680777,63.73325294680777,63.73325294680777,63.73325294680777,63.73325294680777,63.73325294680777,63.73325294680777,63.73325294680777,63.73325294680777,63.73325294680777,63.73325294680777,63.73325294680777,63.73325294680777,63.73325294680777,63.73325294680777,63.73325294680777,63.73325294680777,63.73325294680777,63.73325294680777,63.73325294680777,63.73325294680777,63.89702316350676,63.89702316350676,63.89702316350676,63.89702316350676,63.89702316350676,63.89702316350676,63.89702316350676,63.89702316350676,63.89702316350676,63.89702316350676,63.89702316350676,63.89702316350676,63.89702316350676,63.89702316350676,63.89702316350676,63.89702316350676,63.89702316350676,63.89702316350676,63.89702316350676,63.962531250186366,63.962531250186366,63.962531250186366,63.962531250186366,63.962531250186366,64.06079338020577,64.06079338020577,64.06079338020577,64.06079338020577,64.06079338020577,64.06079338020577,64.06079338020577,64.06079338020577,64.06079338020577,64.06079338020577,64.06079338020577,64.06079338020577,64.06079338020577,64.06079338020577,64.06079338020577,64.06079338020577,64.06079338020577,64.06079338020577,64.06079338020577,64.06079338020577,64.06079338020577,64.06079338020577,64.06079338020577,64.06079338020577,64.06079338020577,64.06079338020577,64.06079338020577,64.06079338020577,64.06079338020577,64.06079338020577,64.06079338020577,64.06079338020577,64.06079338020577,64.06079338020577,64.06079338020577,64.06079338020577,64.06079338020577,64.06079338020577,64.06079338020577,64.06079338020577,64.06079338020577,64.06079338020577,64.06079338020577,64.06079338020577,64.06079338020577,64.06079338020577,64.06079338020577,64.06079338020577,64.06079338020577,64.06079338020577,64.06079338020577,64.06079338020577,64.06079338020577,64.06079338020577,64.06079338020577,64.06079338020577,64.06079338020577,64.06079338020577,64.06079338020577,64.12630146688537,64.12630146688537,64.12630146688537,64.22456359690476,64.22456359690476,64.22456359690476,64.22456359690476,64.22456359690476,64.22456359690476,64.22456359690476,64.22456359690476,64.22456359690476,64.22456359690476,64.22456359690476,64.22456359690476,64.22456359690476,64.29007168358436,64.29007168358436,64.29007168358436,64.29007168358436,64.38833381360377,64.38833381360377,64.38833381360377,64.38833381360377,64.38833381360377,64.38833381360377,64.38833381360377,64.38833381360377,64.38833381360377,64.38833381360377,64.38833381360377,64.38833381360377,64.38833381360377,64.38833381360377,64.38833381360377,64.38833381360377,64.38833381360377,64.38833381360377,64.38833381360377,64.38833381360377,64.38833381360377,64.38833381360377,64.38833381360377,64.38833381360377,64.38833381360377,64.38833381360377,64.38833381360377,64.38833381360377,64.38833381360377,64.38833381360377,64.38833381360377,64.38833381360377,64.38833381360377,64.38833381360377,64.38833381360377,64.38833381360377,64.38833381360377,64.38833381360377,64.38833381360377,64.38833381360377,64.38833381360377,64.38833381360377,64.38833381360377,64.38833381360377,64.38833381360377,64.38833381360377,64.38833381360377,64.38833381360377,64.38833381360377,64.38833381360377,64.38833381360377,64.38833381360377,64.38833381360377,64.38833381360377,64.38833381360377,64.38833381360377,64.38833381360377,64.38833381360377,64.38833381360377,64.38833381360377,64.38833381360377,64.38833381360377,64.38833381360377,64.38833381360377,64.38833381360377,64.38833381360377,64.55210403030276,64.55210403030276,64.55210403030276,64.55210403030276,64.55210403030276,64.55210403030276,64.55210403030276,64.55210403030276,64.55210403030276,64.55210403030276,64.55210403030276,64.55210403030276,64.55210403030276,64.55210403030276,64.55210403030276,64.55210403030276,64.55210403030276,64.71587424700175,64.71587424700175,64.71587424700175,64.71587424700175,64.71587424700175,64.71587424700175,64.71587424700175,64.71587424700175,64.71587424700175,64.71587424700175,64.71587424700175,64.71587424700175,64.71587424700175,64.71587424700175,64.71587424700175,64.71587424700175,64.71587424700175,64.71587424700175,64.71587424700175,64.71587424700175,64.71587424700175,64.71587424700175,64.71587424700175,64.71587424700175,64.71587424700175,64.71587424700175,64.71587424700175,64.71587424700175,64.71587424700175,64.71587424700175,64.71587424700175,64.71587424700175,64.71587424700175,64.71587424700175,64.71587424700175,64.71587424700175,64.78138233368135,64.78138233368135,64.87964446370076,64.87964446370076,64.87964446370076,64.87964446370076,64.87964446370076,64.87964446370076,64.87964446370076,64.87964446370076,64.87964446370076,64.87964446370076,64.87964446370076,64.87964446370076,64.87964446370076,64.87964446370076,64.87964446370076,64.87964446370076,64.87964446370076,64.87964446370076,64.87964446370076,64.87964446370076,64.87964446370076,64.87964446370076,65.04341468039975,65.04341468039975,65.04341468039975,65.04341468039975,65.04341468039975,65.04341468039975,65.04341468039975,65.04341468039975,65.04341468039975,65.04341468039975,65.04341468039975,65.04341468039975,65.04341468039975,65.04341468039975,65.04341468039975,65.04341468039975,65.04341468039975,65.04341468039975,65.04341468039975,65.04341468039975,65.04341468039975,65.04341468039975,65.37095511379775,65.37095511379775,65.37095511379775,65.37095511379775,65.37095511379775,65.53472533049674,65.53472533049674,65.53472533049674,65.53472533049674,65.53472533049674,65.53472533049674,65.53472533049674,65.69849554719575,65.69849554719575,65.69849554719575,65.69849554719575,65.69849554719575,65.69849554719575,65.69849554719575,65.69849554719575,65.69849554719575,65.69849554719575,65.69849554719575,66.18980619729274],\"yaxis\":\"y\",\"type\":\"scatter\",\"line\":{\"color\":\"red\"}}],                        {\"template\":{\"data\":{\"histogram2dcontour\":[{\"type\":\"histogram2dcontour\",\"colorbar\":{\"outlinewidth\":0,\"ticks\":\"\"},\"colorscale\":[[0.0,\"#0d0887\"],[0.1111111111111111,\"#46039f\"],[0.2222222222222222,\"#7201a8\"],[0.3333333333333333,\"#9c179e\"],[0.4444444444444444,\"#bd3786\"],[0.5555555555555556,\"#d8576b\"],[0.6666666666666666,\"#ed7953\"],[0.7777777777777778,\"#fb9f3a\"],[0.8888888888888888,\"#fdca26\"],[1.0,\"#f0f921\"]]}],\"choropleth\":[{\"type\":\"choropleth\",\"colorbar\":{\"outlinewidth\":0,\"ticks\":\"\"}}],\"histogram2d\":[{\"type\":\"histogram2d\",\"colorbar\":{\"outlinewidth\":0,\"ticks\":\"\"},\"colorscale\":[[0.0,\"#0d0887\"],[0.1111111111111111,\"#46039f\"],[0.2222222222222222,\"#7201a8\"],[0.3333333333333333,\"#9c179e\"],[0.4444444444444444,\"#bd3786\"],[0.5555555555555556,\"#d8576b\"],[0.6666666666666666,\"#ed7953\"],[0.7777777777777778,\"#fb9f3a\"],[0.8888888888888888,\"#fdca26\"],[1.0,\"#f0f921\"]]}],\"heatmap\":[{\"type\":\"heatmap\",\"colorbar\":{\"outlinewidth\":0,\"ticks\":\"\"},\"colorscale\":[[0.0,\"#0d0887\"],[0.1111111111111111,\"#46039f\"],[0.2222222222222222,\"#7201a8\"],[0.3333333333333333,\"#9c179e\"],[0.4444444444444444,\"#bd3786\"],[0.5555555555555556,\"#d8576b\"],[0.6666666666666666,\"#ed7953\"],[0.7777777777777778,\"#fb9f3a\"],[0.8888888888888888,\"#fdca26\"],[1.0,\"#f0f921\"]]}],\"heatmapgl\":[{\"type\":\"heatmapgl\",\"colorbar\":{\"outlinewidth\":0,\"ticks\":\"\"},\"colorscale\":[[0.0,\"#0d0887\"],[0.1111111111111111,\"#46039f\"],[0.2222222222222222,\"#7201a8\"],[0.3333333333333333,\"#9c179e\"],[0.4444444444444444,\"#bd3786\"],[0.5555555555555556,\"#d8576b\"],[0.6666666666666666,\"#ed7953\"],[0.7777777777777778,\"#fb9f3a\"],[0.8888888888888888,\"#fdca26\"],[1.0,\"#f0f921\"]]}],\"contourcarpet\":[{\"type\":\"contourcarpet\",\"colorbar\":{\"outlinewidth\":0,\"ticks\":\"\"}}],\"contour\":[{\"type\":\"contour\",\"colorbar\":{\"outlinewidth\":0,\"ticks\":\"\"},\"colorscale\":[[0.0,\"#0d0887\"],[0.1111111111111111,\"#46039f\"],[0.2222222222222222,\"#7201a8\"],[0.3333333333333333,\"#9c179e\"],[0.4444444444444444,\"#bd3786\"],[0.5555555555555556,\"#d8576b\"],[0.6666666666666666,\"#ed7953\"],[0.7777777777777778,\"#fb9f3a\"],[0.8888888888888888,\"#fdca26\"],[1.0,\"#f0f921\"]]}],\"surface\":[{\"type\":\"surface\",\"colorbar\":{\"outlinewidth\":0,\"ticks\":\"\"},\"colorscale\":[[0.0,\"#0d0887\"],[0.1111111111111111,\"#46039f\"],[0.2222222222222222,\"#7201a8\"],[0.3333333333333333,\"#9c179e\"],[0.4444444444444444,\"#bd3786\"],[0.5555555555555556,\"#d8576b\"],[0.6666666666666666,\"#ed7953\"],[0.7777777777777778,\"#fb9f3a\"],[0.8888888888888888,\"#fdca26\"],[1.0,\"#f0f921\"]]}],\"mesh3d\":[{\"type\":\"mesh3d\",\"colorbar\":{\"outlinewidth\":0,\"ticks\":\"\"}}],\"scatter\":[{\"fillpattern\":{\"fillmode\":\"overlay\",\"size\":10,\"solidity\":0.2},\"type\":\"scatter\"}],\"parcoords\":[{\"type\":\"parcoords\",\"line\":{\"colorbar\":{\"outlinewidth\":0,\"ticks\":\"\"}}}],\"scatterpolargl\":[{\"type\":\"scatterpolargl\",\"marker\":{\"colorbar\":{\"outlinewidth\":0,\"ticks\":\"\"}}}],\"bar\":[{\"error_x\":{\"color\":\"#2a3f5f\"},\"error_y\":{\"color\":\"#2a3f5f\"},\"marker\":{\"line\":{\"color\":\"#E5ECF6\",\"width\":0.5},\"pattern\":{\"fillmode\":\"overlay\",\"size\":10,\"solidity\":0.2}},\"type\":\"bar\"}],\"scattergeo\":[{\"type\":\"scattergeo\",\"marker\":{\"colorbar\":{\"outlinewidth\":0,\"ticks\":\"\"}}}],\"scatterpolar\":[{\"type\":\"scatterpolar\",\"marker\":{\"colorbar\":{\"outlinewidth\":0,\"ticks\":\"\"}}}],\"histogram\":[{\"marker\":{\"pattern\":{\"fillmode\":\"overlay\",\"size\":10,\"solidity\":0.2}},\"type\":\"histogram\"}],\"scattergl\":[{\"type\":\"scattergl\",\"marker\":{\"colorbar\":{\"outlinewidth\":0,\"ticks\":\"\"}}}],\"scatter3d\":[{\"type\":\"scatter3d\",\"line\":{\"colorbar\":{\"outlinewidth\":0,\"ticks\":\"\"}},\"marker\":{\"colorbar\":{\"outlinewidth\":0,\"ticks\":\"\"}}}],\"scattermapbox\":[{\"type\":\"scattermapbox\",\"marker\":{\"colorbar\":{\"outlinewidth\":0,\"ticks\":\"\"}}}],\"scatterternary\":[{\"type\":\"scatterternary\",\"marker\":{\"colorbar\":{\"outlinewidth\":0,\"ticks\":\"\"}}}],\"scattercarpet\":[{\"type\":\"scattercarpet\",\"marker\":{\"colorbar\":{\"outlinewidth\":0,\"ticks\":\"\"}}}],\"carpet\":[{\"aaxis\":{\"endlinecolor\":\"#2a3f5f\",\"gridcolor\":\"white\",\"linecolor\":\"white\",\"minorgridcolor\":\"white\",\"startlinecolor\":\"#2a3f5f\"},\"baxis\":{\"endlinecolor\":\"#2a3f5f\",\"gridcolor\":\"white\",\"linecolor\":\"white\",\"minorgridcolor\":\"white\",\"startlinecolor\":\"#2a3f5f\"},\"type\":\"carpet\"}],\"table\":[{\"cells\":{\"fill\":{\"color\":\"#EBF0F8\"},\"line\":{\"color\":\"white\"}},\"header\":{\"fill\":{\"color\":\"#C8D4E3\"},\"line\":{\"color\":\"white\"}},\"type\":\"table\"}],\"barpolar\":[{\"marker\":{\"line\":{\"color\":\"#E5ECF6\",\"width\":0.5},\"pattern\":{\"fillmode\":\"overlay\",\"size\":10,\"solidity\":0.2}},\"type\":\"barpolar\"}],\"pie\":[{\"automargin\":true,\"type\":\"pie\"}]},\"layout\":{\"autotypenumbers\":\"strict\",\"colorway\":[\"#636efa\",\"#EF553B\",\"#00cc96\",\"#ab63fa\",\"#FFA15A\",\"#19d3f3\",\"#FF6692\",\"#B6E880\",\"#FF97FF\",\"#FECB52\"],\"font\":{\"color\":\"#2a3f5f\"},\"hovermode\":\"closest\",\"hoverlabel\":{\"align\":\"left\"},\"paper_bgcolor\":\"white\",\"plot_bgcolor\":\"#E5ECF6\",\"polar\":{\"bgcolor\":\"#E5ECF6\",\"angularaxis\":{\"gridcolor\":\"white\",\"linecolor\":\"white\",\"ticks\":\"\"},\"radialaxis\":{\"gridcolor\":\"white\",\"linecolor\":\"white\",\"ticks\":\"\"}},\"ternary\":{\"bgcolor\":\"#E5ECF6\",\"aaxis\":{\"gridcolor\":\"white\",\"linecolor\":\"white\",\"ticks\":\"\"},\"baxis\":{\"gridcolor\":\"white\",\"linecolor\":\"white\",\"ticks\":\"\"},\"caxis\":{\"gridcolor\":\"white\",\"linecolor\":\"white\",\"ticks\":\"\"}},\"coloraxis\":{\"colorbar\":{\"outlinewidth\":0,\"ticks\":\"\"}},\"colorscale\":{\"sequential\":[[0.0,\"#0d0887\"],[0.1111111111111111,\"#46039f\"],[0.2222222222222222,\"#7201a8\"],[0.3333333333333333,\"#9c179e\"],[0.4444444444444444,\"#bd3786\"],[0.5555555555555556,\"#d8576b\"],[0.6666666666666666,\"#ed7953\"],[0.7777777777777778,\"#fb9f3a\"],[0.8888888888888888,\"#fdca26\"],[1.0,\"#f0f921\"]],\"sequentialminus\":[[0.0,\"#0d0887\"],[0.1111111111111111,\"#46039f\"],[0.2222222222222222,\"#7201a8\"],[0.3333333333333333,\"#9c179e\"],[0.4444444444444444,\"#bd3786\"],[0.5555555555555556,\"#d8576b\"],[0.6666666666666666,\"#ed7953\"],[0.7777777777777778,\"#fb9f3a\"],[0.8888888888888888,\"#fdca26\"],[1.0,\"#f0f921\"]],\"diverging\":[[0,\"#8e0152\"],[0.1,\"#c51b7d\"],[0.2,\"#de77ae\"],[0.3,\"#f1b6da\"],[0.4,\"#fde0ef\"],[0.5,\"#f7f7f7\"],[0.6,\"#e6f5d0\"],[0.7,\"#b8e186\"],[0.8,\"#7fbc41\"],[0.9,\"#4d9221\"],[1,\"#276419\"]]},\"xaxis\":{\"gridcolor\":\"white\",\"linecolor\":\"white\",\"ticks\":\"\",\"title\":{\"standoff\":15},\"zerolinecolor\":\"white\",\"automargin\":true,\"zerolinewidth\":2},\"yaxis\":{\"gridcolor\":\"white\",\"linecolor\":\"white\",\"ticks\":\"\",\"title\":{\"standoff\":15},\"zerolinecolor\":\"white\",\"automargin\":true,\"zerolinewidth\":2},\"scene\":{\"xaxis\":{\"backgroundcolor\":\"#E5ECF6\",\"gridcolor\":\"white\",\"linecolor\":\"white\",\"showbackground\":true,\"ticks\":\"\",\"zerolinecolor\":\"white\",\"gridwidth\":2},\"yaxis\":{\"backgroundcolor\":\"#E5ECF6\",\"gridcolor\":\"white\",\"linecolor\":\"white\",\"showbackground\":true,\"ticks\":\"\",\"zerolinecolor\":\"white\",\"gridwidth\":2},\"zaxis\":{\"backgroundcolor\":\"#E5ECF6\",\"gridcolor\":\"white\",\"linecolor\":\"white\",\"showbackground\":true,\"ticks\":\"\",\"zerolinecolor\":\"white\",\"gridwidth\":2}},\"shapedefaults\":{\"line\":{\"color\":\"#2a3f5f\"}},\"annotationdefaults\":{\"arrowcolor\":\"#2a3f5f\",\"arrowhead\":0,\"arrowwidth\":1},\"geo\":{\"bgcolor\":\"white\",\"landcolor\":\"#E5ECF6\",\"subunitcolor\":\"white\",\"showland\":true,\"showlakes\":true,\"lakecolor\":\"white\"},\"title\":{\"x\":0.05},\"mapbox\":{\"style\":\"light\"}}},\"xaxis\":{\"anchor\":\"y\",\"domain\":[0.0,1.0],\"title\":{\"text\":\"mother\"}},\"yaxis\":{\"anchor\":\"x\",\"domain\":[0.0,1.0],\"title\":{\"text\":\"height\"}},\"legend\":{\"tracegroupgap\":0,\"itemsizing\":\"constant\"},\"margin\":{\"t\":60}},                        {\"responsive\": true}                    ).then(function(){\n",
              "                            \n",
              "var gd = document.getElementById('e675ac55-47f4-4a58-addd-105722ea69d8');\n",
              "var x = new MutationObserver(function (mutations, observer) {{\n",
              "        var display = window.getComputedStyle(gd).display;\n",
              "        if (!display || display === 'none') {{\n",
              "            console.log([gd, 'removed!']);\n",
              "            Plotly.purge(gd);\n",
              "            observer.disconnect();\n",
              "        }}\n",
              "}});\n",
              "\n",
              "// Listen for the removal of the full notebook cells\n",
              "var notebookContainer = gd.closest('#notebook-container');\n",
              "if (notebookContainer) {{\n",
              "    x.observe(notebookContainer, {childList: true});\n",
              "}}\n",
              "\n",
              "// Listen for the clearing of the current output cell\n",
              "var outputEl = gd.closest('.output');\n",
              "if (outputEl) {{\n",
              "    x.observe(outputEl, {childList: true});\n",
              "}}\n",
              "\n",
              "                        })                };                            </script>        </div>\n",
              "</body>\n",
              "</html>"
            ]
          },
          "metadata": {}
        }
      ]
    },
    {
      "cell_type": "markdown",
      "source": [
        "# distribution of son's height relative to father's height"
      ],
      "metadata": {
        "id": "6PW__13TXalR"
      }
    },
    {
      "cell_type": "code",
      "source": [
        "# prompt: distribution of son's height relative to father's height\n",
        "\n",
        "figure = px.scatter(data_frame = df[df['gender'] == 1], x=\"father\", y=\"height\", size =\"kids\", color_discrete_sequence=[\"yellow\"], trendline=\"ols\")\n",
        "# Manually change the trendline color\n",
        "for trace in figure.data:\n",
        "    if trace.mode == 'lines':  # This is the trendline trace\n",
        "        trace.line.color = 'red'  # Change this to the color you prefer\n",
        "figure.show()\n"
      ],
      "metadata": {
        "colab": {
          "base_uri": "https://localhost:8080/",
          "height": 542
        },
        "id": "YyBnWY0SXPJM",
        "outputId": "f6f3098b-5b7f-4900-9cd9-b15a6d91ad1b"
      },
      "execution_count": 15,
      "outputs": [
        {
          "output_type": "display_data",
          "data": {
            "text/html": [
              "<html>\n",
              "<head><meta charset=\"utf-8\" /></head>\n",
              "<body>\n",
              "    <div>            <script src=\"https://cdnjs.cloudflare.com/ajax/libs/mathjax/2.7.5/MathJax.js?config=TeX-AMS-MML_SVG\"></script><script type=\"text/javascript\">if (window.MathJax && window.MathJax.Hub && window.MathJax.Hub.Config) {window.MathJax.Hub.Config({SVG: {font: \"STIX-Web\"}});}</script>                <script type=\"text/javascript\">window.PlotlyConfig = {MathJaxConfig: 'local'};</script>\n",
              "        <script charset=\"utf-8\" src=\"https://cdn.plot.ly/plotly-2.35.2.min.js\"></script>                <div id=\"2b237da0-d254-4aa7-b33f-5685bba9b2c5\" class=\"plotly-graph-div\" style=\"height:525px; width:100%;\"></div>            <script type=\"text/javascript\">                                    window.PLOTLYENV=window.PLOTLYENV || {};                                    if (document.getElementById(\"2b237da0-d254-4aa7-b33f-5685bba9b2c5\")) {                    Plotly.newPlot(                        \"2b237da0-d254-4aa7-b33f-5685bba9b2c5\",                        [{\"hovertemplate\":\"father=%{x}\\u003cbr\\u003eheight=%{y}\\u003cbr\\u003ekids=%{marker.size}\\u003cextra\\u003e\\u003c\\u002fextra\\u003e\",\"legendgroup\":\"\",\"marker\":{\"color\":\"yellow\",\"size\":[4,4,4,2,5,5,6,6,6,6,6,6,6,8,8,2,2,3,3,9,9,9,9,9,6,6,6,6,8,8,8,3,3,3,7,7,7,5,5,5,3,3,6,6,6,6,6,5,5,5,5,5,5,5,5,5,5,5,4,4,4,4,6,6,6,2,5,5,5,5,1,6,6,6,6,2,2,2,3,3,4,4,4,3,3,3,7,7,7,5,5,9,9,9,9,4,4,4,5,5,5,5,5,5,7,7,7,7,7,2,2,4,4,4,6,6,1,5,5,11,11,11,11,4,4,4,4,8,8,8,8,8,5,5,6,6,7,7,7,3,3,2,2,7,7,7,7,7,7,7,7,7,4,4,4,5,5,8,8,8,8,8,8,4,9,9,9,9,9,9,8,8,8,5,5,5,4,4,4,4,4,4,8,8,8,8,8,7,7,7,7,3,3,2,2,4,4,3,3,5,5,10,10,10,8,8,8,8,3,3,3,6,6,6,6,6,6,6,6,6,5,5,5,5,4,4,6,7,7,7,7,9,9,9,9,7,7,7,7,7,7,4,4,3,1,6,6,6,6,7,7,7,3,3,3,3,5,5,5,5,8,8,8,8,4,4,5,5,5,9,9,9,9,9,9,3,4,4,1,2,3,3,11,11,11,11,11,11,11,11,11,2,2,2,7,7,7,7,4,4,8,8,8,8,10,10,10,10,4,4,5,5,5,5,10,10,10,8,8,8,8,8,4,4,4,1,4,4,8,8,8,8,8,6,6,6,1,1,5,5,5,5,1,2,1,5,5,5,1,7,4,4,4,1,10,10,10,10,10,10,5,5,5,1,6,6,5,5,4,4,3,11,11,4,4,4,4,8,8,8,8,8,8,8,3,3,5,5,5,5,1,8,8,8,8,8,9,9,9,5,5,6,6,8,8,8,8,5,5,5,1,6,6,6,7,7,1,4,4,4,1,15,15,15,15,15,15,15,4,4,4,4,9,9,9,2,6,6,6,6,6,6,2,3,3,4,4,4,5,5,5,5,7,7,7,7,1,2,3,2],\"sizemode\":\"area\",\"sizeref\":0.0375,\"symbol\":\"circle\"},\"mode\":\"markers\",\"name\":\"\",\"orientation\":\"v\",\"showlegend\":false,\"x\":[78.5,75.5,75.5,75.0,75.0,75.0,75.0,75.0,75.0,74.0,74.0,74.0,74.0,74.0,74.0,73.0,73.0,73.0,73.0,73.0,73.0,73.0,73.0,73.0,73.0,73.0,73.0,73.0,72.7,72.7,72.7,72.0,72.0,72.0,72.0,72.0,72.0,72.0,72.0,72.0,72.0,72.0,72.0,72.0,72.5,72.5,72.5,72.0,72.0,72.0,72.0,72.0,72.0,72.0,71.0,71.0,71.0,71.0,71.0,71.0,71.0,71.0,71.0,71.0,71.0,71.0,71.0,71.0,71.0,71.0,71.7,71.0,71.0,71.0,71.0,71.5,71.5,71.5,71.0,71.0,71.7,71.7,71.7,71.0,71.0,71.0,71.5,71.5,71.5,71.0,71.0,71.0,71.0,71.0,71.0,71.0,71.0,71.0,71.0,71.0,71.0,71.0,71.0,71.0,71.0,71.0,71.0,71.0,71.0,71.0,71.0,70.0,70.0,70.0,70.0,70.0,70.0,70.0,70.0,70.0,70.0,70.0,70.0,70.5,70.5,70.5,70.5,70.0,70.0,70.0,70.0,70.0,70.0,70.0,70.0,70.0,70.0,70.0,70.0,70.0,70.0,70.0,70.0,70.0,70.0,70.0,70.0,70.0,70.0,70.0,70.0,70.0,70.0,70.0,70.0,70.0,70.0,70.5,70.5,70.5,70.5,70.5,70.5,70.0,70.0,70.0,70.0,70.0,70.0,70.0,70.0,70.0,70.0,70.5,70.5,70.5,70.0,70.0,70.0,70.0,70.0,70.0,70.5,70.5,70.5,70.5,70.5,70.3,70.3,70.3,70.3,70.5,70.5,70.0,70.0,70.0,70.0,70.0,70.0,70.0,70.0,69.0,69.0,69.0,69.0,69.0,69.0,69.0,69.0,69.0,69.0,69.0,69.0,69.0,69.0,69.0,69.0,69.0,69.0,69.0,69.0,69.0,69.0,69.0,69.5,69.5,69.0,69.5,69.5,69.5,69.5,69.0,69.0,69.0,69.0,69.0,69.0,69.0,69.5,69.5,69.5,69.2,69.2,69.0,69.0,69.0,69.0,69.0,69.0,69.0,69.0,69.0,69.0,69.5,69.5,69.5,69.0,69.0,69.0,69.0,69.0,69.0,69.0,69.0,69.0,69.0,69.5,69.5,69.5,69.0,69.0,69.0,69.0,69.0,69.0,69.0,69.0,69.0,69.0,68.7,68.5,68.5,68.5,68.5,68.5,68.5,68.5,68.5,68.5,68.5,68.5,68.0,68.0,68.0,68.0,68.0,68.0,68.0,68.0,68.0,68.5,68.5,68.5,68.5,68.0,68.0,68.0,68.0,68.0,68.0,68.0,68.0,68.0,68.0,68.0,68.0,68.0,68.0,68.0,68.0,68.0,68.0,68.5,68.5,68.5,68.0,68.0,68.0,68.0,68.0,68.0,68.0,68.0,68.0,68.0,68.0,68.5,68.0,68.2,68.2,68.2,68.2,68.0,68.7,68.0,68.0,68.0,68.0,68.0,68.0,68.0,68.0,68.0,68.5,68.0,68.0,68.0,68.0,68.0,68.0,67.0,67.0,67.0,67.0,67.0,67.0,67.0,67.0,67.0,67.0,67.0,67.5,67.5,67.0,67.0,67.0,67.0,67.0,67.0,67.0,67.0,67.0,67.0,67.0,67.0,67.0,67.5,67.5,67.5,67.5,67.0,66.0,66.0,66.0,66.0,66.0,66.0,66.0,66.0,66.0,66.0,66.0,66.0,66.5,66.5,66.5,66.5,66.0,66.0,66.0,66.0,66.5,66.5,66.5,66.5,66.5,66.0,66.0,66.0,66.0,66.0,66.0,66.0,66.0,66.0,66.0,66.0,66.0,65.0,65.0,65.0,65.0,65.0,65.0,65.0,65.0,65.0,65.0,65.0,65.0,65.0,65.0,65.0,65.0,65.0,65.5,65.5,65.5,65.5,65.5,65.5,65.5,64.0,64.0,64.0,64.0,64.0,64.0,62.0,62.5],\"xaxis\":\"x\",\"y\":[73.2,73.5,72.5,71.0,70.5,68.5,72.0,69.0,68.0,76.5,74.0,73.0,73.0,74.0,70.0,68.0,67.0,71.0,70.5,72.0,70.5,70.2,70.2,69.2,74.0,73.0,71.5,62.5,73.2,73.0,72.7,73.0,73.0,71.0,74.2,70.5,69.5,70.5,70.5,69.0,69.0,67.0,73.0,67.0,71.0,70.0,70.0,74.0,72.0,69.0,72.0,71.5,71.5,70.0,78.0,74.0,73.0,72.0,73.2,73.0,69.0,70.0,70.0,69.0,68.5,71.0,76.0,72.0,71.0,66.0,70.5,72.0,72.0,71.0,69.0,73.0,68.5,67.7,68.0,68.0,72.0,71.0,70.5,68.0,68.0,68.0,72.0,71.0,70.0,71.0,67.0,71.0,70.0,70.0,64.0,71.0,71.0,70.0,71.0,70.0,72.0,70.5,70.5,70.0,70.5,70.0,69.0,69.0,66.0,71.5,69.0,71.0,70.0,69.0,70.0,68.7,75.0,70.0,69.0,73.0,72.0,72.0,66.5,72.0,70.2,69.0,68.5,73.0,72.0,70.5,65.0,65.0,67.0,65.0,70.0,70.0,79.0,75.0,71.0,73.0,72.5,69.0,69.0,72.0,70.0,68.7,70.7,70.0,68.0,67.0,66.0,65.0,70.0,68.0,66.7,72.0,70.0,74.0,69.5,69.0,68.0,68.0,68.0,68.0,71.0,70.0,70.0,70.0,69.5,68.5,70.0,67.0,65.5,72.5,69.0,67.0,71.0,67.5,68.0,67.0,70.0,66.5,72.0,70.0,69.5,69.5,68.0,70.7,69.7,69.2,65.2,72.0,72.0,71.2,67.0,67.0,64.5,71.5,64.5,72.0,66.0,75.0,71.0,70.0,73.0,72.0,71.7,71.5,71.2,71.0,70.0,75.0,74.0,72.0,68.5,67.0,66.0,70.0,68.5,68.0,73.0,71.0,70.5,70.5,70.5,67.5,71.0,71.0,71.0,70.5,70.5,73.0,72.0,69.0,69.0,70.0,68.5,67.0,69.7,68.0,60.0,71.7,66.5,69.0,72.0,73.0,70.0,70.0,64.0,70.5,67.0,66.0,70.5,73.0,72.0,69.0,73.0,71.0,71.0,69.0,71.0,70.0,70.0,69.0,72.0,68.0,70.0,69.5,69.0,68.0,68.0,67.5,64.0,63.0,63.0,70.5,69.0,66.0,69.5,71.0,73.0,71.0,70.0,69.0,69.0,68.7,68.5,68.5,68.0,68.0,68.0,67.5,66.0,66.0,71.7,71.5,70.7,65.5,72.0,72.0,69.2,68.0,66.0,66.0,71.0,68.0,68.0,67.0,66.0,63.0,71.2,71.2,69.0,68.5,69.0,67.0,66.0,70.5,70.0,68.0,66.0,66.0,73.5,70.0,69.5,67.0,70.0,68.0,71.0,68.0,66.0,65.5,65.0,67.0,67.0,66.0,68.2,70.0,70.0,69.0,67.0,65.5,68.5,67.7,66.5,68.5,68.0,64.0,66.7,64.0,67.5,67.0,66.5,69.0,68.0,65.0,64.7,64.0,64.0,63.0,72.7,72.7,71.5,71.0,69.7,67.5,70.0,69.0,70.0,67.7,65.0,71.0,69.0,71.5,70.0,67.0,67.0,71.0,70.2,69.2,68.5,68.0,67.0,65.5,69.0,68.0,70.0,69.5,69.0,68.5,67.0,70.5,70.5,67.0,66.0,66.0,72.0,65.0,65.0,66.0,65.0,72.0,68.0,68.7,68.5,66.5,64.5,72.0,71.0,67.0,70.0,67.2,67.0,65.0,70.0,68.0,70.0,68.0,67.0,65.0,65.0,68.0,67.0,66.5,66.0,65.7,65.5,65.0,66.5,66.0,66.0,63.0,69.0,68.0,68.0,70.7,69.2,69.0,68.0,67.7,67.0,67.0,70.0,66.0,66.0,71.0,71.0,69.0,68.0,68.0,67.0,67.0,71.5,68.0,70.5,68.0,64.5,66.0,64.0,66.5],\"yaxis\":\"y\",\"type\":\"scatter\"},{\"hovertemplate\":\"\\u003cb\\u003eOLS trendline\\u003c\\u002fb\\u003e\\u003cbr\\u003eheight = 0.448506 * father + 38.2005\\u003cbr\\u003eR\\u003csup\\u003e2\\u003c\\u002fsup\\u003e=0.154104\\u003cbr\\u003e\\u003cbr\\u003efather=%{x}\\u003cbr\\u003eheight=%{y} \\u003cb\\u003e(trend)\\u003c\\u002fb\\u003e\\u003cextra\\u003e\\u003c\\u002fextra\\u003e\",\"legendgroup\":\"\",\"marker\":{\"color\":\"yellow\",\"symbol\":\"circle\"},\"mode\":\"lines\",\"name\":\"\",\"showlegend\":false,\"x\":[62.0,62.5,64.0,64.0,64.0,64.0,64.0,64.0,65.0,65.0,65.0,65.0,65.0,65.0,65.0,65.0,65.0,65.0,65.0,65.0,65.0,65.0,65.0,65.0,65.0,65.5,65.5,65.5,65.5,65.5,65.5,65.5,66.0,66.0,66.0,66.0,66.0,66.0,66.0,66.0,66.0,66.0,66.0,66.0,66.0,66.0,66.0,66.0,66.0,66.0,66.0,66.0,66.0,66.0,66.0,66.0,66.0,66.0,66.0,66.0,66.5,66.5,66.5,66.5,66.5,66.5,66.5,66.5,66.5,67.0,67.0,67.0,67.0,67.0,67.0,67.0,67.0,67.0,67.0,67.0,67.0,67.0,67.0,67.0,67.0,67.0,67.0,67.0,67.0,67.0,67.0,67.0,67.0,67.0,67.5,67.5,67.5,67.5,67.5,67.5,68.0,68.0,68.0,68.0,68.0,68.0,68.0,68.0,68.0,68.0,68.0,68.0,68.0,68.0,68.0,68.0,68.0,68.0,68.0,68.0,68.0,68.0,68.0,68.0,68.0,68.0,68.0,68.0,68.0,68.0,68.0,68.0,68.0,68.0,68.0,68.0,68.0,68.0,68.0,68.0,68.0,68.0,68.0,68.0,68.0,68.0,68.0,68.0,68.0,68.0,68.0,68.0,68.0,68.0,68.0,68.2,68.2,68.2,68.2,68.5,68.5,68.5,68.5,68.5,68.5,68.5,68.5,68.5,68.5,68.5,68.5,68.5,68.5,68.5,68.5,68.5,68.5,68.5,68.5,68.7,68.7,69.0,69.0,69.0,69.0,69.0,69.0,69.0,69.0,69.0,69.0,69.0,69.0,69.0,69.0,69.0,69.0,69.0,69.0,69.0,69.0,69.0,69.0,69.0,69.0,69.0,69.0,69.0,69.0,69.0,69.0,69.0,69.0,69.0,69.0,69.0,69.0,69.0,69.0,69.0,69.0,69.0,69.0,69.0,69.0,69.0,69.0,69.0,69.0,69.0,69.0,69.0,69.0,69.0,69.0,69.0,69.0,69.0,69.0,69.0,69.0,69.0,69.2,69.2,69.5,69.5,69.5,69.5,69.5,69.5,69.5,69.5,69.5,69.5,69.5,69.5,69.5,69.5,69.5,70.0,70.0,70.0,70.0,70.0,70.0,70.0,70.0,70.0,70.0,70.0,70.0,70.0,70.0,70.0,70.0,70.0,70.0,70.0,70.0,70.0,70.0,70.0,70.0,70.0,70.0,70.0,70.0,70.0,70.0,70.0,70.0,70.0,70.0,70.0,70.0,70.0,70.0,70.0,70.0,70.0,70.0,70.0,70.0,70.0,70.0,70.0,70.0,70.0,70.0,70.0,70.0,70.0,70.0,70.0,70.0,70.0,70.0,70.0,70.0,70.0,70.0,70.0,70.0,70.0,70.0,70.3,70.3,70.3,70.3,70.5,70.5,70.5,70.5,70.5,70.5,70.5,70.5,70.5,70.5,70.5,70.5,70.5,70.5,70.5,70.5,70.5,70.5,70.5,70.5,71.0,71.0,71.0,71.0,71.0,71.0,71.0,71.0,71.0,71.0,71.0,71.0,71.0,71.0,71.0,71.0,71.0,71.0,71.0,71.0,71.0,71.0,71.0,71.0,71.0,71.0,71.0,71.0,71.0,71.0,71.0,71.0,71.0,71.0,71.0,71.0,71.0,71.0,71.0,71.0,71.0,71.0,71.0,71.0,71.0,71.0,71.0,71.5,71.5,71.5,71.5,71.5,71.5,71.7,71.7,71.7,71.7,72.0,72.0,72.0,72.0,72.0,72.0,72.0,72.0,72.0,72.0,72.0,72.0,72.0,72.0,72.0,72.0,72.0,72.0,72.0,72.0,72.5,72.5,72.5,72.7,72.7,72.7,73.0,73.0,73.0,73.0,73.0,73.0,73.0,73.0,73.0,73.0,73.0,73.0,73.0,74.0,74.0,74.0,74.0,74.0,74.0,75.0,75.0,75.0,75.0,75.0,75.0,75.5,75.5,78.5],\"xaxis\":\"x\",\"y\":[66.00786224535193,66.23211518671857,66.90487401081852,66.90487401081852,66.90487401081852,66.90487401081852,66.90487401081852,66.90487401081852,67.35337989355182,67.35337989355182,67.35337989355182,67.35337989355182,67.35337989355182,67.35337989355182,67.35337989355182,67.35337989355182,67.35337989355182,67.35337989355182,67.35337989355182,67.35337989355182,67.35337989355182,67.35337989355182,67.35337989355182,67.35337989355182,67.35337989355182,67.57763283491846,67.57763283491846,67.57763283491846,67.57763283491846,67.57763283491846,67.57763283491846,67.57763283491846,67.8018857762851,67.8018857762851,67.8018857762851,67.8018857762851,67.8018857762851,67.8018857762851,67.8018857762851,67.8018857762851,67.8018857762851,67.8018857762851,67.8018857762851,67.8018857762851,67.8018857762851,67.8018857762851,67.8018857762851,67.8018857762851,67.8018857762851,67.8018857762851,67.8018857762851,67.8018857762851,67.8018857762851,67.8018857762851,67.8018857762851,67.8018857762851,67.8018857762851,67.8018857762851,67.8018857762851,67.8018857762851,68.02613871765175,68.02613871765175,68.02613871765175,68.02613871765175,68.02613871765175,68.02613871765175,68.02613871765175,68.02613871765175,68.02613871765175,68.2503916590184,68.2503916590184,68.2503916590184,68.2503916590184,68.2503916590184,68.2503916590184,68.2503916590184,68.2503916590184,68.2503916590184,68.2503916590184,68.2503916590184,68.2503916590184,68.2503916590184,68.2503916590184,68.2503916590184,68.2503916590184,68.2503916590184,68.2503916590184,68.2503916590184,68.2503916590184,68.2503916590184,68.2503916590184,68.2503916590184,68.2503916590184,68.2503916590184,68.47464460038505,68.47464460038505,68.47464460038505,68.47464460038505,68.47464460038505,68.47464460038505,68.69889754175169,68.69889754175169,68.69889754175169,68.69889754175169,68.69889754175169,68.69889754175169,68.69889754175169,68.69889754175169,68.69889754175169,68.69889754175169,68.69889754175169,68.69889754175169,68.69889754175169,68.69889754175169,68.69889754175169,68.69889754175169,68.69889754175169,68.69889754175169,68.69889754175169,68.69889754175169,68.69889754175169,68.69889754175169,68.69889754175169,68.69889754175169,68.69889754175169,68.69889754175169,68.69889754175169,68.69889754175169,68.69889754175169,68.69889754175169,68.69889754175169,68.69889754175169,68.69889754175169,68.69889754175169,68.69889754175169,68.69889754175169,68.69889754175169,68.69889754175169,68.69889754175169,68.69889754175169,68.69889754175169,68.69889754175169,68.69889754175169,68.69889754175169,68.69889754175169,68.69889754175169,68.69889754175169,68.69889754175169,68.69889754175169,68.69889754175169,68.69889754175169,68.69889754175169,68.69889754175169,68.69889754175169,68.69889754175169,68.78859871829836,68.78859871829836,68.78859871829836,68.78859871829836,68.92315048311835,68.92315048311835,68.92315048311835,68.92315048311835,68.92315048311835,68.92315048311835,68.92315048311835,68.92315048311835,68.92315048311835,68.92315048311835,68.92315048311835,68.92315048311835,68.92315048311835,68.92315048311835,68.92315048311835,68.92315048311835,68.92315048311835,68.92315048311835,68.92315048311835,68.92315048311835,69.012851659665,69.012851659665,69.14740342448499,69.14740342448499,69.14740342448499,69.14740342448499,69.14740342448499,69.14740342448499,69.14740342448499,69.14740342448499,69.14740342448499,69.14740342448499,69.14740342448499,69.14740342448499,69.14740342448499,69.14740342448499,69.14740342448499,69.14740342448499,69.14740342448499,69.14740342448499,69.14740342448499,69.14740342448499,69.14740342448499,69.14740342448499,69.14740342448499,69.14740342448499,69.14740342448499,69.14740342448499,69.14740342448499,69.14740342448499,69.14740342448499,69.14740342448499,69.14740342448499,69.14740342448499,69.14740342448499,69.14740342448499,69.14740342448499,69.14740342448499,69.14740342448499,69.14740342448499,69.14740342448499,69.14740342448499,69.14740342448499,69.14740342448499,69.14740342448499,69.14740342448499,69.14740342448499,69.14740342448499,69.14740342448499,69.14740342448499,69.14740342448499,69.14740342448499,69.14740342448499,69.14740342448499,69.14740342448499,69.14740342448499,69.14740342448499,69.14740342448499,69.14740342448499,69.14740342448499,69.14740342448499,69.14740342448499,69.14740342448499,69.23710460103165,69.23710460103165,69.37165636585163,69.37165636585163,69.37165636585163,69.37165636585163,69.37165636585163,69.37165636585163,69.37165636585163,69.37165636585163,69.37165636585163,69.37165636585163,69.37165636585163,69.37165636585163,69.37165636585163,69.37165636585163,69.37165636585163,69.59590930721828,69.59590930721828,69.59590930721828,69.59590930721828,69.59590930721828,69.59590930721828,69.59590930721828,69.59590930721828,69.59590930721828,69.59590930721828,69.59590930721828,69.59590930721828,69.59590930721828,69.59590930721828,69.59590930721828,69.59590930721828,69.59590930721828,69.59590930721828,69.59590930721828,69.59590930721828,69.59590930721828,69.59590930721828,69.59590930721828,69.59590930721828,69.59590930721828,69.59590930721828,69.59590930721828,69.59590930721828,69.59590930721828,69.59590930721828,69.59590930721828,69.59590930721828,69.59590930721828,69.59590930721828,69.59590930721828,69.59590930721828,69.59590930721828,69.59590930721828,69.59590930721828,69.59590930721828,69.59590930721828,69.59590930721828,69.59590930721828,69.59590930721828,69.59590930721828,69.59590930721828,69.59590930721828,69.59590930721828,69.59590930721828,69.59590930721828,69.59590930721828,69.59590930721828,69.59590930721828,69.59590930721828,69.59590930721828,69.59590930721828,69.59590930721828,69.59590930721828,69.59590930721828,69.59590930721828,69.59590930721828,69.59590930721828,69.59590930721828,69.59590930721828,69.59590930721828,69.59590930721828,69.73046107203827,69.73046107203827,69.73046107203827,69.73046107203827,69.82016224858494,69.82016224858494,69.82016224858494,69.82016224858494,69.82016224858494,69.82016224858494,69.82016224858494,69.82016224858494,69.82016224858494,69.82016224858494,69.82016224858494,69.82016224858494,69.82016224858494,69.82016224858494,69.82016224858494,69.82016224858494,69.82016224858494,69.82016224858494,69.82016224858494,69.82016224858494,70.04441518995158,70.04441518995158,70.04441518995158,70.04441518995158,70.04441518995158,70.04441518995158,70.04441518995158,70.04441518995158,70.04441518995158,70.04441518995158,70.04441518995158,70.04441518995158,70.04441518995158,70.04441518995158,70.04441518995158,70.04441518995158,70.04441518995158,70.04441518995158,70.04441518995158,70.04441518995158,70.04441518995158,70.04441518995158,70.04441518995158,70.04441518995158,70.04441518995158,70.04441518995158,70.04441518995158,70.04441518995158,70.04441518995158,70.04441518995158,70.04441518995158,70.04441518995158,70.04441518995158,70.04441518995158,70.04441518995158,70.04441518995158,70.04441518995158,70.04441518995158,70.04441518995158,70.04441518995158,70.04441518995158,70.04441518995158,70.04441518995158,70.04441518995158,70.04441518995158,70.04441518995158,70.04441518995158,70.26866813131824,70.26866813131824,70.26866813131824,70.26866813131824,70.26866813131824,70.26866813131824,70.35836930786488,70.35836930786488,70.35836930786488,70.35836930786488,70.49292107268488,70.49292107268488,70.49292107268488,70.49292107268488,70.49292107268488,70.49292107268488,70.49292107268488,70.49292107268488,70.49292107268488,70.49292107268488,70.49292107268488,70.49292107268488,70.49292107268488,70.49292107268488,70.49292107268488,70.49292107268488,70.49292107268488,70.49292107268488,70.49292107268488,70.49292107268488,70.71717401405152,70.71717401405152,70.71717401405152,70.80687519059819,70.80687519059819,70.80687519059819,70.94142695541817,70.94142695541817,70.94142695541817,70.94142695541817,70.94142695541817,70.94142695541817,70.94142695541817,70.94142695541817,70.94142695541817,70.94142695541817,70.94142695541817,70.94142695541817,70.94142695541817,71.38993283815147,71.38993283815147,71.38993283815147,71.38993283815147,71.38993283815147,71.38993283815147,71.83843872088477,71.83843872088477,71.83843872088477,71.83843872088477,71.83843872088477,71.83843872088477,72.06269166225141,72.06269166225141,73.4082093104513],\"yaxis\":\"y\",\"type\":\"scatter\",\"line\":{\"color\":\"red\"}}],                        {\"template\":{\"data\":{\"histogram2dcontour\":[{\"type\":\"histogram2dcontour\",\"colorbar\":{\"outlinewidth\":0,\"ticks\":\"\"},\"colorscale\":[[0.0,\"#0d0887\"],[0.1111111111111111,\"#46039f\"],[0.2222222222222222,\"#7201a8\"],[0.3333333333333333,\"#9c179e\"],[0.4444444444444444,\"#bd3786\"],[0.5555555555555556,\"#d8576b\"],[0.6666666666666666,\"#ed7953\"],[0.7777777777777778,\"#fb9f3a\"],[0.8888888888888888,\"#fdca26\"],[1.0,\"#f0f921\"]]}],\"choropleth\":[{\"type\":\"choropleth\",\"colorbar\":{\"outlinewidth\":0,\"ticks\":\"\"}}],\"histogram2d\":[{\"type\":\"histogram2d\",\"colorbar\":{\"outlinewidth\":0,\"ticks\":\"\"},\"colorscale\":[[0.0,\"#0d0887\"],[0.1111111111111111,\"#46039f\"],[0.2222222222222222,\"#7201a8\"],[0.3333333333333333,\"#9c179e\"],[0.4444444444444444,\"#bd3786\"],[0.5555555555555556,\"#d8576b\"],[0.6666666666666666,\"#ed7953\"],[0.7777777777777778,\"#fb9f3a\"],[0.8888888888888888,\"#fdca26\"],[1.0,\"#f0f921\"]]}],\"heatmap\":[{\"type\":\"heatmap\",\"colorbar\":{\"outlinewidth\":0,\"ticks\":\"\"},\"colorscale\":[[0.0,\"#0d0887\"],[0.1111111111111111,\"#46039f\"],[0.2222222222222222,\"#7201a8\"],[0.3333333333333333,\"#9c179e\"],[0.4444444444444444,\"#bd3786\"],[0.5555555555555556,\"#d8576b\"],[0.6666666666666666,\"#ed7953\"],[0.7777777777777778,\"#fb9f3a\"],[0.8888888888888888,\"#fdca26\"],[1.0,\"#f0f921\"]]}],\"heatmapgl\":[{\"type\":\"heatmapgl\",\"colorbar\":{\"outlinewidth\":0,\"ticks\":\"\"},\"colorscale\":[[0.0,\"#0d0887\"],[0.1111111111111111,\"#46039f\"],[0.2222222222222222,\"#7201a8\"],[0.3333333333333333,\"#9c179e\"],[0.4444444444444444,\"#bd3786\"],[0.5555555555555556,\"#d8576b\"],[0.6666666666666666,\"#ed7953\"],[0.7777777777777778,\"#fb9f3a\"],[0.8888888888888888,\"#fdca26\"],[1.0,\"#f0f921\"]]}],\"contourcarpet\":[{\"type\":\"contourcarpet\",\"colorbar\":{\"outlinewidth\":0,\"ticks\":\"\"}}],\"contour\":[{\"type\":\"contour\",\"colorbar\":{\"outlinewidth\":0,\"ticks\":\"\"},\"colorscale\":[[0.0,\"#0d0887\"],[0.1111111111111111,\"#46039f\"],[0.2222222222222222,\"#7201a8\"],[0.3333333333333333,\"#9c179e\"],[0.4444444444444444,\"#bd3786\"],[0.5555555555555556,\"#d8576b\"],[0.6666666666666666,\"#ed7953\"],[0.7777777777777778,\"#fb9f3a\"],[0.8888888888888888,\"#fdca26\"],[1.0,\"#f0f921\"]]}],\"surface\":[{\"type\":\"surface\",\"colorbar\":{\"outlinewidth\":0,\"ticks\":\"\"},\"colorscale\":[[0.0,\"#0d0887\"],[0.1111111111111111,\"#46039f\"],[0.2222222222222222,\"#7201a8\"],[0.3333333333333333,\"#9c179e\"],[0.4444444444444444,\"#bd3786\"],[0.5555555555555556,\"#d8576b\"],[0.6666666666666666,\"#ed7953\"],[0.7777777777777778,\"#fb9f3a\"],[0.8888888888888888,\"#fdca26\"],[1.0,\"#f0f921\"]]}],\"mesh3d\":[{\"type\":\"mesh3d\",\"colorbar\":{\"outlinewidth\":0,\"ticks\":\"\"}}],\"scatter\":[{\"fillpattern\":{\"fillmode\":\"overlay\",\"size\":10,\"solidity\":0.2},\"type\":\"scatter\"}],\"parcoords\":[{\"type\":\"parcoords\",\"line\":{\"colorbar\":{\"outlinewidth\":0,\"ticks\":\"\"}}}],\"scatterpolargl\":[{\"type\":\"scatterpolargl\",\"marker\":{\"colorbar\":{\"outlinewidth\":0,\"ticks\":\"\"}}}],\"bar\":[{\"error_x\":{\"color\":\"#2a3f5f\"},\"error_y\":{\"color\":\"#2a3f5f\"},\"marker\":{\"line\":{\"color\":\"#E5ECF6\",\"width\":0.5},\"pattern\":{\"fillmode\":\"overlay\",\"size\":10,\"solidity\":0.2}},\"type\":\"bar\"}],\"scattergeo\":[{\"type\":\"scattergeo\",\"marker\":{\"colorbar\":{\"outlinewidth\":0,\"ticks\":\"\"}}}],\"scatterpolar\":[{\"type\":\"scatterpolar\",\"marker\":{\"colorbar\":{\"outlinewidth\":0,\"ticks\":\"\"}}}],\"histogram\":[{\"marker\":{\"pattern\":{\"fillmode\":\"overlay\",\"size\":10,\"solidity\":0.2}},\"type\":\"histogram\"}],\"scattergl\":[{\"type\":\"scattergl\",\"marker\":{\"colorbar\":{\"outlinewidth\":0,\"ticks\":\"\"}}}],\"scatter3d\":[{\"type\":\"scatter3d\",\"line\":{\"colorbar\":{\"outlinewidth\":0,\"ticks\":\"\"}},\"marker\":{\"colorbar\":{\"outlinewidth\":0,\"ticks\":\"\"}}}],\"scattermapbox\":[{\"type\":\"scattermapbox\",\"marker\":{\"colorbar\":{\"outlinewidth\":0,\"ticks\":\"\"}}}],\"scatterternary\":[{\"type\":\"scatterternary\",\"marker\":{\"colorbar\":{\"outlinewidth\":0,\"ticks\":\"\"}}}],\"scattercarpet\":[{\"type\":\"scattercarpet\",\"marker\":{\"colorbar\":{\"outlinewidth\":0,\"ticks\":\"\"}}}],\"carpet\":[{\"aaxis\":{\"endlinecolor\":\"#2a3f5f\",\"gridcolor\":\"white\",\"linecolor\":\"white\",\"minorgridcolor\":\"white\",\"startlinecolor\":\"#2a3f5f\"},\"baxis\":{\"endlinecolor\":\"#2a3f5f\",\"gridcolor\":\"white\",\"linecolor\":\"white\",\"minorgridcolor\":\"white\",\"startlinecolor\":\"#2a3f5f\"},\"type\":\"carpet\"}],\"table\":[{\"cells\":{\"fill\":{\"color\":\"#EBF0F8\"},\"line\":{\"color\":\"white\"}},\"header\":{\"fill\":{\"color\":\"#C8D4E3\"},\"line\":{\"color\":\"white\"}},\"type\":\"table\"}],\"barpolar\":[{\"marker\":{\"line\":{\"color\":\"#E5ECF6\",\"width\":0.5},\"pattern\":{\"fillmode\":\"overlay\",\"size\":10,\"solidity\":0.2}},\"type\":\"barpolar\"}],\"pie\":[{\"automargin\":true,\"type\":\"pie\"}]},\"layout\":{\"autotypenumbers\":\"strict\",\"colorway\":[\"#636efa\",\"#EF553B\",\"#00cc96\",\"#ab63fa\",\"#FFA15A\",\"#19d3f3\",\"#FF6692\",\"#B6E880\",\"#FF97FF\",\"#FECB52\"],\"font\":{\"color\":\"#2a3f5f\"},\"hovermode\":\"closest\",\"hoverlabel\":{\"align\":\"left\"},\"paper_bgcolor\":\"white\",\"plot_bgcolor\":\"#E5ECF6\",\"polar\":{\"bgcolor\":\"#E5ECF6\",\"angularaxis\":{\"gridcolor\":\"white\",\"linecolor\":\"white\",\"ticks\":\"\"},\"radialaxis\":{\"gridcolor\":\"white\",\"linecolor\":\"white\",\"ticks\":\"\"}},\"ternary\":{\"bgcolor\":\"#E5ECF6\",\"aaxis\":{\"gridcolor\":\"white\",\"linecolor\":\"white\",\"ticks\":\"\"},\"baxis\":{\"gridcolor\":\"white\",\"linecolor\":\"white\",\"ticks\":\"\"},\"caxis\":{\"gridcolor\":\"white\",\"linecolor\":\"white\",\"ticks\":\"\"}},\"coloraxis\":{\"colorbar\":{\"outlinewidth\":0,\"ticks\":\"\"}},\"colorscale\":{\"sequential\":[[0.0,\"#0d0887\"],[0.1111111111111111,\"#46039f\"],[0.2222222222222222,\"#7201a8\"],[0.3333333333333333,\"#9c179e\"],[0.4444444444444444,\"#bd3786\"],[0.5555555555555556,\"#d8576b\"],[0.6666666666666666,\"#ed7953\"],[0.7777777777777778,\"#fb9f3a\"],[0.8888888888888888,\"#fdca26\"],[1.0,\"#f0f921\"]],\"sequentialminus\":[[0.0,\"#0d0887\"],[0.1111111111111111,\"#46039f\"],[0.2222222222222222,\"#7201a8\"],[0.3333333333333333,\"#9c179e\"],[0.4444444444444444,\"#bd3786\"],[0.5555555555555556,\"#d8576b\"],[0.6666666666666666,\"#ed7953\"],[0.7777777777777778,\"#fb9f3a\"],[0.8888888888888888,\"#fdca26\"],[1.0,\"#f0f921\"]],\"diverging\":[[0,\"#8e0152\"],[0.1,\"#c51b7d\"],[0.2,\"#de77ae\"],[0.3,\"#f1b6da\"],[0.4,\"#fde0ef\"],[0.5,\"#f7f7f7\"],[0.6,\"#e6f5d0\"],[0.7,\"#b8e186\"],[0.8,\"#7fbc41\"],[0.9,\"#4d9221\"],[1,\"#276419\"]]},\"xaxis\":{\"gridcolor\":\"white\",\"linecolor\":\"white\",\"ticks\":\"\",\"title\":{\"standoff\":15},\"zerolinecolor\":\"white\",\"automargin\":true,\"zerolinewidth\":2},\"yaxis\":{\"gridcolor\":\"white\",\"linecolor\":\"white\",\"ticks\":\"\",\"title\":{\"standoff\":15},\"zerolinecolor\":\"white\",\"automargin\":true,\"zerolinewidth\":2},\"scene\":{\"xaxis\":{\"backgroundcolor\":\"#E5ECF6\",\"gridcolor\":\"white\",\"linecolor\":\"white\",\"showbackground\":true,\"ticks\":\"\",\"zerolinecolor\":\"white\",\"gridwidth\":2},\"yaxis\":{\"backgroundcolor\":\"#E5ECF6\",\"gridcolor\":\"white\",\"linecolor\":\"white\",\"showbackground\":true,\"ticks\":\"\",\"zerolinecolor\":\"white\",\"gridwidth\":2},\"zaxis\":{\"backgroundcolor\":\"#E5ECF6\",\"gridcolor\":\"white\",\"linecolor\":\"white\",\"showbackground\":true,\"ticks\":\"\",\"zerolinecolor\":\"white\",\"gridwidth\":2}},\"shapedefaults\":{\"line\":{\"color\":\"#2a3f5f\"}},\"annotationdefaults\":{\"arrowcolor\":\"#2a3f5f\",\"arrowhead\":0,\"arrowwidth\":1},\"geo\":{\"bgcolor\":\"white\",\"landcolor\":\"#E5ECF6\",\"subunitcolor\":\"white\",\"showland\":true,\"showlakes\":true,\"lakecolor\":\"white\"},\"title\":{\"x\":0.05},\"mapbox\":{\"style\":\"light\"}}},\"xaxis\":{\"anchor\":\"y\",\"domain\":[0.0,1.0],\"title\":{\"text\":\"father\"}},\"yaxis\":{\"anchor\":\"x\",\"domain\":[0.0,1.0],\"title\":{\"text\":\"height\"}},\"legend\":{\"tracegroupgap\":0,\"itemsizing\":\"constant\"},\"margin\":{\"t\":60}},                        {\"responsive\": true}                    ).then(function(){\n",
              "                            \n",
              "var gd = document.getElementById('2b237da0-d254-4aa7-b33f-5685bba9b2c5');\n",
              "var x = new MutationObserver(function (mutations, observer) {{\n",
              "        var display = window.getComputedStyle(gd).display;\n",
              "        if (!display || display === 'none') {{\n",
              "            console.log([gd, 'removed!']);\n",
              "            Plotly.purge(gd);\n",
              "            observer.disconnect();\n",
              "        }}\n",
              "}});\n",
              "\n",
              "// Listen for the removal of the full notebook cells\n",
              "var notebookContainer = gd.closest('#notebook-container');\n",
              "if (notebookContainer) {{\n",
              "    x.observe(notebookContainer, {childList: true});\n",
              "}}\n",
              "\n",
              "// Listen for the clearing of the current output cell\n",
              "var outputEl = gd.closest('.output');\n",
              "if (outputEl) {{\n",
              "    x.observe(outputEl, {childList: true});\n",
              "}}\n",
              "\n",
              "                        })                };                            </script>        </div>\n",
              "</body>\n",
              "</html>"
            ]
          },
          "metadata": {}
        }
      ]
    },
    {
      "cell_type": "markdown",
      "source": [
        "# distribution of daughter's height relative to father's height"
      ],
      "metadata": {
        "id": "H6nL0geNXlVo"
      }
    },
    {
      "cell_type": "code",
      "source": [
        "# prompt: distribution of daughter's height relative to father's height\n",
        "\n",
        "figure = px.scatter(data_frame = df[df['gender'] == 0], x=\"father\", y=\"height\", size =\"kids\", color_discrete_sequence=[\"blue\"], trendline=\"ols\")\n",
        "# Manually change the trendline color\n",
        "for trace in figure.data:\n",
        "    if trace.mode == 'lines':  # This is the trendline trace\n",
        "        trace.line.color = 'red'  # Change this to the color you prefer\n",
        "figure.show()\n"
      ],
      "metadata": {
        "colab": {
          "base_uri": "https://localhost:8080/",
          "height": 542
        },
        "id": "CdeKV-SzXqfD",
        "outputId": "8435b54b-9feb-4fe7-ce9f-a5176d7f7f7b"
      },
      "execution_count": 16,
      "outputs": [
        {
          "output_type": "display_data",
          "data": {
            "text/html": [
              "<html>\n",
              "<head><meta charset=\"utf-8\" /></head>\n",
              "<body>\n",
              "    <div>            <script src=\"https://cdnjs.cloudflare.com/ajax/libs/mathjax/2.7.5/MathJax.js?config=TeX-AMS-MML_SVG\"></script><script type=\"text/javascript\">if (window.MathJax && window.MathJax.Hub && window.MathJax.Hub.Config) {window.MathJax.Hub.Config({SVG: {font: \"STIX-Web\"}});}</script>                <script type=\"text/javascript\">window.PlotlyConfig = {MathJaxConfig: 'local'};</script>\n",
              "        <script charset=\"utf-8\" src=\"https://cdn.plot.ly/plotly-2.35.2.min.js\"></script>                <div id=\"033a1944-7029-418e-900c-04ab8f2f4ce4\" class=\"plotly-graph-div\" style=\"height:525px; width:100%;\"></div>            <script type=\"text/javascript\">                                    window.PLOTLYENV=window.PLOTLYENV || {};                                    if (document.getElementById(\"033a1944-7029-418e-900c-04ab8f2f4ce4\")) {                    Plotly.newPlot(                        \"033a1944-7029-418e-900c-04ab8f2f4ce4\",                        [{\"hovertemplate\":\"father=%{x}\\u003cbr\\u003eheight=%{y}\\u003cbr\\u003ekids=%{marker.size}\\u003cextra\\u003e\\u003c\\u002fextra\\u003e\",\"legendgroup\":\"\",\"marker\":{\"color\":\"blue\",\"size\":[4,4,4,4,4,2,5,5,5,6,6,6,1,6,6,3,3,3,1,1,8,8,8,8,8,8,1,3,9,9,9,9,6,6,3,3,3,1,8,8,8,8,8,3,3,3,7,7,7,7,1,2,2,5,5,3,6,6,6,6,3,3,3,1,6,6,6,5,5,5,1,5,4,4,4,4,6,6,6,2,5,6,6,2,3,8,8,8,8,8,8,8,8,4,7,7,7,7,2,2,5,5,5,9,9,9,9,9,4,5,5,5,5,5,5,5,5,5,7,7,1,4,6,6,6,6,5,5,5,1,11,11,11,11,11,11,11,5,5,5,5,5,8,8,8,5,5,5,6,6,6,6,7,7,7,7,3,7,7,7,7,7,4,5,5,5,8,8,1,4,4,4,9,9,9,8,8,8,8,8,5,5,4,4,4,4,4,4,8,8,8,7,7,7,3,4,4,2,2,3,5,5,5,10,10,10,10,10,10,10,1,8,8,8,8,6,6,6,5,4,4,6,6,6,6,6,7,7,7,9,9,9,9,9,7,7,7,7,7,7,7,7,4,4,3,3,6,6,7,7,7,7,3,3,1,5,8,8,8,8,4,4,5,5,9,9,9,3,3,4,4,2,3,11,2,7,7,7,4,4,8,8,8,8,10,10,10,10,10,10,4,4,5,1,10,10,10,10,10,10,10,8,8,8,4,4,4,8,8,8,6,6,6,5,2,5,5,7,7,7,7,7,7,4,10,10,10,10,5,5,6,6,6,6,5,5,5,4,4,3,3,11,11,11,11,11,11,11,11,11,8,3,5,8,8,8,9,9,9,9,9,9,5,5,5,6,6,6,6,8,8,8,8,5,5,2,2,6,6,6,7,7,7,7,7,4,15,15,15,15,15,15,15,15,4,1,4,4,4,9,9,9,9,9,9,2,6,6,6,6,6,6,2,3,4,5,7,7,7,7,7,7,7,7,7,7,2,3,3,2],\"sizemode\":\"area\",\"sizeref\":0.0375,\"symbol\":\"circle\"},\"mode\":\"markers\",\"name\":\"\",\"orientation\":\"v\",\"showlegend\":false,\"x\":[78.5,78.5,78.5,75.5,75.5,75.0,75.0,75.0,75.0,75.0,75.0,75.0,74.0,74.0,74.0,74.0,74.0,74.0,74.5,74.0,74.0,74.0,74.0,74.0,74.0,74.0,74.0,73.0,73.0,73.0,73.0,73.0,73.0,73.0,73.0,73.0,73.0,73.2,72.7,72.7,72.7,72.7,72.7,72.0,72.0,72.0,72.0,72.0,72.0,72.0,72.0,72.0,72.0,72.0,72.0,72.0,72.0,72.0,72.0,72.0,72.5,72.5,72.5,72.0,72.5,72.5,72.5,72.0,72.0,72.0,72.0,71.0,71.0,71.0,71.0,71.0,71.0,71.0,71.0,71.0,71.0,71.0,71.0,71.5,71.0,71.0,71.0,71.0,71.0,71.0,71.0,71.0,71.0,71.7,71.5,71.5,71.5,71.5,71.2,71.2,71.0,71.0,71.0,71.0,71.0,71.0,71.0,71.0,71.0,71.0,71.0,71.0,71.0,71.0,71.0,71.0,71.0,71.0,71.0,71.0,71.0,70.0,70.0,70.0,70.0,70.0,70.0,70.0,70.0,70.0,70.0,70.0,70.0,70.0,70.0,70.0,70.0,70.5,70.5,70.5,70.5,70.5,70.0,70.0,70.0,70.0,70.0,70.0,70.0,70.0,70.0,70.0,70.0,70.0,70.0,70.0,70.0,70.0,70.0,70.0,70.0,70.0,70.0,70.0,70.0,70.0,70.5,70.5,70.5,70.0,70.0,70.0,70.0,70.0,70.0,70.0,70.0,70.0,70.0,70.0,70.5,70.5,70.0,70.0,70.0,70.0,70.0,70.0,70.5,70.5,70.5,70.3,70.3,70.3,70.5,70.0,70.0,70.0,70.0,70.0,70.0,70.0,70.0,69.0,69.0,69.0,69.0,69.0,69.0,69.0,69.0,69.0,69.0,69.0,69.0,69.0,69.0,69.0,69.0,69.5,69.5,69.0,69.0,69.0,69.0,69.0,69.5,69.5,69.5,69.0,69.0,69.0,69.0,69.0,69.0,69.0,69.0,69.0,69.5,69.5,69.5,69.5,69.2,69.2,69.0,69.0,69.0,69.0,69.0,69.0,69.0,69.0,69.0,69.0,69.7,69.0,69.0,69.0,69.0,69.0,69.0,69.0,69.5,69.5,69.0,69.0,69.0,69.0,69.0,69.0,69.0,68.7,68.5,68.5,68.0,68.0,68.0,68.0,68.0,68.0,68.5,68.5,68.5,68.5,68.0,68.0,68.0,68.0,68.0,68.0,68.0,68.0,68.0,68.0,68.0,68.0,68.0,68.0,68.0,68.0,68.0,68.0,68.0,68.0,68.5,68.0,68.0,68.0,68.0,68.0,68.0,68.0,68.0,68.2,68.7,68.0,68.0,68.0,68.0,68.0,68.0,68.0,68.0,68.0,68.0,68.0,68.0,68.0,67.0,67.0,67.0,67.0,67.0,67.0,67.0,67.0,67.0,67.0,67.0,67.0,67.0,67.5,67.5,67.5,67.5,67.5,67.5,67.5,67.5,67.5,67.0,67.0,67.5,66.0,66.0,66.0,66.0,66.0,66.0,66.0,66.0,66.0,66.0,66.0,66.0,66.0,66.0,66.0,66.0,66.5,66.5,66.5,66.5,66.0,66.0,66.0,66.0,66.5,66.5,66.5,66.5,66.5,66.5,66.5,66.5,66.0,66.0,66.0,66.0,66.0,66.0,66.0,66.0,66.0,65.0,65.0,65.0,65.0,65.0,65.0,65.0,65.0,65.0,65.0,65.0,65.0,65.0,65.0,65.0,65.0,65.0,65.0,65.0,65.0,65.5,65.5,64.0,64.0,64.0,64.0,64.0,64.0,64.0,64.0,64.0,64.0,64.0,62.0,62.0,62.5],\"xaxis\":\"x\",\"y\":[69.2,69.0,69.0,65.5,65.5,68.0,67.0,64.5,63.0,66.5,62.5,62.5,69.5,70.5,64.0,70.5,68.0,66.0,66.0,65.5,68.0,67.0,67.0,66.0,63.5,63.0,65.0,66.7,68.7,66.5,64.5,63.5,66.5,62.3,66.0,64.5,64.0,62.7,70.0,69.0,68.5,68.0,66.0,68.5,68.0,67.0,66.0,65.5,65.0,65.0,65.5,66.0,63.0,65.0,63.0,63.0,70.5,70.0,66.5,63.0,67.5,67.2,66.7,64.0,66.0,65.0,65.0,67.5,63.5,68.0,65.7,67.0,67.0,67.0,67.0,66.5,66.0,64.5,63.0,67.0,66.0,66.0,65.0,65.2,62.0,68.0,68.0,67.5,66.5,66.5,66.0,65.5,65.0,67.0,66.0,64.5,64.5,62.0,67.5,64.5,66.0,65.0,63.5,65.0,65.0,64.0,63.0,63.0,63.5,64.5,62.5,61.5,64.5,60.0,64.0,64.0,64.0,62.5,64.5,64.0,62.0,69.0,68.0,66.0,64.0,62.0,66.0,64.0,60.0,67.5,69.2,67.2,66.5,66.0,66.0,64.2,63.7,68.0,65.0,61.5,61.0,61.0,64.5,63.0,62.0,64.5,62.5,62.5,67.0,65.0,65.0,63.0,69.0,67.0,65.7,62.0,65.0,66.5,65.5,64.7,64.5,67.0,65.5,62.5,61.2,60.1,65.5,65.0,60.0,65.0,64.0,62.0,69.0,65.0,64.0,63.7,63.2,62.5,62.2,61.0,64.5,64.0,67.5,63.5,63.7,62.0,62.0,61.0,65.0,64.0,63.0,64.0,63.5,63.2,60.0,65.0,63.0,65.0,65.0,63.0,66.0,65.0,63.0,66.0,66.0,65.5,65.0,65.0,64.0,64.0,64.0,65.5,65.0,62.7,62.5,65.0,63.0,62.5,61.0,64.5,64.0,68.5,67.5,66.0,63.0,63.0,66.5,65.5,64.5,66.5,65.5,65.5,65.0,64.0,65.0,64.0,63.5,61.0,65.2,64.5,63.7,60.0,65.0,63.5,67.5,63.5,66.0,62.0,65.0,63.0,62.0,61.0,63.7,63.0,62.5,63.0,63.5,62.5,62.5,62.0,66.0,66.0,63.0,62.0,63.5,62.0,62.0,68.0,62.5,61.7,60.5,61.7,67.0,63.2,64.0,66.5,65.2,61.5,68.0,66.0,62.0,61.5,61.0,60.0,65.0,64.0,63.0,63.0,62.0,61.0,65.5,62.0,62.5,62.0,66.0,66.0,65.0,65.0,65.0,64.0,63.0,66.0,62.0,61.5,65.5,64.5,64.0,63.0,62.0,62.0,64.0,63.5,61.0,64.5,61.7,63.5,63.0,61.0,61.0,60.0,60.0,60.0,56.0,60.0,65.0,65.0,62.0,61.0,65.5,63.5,65.5,65.0,64.5,63.5,65.5,65.5,63.0,63.0,60.0,62.0,62.0,64.0,64.0,63.0,63.0,63.0,63.0,63.0,62.5,62.0,63.5,63.0,66.0,62.0,62.0,61.5,67.0,64.0,64.0,62.0,60.0,60.0,67.0,66.5,65.5,66.0,65.0,62.0,61.0,62.5,60.5,60.5,57.5,66.0,65.0,64.5,62.0,65.0,65.0,63.0,63.5,62.5,62.5,62.5,62.5,60.0,65.0,64.0,63.0,62.0,61.0,60.0,58.0,57.0,65.0,63.0,63.0,63.0,60.0,65.0,65.0,62.0,62.0,61.0,59.0,65.5,64.5,60.5,64.0,64.0,62.5,60.5,63.0,63.0,63.5,62.0,65.5,64.0,62.0,62.0,61.0,67.0,65.0,64.0,64.0,60.0,60.0,62.0,61.0,57.0],\"yaxis\":\"y\",\"type\":\"scatter\"},{\"hovertemplate\":\"\\u003cb\\u003eOLS trendline\\u003c\\u002fb\\u003e\\u003cbr\\u003eheight = 0.411376 * father + 35.6028\\u003cbr\\u003eR\\u003csup\\u003e2\\u003c\\u002fsup\\u003e=0.210236\\u003cbr\\u003e\\u003cbr\\u003efather=%{x}\\u003cbr\\u003eheight=%{y} \\u003cb\\u003e(trend)\\u003c\\u002fb\\u003e\\u003cextra\\u003e\\u003c\\u002fextra\\u003e\",\"legendgroup\":\"\",\"marker\":{\"color\":\"blue\",\"symbol\":\"circle\"},\"mode\":\"lines\",\"name\":\"\",\"showlegend\":false,\"x\":[62.0,62.0,62.5,64.0,64.0,64.0,64.0,64.0,64.0,64.0,64.0,64.0,64.0,64.0,65.0,65.0,65.0,65.0,65.0,65.0,65.0,65.0,65.0,65.0,65.0,65.0,65.0,65.0,65.0,65.0,65.0,65.0,65.0,65.0,65.5,65.5,66.0,66.0,66.0,66.0,66.0,66.0,66.0,66.0,66.0,66.0,66.0,66.0,66.0,66.0,66.0,66.0,66.0,66.0,66.0,66.0,66.0,66.0,66.0,66.0,66.0,66.0,66.0,66.0,66.0,66.5,66.5,66.5,66.5,66.5,66.5,66.5,66.5,66.5,66.5,66.5,66.5,67.0,67.0,67.0,67.0,67.0,67.0,67.0,67.0,67.0,67.0,67.0,67.0,67.0,67.0,67.0,67.5,67.5,67.5,67.5,67.5,67.5,67.5,67.5,67.5,67.5,68.0,68.0,68.0,68.0,68.0,68.0,68.0,68.0,68.0,68.0,68.0,68.0,68.0,68.0,68.0,68.0,68.0,68.0,68.0,68.0,68.0,68.0,68.0,68.0,68.0,68.0,68.0,68.0,68.0,68.0,68.0,68.0,68.0,68.0,68.0,68.0,68.0,68.0,68.0,68.0,68.0,68.0,68.0,68.0,68.0,68.0,68.0,68.2,68.5,68.5,68.5,68.5,68.5,68.5,68.5,68.7,68.7,69.0,69.0,69.0,69.0,69.0,69.0,69.0,69.0,69.0,69.0,69.0,69.0,69.0,69.0,69.0,69.0,69.0,69.0,69.0,69.0,69.0,69.0,69.0,69.0,69.0,69.0,69.0,69.0,69.0,69.0,69.0,69.0,69.0,69.0,69.0,69.0,69.0,69.0,69.0,69.0,69.0,69.0,69.0,69.0,69.0,69.0,69.0,69.0,69.0,69.0,69.0,69.0,69.0,69.0,69.2,69.2,69.5,69.5,69.5,69.5,69.5,69.5,69.5,69.5,69.5,69.5,69.5,69.7,70.0,70.0,70.0,70.0,70.0,70.0,70.0,70.0,70.0,70.0,70.0,70.0,70.0,70.0,70.0,70.0,70.0,70.0,70.0,70.0,70.0,70.0,70.0,70.0,70.0,70.0,70.0,70.0,70.0,70.0,70.0,70.0,70.0,70.0,70.0,70.0,70.0,70.0,70.0,70.0,70.0,70.0,70.0,70.0,70.0,70.0,70.0,70.0,70.0,70.0,70.0,70.0,70.0,70.0,70.0,70.0,70.0,70.0,70.0,70.0,70.0,70.0,70.0,70.0,70.0,70.3,70.3,70.3,70.5,70.5,70.5,70.5,70.5,70.5,70.5,70.5,70.5,70.5,70.5,70.5,70.5,70.5,71.0,71.0,71.0,71.0,71.0,71.0,71.0,71.0,71.0,71.0,71.0,71.0,71.0,71.0,71.0,71.0,71.0,71.0,71.0,71.0,71.0,71.0,71.0,71.0,71.0,71.0,71.0,71.0,71.0,71.0,71.0,71.0,71.0,71.0,71.0,71.0,71.0,71.0,71.0,71.0,71.0,71.0,71.2,71.2,71.5,71.5,71.5,71.5,71.5,71.7,72.0,72.0,72.0,72.0,72.0,72.0,72.0,72.0,72.0,72.0,72.0,72.0,72.0,72.0,72.0,72.0,72.0,72.0,72.0,72.0,72.0,72.0,72.5,72.5,72.5,72.5,72.5,72.5,72.7,72.7,72.7,72.7,72.7,73.0,73.0,73.0,73.0,73.0,73.0,73.0,73.0,73.0,73.0,73.2,74.0,74.0,74.0,74.0,74.0,74.0,74.0,74.0,74.0,74.0,74.0,74.0,74.0,74.0,74.5,75.0,75.0,75.0,75.0,75.0,75.0,75.0,75.5,75.5,78.5,78.5,78.5],\"xaxis\":\"x\",\"y\":[61.108118729194885,61.108118729194885,61.313806888952755,61.930871368226356,61.930871368226356,61.930871368226356,61.930871368226356,61.930871368226356,61.930871368226356,61.930871368226356,61.930871368226356,61.930871368226356,61.930871368226356,61.930871368226356,62.34224768774209,62.34224768774209,62.34224768774209,62.34224768774209,62.34224768774209,62.34224768774209,62.34224768774209,62.34224768774209,62.34224768774209,62.34224768774209,62.34224768774209,62.34224768774209,62.34224768774209,62.34224768774209,62.34224768774209,62.34224768774209,62.34224768774209,62.34224768774209,62.34224768774209,62.34224768774209,62.54793584749996,62.54793584749996,62.75362400725783,62.75362400725783,62.75362400725783,62.75362400725783,62.75362400725783,62.75362400725783,62.75362400725783,62.75362400725783,62.75362400725783,62.75362400725783,62.75362400725783,62.75362400725783,62.75362400725783,62.75362400725783,62.75362400725783,62.75362400725783,62.75362400725783,62.75362400725783,62.75362400725783,62.75362400725783,62.75362400725783,62.75362400725783,62.75362400725783,62.75362400725783,62.75362400725783,62.75362400725783,62.75362400725783,62.75362400725783,62.75362400725783,62.959312167015696,62.959312167015696,62.959312167015696,62.959312167015696,62.959312167015696,62.959312167015696,62.959312167015696,62.959312167015696,62.959312167015696,62.959312167015696,62.959312167015696,62.959312167015696,63.165000326773566,63.165000326773566,63.165000326773566,63.165000326773566,63.165000326773566,63.165000326773566,63.165000326773566,63.165000326773566,63.165000326773566,63.165000326773566,63.165000326773566,63.165000326773566,63.165000326773566,63.165000326773566,63.165000326773566,63.370688486531435,63.370688486531435,63.370688486531435,63.370688486531435,63.370688486531435,63.370688486531435,63.370688486531435,63.370688486531435,63.370688486531435,63.370688486531435,63.576376646289305,63.576376646289305,63.576376646289305,63.576376646289305,63.576376646289305,63.576376646289305,63.576376646289305,63.576376646289305,63.576376646289305,63.576376646289305,63.576376646289305,63.576376646289305,63.576376646289305,63.576376646289305,63.576376646289305,63.576376646289305,63.576376646289305,63.576376646289305,63.576376646289305,63.576376646289305,63.576376646289305,63.576376646289305,63.576376646289305,63.576376646289305,63.576376646289305,63.576376646289305,63.576376646289305,63.576376646289305,63.576376646289305,63.576376646289305,63.576376646289305,63.576376646289305,63.576376646289305,63.576376646289305,63.576376646289305,63.576376646289305,63.576376646289305,63.576376646289305,63.576376646289305,63.576376646289305,63.576376646289305,63.576376646289305,63.576376646289305,63.576376646289305,63.576376646289305,63.576376646289305,63.576376646289305,63.658651910192454,63.782064806047174,63.782064806047174,63.782064806047174,63.782064806047174,63.782064806047174,63.782064806047174,63.782064806047174,63.864340069950316,63.864340069950316,63.98775296580504,63.98775296580504,63.98775296580504,63.98775296580504,63.98775296580504,63.98775296580504,63.98775296580504,63.98775296580504,63.98775296580504,63.98775296580504,63.98775296580504,63.98775296580504,63.98775296580504,63.98775296580504,63.98775296580504,63.98775296580504,63.98775296580504,63.98775296580504,63.98775296580504,63.98775296580504,63.98775296580504,63.98775296580504,63.98775296580504,63.98775296580504,63.98775296580504,63.98775296580504,63.98775296580504,63.98775296580504,63.98775296580504,63.98775296580504,63.98775296580504,63.98775296580504,63.98775296580504,63.98775296580504,63.98775296580504,63.98775296580504,63.98775296580504,63.98775296580504,63.98775296580504,63.98775296580504,63.98775296580504,63.98775296580504,63.98775296580504,63.98775296580504,63.98775296580504,63.98775296580504,63.98775296580504,63.98775296580504,63.98775296580504,63.98775296580504,63.98775296580504,63.98775296580504,63.98775296580504,63.98775296580504,64.07002822970819,64.07002822970819,64.19344112556291,64.19344112556291,64.19344112556291,64.19344112556291,64.19344112556291,64.19344112556291,64.19344112556291,64.19344112556291,64.19344112556291,64.19344112556291,64.19344112556291,64.27571638946606,64.39912928532078,64.39912928532078,64.39912928532078,64.39912928532078,64.39912928532078,64.39912928532078,64.39912928532078,64.39912928532078,64.39912928532078,64.39912928532078,64.39912928532078,64.39912928532078,64.39912928532078,64.39912928532078,64.39912928532078,64.39912928532078,64.39912928532078,64.39912928532078,64.39912928532078,64.39912928532078,64.39912928532078,64.39912928532078,64.39912928532078,64.39912928532078,64.39912928532078,64.39912928532078,64.39912928532078,64.39912928532078,64.39912928532078,64.39912928532078,64.39912928532078,64.39912928532078,64.39912928532078,64.39912928532078,64.39912928532078,64.39912928532078,64.39912928532078,64.39912928532078,64.39912928532078,64.39912928532078,64.39912928532078,64.39912928532078,64.39912928532078,64.39912928532078,64.39912928532078,64.39912928532078,64.39912928532078,64.39912928532078,64.39912928532078,64.39912928532078,64.39912928532078,64.39912928532078,64.39912928532078,64.39912928532078,64.39912928532078,64.39912928532078,64.39912928532078,64.39912928532078,64.39912928532078,64.39912928532078,64.39912928532078,64.39912928532078,64.39912928532078,64.39912928532078,64.39912928532078,64.5225421811755,64.5225421811755,64.5225421811755,64.60481744507865,64.60481744507865,64.60481744507865,64.60481744507865,64.60481744507865,64.60481744507865,64.60481744507865,64.60481744507865,64.60481744507865,64.60481744507865,64.60481744507865,64.60481744507865,64.60481744507865,64.60481744507865,64.81050560483652,64.81050560483652,64.81050560483652,64.81050560483652,64.81050560483652,64.81050560483652,64.81050560483652,64.81050560483652,64.81050560483652,64.81050560483652,64.81050560483652,64.81050560483652,64.81050560483652,64.81050560483652,64.81050560483652,64.81050560483652,64.81050560483652,64.81050560483652,64.81050560483652,64.81050560483652,64.81050560483652,64.81050560483652,64.81050560483652,64.81050560483652,64.81050560483652,64.81050560483652,64.81050560483652,64.81050560483652,64.81050560483652,64.81050560483652,64.81050560483652,64.81050560483652,64.81050560483652,64.81050560483652,64.81050560483652,64.81050560483652,64.81050560483652,64.81050560483652,64.81050560483652,64.81050560483652,64.81050560483652,64.81050560483652,64.89278086873966,64.89278086873966,65.01619376459439,65.01619376459439,65.01619376459439,65.01619376459439,65.01619376459439,65.09846902849753,65.22188192435226,65.22188192435226,65.22188192435226,65.22188192435226,65.22188192435226,65.22188192435226,65.22188192435226,65.22188192435226,65.22188192435226,65.22188192435226,65.22188192435226,65.22188192435226,65.22188192435226,65.22188192435226,65.22188192435226,65.22188192435226,65.22188192435226,65.22188192435226,65.22188192435226,65.22188192435226,65.22188192435226,65.22188192435226,65.42757008411012,65.42757008411012,65.42757008411012,65.42757008411012,65.42757008411012,65.42757008411012,65.50984534801327,65.50984534801327,65.50984534801327,65.50984534801327,65.50984534801327,65.63325824386799,65.63325824386799,65.63325824386799,65.63325824386799,65.63325824386799,65.63325824386799,65.63325824386799,65.63325824386799,65.63325824386799,65.63325824386799,65.71553350777114,66.04463456338372,66.04463456338372,66.04463456338372,66.04463456338372,66.04463456338372,66.04463456338372,66.04463456338372,66.04463456338372,66.04463456338372,66.04463456338372,66.04463456338372,66.04463456338372,66.04463456338372,66.04463456338372,66.2503227231416,66.45601088289946,66.45601088289946,66.45601088289946,66.45601088289946,66.45601088289946,66.45601088289946,66.45601088289946,66.66169904265733,66.66169904265733,67.89582800120453,67.89582800120453,67.89582800120453],\"yaxis\":\"y\",\"type\":\"scatter\",\"line\":{\"color\":\"red\"}}],                        {\"template\":{\"data\":{\"histogram2dcontour\":[{\"type\":\"histogram2dcontour\",\"colorbar\":{\"outlinewidth\":0,\"ticks\":\"\"},\"colorscale\":[[0.0,\"#0d0887\"],[0.1111111111111111,\"#46039f\"],[0.2222222222222222,\"#7201a8\"],[0.3333333333333333,\"#9c179e\"],[0.4444444444444444,\"#bd3786\"],[0.5555555555555556,\"#d8576b\"],[0.6666666666666666,\"#ed7953\"],[0.7777777777777778,\"#fb9f3a\"],[0.8888888888888888,\"#fdca26\"],[1.0,\"#f0f921\"]]}],\"choropleth\":[{\"type\":\"choropleth\",\"colorbar\":{\"outlinewidth\":0,\"ticks\":\"\"}}],\"histogram2d\":[{\"type\":\"histogram2d\",\"colorbar\":{\"outlinewidth\":0,\"ticks\":\"\"},\"colorscale\":[[0.0,\"#0d0887\"],[0.1111111111111111,\"#46039f\"],[0.2222222222222222,\"#7201a8\"],[0.3333333333333333,\"#9c179e\"],[0.4444444444444444,\"#bd3786\"],[0.5555555555555556,\"#d8576b\"],[0.6666666666666666,\"#ed7953\"],[0.7777777777777778,\"#fb9f3a\"],[0.8888888888888888,\"#fdca26\"],[1.0,\"#f0f921\"]]}],\"heatmap\":[{\"type\":\"heatmap\",\"colorbar\":{\"outlinewidth\":0,\"ticks\":\"\"},\"colorscale\":[[0.0,\"#0d0887\"],[0.1111111111111111,\"#46039f\"],[0.2222222222222222,\"#7201a8\"],[0.3333333333333333,\"#9c179e\"],[0.4444444444444444,\"#bd3786\"],[0.5555555555555556,\"#d8576b\"],[0.6666666666666666,\"#ed7953\"],[0.7777777777777778,\"#fb9f3a\"],[0.8888888888888888,\"#fdca26\"],[1.0,\"#f0f921\"]]}],\"heatmapgl\":[{\"type\":\"heatmapgl\",\"colorbar\":{\"outlinewidth\":0,\"ticks\":\"\"},\"colorscale\":[[0.0,\"#0d0887\"],[0.1111111111111111,\"#46039f\"],[0.2222222222222222,\"#7201a8\"],[0.3333333333333333,\"#9c179e\"],[0.4444444444444444,\"#bd3786\"],[0.5555555555555556,\"#d8576b\"],[0.6666666666666666,\"#ed7953\"],[0.7777777777777778,\"#fb9f3a\"],[0.8888888888888888,\"#fdca26\"],[1.0,\"#f0f921\"]]}],\"contourcarpet\":[{\"type\":\"contourcarpet\",\"colorbar\":{\"outlinewidth\":0,\"ticks\":\"\"}}],\"contour\":[{\"type\":\"contour\",\"colorbar\":{\"outlinewidth\":0,\"ticks\":\"\"},\"colorscale\":[[0.0,\"#0d0887\"],[0.1111111111111111,\"#46039f\"],[0.2222222222222222,\"#7201a8\"],[0.3333333333333333,\"#9c179e\"],[0.4444444444444444,\"#bd3786\"],[0.5555555555555556,\"#d8576b\"],[0.6666666666666666,\"#ed7953\"],[0.7777777777777778,\"#fb9f3a\"],[0.8888888888888888,\"#fdca26\"],[1.0,\"#f0f921\"]]}],\"surface\":[{\"type\":\"surface\",\"colorbar\":{\"outlinewidth\":0,\"ticks\":\"\"},\"colorscale\":[[0.0,\"#0d0887\"],[0.1111111111111111,\"#46039f\"],[0.2222222222222222,\"#7201a8\"],[0.3333333333333333,\"#9c179e\"],[0.4444444444444444,\"#bd3786\"],[0.5555555555555556,\"#d8576b\"],[0.6666666666666666,\"#ed7953\"],[0.7777777777777778,\"#fb9f3a\"],[0.8888888888888888,\"#fdca26\"],[1.0,\"#f0f921\"]]}],\"mesh3d\":[{\"type\":\"mesh3d\",\"colorbar\":{\"outlinewidth\":0,\"ticks\":\"\"}}],\"scatter\":[{\"fillpattern\":{\"fillmode\":\"overlay\",\"size\":10,\"solidity\":0.2},\"type\":\"scatter\"}],\"parcoords\":[{\"type\":\"parcoords\",\"line\":{\"colorbar\":{\"outlinewidth\":0,\"ticks\":\"\"}}}],\"scatterpolargl\":[{\"type\":\"scatterpolargl\",\"marker\":{\"colorbar\":{\"outlinewidth\":0,\"ticks\":\"\"}}}],\"bar\":[{\"error_x\":{\"color\":\"#2a3f5f\"},\"error_y\":{\"color\":\"#2a3f5f\"},\"marker\":{\"line\":{\"color\":\"#E5ECF6\",\"width\":0.5},\"pattern\":{\"fillmode\":\"overlay\",\"size\":10,\"solidity\":0.2}},\"type\":\"bar\"}],\"scattergeo\":[{\"type\":\"scattergeo\",\"marker\":{\"colorbar\":{\"outlinewidth\":0,\"ticks\":\"\"}}}],\"scatterpolar\":[{\"type\":\"scatterpolar\",\"marker\":{\"colorbar\":{\"outlinewidth\":0,\"ticks\":\"\"}}}],\"histogram\":[{\"marker\":{\"pattern\":{\"fillmode\":\"overlay\",\"size\":10,\"solidity\":0.2}},\"type\":\"histogram\"}],\"scattergl\":[{\"type\":\"scattergl\",\"marker\":{\"colorbar\":{\"outlinewidth\":0,\"ticks\":\"\"}}}],\"scatter3d\":[{\"type\":\"scatter3d\",\"line\":{\"colorbar\":{\"outlinewidth\":0,\"ticks\":\"\"}},\"marker\":{\"colorbar\":{\"outlinewidth\":0,\"ticks\":\"\"}}}],\"scattermapbox\":[{\"type\":\"scattermapbox\",\"marker\":{\"colorbar\":{\"outlinewidth\":0,\"ticks\":\"\"}}}],\"scatterternary\":[{\"type\":\"scatterternary\",\"marker\":{\"colorbar\":{\"outlinewidth\":0,\"ticks\":\"\"}}}],\"scattercarpet\":[{\"type\":\"scattercarpet\",\"marker\":{\"colorbar\":{\"outlinewidth\":0,\"ticks\":\"\"}}}],\"carpet\":[{\"aaxis\":{\"endlinecolor\":\"#2a3f5f\",\"gridcolor\":\"white\",\"linecolor\":\"white\",\"minorgridcolor\":\"white\",\"startlinecolor\":\"#2a3f5f\"},\"baxis\":{\"endlinecolor\":\"#2a3f5f\",\"gridcolor\":\"white\",\"linecolor\":\"white\",\"minorgridcolor\":\"white\",\"startlinecolor\":\"#2a3f5f\"},\"type\":\"carpet\"}],\"table\":[{\"cells\":{\"fill\":{\"color\":\"#EBF0F8\"},\"line\":{\"color\":\"white\"}},\"header\":{\"fill\":{\"color\":\"#C8D4E3\"},\"line\":{\"color\":\"white\"}},\"type\":\"table\"}],\"barpolar\":[{\"marker\":{\"line\":{\"color\":\"#E5ECF6\",\"width\":0.5},\"pattern\":{\"fillmode\":\"overlay\",\"size\":10,\"solidity\":0.2}},\"type\":\"barpolar\"}],\"pie\":[{\"automargin\":true,\"type\":\"pie\"}]},\"layout\":{\"autotypenumbers\":\"strict\",\"colorway\":[\"#636efa\",\"#EF553B\",\"#00cc96\",\"#ab63fa\",\"#FFA15A\",\"#19d3f3\",\"#FF6692\",\"#B6E880\",\"#FF97FF\",\"#FECB52\"],\"font\":{\"color\":\"#2a3f5f\"},\"hovermode\":\"closest\",\"hoverlabel\":{\"align\":\"left\"},\"paper_bgcolor\":\"white\",\"plot_bgcolor\":\"#E5ECF6\",\"polar\":{\"bgcolor\":\"#E5ECF6\",\"angularaxis\":{\"gridcolor\":\"white\",\"linecolor\":\"white\",\"ticks\":\"\"},\"radialaxis\":{\"gridcolor\":\"white\",\"linecolor\":\"white\",\"ticks\":\"\"}},\"ternary\":{\"bgcolor\":\"#E5ECF6\",\"aaxis\":{\"gridcolor\":\"white\",\"linecolor\":\"white\",\"ticks\":\"\"},\"baxis\":{\"gridcolor\":\"white\",\"linecolor\":\"white\",\"ticks\":\"\"},\"caxis\":{\"gridcolor\":\"white\",\"linecolor\":\"white\",\"ticks\":\"\"}},\"coloraxis\":{\"colorbar\":{\"outlinewidth\":0,\"ticks\":\"\"}},\"colorscale\":{\"sequential\":[[0.0,\"#0d0887\"],[0.1111111111111111,\"#46039f\"],[0.2222222222222222,\"#7201a8\"],[0.3333333333333333,\"#9c179e\"],[0.4444444444444444,\"#bd3786\"],[0.5555555555555556,\"#d8576b\"],[0.6666666666666666,\"#ed7953\"],[0.7777777777777778,\"#fb9f3a\"],[0.8888888888888888,\"#fdca26\"],[1.0,\"#f0f921\"]],\"sequentialminus\":[[0.0,\"#0d0887\"],[0.1111111111111111,\"#46039f\"],[0.2222222222222222,\"#7201a8\"],[0.3333333333333333,\"#9c179e\"],[0.4444444444444444,\"#bd3786\"],[0.5555555555555556,\"#d8576b\"],[0.6666666666666666,\"#ed7953\"],[0.7777777777777778,\"#fb9f3a\"],[0.8888888888888888,\"#fdca26\"],[1.0,\"#f0f921\"]],\"diverging\":[[0,\"#8e0152\"],[0.1,\"#c51b7d\"],[0.2,\"#de77ae\"],[0.3,\"#f1b6da\"],[0.4,\"#fde0ef\"],[0.5,\"#f7f7f7\"],[0.6,\"#e6f5d0\"],[0.7,\"#b8e186\"],[0.8,\"#7fbc41\"],[0.9,\"#4d9221\"],[1,\"#276419\"]]},\"xaxis\":{\"gridcolor\":\"white\",\"linecolor\":\"white\",\"ticks\":\"\",\"title\":{\"standoff\":15},\"zerolinecolor\":\"white\",\"automargin\":true,\"zerolinewidth\":2},\"yaxis\":{\"gridcolor\":\"white\",\"linecolor\":\"white\",\"ticks\":\"\",\"title\":{\"standoff\":15},\"zerolinecolor\":\"white\",\"automargin\":true,\"zerolinewidth\":2},\"scene\":{\"xaxis\":{\"backgroundcolor\":\"#E5ECF6\",\"gridcolor\":\"white\",\"linecolor\":\"white\",\"showbackground\":true,\"ticks\":\"\",\"zerolinecolor\":\"white\",\"gridwidth\":2},\"yaxis\":{\"backgroundcolor\":\"#E5ECF6\",\"gridcolor\":\"white\",\"linecolor\":\"white\",\"showbackground\":true,\"ticks\":\"\",\"zerolinecolor\":\"white\",\"gridwidth\":2},\"zaxis\":{\"backgroundcolor\":\"#E5ECF6\",\"gridcolor\":\"white\",\"linecolor\":\"white\",\"showbackground\":true,\"ticks\":\"\",\"zerolinecolor\":\"white\",\"gridwidth\":2}},\"shapedefaults\":{\"line\":{\"color\":\"#2a3f5f\"}},\"annotationdefaults\":{\"arrowcolor\":\"#2a3f5f\",\"arrowhead\":0,\"arrowwidth\":1},\"geo\":{\"bgcolor\":\"white\",\"landcolor\":\"#E5ECF6\",\"subunitcolor\":\"white\",\"showland\":true,\"showlakes\":true,\"lakecolor\":\"white\"},\"title\":{\"x\":0.05},\"mapbox\":{\"style\":\"light\"}}},\"xaxis\":{\"anchor\":\"y\",\"domain\":[0.0,1.0],\"title\":{\"text\":\"father\"}},\"yaxis\":{\"anchor\":\"x\",\"domain\":[0.0,1.0],\"title\":{\"text\":\"height\"}},\"legend\":{\"tracegroupgap\":0,\"itemsizing\":\"constant\"},\"margin\":{\"t\":60}},                        {\"responsive\": true}                    ).then(function(){\n",
              "                            \n",
              "var gd = document.getElementById('033a1944-7029-418e-900c-04ab8f2f4ce4');\n",
              "var x = new MutationObserver(function (mutations, observer) {{\n",
              "        var display = window.getComputedStyle(gd).display;\n",
              "        if (!display || display === 'none') {{\n",
              "            console.log([gd, 'removed!']);\n",
              "            Plotly.purge(gd);\n",
              "            observer.disconnect();\n",
              "        }}\n",
              "}});\n",
              "\n",
              "// Listen for the removal of the full notebook cells\n",
              "var notebookContainer = gd.closest('#notebook-container');\n",
              "if (notebookContainer) {{\n",
              "    x.observe(notebookContainer, {childList: true});\n",
              "}}\n",
              "\n",
              "// Listen for the clearing of the current output cell\n",
              "var outputEl = gd.closest('.output');\n",
              "if (outputEl) {{\n",
              "    x.observe(outputEl, {childList: true});\n",
              "}}\n",
              "\n",
              "                        })                };                            </script>        </div>\n",
              "</body>\n",
              "</html>"
            ]
          },
          "metadata": {}
        }
      ]
    },
    {
      "cell_type": "markdown",
      "source": [
        "# **Correlation coefficients before removing outliers**"
      ],
      "metadata": {
        "id": "7dQkj-jjskl0"
      }
    },
    {
      "cell_type": "markdown",
      "source": [
        "# Correlation coefficients of child's height"
      ],
      "metadata": {
        "id": "21UOtoDBarGb"
      }
    },
    {
      "cell_type": "code",
      "source": [
        "import pandas as pd\n",
        "import seaborn as sns\n",
        "import matplotlib.pyplot as plt\n",
        "\n",
        "# Calculate correlations\n",
        "correlations = df[['height', 'father', 'mother', 'avg_parent_height']].corr()\n",
        "\n",
        "# Print sorted correlations with 'height'\n",
        "print(correlations['height'].sort_values(ascending=False))\n",
        "\n",
        "# Create a heatmap chart\n",
        "plt.figure(figsize=(10, 8))\n",
        "sns.heatmap(correlations, annot=True, cmap='coolwarm', vmin=-1, vmax=1)\n",
        "plt.title('Correlation Heatmap')\n",
        "plt.show()"
      ],
      "metadata": {
        "colab": {
          "base_uri": "https://localhost:8080/",
          "height": 786
        },
        "id": "A1UUdEfXZxhl",
        "outputId": "132c9935-a3b7-4fe8-a766-e34ecd67a880"
      },
      "execution_count": 17,
      "outputs": [
        {
          "output_type": "stream",
          "name": "stdout",
          "text": [
            "height               1.000000\n",
            "avg_parent_height    0.328179\n",
            "father               0.276801\n",
            "mother               0.202039\n",
            "Name: height, dtype: float64\n"
          ]
        },
        {
          "output_type": "display_data",
          "data": {
            "text/plain": [
              "<Figure size 1000x800 with 2 Axes>"
            ],
            "image/png": "[encoded data removed]"
          },
          "metadata": {}
        }
      ]
    },
    {
      "cell_type": "markdown",
      "source": [
        "# Correlation coefficients of son's height"
      ],
      "metadata": {
        "id": "EBXNv_k1kRga"
      }
    },
    {
      "cell_type": "code",
      "source": [
        "# prompt: Correlation coefficients of son's height\n",
        "\n",
        "import pandas as pd\n",
        "import seaborn as sns\n",
        "import matplotlib.pyplot as plt\n",
        "\n",
        "# Calculate correlations for sons only\n",
        "correlations_sons = df[df['gender'] == 1][['height', 'father', 'mother', 'avg_parent_height']].corr()\n",
        "\n",
        "# Print sorted correlations with 'height' for sons\n",
        "print(correlations_sons['height'].sort_values(ascending=False))\n",
        "\n",
        "# Create a heatmap chart\n",
        "plt.figure(figsize=(10, 8))\n",
        "sns.heatmap(correlations, annot=True, cmap='coolwarm', vmin=-1, vmax=1)\n",
        "plt.title('Correlation Heatmap')\n",
        "plt.show()\n",
        "\n"
      ],
      "metadata": {
        "colab": {
          "base_uri": "https://localhost:8080/",
          "height": 786
        },
        "id": "FbrlbSTPjr28",
        "outputId": "194c0e6a-e1b8-4d38-a900-7f697f3183d9"
      },
      "execution_count": 18,
      "outputs": [
        {
          "output_type": "stream",
          "name": "stdout",
          "text": [
            "height               1.000000\n",
            "avg_parent_height    0.488271\n",
            "father               0.392561\n",
            "mother               0.334667\n",
            "Name: height, dtype: float64\n"
          ]
        },
        {
          "output_type": "display_data",
          "data": {
            "text/plain": [
              "<Figure size 1000x800 with 2 Axes>"
            ],
            "image/png": "[encoded data removed]"
          },
          "metadata": {}
        }
      ]
    },
    {
      "cell_type": "markdown",
      "source": [
        "# Correlation coefficients of daughter's height"
      ],
      "metadata": {
        "id": "vINIdbt_kmOt"
      }
    },
    {
      "cell_type": "code",
      "source": [
        "import pandas as pd\n",
        "import seaborn as sns\n",
        "import matplotlib.pyplot as plt\n",
        "\n",
        "# Calculate correlations for sons only\n",
        "correlations_sons = df[df['gender'] == 0][['height', 'father', 'mother', 'avg_parent_height']].corr()\n",
        "\n",
        "# Print sorted correlations with 'height' for sons\n",
        "print(correlations_sons['height'].sort_values(ascending=False))\n",
        "\n",
        "# Create a heatmap chart\n",
        "plt.figure(figsize=(10, 8))\n",
        "sns.heatmap(correlations, annot=True, cmap='coolwarm', vmin=-1, vmax=1)\n",
        "plt.title('Correlation Heatmap')\n",
        "plt.show()"
      ],
      "metadata": {
        "colab": {
          "base_uri": "https://localhost:8080/",
          "height": 786
        },
        "id": "9QcNl_xbkbIg",
        "outputId": "13320658-f217-4687-f6f9-3ad6f66a3374"
      },
      "execution_count": 19,
      "outputs": [
        {
          "output_type": "stream",
          "name": "stdout",
          "text": [
            "height               1.000000\n",
            "avg_parent_height    0.541610\n",
            "father               0.458515\n",
            "mother               0.314607\n",
            "Name: height, dtype: float64\n"
          ]
        },
        {
          "output_type": "display_data",
          "data": {
            "text/plain": [
              "<Figure size 1000x800 with 2 Axes>"
            ],
            "image/png": "[encoded data removed]"
          },
          "metadata": {}
        }
      ]
    },
    {
      "cell_type": "markdown",
      "source": [
        "# **Removing Outliers**"
      ],
      "metadata": {
        "id": "5E_gbzJkpUq9"
      }
    },
    {
      "cell_type": "code",
      "source": [
        "df_original.describe()"
      ],
      "metadata": {
        "colab": {
          "base_uri": "https://localhost:8080/",
          "height": 300
        },
        "id": "l5BjGrJcXlmJ",
        "outputId": "a7e9241d-b10f-4ffd-b283-b33dd1a0943c"
      },
      "execution_count": 20,
      "outputs": [
        {
          "output_type": "execute_result",
          "data": {
            "text/plain": [
              "           father      mother      gender      height        kids        male  \\\n",
              "count  890.000000  890.000000  890.000000  890.000000  890.000000  890.000000   \n",
              "mean    69.239438   64.076180    0.516854   66.756404    6.119101    0.516854   \n",
              "std      2.480363    2.315739    0.499997    3.586242    2.691355    0.499997   \n",
              "min     62.000000   58.000000    0.000000   56.000000    1.000000    0.000000   \n",
              "25%     68.000000   63.000000    0.000000   64.000000    4.000000    0.000000   \n",
              "50%     69.000000   64.000000    1.000000   66.500000    6.000000    1.000000   \n",
              "75%     71.000000   65.500000    1.000000   69.700000    8.000000    1.000000   \n",
              "max     78.500000   70.500000    1.000000   79.000000   15.000000    1.000000   \n",
              "\n",
              "           female  avg_parent_height  \n",
              "count  890.000000         890.000000  \n",
              "mean     0.483146          66.657809  \n",
              "std      0.499997           1.758850  \n",
              "min      0.000000          62.000000  \n",
              "25%      0.000000          65.500000  \n",
              "50%      0.000000          66.750000  \n",
              "75%      1.000000          67.500000  \n",
              "max      1.000000          72.750000  "
            ],
            "text/html": [
              "\n",
              "  <div id=\"df-0c1bcf9a-f841-4026-88cf-a9e781e13a59\" class=\"colab-df-container\">\n",
              "    <div>\n",
              "<style scoped>\n",
              "    .dataframe tbody tr th:only-of-type {\n",
              "        vertical-align: middle;\n",
              "    }\n",
              "\n",
              "    .dataframe tbody tr th {\n",
              "        vertical-align: top;\n",
              "    }\n",
              "\n",
              "    .dataframe thead th {\n",
              "        text-align: right;\n",
              "    }\n",
              "</style>\n",
              "<table border=\"1\" class=\"dataframe\">\n",
              "  <thead>\n",
              "    <tr style=\"text-align: right;\">\n",
              "      <th></th>\n",
              "      <th>father</th>\n",
              "      <th>mother</th>\n",
              "      <th>gender</th>\n",
              "      <th>height</th>\n",
              "      <th>kids</th>\n",
              "      <th>male</th>\n",
              "      <th>female</th>\n",
              "      <th>avg_parent_height</th>\n",
              "    </tr>\n",
              "  </thead>\n",
              "  <tbody>\n",
              "    <tr>\n",
              "      <th>count</th>\n",
              "      <td>890.000000</td>\n",
              "      <td>890.000000</td>\n",
              "      <td>890.000000</td>\n",
              "      <td>890.000000</td>\n",
              "      <td>890.000000</td>\n",
              "      <td>890.000000</td>\n",
              "      <td>890.000000</td>\n",
              "      <td>890.000000</td>\n",
              "    </tr>\n",
              "    <tr>\n",
              "      <th>mean</th>\n",
              "      <td>69.239438</td>\n",
              "      <td>64.076180</td>\n",
              "      <td>0.516854</td>\n",
              "      <td>66.756404</td>\n",
              "      <td>6.119101</td>\n",
              "      <td>0.516854</td>\n",
              "      <td>0.483146</td>\n",
              "      <td>66.657809</td>\n",
              "    </tr>\n",
              "    <tr>\n",
              "      <th>std</th>\n",
              "      <td>2.480363</td>\n",
              "      <td>2.315739</td>\n",
              "      <td>0.499997</td>\n",
              "      <td>3.586242</td>\n",
              "      <td>2.691355</td>\n",
              "      <td>0.499997</td>\n",
              "      <td>0.499997</td>\n",
              "      <td>1.758850</td>\n",
              "    </tr>\n",
              "    <tr>\n",
              "      <th>min</th>\n",
              "      <td>62.000000</td>\n",
              "      <td>58.000000</td>\n",
              "      <td>0.000000</td>\n",
              "      <td>56.000000</td>\n",
              "      <td>1.000000</td>\n",
              "      <td>0.000000</td>\n",
              "      <td>0.000000</td>\n",
              "      <td>62.000000</td>\n",
              "    </tr>\n",
              "    <tr>\n",
              "      <th>25%</th>\n",
              "      <td>68.000000</td>\n",
              "      <td>63.000000</td>\n",
              "      <td>0.000000</td>\n",
              "      <td>64.000000</td>\n",
              "      <td>4.000000</td>\n",
              "      <td>0.000000</td>\n",
              "      <td>0.000000</td>\n",
              "      <td>65.500000</td>\n",
              "    </tr>\n",
              "    <tr>\n",
              "      <th>50%</th>\n",
              "      <td>69.000000</td>\n",
              "      <td>64.000000</td>\n",
              "      <td>1.000000</td>\n",
              "      <td>66.500000</td>\n",
              "      <td>6.000000</td>\n",
              "      <td>1.000000</td>\n",
              "      <td>0.000000</td>\n",
              "      <td>66.750000</td>\n",
              "    </tr>\n",
              "    <tr>\n",
              "      <th>75%</th>\n",
              "      <td>71.000000</td>\n",
              "      <td>65.500000</td>\n",
              "      <td>1.000000</td>\n",
              "      <td>69.700000</td>\n",
              "      <td>8.000000</td>\n",
              "      <td>1.000000</td>\n",
              "      <td>1.000000</td>\n",
              "      <td>67.500000</td>\n",
              "    </tr>\n",
              "    <tr>\n",
              "      <th>max</th>\n",
              "      <td>78.500000</td>\n",
              "      <td>70.500000</td>\n",
              "      <td>1.000000</td>\n",
              "      <td>79.000000</td>\n",
              "      <td>15.000000</td>\n",
              "      <td>1.000000</td>\n",
              "      <td>1.000000</td>\n",
              "      <td>72.750000</td>\n",
              "    </tr>\n",
              "  </tbody>\n",
              "</table>\n",
              "</div>\n",
              "    <div class=\"colab-df-buttons\">\n",
              "\n",
              "  <div class=\"colab-df-container\">\n",
              "    <button class=\"colab-df-convert\" onclick=\"convertToInteractive('df-0c1bcf9a-f841-4026-88cf-a9e781e13a59')\"\n",
              "            title=\"Convert this dataframe to an interactive table.\"\n",
              "            style=\"display:none;\">\n",
              "\n",
              "  <svg xmlns=\"http://www.w3.org/2000/svg\" height=\"24px\" viewBox=\"0 -960 960 960\">\n",
              "    <path d=\"M120-120v-720h720v720H120Zm60-500h600v-160H180v160Zm220 220h160v-160H400v160Zm0 220h160v-160H400v160ZM180-400h160v-160H180v160Zm440 0h160v-160H620v160ZM180-180h160v-160H180v160Zm440 0h160v-160H620v160Z\"/>\n",
              "  </svg>\n",
              "    </button>\n",
              "\n",
              "  <style>\n",
              "    .colab-df-container {\n",
              "      display:flex;\n",
              "      gap: 12px;\n",
              "    }\n",
              "\n",
              "    .colab-df-convert {\n",
              "      background-color: #E8F0FE;\n",
              "      border: none;\n",
              "      border-radius: 50%;\n",
              "      cursor: pointer;\n",
              "      display: none;\n",
              "      fill: #1967D2;\n",
              "      height: 32px;\n",
              "      padding: 0 0 0 0;\n",
              "      width: 32px;\n",
              "    }\n",
              "\n",
              "    .colab-df-convert:hover {\n",
              "      background-color: #E2EBFA;\n",
              "      box-shadow: 0px 1px 2px rgba(60, 64, 67, 0.3), 0px 1px 3px 1px rgba(60, 64, 67, 0.15);\n",
              "      fill: #174EA6;\n",
              "    }\n",
              "\n",
              "    .colab-df-buttons div {\n",
              "      margin-bottom: 4px;\n",
              "    }\n",
              "\n",
              "    [theme=dark] .colab-df-convert {\n",
              "      background-color: #3B4455;\n",
              "      fill: #D2E3FC;\n",
              "    }\n",
              "\n",
              "    [theme=dark] .colab-df-convert:hover {\n",
              "      background-color: #434B5C;\n",
              "      box-shadow: 0px 1px 3px 1px rgba(0, 0, 0, 0.15);\n",
              "      filter: drop-shadow(0px 1px 2px rgba(0, 0, 0, 0.3));\n",
              "      fill: #FFFFFF;\n",
              "    }\n",
              "  </style>\n",
              "\n",
              "    <script>\n",
              "      const buttonEl =\n",
              "        document.querySelector('#df-0c1bcf9a-f841-4026-88cf-a9e781e13a59 button.colab-df-convert');\n",
              "      buttonEl.style.display =\n",
              "        google.colab.kernel.accessAllowed ? 'block' : 'none';\n",
              "\n",
              "      async function convertToInteractive(key) {\n",
              "        const element = document.querySelector('#df-0c1bcf9a-f841-4026-88cf-a9e781e13a59');\n",
              "        const dataTable =\n",
              "          await google.colab.kernel.invokeFunction('convertToInteractive',\n",
              "                                                    [key], {});\n",
              "        if (!dataTable) return;\n",
              "\n",
              "        const docLinkHtml = 'Like what you see? Visit the ' +\n",
              "          '<a target=\"_blank\" href=https://colab.research.google.com/notebooks/data_table.ipynb>data table notebook</a>'\n",
              "          + ' to learn more about interactive tables.';\n",
              "        element.innerHTML = '';\n",
              "        dataTable['output_type'] = 'display_data';\n",
              "        await google.colab.output.renderOutput(dataTable, element);\n",
              "        const docLink = document.createElement('div');\n",
              "        docLink.innerHTML = docLinkHtml;\n",
              "        element.appendChild(docLink);\n",
              "      }\n",
              "    </script>\n",
              "  </div>\n",
              "\n",
              "\n",
              "<div id=\"df-7237b06b-0c49-4fa8-8f25-cd387176a22d\">\n",
              "  <button class=\"colab-df-quickchart\" onclick=\"quickchart('df-7237b06b-0c49-4fa8-8f25-cd387176a22d')\"\n",
              "            title=\"Suggest charts\"\n",
              "            style=\"display:none;\">\n",
              "\n",
              "<svg xmlns=\"http://www.w3.org/2000/svg\" height=\"24px\"viewBox=\"0 0 24 24\"\n",
              "     width=\"24px\">\n",
              "    <g>\n",
              "        <path d=\"M19 3H5c-1.1 0-2 .9-2 2v14c0 1.1.9 2 2 2h14c1.1 0 2-.9 2-2V5c0-1.1-.9-2-2-2zM9 17H7v-7h2v7zm4 0h-2V7h2v10zm4 0h-2v-4h2v4z\"/>\n",
              "    </g>\n",
              "</svg>\n",
              "  </button>\n",
              "\n",
              "<style>\n",
              "  .colab-df-quickchart {\n",
              "      --bg-color: #E8F0FE;\n",
              "      --fill-color: #1967D2;\n",
              "      --hover-bg-color: #E2EBFA;\n",
              "      --hover-fill-color: #174EA6;\n",
              "      --disabled-fill-color: #AAA;\n",
              "      --disabled-bg-color: #DDD;\n",
              "  }\n",
              "\n",
              "  [theme=dark] .colab-df-quickchart {\n",
              "      --bg-color: #3B4455;\n",
              "      --fill-color: #D2E3FC;\n",
              "      --hover-bg-color: #434B5C;\n",
              "      --hover-fill-color: #FFFFFF;\n",
              "      --disabled-bg-color: #3B4455;\n",
              "      --disabled-fill-color: #666;\n",
              "  }\n",
              "\n",
              "  .colab-df-quickchart {\n",
              "    background-color: var(--bg-color);\n",
              "    border: none;\n",
              "    border-radius: 50%;\n",
              "    cursor: pointer;\n",
              "    display: none;\n",
              "    fill: var(--fill-color);\n",
              "    height: 32px;\n",
              "    padding: 0;\n",
              "    width: 32px;\n",
              "  }\n",
              "\n",
              "  .colab-df-quickchart:hover {\n",
              "    background-color: var(--hover-bg-color);\n",
              "    box-shadow: 0 1px 2px rgba(60, 64, 67, 0.3), 0 1px 3px 1px rgba(60, 64, 67, 0.15);\n",
              "    fill: var(--button-hover-fill-color);\n",
              "  }\n",
              "\n",
              "  .colab-df-quickchart-complete:disabled,\n",
              "  .colab-df-quickchart-complete:disabled:hover {\n",
              "    background-color: var(--disabled-bg-color);\n",
              "    fill: var(--disabled-fill-color);\n",
              "    box-shadow: none;\n",
              "  }\n",
              "\n",
              "  .colab-df-spinner {\n",
              "    border: 2px solid var(--fill-color);\n",
              "    border-color: transparent;\n",
              "    border-bottom-color: var(--fill-color);\n",
              "    animation:\n",
              "      spin 1s steps(1) infinite;\n",
              "  }\n",
              "\n",
              "  @keyframes spin {\n",
              "    0% {\n",
              "      border-color: transparent;\n",
              "      border-bottom-color: var(--fill-color);\n",
              "      border-left-color: var(--fill-color);\n",
              "    }\n",
              "    20% {\n",
              "      border-color: transparent;\n",
              "      border-left-color: var(--fill-color);\n",
              "      border-top-color: var(--fill-color);\n",
              "    }\n",
              "    30% {\n",
              "      border-color: transparent;\n",
              "      border-left-color: var(--fill-color);\n",
              "      border-top-color: var(--fill-color);\n",
              "      border-right-color: var(--fill-color);\n",
              "    }\n",
              "    40% {\n",
              "      border-color: transparent;\n",
              "      border-right-color: var(--fill-color);\n",
              "      border-top-color: var(--fill-color);\n",
              "    }\n",
              "    60% {\n",
              "      border-color: transparent;\n",
              "      border-right-color: var(--fill-color);\n",
              "    }\n",
              "    80% {\n",
              "      border-color: transparent;\n",
              "      border-right-color: var(--fill-color);\n",
              "      border-bottom-color: var(--fill-color);\n",
              "    }\n",
              "    90% {\n",
              "      border-color: transparent;\n",
              "      border-bottom-color: var(--fill-color);\n",
              "    }\n",
              "  }\n",
              "</style>\n",
              "\n",
              "  <script>\n",
              "    async function quickchart(key) {\n",
              "      const quickchartButtonEl =\n",
              "        document.querySelector('#' + key + ' button');\n",
              "      quickchartButtonEl.disabled = true;  // To prevent multiple clicks.\n",
              "      quickchartButtonEl.classList.add('colab-df-spinner');\n",
              "      try {\n",
              "        const charts = await google.colab.kernel.invokeFunction(\n",
              "            'suggestCharts', [key], {});\n",
              "      } catch (error) {\n",
              "        console.error('Error during call to suggestCharts:', error);\n",
              "      }\n",
              "      quickchartButtonEl.classList.remove('colab-df-spinner');\n",
              "      quickchartButtonEl.classList.add('colab-df-quickchart-complete');\n",
              "    }\n",
              "    (() => {\n",
              "      let quickchartButtonEl =\n",
              "        document.querySelector('#df-7237b06b-0c49-4fa8-8f25-cd387176a22d button');\n",
              "      quickchartButtonEl.style.display =\n",
              "        google.colab.kernel.accessAllowed ? 'block' : 'none';\n",
              "    })();\n",
              "  </script>\n",
              "</div>\n",
              "\n",
              "    </div>\n",
              "  </div>\n"
            ],
            "application/vnd.google.colaboratory.intrinsic+json": {
              "type": "dataframe",
              "summary": "{\n  \"name\": \"df_original\",\n  \"rows\": 8,\n  \"fields\": [\n    {\n      \"column\": \"father\",\n      \"properties\": {\n        \"dtype\": \"number\",\n        \"std\": 294.4117648843121,\n        \"min\": 2.4803628583334625,\n        \"max\": 890.0,\n        \"num_unique_values\": 8,\n        \"samples\": [\n          69.23943820224719,\n          69.0,\n          890.0\n        ],\n        \"semantic_type\": \"\",\n        \"description\": \"\"\n      }\n    },\n    {\n      \"column\": \"mother\",\n      \"properties\": {\n        \"dtype\": \"number\",\n        \"std\": 295.9088554318249,\n        \"min\": 2.3157394189563703,\n        \"max\": 890.0,\n        \"num_unique_values\": 8,\n        \"samples\": [\n          64.0761797752809,\n          64.0,\n          890.0\n        ],\n        \"semantic_type\": \"\",\n        \"description\": \"\"\n      }\n    },\n    {\n      \"column\": \"gender\",\n      \"properties\": {\n        \"dtype\": \"number\",\n        \"std\": 314.45991135632653,\n        \"min\": 0.0,\n        \"max\": 890.0,\n        \"num_unique_values\": 5,\n        \"samples\": [\n          0.5168539325842697,\n          1.0,\n          0.4999968402726181\n        ],\n        \"semantic_type\": \"\",\n        \"description\": \"\"\n      }\n    },\n    {\n      \"column\": \"height\",\n      \"properties\": {\n        \"dtype\": \"number\",\n        \"std\": 295.0832267444375,\n        \"min\": 3.586242380874172,\n        \"max\": 890.0,\n        \"num_unique_values\": 8,\n        \"samples\": [\n          66.75640449438202,\n          66.5,\n          890.0\n        ],\n        \"semantic_type\": \"\",\n        \"description\": \"\"\n      }\n    },\n    {\n      \"column\": \"kids\",\n      \"properties\": {\n        \"dtype\": \"number\",\n        \"std\": 312.52880288001234,\n        \"min\": 1.0,\n        \"max\": 890.0,\n        \"num_unique_values\": 8,\n        \"samples\": [\n          6.119101123595506,\n          6.0,\n          890.0\n        ],\n        \"semantic_type\": \"\",\n        \"description\": \"\"\n      }\n    },\n    {\n      \"column\": \"male\",\n      \"properties\": {\n        \"dtype\": \"number\",\n        \"std\": 314.45991135632653,\n        \"min\": 0.0,\n        \"max\": 890.0,\n        \"num_unique_values\": 5,\n        \"samples\": [\n          0.5168539325842697,\n          1.0,\n          0.4999968402726181\n        ],\n        \"semantic_type\": \"\",\n        \"description\": \"\"\n      }\n    },\n    {\n      \"column\": \"female\",\n      \"properties\": {\n        \"dtype\": \"number\",\n        \"std\": 314.512121441925,\n        \"min\": 0.0,\n        \"max\": 890.0,\n        \"num_unique_values\": 5,\n        \"samples\": [\n          0.48314606741573035,\n          1.0,\n          0.49999684027261804\n        ],\n        \"semantic_type\": \"\",\n        \"description\": \"\"\n      }\n    },\n    {\n      \"column\": \"avg_parent_height\",\n      \"properties\": {\n        \"dtype\": \"number\",\n        \"std\": 295.20714185981825,\n        \"min\": 1.7588497837788388,\n        \"max\": 890.0,\n        \"num_unique_values\": 8,\n        \"samples\": [\n          66.65780898876405,\n          66.75,\n          890.0\n        ],\n        \"semantic_type\": \"\",\n        \"description\": \"\"\n      }\n    }\n  ]\n}"
            }
          },
          "metadata": {},
          "execution_count": 20
        }
      ]
    },
    {
      "cell_type": "markdown",
      "source": [
        "# quartile-based outlier removal method"
      ],
      "metadata": {
        "id": "FgNVQyQSppOb"
      }
    },
    {
      "cell_type": "code",
      "source": [
        "# prompt: generate code for removing outliers based on quartile based outlier removal method\n",
        "\n",
        "# Define lower and upper bounds\n",
        "Q1 = df['height'].quantile(0.25)\n",
        "Q3 = df['height'].quantile(0.75)\n",
        "IQR = Q3 - Q1\n",
        "\n",
        "lower_bound = Q1 - 1.5 * IQR\n",
        "upper_bound = Q3 + 1.5 * IQR\n",
        "\n",
        "# Filter data based on the bounds\n",
        "df_filtered = df[(df['height'] >= lower_bound) & (df['height'] <= upper_bound)]\n",
        "\n",
        "# Print the updated DataFrame\n",
        "print(df_filtered)\n"
      ],
      "metadata": {
        "colab": {
          "base_uri": "https://localhost:8080/"
        },
        "id": "FM_EmIVnpTuh",
        "outputId": "98a9bf26-a922-453f-daea-b8a7c4705d46"
      },
      "execution_count": 21,
      "outputs": [
        {
          "output_type": "stream",
          "name": "stdout",
          "text": [
            "    family  father  mother  gender  height  kids  male  female  \\\n",
            "0        1    78.5    67.0       1    73.2     4     1       0   \n",
            "1        1    78.5    67.0       0    69.2     4     0       1   \n",
            "2        1    78.5    67.0       0    69.0     4     0       1   \n",
            "3        1    78.5    67.0       0    69.0     4     0       1   \n",
            "4        2    75.5    66.5       1    73.5     4     1       0   \n",
            "..     ...     ...     ...     ...     ...   ...   ...     ...   \n",
            "885    203    62.0    66.0       1    64.0     3     1       0   \n",
            "886    203    62.0    66.0       0    62.0     3     0       1   \n",
            "887    203    62.0    66.0       0    61.0     3     0       1   \n",
            "888    204    62.5    63.0       1    66.5     2     1       0   \n",
            "889    204    62.5    63.0       0    57.0     2     0       1   \n",
            "\n",
            "     avg_parent_height  \n",
            "0                72.75  \n",
            "1                72.75  \n",
            "2                72.75  \n",
            "3                72.75  \n",
            "4                71.00  \n",
            "..                 ...  \n",
            "885              64.00  \n",
            "886              64.00  \n",
            "887              64.00  \n",
            "888              62.75  \n",
            "889              62.75  \n",
            "\n",
            "[889 rows x 9 columns]\n"
          ]
        }
      ]
    },
    {
      "cell_type": "markdown",
      "source": [
        "# Dataset before removing outliers"
      ],
      "metadata": {
        "id": "x2mCUx3YpLnz"
      }
    },
    {
      "cell_type": "code",
      "source": [
        "\n",
        "# Print a summary of the dataset, including the count, mean, standard deviation, minimum, and maximum for each column\n",
        "df.describe()\n"
      ],
      "metadata": {
        "colab": {
          "base_uri": "https://localhost:8080/",
          "height": 300
        },
        "id": "xlv32BfGmxLA",
        "outputId": "b6e40cb0-f48f-4481-d9ec-9f98e3e27b0d"
      },
      "execution_count": 20,
      "outputs": [
        {
          "output_type": "execute_result",
          "data": {
            "text/plain": [
              "           father      mother      gender      height        kids        male  \\\n",
              "count  890.000000  890.000000  890.000000  890.000000  890.000000  890.000000   \n",
              "mean    69.239438   64.076180    0.516854   66.756404    6.119101    0.516854   \n",
              "std      2.480363    2.315739    0.499997    3.586242    2.691355    0.499997   \n",
              "min     62.000000   58.000000    0.000000   56.000000    1.000000    0.000000   \n",
              "25%     68.000000   63.000000    0.000000   64.000000    4.000000    0.000000   \n",
              "50%     69.000000   64.000000    1.000000   66.500000    6.000000    1.000000   \n",
              "75%     71.000000   65.500000    1.000000   69.700000    8.000000    1.000000   \n",
              "max     78.500000   70.500000    1.000000   79.000000   15.000000    1.000000   \n",
              "\n",
              "           female  avg_parent_height  \n",
              "count  890.000000         890.000000  \n",
              "mean     0.483146          66.657809  \n",
              "std      0.499997           1.758850  \n",
              "min      0.000000          62.000000  \n",
              "25%      0.000000          65.500000  \n",
              "50%      0.000000          66.750000  \n",
              "75%      1.000000          67.500000  \n",
              "max      1.000000          72.750000  "
            ],
            "text/html": [
              "\n",
              "  <div id=\"df-cc85b650-d652-46fa-8cfa-f7ce76d2c3ee\" class=\"colab-df-container\">\n",
              "    <div>\n",
              "<style scoped>\n",
              "    .dataframe tbody tr th:only-of-type {\n",
              "        vertical-align: middle;\n",
              "    }\n",
              "\n",
              "    .dataframe tbody tr th {\n",
              "        vertical-align: top;\n",
              "    }\n",
              "\n",
              "    .dataframe thead th {\n",
              "        text-align: right;\n",
              "    }\n",
              "</style>\n",
              "<table border=\"1\" class=\"dataframe\">\n",
              "  <thead>\n",
              "    <tr style=\"text-align: right;\">\n",
              "      <th></th>\n",
              "      <th>father</th>\n",
              "      <th>mother</th>\n",
              "      <th>gender</th>\n",
              "      <th>height</th>\n",
              "      <th>kids</th>\n",
              "      <th>male</th>\n",
              "      <th>female</th>\n",
              "      <th>avg_parent_height</th>\n",
              "    </tr>\n",
              "  </thead>\n",
              "  <tbody>\n",
              "    <tr>\n",
              "      <th>count</th>\n",
              "      <td>890.000000</td>\n",
              "      <td>890.000000</td>\n",
              "      <td>890.000000</td>\n",
              "      <td>890.000000</td>\n",
              "      <td>890.000000</td>\n",
              "      <td>890.000000</td>\n",
              "      <td>890.000000</td>\n",
              "      <td>890.000000</td>\n",
              "    </tr>\n",
              "    <tr>\n",
              "      <th>mean</th>\n",
              "      <td>69.239438</td>\n",
              "      <td>64.076180</td>\n",
              "      <td>0.516854</td>\n",
              "      <td>66.756404</td>\n",
              "      <td>6.119101</td>\n",
              "      <td>0.516854</td>\n",
              "      <td>0.483146</td>\n",
              "      <td>66.657809</td>\n",
              "    </tr>\n",
              "    <tr>\n",
              "      <th>std</th>\n",
              "      <td>2.480363</td>\n",
              "      <td>2.315739</td>\n",
              "      <td>0.499997</td>\n",
              "      <td>3.586242</td>\n",
              "      <td>2.691355</td>\n",
              "      <td>0.499997</td>\n",
              "      <td>0.499997</td>\n",
              "      <td>1.758850</td>\n",
              "    </tr>\n",
              "    <tr>\n",
              "      <th>min</th>\n",
              "      <td>62.000000</td>\n",
              "      <td>58.000000</td>\n",
              "      <td>0.000000</td>\n",
              "      <td>56.000000</td>\n",
              "      <td>1.000000</td>\n",
              "      <td>0.000000</td>\n",
              "      <td>0.000000</td>\n",
              "      <td>62.000000</td>\n",
              "    </tr>\n",
              "    <tr>\n",
              "      <th>25%</th>\n",
              "      <td>68.000000</td>\n",
              "      <td>63.000000</td>\n",
              "      <td>0.000000</td>\n",
              "      <td>64.000000</td>\n",
              "      <td>4.000000</td>\n",
              "      <td>0.000000</td>\n",
              "      <td>0.000000</td>\n",
              "      <td>65.500000</td>\n",
              "    </tr>\n",
              "    <tr>\n",
              "      <th>50%</th>\n",
              "      <td>69.000000</td>\n",
              "      <td>64.000000</td>\n",
              "      <td>1.000000</td>\n",
              "      <td>66.500000</td>\n",
              "      <td>6.000000</td>\n",
              "      <td>1.000000</td>\n",
              "      <td>0.000000</td>\n",
              "      <td>66.750000</td>\n",
              "    </tr>\n",
              "    <tr>\n",
              "      <th>75%</th>\n",
              "      <td>71.000000</td>\n",
              "      <td>65.500000</td>\n",
              "      <td>1.000000</td>\n",
              "      <td>69.700000</td>\n",
              "      <td>8.000000</td>\n",
              "      <td>1.000000</td>\n",
              "      <td>1.000000</td>\n",
              "      <td>67.500000</td>\n",
              "    </tr>\n",
              "    <tr>\n",
              "      <th>max</th>\n",
              "      <td>78.500000</td>\n",
              "      <td>70.500000</td>\n",
              "      <td>1.000000</td>\n",
              "      <td>79.000000</td>\n",
              "      <td>15.000000</td>\n",
              "      <td>1.000000</td>\n",
              "      <td>1.000000</td>\n",
              "      <td>72.750000</td>\n",
              "    </tr>\n",
              "  </tbody>\n",
              "</table>\n",
              "</div>\n",
              "    <div class=\"colab-df-buttons\">\n",
              "\n",
              "  <div class=\"colab-df-container\">\n",
              "    <button class=\"colab-df-convert\" onclick=\"convertToInteractive('df-cc85b650-d652-46fa-8cfa-f7ce76d2c3ee')\"\n",
              "            title=\"Convert this dataframe to an interactive table.\"\n",
              "            style=\"display:none;\">\n",
              "\n",
              "  <svg xmlns=\"http://www.w3.org/2000/svg\" height=\"24px\" viewBox=\"0 -960 960 960\">\n",
              "    <path d=\"M120-120v-720h720v720H120Zm60-500h600v-160H180v160Zm220 220h160v-160H400v160Zm0 220h160v-160H400v160ZM180-400h160v-160H180v160Zm440 0h160v-160H620v160ZM180-180h160v-160H180v160Zm440 0h160v-160H620v160Z\"/>\n",
              "  </svg>\n",
              "    </button>\n",
              "\n",
              "  <style>\n",
              "    .colab-df-container {\n",
              "      display:flex;\n",
              "      gap: 12px;\n",
              "    }\n",
              "\n",
              "    .colab-df-convert {\n",
              "      background-color: #E8F0FE;\n",
              "      border: none;\n",
              "      border-radius: 50%;\n",
              "      cursor: pointer;\n",
              "      display: none;\n",
              "      fill: #1967D2;\n",
              "      height: 32px;\n",
              "      padding: 0 0 0 0;\n",
              "      width: 32px;\n",
              "    }\n",
              "\n",
              "    .colab-df-convert:hover {\n",
              "      background-color: #E2EBFA;\n",
              "      box-shadow: 0px 1px 2px rgba(60, 64, 67, 0.3), 0px 1px 3px 1px rgba(60, 64, 67, 0.15);\n",
              "      fill: #174EA6;\n",
              "    }\n",
              "\n",
              "    .colab-df-buttons div {\n",
              "      margin-bottom: 4px;\n",
              "    }\n",
              "\n",
              "    [theme=dark] .colab-df-convert {\n",
              "      background-color: #3B4455;\n",
              "      fill: #D2E3FC;\n",
              "    }\n",
              "\n",
              "    [theme=dark] .colab-df-convert:hover {\n",
              "      background-color: #434B5C;\n",
              "      box-shadow: 0px 1px 3px 1px rgba(0, 0, 0, 0.15);\n",
              "      filter: drop-shadow(0px 1px 2px rgba(0, 0, 0, 0.3));\n",
              "      fill: #FFFFFF;\n",
              "    }\n",
              "  </style>\n",
              "\n",
              "    <script>\n",
              "      const buttonEl =\n",
              "        document.querySelector('#df-cc85b650-d652-46fa-8cfa-f7ce76d2c3ee button.colab-df-convert');\n",
              "      buttonEl.style.display =\n",
              "        google.colab.kernel.accessAllowed ? 'block' : 'none';\n",
              "\n",
              "      async function convertToInteractive(key) {\n",
              "        const element = document.querySelector('#df-cc85b650-d652-46fa-8cfa-f7ce76d2c3ee');\n",
              "        const dataTable =\n",
              "          await google.colab.kernel.invokeFunction('convertToInteractive',\n",
              "                                                    [key], {});\n",
              "        if (!dataTable) return;\n",
              "\n",
              "        const docLinkHtml = 'Like what you see? Visit the ' +\n",
              "          '<a target=\"_blank\" href=https://colab.research.google.com/notebooks/data_table.ipynb>data table notebook</a>'\n",
              "          + ' to learn more about interactive tables.';\n",
              "        element.innerHTML = '';\n",
              "        dataTable['output_type'] = 'display_data';\n",
              "        await google.colab.output.renderOutput(dataTable, element);\n",
              "        const docLink = document.createElement('div');\n",
              "        docLink.innerHTML = docLinkHtml;\n",
              "        element.appendChild(docLink);\n",
              "      }\n",
              "    </script>\n",
              "  </div>\n",
              "\n",
              "\n",
              "<div id=\"df-f76c3893-0ba1-4987-a3a6-7f2fd0ae9b7d\">\n",
              "  <button class=\"colab-df-quickchart\" onclick=\"quickchart('df-f76c3893-0ba1-4987-a3a6-7f2fd0ae9b7d')\"\n",
              "            title=\"Suggest charts\"\n",
              "            style=\"display:none;\">\n",
              "\n",
              "<svg xmlns=\"http://www.w3.org/2000/svg\" height=\"24px\"viewBox=\"0 0 24 24\"\n",
              "     width=\"24px\">\n",
              "    <g>\n",
              "        <path d=\"M19 3H5c-1.1 0-2 .9-2 2v14c0 1.1.9 2 2 2h14c1.1 0 2-.9 2-2V5c0-1.1-.9-2-2-2zM9 17H7v-7h2v7zm4 0h-2V7h2v10zm4 0h-2v-4h2v4z\"/>\n",
              "    </g>\n",
              "</svg>\n",
              "  </button>\n",
              "\n",
              "<style>\n",
              "  .colab-df-quickchart {\n",
              "      --bg-color: #E8F0FE;\n",
              "      --fill-color: #1967D2;\n",
              "      --hover-bg-color: #E2EBFA;\n",
              "      --hover-fill-color: #174EA6;\n",
              "      --disabled-fill-color: #AAA;\n",
              "      --disabled-bg-color: #DDD;\n",
              "  }\n",
              "\n",
              "  [theme=dark] .colab-df-quickchart {\n",
              "      --bg-color: #3B4455;\n",
              "      --fill-color: #D2E3FC;\n",
              "      --hover-bg-color: #434B5C;\n",
              "      --hover-fill-color: #FFFFFF;\n",
              "      --disabled-bg-color: #3B4455;\n",
              "      --disabled-fill-color: #666;\n",
              "  }\n",
              "\n",
              "  .colab-df-quickchart {\n",
              "    background-color: var(--bg-color);\n",
              "    border: none;\n",
              "    border-radius: 50%;\n",
              "    cursor: pointer;\n",
              "    display: none;\n",
              "    fill: var(--fill-color);\n",
              "    height: 32px;\n",
              "    padding: 0;\n",
              "    width: 32px;\n",
              "  }\n",
              "\n",
              "  .colab-df-quickchart:hover {\n",
              "    background-color: var(--hover-bg-color);\n",
              "    box-shadow: 0 1px 2px rgba(60, 64, 67, 0.3), 0 1px 3px 1px rgba(60, 64, 67, 0.15);\n",
              "    fill: var(--button-hover-fill-color);\n",
              "  }\n",
              "\n",
              "  .colab-df-quickchart-complete:disabled,\n",
              "  .colab-df-quickchart-complete:disabled:hover {\n",
              "    background-color: var(--disabled-bg-color);\n",
              "    fill: var(--disabled-fill-color);\n",
              "    box-shadow: none;\n",
              "  }\n",
              "\n",
              "  .colab-df-spinner {\n",
              "    border: 2px solid var(--fill-color);\n",
              "    border-color: transparent;\n",
              "    border-bottom-color: var(--fill-color);\n",
              "    animation:\n",
              "      spin 1s steps(1) infinite;\n",
              "  }\n",
              "\n",
              "  @keyframes spin {\n",
              "    0% {\n",
              "      border-color: transparent;\n",
              "      border-bottom-color: var(--fill-color);\n",
              "      border-left-color: var(--fill-color);\n",
              "    }\n",
              "    20% {\n",
              "      border-color: transparent;\n",
              "      border-left-color: var(--fill-color);\n",
              "      border-top-color: var(--fill-color);\n",
              "    }\n",
              "    30% {\n",
              "      border-color: transparent;\n",
              "      border-left-color: var(--fill-color);\n",
              "      border-top-color: var(--fill-color);\n",
              "      border-right-color: var(--fill-color);\n",
              "    }\n",
              "    40% {\n",
              "      border-color: transparent;\n",
              "      border-right-color: var(--fill-color);\n",
              "      border-top-color: var(--fill-color);\n",
              "    }\n",
              "    60% {\n",
              "      border-color: transparent;\n",
              "      border-right-color: var(--fill-color);\n",
              "    }\n",
              "    80% {\n",
              "      border-color: transparent;\n",
              "      border-right-color: var(--fill-color);\n",
              "      border-bottom-color: var(--fill-color);\n",
              "    }\n",
              "    90% {\n",
              "      border-color: transparent;\n",
              "      border-bottom-color: var(--fill-color);\n",
              "    }\n",
              "  }\n",
              "</style>\n",
              "\n",
              "  <script>\n",
              "    async function quickchart(key) {\n",
              "      const quickchartButtonEl =\n",
              "        document.querySelector('#' + key + ' button');\n",
              "      quickchartButtonEl.disabled = true;  // To prevent multiple clicks.\n",
              "      quickchartButtonEl.classList.add('colab-df-spinner');\n",
              "      try {\n",
              "        const charts = await google.colab.kernel.invokeFunction(\n",
              "            'suggestCharts', [key], {});\n",
              "      } catch (error) {\n",
              "        console.error('Error during call to suggestCharts:', error);\n",
              "      }\n",
              "      quickchartButtonEl.classList.remove('colab-df-spinner');\n",
              "      quickchartButtonEl.classList.add('colab-df-quickchart-complete');\n",
              "    }\n",
              "    (() => {\n",
              "      let quickchartButtonEl =\n",
              "        document.querySelector('#df-f76c3893-0ba1-4987-a3a6-7f2fd0ae9b7d button');\n",
              "      quickchartButtonEl.style.display =\n",
              "        google.colab.kernel.accessAllowed ? 'block' : 'none';\n",
              "    })();\n",
              "  </script>\n",
              "</div>\n",
              "\n",
              "    </div>\n",
              "  </div>\n"
            ],
            "application/vnd.google.colaboratory.intrinsic+json": {
              "type": "dataframe",
              "summary": "{\n  \"name\": \"df\",\n  \"rows\": 8,\n  \"fields\": [\n    {\n      \"column\": \"father\",\n      \"properties\": {\n        \"dtype\": \"number\",\n        \"std\": 294.4117648843121,\n        \"min\": 2.4803628583334625,\n        \"max\": 890.0,\n        \"num_unique_values\": 8,\n        \"samples\": [\n          69.23943820224719,\n          69.0,\n          890.0\n        ],\n        \"semantic_type\": \"\",\n        \"description\": \"\"\n      }\n    },\n    {\n      \"column\": \"mother\",\n      \"properties\": {\n        \"dtype\": \"number\",\n        \"std\": 295.9088554318249,\n        \"min\": 2.3157394189563703,\n        \"max\": 890.0,\n        \"num_unique_values\": 8,\n        \"samples\": [\n          64.0761797752809,\n          64.0,\n          890.0\n        ],\n        \"semantic_type\": \"\",\n        \"description\": \"\"\n      }\n    },\n    {\n      \"column\": \"gender\",\n      \"properties\": {\n        \"dtype\": \"number\",\n        \"std\": 314.45991135632653,\n        \"min\": 0.0,\n        \"max\": 890.0,\n        \"num_unique_values\": 5,\n        \"samples\": [\n          0.5168539325842697,\n          1.0,\n          0.4999968402726181\n        ],\n        \"semantic_type\": \"\",\n        \"description\": \"\"\n      }\n    },\n    {\n      \"column\": \"height\",\n      \"properties\": {\n        \"dtype\": \"number\",\n        \"std\": 295.0832267444375,\n        \"min\": 3.586242380874172,\n        \"max\": 890.0,\n        \"num_unique_values\": 8,\n        \"samples\": [\n          66.75640449438202,\n          66.5,\n          890.0\n        ],\n        \"semantic_type\": \"\",\n        \"description\": \"\"\n      }\n    },\n    {\n      \"column\": \"kids\",\n      \"properties\": {\n        \"dtype\": \"number\",\n        \"std\": 312.52880288001234,\n        \"min\": 1.0,\n        \"max\": 890.0,\n        \"num_unique_values\": 8,\n        \"samples\": [\n          6.119101123595506,\n          6.0,\n          890.0\n        ],\n        \"semantic_type\": \"\",\n        \"description\": \"\"\n      }\n    },\n    {\n      \"column\": \"male\",\n      \"properties\": {\n        \"dtype\": \"number\",\n        \"std\": 314.45991135632653,\n        \"min\": 0.0,\n        \"max\": 890.0,\n        \"num_unique_values\": 5,\n        \"samples\": [\n          0.5168539325842697,\n          1.0,\n          0.4999968402726181\n        ],\n        \"semantic_type\": \"\",\n        \"description\": \"\"\n      }\n    },\n    {\n      \"column\": \"female\",\n      \"properties\": {\n        \"dtype\": \"number\",\n        \"std\": 314.512121441925,\n        \"min\": 0.0,\n        \"max\": 890.0,\n        \"num_unique_values\": 5,\n        \"samples\": [\n          0.48314606741573035,\n          1.0,\n          0.49999684027261804\n        ],\n        \"semantic_type\": \"\",\n        \"description\": \"\"\n      }\n    },\n    {\n      \"column\": \"avg_parent_height\",\n      \"properties\": {\n        \"dtype\": \"number\",\n        \"std\": 295.20714185981825,\n        \"min\": 1.7588497837788388,\n        \"max\": 890.0,\n        \"num_unique_values\": 8,\n        \"samples\": [\n          66.65780898876405,\n          66.75,\n          890.0\n        ],\n        \"semantic_type\": \"\",\n        \"description\": \"\"\n      }\n    }\n  ]\n}"
            }
          },
          "metadata": {},
          "execution_count": 20
        }
      ]
    },
    {
      "cell_type": "markdown",
      "source": [
        "# Dataset after removing Outliers"
      ],
      "metadata": {
        "id": "lr7lh0zGroLL"
      }
    },
    {
      "cell_type": "code",
      "source": [
        "# prompt: describe about dataset after removing outliers\n",
        "\n",
        "# Print a summary of the filtered dataset, including the count, mean, standard deviation, minimum, and maximum for each column\n",
        "df_filtered.describe()\n"
      ],
      "metadata": {
        "colab": {
          "base_uri": "https://localhost:8080/",
          "height": 300
        },
        "id": "3wn7xFNDqr3I",
        "outputId": "2d1e7680-dddc-4097-fae3-667d46c189b5"
      },
      "execution_count": 21,
      "outputs": [
        {
          "output_type": "execute_result",
          "data": {
            "text/plain": [
              "           father      mother      gender      height        kids        male  \\\n",
              "count  889.000000  889.000000  889.000000  889.000000  889.000000  889.000000   \n",
              "mean    69.238583   64.075141    0.516310   66.742632    6.118110    0.516310   \n",
              "std      2.481628    2.316835    0.500015    3.564634    2.692708    0.500015   \n",
              "min     62.000000   58.000000    0.000000   56.000000    1.000000    0.000000   \n",
              "25%     68.000000   63.000000    0.000000   64.000000    4.000000    0.000000   \n",
              "50%     69.000000   64.000000    1.000000   66.500000    6.000000    1.000000   \n",
              "75%     71.000000   65.500000    1.000000   69.700000    8.000000    1.000000   \n",
              "max     78.500000   70.500000    1.000000   78.000000   15.000000    1.000000   \n",
              "\n",
              "           female  avg_parent_height  \n",
              "count  889.000000         889.000000  \n",
              "mean     0.483690          66.656862  \n",
              "std      0.500015           1.759613  \n",
              "min      0.000000          62.000000  \n",
              "25%      0.000000          65.500000  \n",
              "50%      0.000000          66.750000  \n",
              "75%      1.000000          67.500000  \n",
              "max      1.000000          72.750000  "
            ],
            "text/html": [
              "\n",
              "  <div id=\"df-e52d62be-0e3b-4a62-bcde-f4c5ec9d6eb0\" class=\"colab-df-container\">\n",
              "    <div>\n",
              "<style scoped>\n",
              "    .dataframe tbody tr th:only-of-type {\n",
              "        vertical-align: middle;\n",
              "    }\n",
              "\n",
              "    .dataframe tbody tr th {\n",
              "        vertical-align: top;\n",
              "    }\n",
              "\n",
              "    .dataframe thead th {\n",
              "        text-align: right;\n",
              "    }\n",
              "</style>\n",
              "<table border=\"1\" class=\"dataframe\">\n",
              "  <thead>\n",
              "    <tr style=\"text-align: right;\">\n",
              "      <th></th>\n",
              "      <th>father</th>\n",
              "      <th>mother</th>\n",
              "      <th>gender</th>\n",
              "      <th>height</th>\n",
              "      <th>kids</th>\n",
              "      <th>male</th>\n",
              "      <th>female</th>\n",
              "      <th>avg_parent_height</th>\n",
              "    </tr>\n",
              "  </thead>\n",
              "  <tbody>\n",
              "    <tr>\n",
              "      <th>count</th>\n",
              "      <td>889.000000</td>\n",
              "      <td>889.000000</td>\n",
              "      <td>889.000000</td>\n",
              "      <td>889.000000</td>\n",
              "      <td>889.000000</td>\n",
              "      <td>889.000000</td>\n",
              "      <td>889.000000</td>\n",
              "      <td>889.000000</td>\n",
              "    </tr>\n",
              "    <tr>\n",
              "      <th>mean</th>\n",
              "      <td>69.238583</td>\n",
              "      <td>64.075141</td>\n",
              "      <td>0.516310</td>\n",
              "      <td>66.742632</td>\n",
              "      <td>6.118110</td>\n",
              "      <td>0.516310</td>\n",
              "      <td>0.483690</td>\n",
              "      <td>66.656862</td>\n",
              "    </tr>\n",
              "    <tr>\n",
              "      <th>std</th>\n",
              "      <td>2.481628</td>\n",
              "      <td>2.316835</td>\n",
              "      <td>0.500015</td>\n",
              "      <td>3.564634</td>\n",
              "      <td>2.692708</td>\n",
              "      <td>0.500015</td>\n",
              "      <td>0.500015</td>\n",
              "      <td>1.759613</td>\n",
              "    </tr>\n",
              "    <tr>\n",
              "      <th>min</th>\n",
              "      <td>62.000000</td>\n",
              "      <td>58.000000</td>\n",
              "      <td>0.000000</td>\n",
              "      <td>56.000000</td>\n",
              "      <td>1.000000</td>\n",
              "      <td>0.000000</td>\n",
              "      <td>0.000000</td>\n",
              "      <td>62.000000</td>\n",
              "    </tr>\n",
              "    <tr>\n",
              "      <th>25%</th>\n",
              "      <td>68.000000</td>\n",
              "      <td>63.000000</td>\n",
              "      <td>0.000000</td>\n",
              "      <td>64.000000</td>\n",
              "      <td>4.000000</td>\n",
              "      <td>0.000000</td>\n",
              "      <td>0.000000</td>\n",
              "      <td>65.500000</td>\n",
              "    </tr>\n",
              "    <tr>\n",
              "      <th>50%</th>\n",
              "      <td>69.000000</td>\n",
              "      <td>64.000000</td>\n",
              "      <td>1.000000</td>\n",
              "      <td>66.500000</td>\n",
              "      <td>6.000000</td>\n",
              "      <td>1.000000</td>\n",
              "      <td>0.000000</td>\n",
              "      <td>66.750000</td>\n",
              "    </tr>\n",
              "    <tr>\n",
              "      <th>75%</th>\n",
              "      <td>71.000000</td>\n",
              "      <td>65.500000</td>\n",
              "      <td>1.000000</td>\n",
              "      <td>69.700000</td>\n",
              "      <td>8.000000</td>\n",
              "      <td>1.000000</td>\n",
              "      <td>1.000000</td>\n",
              "      <td>67.500000</td>\n",
              "    </tr>\n",
              "    <tr>\n",
              "      <th>max</th>\n",
              "      <td>78.500000</td>\n",
              "      <td>70.500000</td>\n",
              "      <td>1.000000</td>\n",
              "      <td>78.000000</td>\n",
              "      <td>15.000000</td>\n",
              "      <td>1.000000</td>\n",
              "      <td>1.000000</td>\n",
              "      <td>72.750000</td>\n",
              "    </tr>\n",
              "  </tbody>\n",
              "</table>\n",
              "</div>\n",
              "    <div class=\"colab-df-buttons\">\n",
              "\n",
              "  <div class=\"colab-df-container\">\n",
              "    <button class=\"colab-df-convert\" onclick=\"convertToInteractive('df-e52d62be-0e3b-4a62-bcde-f4c5ec9d6eb0')\"\n",
              "            title=\"Convert this dataframe to an interactive table.\"\n",
              "            style=\"display:none;\">\n",
              "\n",
              "  <svg xmlns=\"http://www.w3.org/2000/svg\" height=\"24px\" viewBox=\"0 -960 960 960\">\n",
              "    <path d=\"M120-120v-720h720v720H120Zm60-500h600v-160H180v160Zm220 220h160v-160H400v160Zm0 220h160v-160H400v160ZM180-400h160v-160H180v160Zm440 0h160v-160H620v160ZM180-180h160v-160H180v160Zm440 0h160v-160H620v160Z\"/>\n",
              "  </svg>\n",
              "    </button>\n",
              "\n",
              "  <style>\n",
              "    .colab-df-container {\n",
              "      display:flex;\n",
              "      gap: 12px;\n",
              "    }\n",
              "\n",
              "    .colab-df-convert {\n",
              "      background-color: #E8F0FE;\n",
              "      border: none;\n",
              "      border-radius: 50%;\n",
              "      cursor: pointer;\n",
              "      display: none;\n",
              "      fill: #1967D2;\n",
              "      height: 32px;\n",
              "      padding: 0 0 0 0;\n",
              "      width: 32px;\n",
              "    }\n",
              "\n",
              "    .colab-df-convert:hover {\n",
              "      background-color: #E2EBFA;\n",
              "      box-shadow: 0px 1px 2px rgba(60, 64, 67, 0.3), 0px 1px 3px 1px rgba(60, 64, 67, 0.15);\n",
              "      fill: #174EA6;\n",
              "    }\n",
              "\n",
              "    .colab-df-buttons div {\n",
              "      margin-bottom: 4px;\n",
              "    }\n",
              "\n",
              "    [theme=dark] .colab-df-convert {\n",
              "      background-color: #3B4455;\n",
              "      fill: #D2E3FC;\n",
              "    }\n",
              "\n",
              "    [theme=dark] .colab-df-convert:hover {\n",
              "      background-color: #434B5C;\n",
              "      box-shadow: 0px 1px 3px 1px rgba(0, 0, 0, 0.15);\n",
              "      filter: drop-shadow(0px 1px 2px rgba(0, 0, 0, 0.3));\n",
              "      fill: #FFFFFF;\n",
              "    }\n",
              "  </style>\n",
              "\n",
              "    <script>\n",
              "      const buttonEl =\n",
              "        document.querySelector('#df-e52d62be-0e3b-4a62-bcde-f4c5ec9d6eb0 button.colab-df-convert');\n",
              "      buttonEl.style.display =\n",
              "        google.colab.kernel.accessAllowed ? 'block' : 'none';\n",
              "\n",
              "      async function convertToInteractive(key) {\n",
              "        const element = document.querySelector('#df-e52d62be-0e3b-4a62-bcde-f4c5ec9d6eb0');\n",
              "        const dataTable =\n",
              "          await google.colab.kernel.invokeFunction('convertToInteractive',\n",
              "                                                    [key], {});\n",
              "        if (!dataTable) return;\n",
              "\n",
              "        const docLinkHtml = 'Like what you see? Visit the ' +\n",
              "          '<a target=\"_blank\" href=https://colab.research.google.com/notebooks/data_table.ipynb>data table notebook</a>'\n",
              "          + ' to learn more about interactive tables.';\n",
              "        element.innerHTML = '';\n",
              "        dataTable['output_type'] = 'display_data';\n",
              "        await google.colab.output.renderOutput(dataTable, element);\n",
              "        const docLink = document.createElement('div');\n",
              "        docLink.innerHTML = docLinkHtml;\n",
              "        element.appendChild(docLink);\n",
              "      }\n",
              "    </script>\n",
              "  </div>\n",
              "\n",
              "\n",
              "<div id=\"df-e7b69e11-7a28-476a-8a17-786e4cf75d3a\">\n",
              "  <button class=\"colab-df-quickchart\" onclick=\"quickchart('df-e7b69e11-7a28-476a-8a17-786e4cf75d3a')\"\n",
              "            title=\"Suggest charts\"\n",
              "            style=\"display:none;\">\n",
              "\n",
              "<svg xmlns=\"http://www.w3.org/2000/svg\" height=\"24px\"viewBox=\"0 0 24 24\"\n",
              "     width=\"24px\">\n",
              "    <g>\n",
              "        <path d=\"M19 3H5c-1.1 0-2 .9-2 2v14c0 1.1.9 2 2 2h14c1.1 0 2-.9 2-2V5c0-1.1-.9-2-2-2zM9 17H7v-7h2v7zm4 0h-2V7h2v10zm4 0h-2v-4h2v4z\"/>\n",
              "    </g>\n",
              "</svg>\n",
              "  </button>\n",
              "\n",
              "<style>\n",
              "  .colab-df-quickchart {\n",
              "      --bg-color: #E8F0FE;\n",
              "      --fill-color: #1967D2;\n",
              "      --hover-bg-color: #E2EBFA;\n",
              "      --hover-fill-color: #174EA6;\n",
              "      --disabled-fill-color: #AAA;\n",
              "      --disabled-bg-color: #DDD;\n",
              "  }\n",
              "\n",
              "  [theme=dark] .colab-df-quickchart {\n",
              "      --bg-color: #3B4455;\n",
              "      --fill-color: #D2E3FC;\n",
              "      --hover-bg-color: #434B5C;\n",
              "      --hover-fill-color: #FFFFFF;\n",
              "      --disabled-bg-color: #3B4455;\n",
              "      --disabled-fill-color: #666;\n",
              "  }\n",
              "\n",
              "  .colab-df-quickchart {\n",
              "    background-color: var(--bg-color);\n",
              "    border: none;\n",
              "    border-radius: 50%;\n",
              "    cursor: pointer;\n",
              "    display: none;\n",
              "    fill: var(--fill-color);\n",
              "    height: 32px;\n",
              "    padding: 0;\n",
              "    width: 32px;\n",
              "  }\n",
              "\n",
              "  .colab-df-quickchart:hover {\n",
              "    background-color: var(--hover-bg-color);\n",
              "    box-shadow: 0 1px 2px rgba(60, 64, 67, 0.3), 0 1px 3px 1px rgba(60, 64, 67, 0.15);\n",
              "    fill: var(--button-hover-fill-color);\n",
              "  }\n",
              "\n",
              "  .colab-df-quickchart-complete:disabled,\n",
              "  .colab-df-quickchart-complete:disabled:hover {\n",
              "    background-color: var(--disabled-bg-color);\n",
              "    fill: var(--disabled-fill-color);\n",
              "    box-shadow: none;\n",
              "  }\n",
              "\n",
              "  .colab-df-spinner {\n",
              "    border: 2px solid var(--fill-color);\n",
              "    border-color: transparent;\n",
              "    border-bottom-color: var(--fill-color);\n",
              "    animation:\n",
              "      spin 1s steps(1) infinite;\n",
              "  }\n",
              "\n",
              "  @keyframes spin {\n",
              "    0% {\n",
              "      border-color: transparent;\n",
              "      border-bottom-color: var(--fill-color);\n",
              "      border-left-color: var(--fill-color);\n",
              "    }\n",
              "    20% {\n",
              "      border-color: transparent;\n",
              "      border-left-color: var(--fill-color);\n",
              "      border-top-color: var(--fill-color);\n",
              "    }\n",
              "    30% {\n",
              "      border-color: transparent;\n",
              "      border-left-color: var(--fill-color);\n",
              "      border-top-color: var(--fill-color);\n",
              "      border-right-color: var(--fill-color);\n",
              "    }\n",
              "    40% {\n",
              "      border-color: transparent;\n",
              "      border-right-color: var(--fill-color);\n",
              "      border-top-color: var(--fill-color);\n",
              "    }\n",
              "    60% {\n",
              "      border-color: transparent;\n",
              "      border-right-color: var(--fill-color);\n",
              "    }\n",
              "    80% {\n",
              "      border-color: transparent;\n",
              "      border-right-color: var(--fill-color);\n",
              "      border-bottom-color: var(--fill-color);\n",
              "    }\n",
              "    90% {\n",
              "      border-color: transparent;\n",
              "      border-bottom-color: var(--fill-color);\n",
              "    }\n",
              "  }\n",
              "</style>\n",
              "\n",
              "  <script>\n",
              "    async function quickchart(key) {\n",
              "      const quickchartButtonEl =\n",
              "        document.querySelector('#' + key + ' button');\n",
              "      quickchartButtonEl.disabled = true;  // To prevent multiple clicks.\n",
              "      quickchartButtonEl.classList.add('colab-df-spinner');\n",
              "      try {\n",
              "        const charts = await google.colab.kernel.invokeFunction(\n",
              "            'suggestCharts', [key], {});\n",
              "      } catch (error) {\n",
              "        console.error('Error during call to suggestCharts:', error);\n",
              "      }\n",
              "      quickchartButtonEl.classList.remove('colab-df-spinner');\n",
              "      quickchartButtonEl.classList.add('colab-df-quickchart-complete');\n",
              "    }\n",
              "    (() => {\n",
              "      let quickchartButtonEl =\n",
              "        document.querySelector('#df-e7b69e11-7a28-476a-8a17-786e4cf75d3a button');\n",
              "      quickchartButtonEl.style.display =\n",
              "        google.colab.kernel.accessAllowed ? 'block' : 'none';\n",
              "    })();\n",
              "  </script>\n",
              "</div>\n",
              "\n",
              "    </div>\n",
              "  </div>\n"
            ],
            "application/vnd.google.colaboratory.intrinsic+json": {
              "type": "dataframe",
              "summary": "{\n  \"name\": \"df_filtered\",\n  \"rows\": 8,\n  \"fields\": [\n    {\n      \"column\": \"father\",\n      \"properties\": {\n        \"dtype\": \"number\",\n        \"std\": 294.059322223976,\n        \"min\": 2.4816276749064725,\n        \"max\": 889.0,\n        \"num_unique_values\": 8,\n        \"samples\": [\n          69.23858267716535,\n          69.0,\n          889.0\n        ],\n        \"semantic_type\": \"\",\n        \"description\": \"\"\n      }\n    },\n    {\n      \"column\": \"mother\",\n      \"properties\": {\n        \"dtype\": \"number\",\n        \"std\": 295.5562387486259,\n        \"min\": 2.3168353219988136,\n        \"max\": 889.0,\n        \"num_unique_values\": 8,\n        \"samples\": [\n          64.07514060742407,\n          64.0,\n          889.0\n        ],\n        \"semantic_type\": \"\",\n        \"description\": \"\"\n      }\n    },\n    {\n      \"column\": \"gender\",\n      \"properties\": {\n        \"dtype\": \"number\",\n        \"std\": 314.10638481125847,\n        \"min\": 0.0,\n        \"max\": 889.0,\n        \"num_unique_values\": 5,\n        \"samples\": [\n          0.5163104611923509,\n          1.0,\n          0.5000152005715447\n        ],\n        \"semantic_type\": \"\",\n        \"description\": \"\"\n      }\n    },\n    {\n      \"column\": \"height\",\n      \"properties\": {\n        \"dtype\": \"number\",\n        \"std\": 294.77339835119045,\n        \"min\": 3.5646339413670347,\n        \"max\": 889.0,\n        \"num_unique_values\": 8,\n        \"samples\": [\n          66.74263217097864,\n          66.5,\n          889.0\n        ],\n        \"semantic_type\": \"\",\n        \"description\": \"\"\n      }\n    },\n    {\n      \"column\": \"kids\",\n      \"properties\": {\n        \"dtype\": \"number\",\n        \"std\": 312.17526142740826,\n        \"min\": 1.0,\n        \"max\": 889.0,\n        \"num_unique_values\": 8,\n        \"samples\": [\n          6.118110236220472,\n          6.0,\n          889.0\n        ],\n        \"semantic_type\": \"\",\n        \"description\": \"\"\n      }\n    },\n    {\n      \"column\": \"male\",\n      \"properties\": {\n        \"dtype\": \"number\",\n        \"std\": 314.10638481125847,\n        \"min\": 0.0,\n        \"max\": 889.0,\n        \"num_unique_values\": 5,\n        \"samples\": [\n          0.5163104611923509,\n          1.0,\n          0.5000152005715447\n        ],\n        \"semantic_type\": \"\",\n        \"description\": \"\"\n      }\n    },\n    {\n      \"column\": \"female\",\n      \"properties\": {\n        \"dtype\": \"number\",\n        \"std\": 314.15853999913054,\n        \"min\": 0.0,\n        \"max\": 889.0,\n        \"num_unique_values\": 5,\n        \"samples\": [\n          0.48368953880764903,\n          1.0,\n          0.5000152005715447\n        ],\n        \"semantic_type\": \"\",\n        \"description\": \"\"\n      }\n    },\n    {\n      \"column\": \"avg_parent_height\",\n      \"properties\": {\n        \"dtype\": \"number\",\n        \"std\": 294.85464612121507,\n        \"min\": 1.759612641642598,\n        \"max\": 889.0,\n        \"num_unique_values\": 8,\n        \"samples\": [\n          66.65686164229471,\n          66.75,\n          889.0\n        ],\n        \"semantic_type\": \"\",\n        \"description\": \"\"\n      }\n    }\n  ]\n}"
            }
          },
          "metadata": {},
          "execution_count": 21
        }
      ]
    },
    {
      "cell_type": "code",
      "source": [
        "if df.shape == df_filtered.shape:\n",
        "  print(\"no outliers\")\n",
        "else:\n",
        "  print(\"outliers\")"
      ],
      "metadata": {
        "colab": {
          "base_uri": "https://localhost:8080/"
        },
        "id": "kMd9HKQqq4uD",
        "outputId": "9de850de-fa7c-42f0-d080-3363f6f0e364"
      },
      "execution_count": 22,
      "outputs": [
        {
          "output_type": "stream",
          "name": "stdout",
          "text": [
            "outliers\n"
          ]
        }
      ]
    },
    {
      "cell_type": "markdown",
      "source": [
        "# **Correlation coefficients after removing outliers**"
      ],
      "metadata": {
        "id": "6b3kxPYcuysT"
      }
    },
    {
      "cell_type": "markdown",
      "source": [
        "# Correlation coefficients of child's height"
      ],
      "metadata": {
        "id": "mHXT2UWXu5D4"
      }
    },
    {
      "cell_type": "code",
      "source": [
        "import pandas as pd\n",
        "import seaborn as sns\n",
        "import matplotlib.pyplot as plt\n",
        "\n",
        "# Calculate correlations\n",
        "correlations = df_filtered[['height', 'father', 'mother', 'avg_parent_height']].corr()\n",
        "\n",
        "# Print sorted correlations with 'height'\n",
        "print(correlations['height'].sort_values(ascending=False))\n",
        "\n",
        "# Create a heatmap chart\n",
        "plt.figure(figsize=(10, 8))\n",
        "sns.heatmap(correlations, annot=True, cmap='coolwarm', vmin=-1, vmax=1)\n",
        "plt.title('Correlation Heatmap')\n",
        "plt.show()"
      ],
      "metadata": {
        "colab": {
          "base_uri": "https://localhost:8080/",
          "height": 786
        },
        "id": "IwtG6zlmu_Ep",
        "outputId": "8e7bcf83-d367-40c9-85c5-73dbe66b87b6"
      },
      "execution_count": null,
      "outputs": [
        {
          "output_type": "stream",
          "name": "stdout",
          "text": [
            "height               1.000000\n",
            "avg_parent_height    0.328544\n",
            "father               0.277463\n",
            "mother               0.201852\n",
            "Name: height, dtype: float64\n"
          ]
        },
        {
          "output_type": "display_data",
          "data": {
            "text/plain": [
              "<Figure size 1000x800 with 2 Axes>"
            ],
            "image/png": "[encoded data removed]"
          },
          "metadata": {}
        }
      ]
    },
    {
      "cell_type": "markdown",
      "source": [
        "# Correlation coefficients of son's height"
      ],
      "metadata": {
        "id": "UoYIuklDvM4x"
      }
    },
    {
      "cell_type": "code",
      "source": [
        "# prompt: Correlation coefficients of son's height\n",
        "\n",
        "import pandas as pd\n",
        "import seaborn as sns\n",
        "import matplotlib.pyplot as plt\n",
        "\n",
        "# Calculate correlations for sons only\n",
        "correlations_sons = df_filtered[df_filtered['gender'] == 1][['height', 'father', 'mother', 'avg_parent_height']].corr()\n",
        "\n",
        "# Print sorted correlations with 'height' for sons\n",
        "print(correlations_sons['height'].sort_values(ascending=False))\n",
        "\n",
        "# Create a heatmap chart\n",
        "plt.figure(figsize=(10, 8))\n",
        "sns.heatmap(correlations, annot=True, cmap='coolwarm', vmin=-1, vmax=1)\n",
        "plt.title('Correlation Heatmap')\n",
        "plt.show()\n",
        "\n"
      ],
      "metadata": {
        "colab": {
          "base_uri": "https://localhost:8080/",
          "height": 786
        },
        "id": "SNAnxF2QvTLP",
        "outputId": "fa61c71c-9f83-49d4-d6d5-b4f8d9c142c6"
      },
      "execution_count": null,
      "outputs": [
        {
          "output_type": "stream",
          "name": "stdout",
          "text": [
            "height               1.000000\n",
            "avg_parent_height    0.491557\n",
            "father               0.395694\n",
            "mother               0.336336\n",
            "Name: height, dtype: float64\n"
          ]
        },
        {
          "output_type": "display_data",
          "data": {
            "text/plain": [
              "<Figure size 1000x800 with 2 Axes>"
            ],
            "image/png": "[encoded data removed]"
          },
          "metadata": {}
        }
      ]
    },
    {
      "cell_type": "markdown",
      "source": [
        "# Correlation coefficients of daughter's height"
      ],
      "metadata": {
        "id": "mdI-jqvCvVR_"
      }
    },
    {
      "cell_type": "code",
      "source": [
        "import pandas as pd\n",
        "import seaborn as sns\n",
        "import matplotlib.pyplot as plt\n",
        "\n",
        "# Calculate correlations for sons only\n",
        "correlations_sons = df_filtered[df_filtered['gender'] == 0][['height', 'father', 'mother', 'avg_parent_height']].corr()\n",
        "\n",
        "# Print sorted correlations with 'height' for sons\n",
        "print(correlations_sons['height'].sort_values(ascending=False))\n",
        "\n",
        "# Create a heatmap chart\n",
        "plt.figure(figsize=(10, 8))\n",
        "sns.heatmap(correlations, annot=True, cmap='coolwarm', vmin=-1, vmax=1)\n",
        "plt.title('Correlation Heatmap')\n",
        "plt.show()"
      ],
      "metadata": {
        "colab": {
          "base_uri": "https://localhost:8080/",
          "height": 786
        },
        "id": "xzPatzMavYcG",
        "outputId": "3f5698b1-cb40-4332-fdff-817c61cc4f4e"
      },
      "execution_count": null,
      "outputs": [
        {
          "output_type": "stream",
          "name": "stdout",
          "text": [
            "height               1.000000\n",
            "avg_parent_height    0.541610\n",
            "father               0.458515\n",
            "mother               0.314607\n",
            "Name: height, dtype: float64\n"
          ]
        },
        {
          "output_type": "display_data",
          "data": {
            "text/plain": [
              "<Figure size 1000x800 with 2 Axes>"
            ],
            "image/png": "[encoded data removed]"
          },
          "metadata": {}
        }
      ]
    },
    {
      "cell_type": "markdown",
      "source": [
        "# **Splitting Data**"
      ],
      "metadata": {
        "id": "zonhZ8ZRsJaJ"
      }
    },
    {
      "cell_type": "markdown",
      "source": [
        "# Original height data splitting"
      ],
      "metadata": {
        "id": "BjLTW1uh5kKc"
      }
    },
    {
      "cell_type": "code",
      "source": [
        "# prompt: split the data df_original into training and testing data\n",
        "\n",
        "from sklearn.model_selection import train_test_split\n",
        "\n",
        "# Separate features (independent variables) and target (dependent variable)\n",
        "features = df_original[['father', 'mother']]\n",
        "target = df_original['height']\n",
        "\n",
        "# Split the data into training and testing sets\n",
        "X_train_org, X_test_org, y_train_org, y_test_org = train_test_split(features, target, test_size=0.2, random_state=42)\n",
        "\n",
        "# Print the shapes of the training and testing sets\n",
        "print(\"X_train shape:\", X_train_org.shape)\n",
        "print(\"X_test shape:\", X_test_org.shape)\n",
        "print(\"y_train shape:\", y_train_org.shape)\n",
        "print(\"y_test shape:\", y_test_org.shape)\n"
      ],
      "metadata": {
        "colab": {
          "base_uri": "https://localhost:8080/"
        },
        "id": "AnrU0Wlt5oKP",
        "outputId": "18d5c237-28ef-45c1-8ddb-e4b1be2af27b"
      },
      "execution_count": 23,
      "outputs": [
        {
          "output_type": "stream",
          "name": "stdout",
          "text": [
            "X_train shape: (712, 2)\n",
            "X_test shape: (178, 2)\n",
            "y_train shape: (712,)\n",
            "y_test shape: (178,)\n"
          ]
        }
      ]
    },
    {
      "cell_type": "markdown",
      "source": [
        "# Splitting data (before removing outliers)"
      ],
      "metadata": {
        "id": "8N6zUHrY8AG7"
      }
    },
    {
      "cell_type": "code",
      "source": [
        "# prompt: generate code to split tghe data into training and testing data before removing outliers\n",
        "\n",
        "# Define features and target\n",
        "features = df[['father', 'mother', 'gender', 'avg_parent_height']]\n",
        "target = df['height']\n",
        "\n",
        "# Split the data into training and testing sets\n",
        "b_X_train, b_X_test, b_y_train, b_y_test = train_test_split(features, target, test_size=0.2, random_state=42)\n",
        "\n",
        "# Print the shapes of the training and testing sets\n",
        "print(\"X_train shape:\", b_X_train.shape)\n",
        "print(\"y_train shape:\", b_y_train.shape)\n",
        "print(\"X_test shape:\", b_X_test.shape)\n",
        "print(\"y_test shape:\", b_y_test.shape)\n"
      ],
      "metadata": {
        "colab": {
          "base_uri": "https://localhost:8080/"
        },
        "id": "cPspjAxNQ74J",
        "outputId": "388f94b0-4532-4b72-efda-856eae21c117"
      },
      "execution_count": 24,
      "outputs": [
        {
          "output_type": "stream",
          "name": "stdout",
          "text": [
            "X_train shape: (712, 4)\n",
            "y_train shape: (712,)\n",
            "X_test shape: (178, 4)\n",
            "y_test shape: (178,)\n"
          ]
        }
      ]
    },
    {
      "cell_type": "markdown",
      "source": [
        "# Splitting data (after removing outliers)"
      ],
      "metadata": {
        "id": "oUGo3hVgdMh8"
      }
    },
    {
      "cell_type": "code",
      "source": [
        "# prompt: genearete code to split data into trianing and tesing\n",
        "\n",
        "from sklearn.model_selection import train_test_split\n",
        "\n",
        "# Define features and target\n",
        "features = df_filtered[['father', 'mother', 'gender', 'avg_parent_height']]\n",
        "target = df_filtered['height']\n",
        "\n",
        "# Split the data into training and testing sets\n",
        "X_train, X_test, y_train, y_test = train_test_split(features, target, test_size=0.2, random_state=42)\n",
        "\n",
        "# Print the shapes of the training and testing sets\n",
        "print(\"X_train shape:\", X_train.shape)\n",
        "print(\"y_train shape:\", y_train.shape)\n",
        "print(\"X_test shape:\", X_test.shape)\n",
        "print(\"y_test shape:\", y_test.shape)\n"
      ],
      "metadata": {
        "colab": {
          "base_uri": "https://localhost:8080/"
        },
        "id": "t77ZTVpgdSvN",
        "outputId": "84871e03-2aba-4fdd-bf5e-524c443855f8"
      },
      "execution_count": 49,
      "outputs": [
        {
          "output_type": "stream",
          "name": "stdout",
          "text": [
            "X_train shape: (711, 4)\n",
            "y_train shape: (711,)\n",
            "X_test shape: (178, 4)\n",
            "y_test shape: (178,)\n"
          ]
        }
      ]
    },
    {
      "cell_type": "markdown",
      "source": [
        "# **Models** (for original data)"
      ],
      "metadata": {
        "id": "FgtpOrkx63kc"
      }
    },
    {
      "cell_type": "markdown",
      "source": [
        "# Linear regression model"
      ],
      "metadata": {
        "id": "uVcChzPC6-XV"
      }
    },
    {
      "cell_type": "code",
      "source": [
        "from sklearn.linear_model import LinearRegression  # Import LinearRegression instead\n",
        "\n",
        "# Create a linear regression model\n",
        "model = LinearRegression()\n",
        "\n",
        "# Train the model on the training data\n",
        "model.fit(X_train_org, y_train_org)\n",
        "\n",
        "# Predict the target values for the test data\n",
        "predicted_target_org = model.predict(X_test_org)\n",
        "\n",
        "# Print the predicted target values\n",
        "print(predicted_target_org)"
      ],
      "metadata": {
        "colab": {
          "base_uri": "https://localhost:8080/"
        },
        "id": "Sh5UlXZI7ZN_",
        "outputId": "0e36cae2-0de5-45c8-9cbb-216ff236ac13"
      },
      "execution_count": 29,
      "outputs": [
        {
          "output_type": "stream",
          "name": "stdout",
          "text": [
            "[67.29965235 67.15908834 68.11430162 67.15908834 66.71021648 64.46585716\n",
            " 67.04725911 65.25177165 66.71021648 65.89712214 66.23260984 67.94500284\n",
            " 66.00895137 69.37020988 65.33486611 66.42458545 65.6447289  66.09360076\n",
            " 65.83965259 64.83007963 69.37020988 67.44021636 67.18782312 67.29965235\n",
            " 66.26134461 69.2500712  67.29965235 67.22393438 66.26134461 66.1207806\n",
            " 69.62866106 67.29965235 68.08556684 66.71021648 66.92106249 67.94500284\n",
            " 67.28528496 65.61599412 66.71021648 67.32838712 65.65909629 64.46585716\n",
            " 66.33162662 65.50416489 67.48176358 66.93542988 67.04725911 66.93542988\n",
            " 66.14951538 67.29965235 65.89712214 68.85711395 66.03768615 68.30922531\n",
            " 67.48176358 67.33576361 66.92106249 66.09360076 67.94500284 67.0616265\n",
            " 69.37020988 67.15908834 66.79486587 67.29965235 66.51373785 66.93542988\n",
            " 66.9769771  67.44021636 65.33486611 66.79486587 64.4083876  67.29965235\n",
            " 67.94500284 64.21346392 67.08880634 66.93542988 69.37020988 66.71021648\n",
            " 67.18782312 65.33486611 67.29965235 65.46106273 67.15908834 66.31725923\n",
            " 67.79007144 65.33486611 64.99937841 66.03162821 65.9802166  68.84274656\n",
            " 65.92430198 66.9066951  66.93542988 65.4195155  65.92430198 67.52486575\n",
            " 67.04725911 64.21346392 64.68951562 65.08247287 65.85401998 65.19585704\n",
            " 66.00895137 66.26134461 66.63993447 65.25177165 66.93542988 65.08247287\n",
            " 65.61599412 66.21373944 64.68951562 67.58078036 67.49613097 66.83703507\n",
            " 66.93542988 67.84148305 67.04725911 67.15908834 68.59035332 67.04725911\n",
            " 67.31401974 66.275712   64.21346392 65.89712214 67.29965235 65.08247287\n",
            " 68.22613085 66.31725923 66.52810524 66.1207806  68.05232906 65.33486611\n",
            " 66.23260984 66.26134461 67.04725911 64.84444702 66.24697722 67.04725911\n",
            " 68.47852409 66.21373944 67.67824221 65.88275475 67.28528496 63.67994266\n",
            " 67.22393438 67.80443883 68.11430162 69.3203532  65.25177165 66.52810524\n",
            " 66.14951538 67.15908834 67.52486575 68.59035332 66.09360076 66.00895137\n",
            " 68.08556684 66.23260984 66.33162662 67.79007144 67.49613097 67.22393438\n",
            " 66.26134461 69.83950707 68.47852409 67.67824221 67.35556696 67.09773776\n",
            " 66.79486587 67.58078036 67.18782312 66.00895137 65.08247287 67.15908834\n",
            " 65.92430198 69.62866106 68.08556684 69.01204535]\n"
          ]
        }
      ]
    },
    {
      "cell_type": "code",
      "source": [
        "# prompt: generate code for what was the accuracy that i got\n",
        "\n",
        "from sklearn.metrics import r2_score\n",
        "\n",
        "# Calculate the R^2 score of the predictions\n",
        "lr_accuracy_org = r2_score(y_test_org, predicted_target_org)\n",
        "\n",
        "# Print the accuracy\n",
        "print(\"Accuracy:\", lr_accuracy_org)"
      ],
      "metadata": {
        "colab": {
          "base_uri": "https://localhost:8080/"
        },
        "id": "AYfU2NHl7mWJ",
        "outputId": "7495ca0b-b8ff-47da-9b9f-e597e4810232"
      },
      "execution_count": 27,
      "outputs": [
        {
          "output_type": "stream",
          "name": "stdout",
          "text": [
            "Accuracy: 0.11584237747872983\n"
          ]
        }
      ]
    },
    {
      "cell_type": "code",
      "source": [
        "# prompt: generate code for precision recall f1 score and RMSE for above linear regression model\n",
        "\n",
        "from sklearn.metrics import precision_recall_fscore_support, mean_squared_error\n",
        "import numpy as np\n",
        "\n",
        "# Assuming you have y_test_org and predicted_target_org from your Linear Regression model\n",
        "\n",
        "# Convert regression predictions to binary classification (e.g., above/below average height)\n",
        "threshold = y_test_org.mean()  # You can choose a different threshold if needed\n",
        "y_pred_binary = [1 if pred > threshold else 0 for pred in predicted_target_org]\n",
        "y_true_binary = [1 if true > threshold else 0 for true in y_test_org]\n",
        "\n",
        "# Calculate Precision, Recall, F1-score\n",
        "precision_lr_org, recall_lr_org, f1_lr_org, _ = precision_recall_fscore_support(y_true_binary, y_pred_binary, average='binary')\n",
        "\n",
        "print(f\"Precision: {precision_lr_org}\")\n",
        "print(f\"Recall: {recall_lr_org}\")\n",
        "print(f\"F1-Score: {f1_lr_org}\")\n",
        "\n",
        "# Calculate RMSE\n",
        "rmse_lr_org = np.sqrt(mean_squared_error(y_test_org, predicted_target_org))\n",
        "print(f\"RMSE: {rmse_lr_org}\")\n"
      ],
      "metadata": {
        "colab": {
          "base_uri": "https://localhost:8080/"
        },
        "id": "21pg_VHecyEb",
        "outputId": "ce6596d1-e3c0-45f2-c653-5402c396a01a"
      },
      "execution_count": 28,
      "outputs": [
        {
          "output_type": "stream",
          "name": "stdout",
          "text": [
            "Precision: 0.5360824742268041\n",
            "Recall: 0.5909090909090909\n",
            "F1-Score: 0.5621621621621622\n",
            "RMSE: 3.4669866550501616\n"
          ]
        }
      ]
    },
    {
      "cell_type": "markdown",
      "source": [
        "# SVR Linear Model"
      ],
      "metadata": {
        "id": "h7kbjub37zkZ"
      }
    },
    {
      "cell_type": "code",
      "source": [
        "# prompt: generate code for svr linear model\n",
        "\n",
        "from sklearn.svm import SVR\n",
        "\n",
        "# Create a Support Vector Regression (SVR) model with a linear kernel\n",
        "model_svr_linear = SVR(kernel='linear')\n",
        "\n",
        "# Train the model on the training data\n",
        "model_svr_linear.fit(X_train_org, y_train_org)\n",
        "\n",
        "# Predict the target values for the test data\n",
        "predicted_target_svr_linear_org = model_svr_linear.predict(X_test_org)\n",
        "\n",
        "# Print the predicted target values\n",
        "print(predicted_target_svr_linear_org)"
      ],
      "metadata": {
        "colab": {
          "base_uri": "https://localhost:8080/"
        },
        "id": "EcYXjEWt72U7",
        "outputId": "22264e0b-b099-436c-8359-5c738fa37412"
      },
      "execution_count": 30,
      "outputs": [
        {
          "output_type": "stream",
          "name": "stdout",
          "text": [
            "[67.05642488 66.89649314 67.9007503  66.89649314 66.50962958 64.5753118\n",
            " 66.85182642 65.3043722  66.50962958 65.87350085 66.007501   67.62555354\n",
            " 65.91816757 68.85905025 65.23377389 66.33327045 65.66890239 66.05576595\n",
            " 65.6429708  64.82457697 68.85905025 67.21635662 67.01175816 67.05642488\n",
            " 66.12276603 68.82144336 67.05642488 66.99504534 66.12276603 65.96283429\n",
            " 69.12834105 67.05642488 67.78548528 66.50962958 66.74952719 67.62555354\n",
            " 66.99879237 65.55363737 66.50962958 67.1716899  65.72653491 64.5753118\n",
            " 66.2027319  65.50897065 67.18105747 66.80715971 66.85182642 66.80715971\n",
            " 66.07809931 67.05642488 65.87350085 68.45691316 66.03343259 67.87481871\n",
            " 67.18105747 67.03971206 66.74952719 66.05576595 67.62555354 66.90945893\n",
            " 68.85905025 66.89649314 66.64722796 67.05642488 66.32736448 66.80715971\n",
            " 66.77186055 67.21635662 65.23377389 66.64722796 64.34478175 67.05642488\n",
            " 67.62555354 64.37071334 66.81652727 66.80715971 68.85905025 66.50962958\n",
            " 67.01175816 65.23377389 67.05642488 65.33607312 66.89649314 66.14509938\n",
            " 67.40798928 65.23377389 65.09977374 65.96874025 65.80290254 68.39928065\n",
            " 65.78056919 66.69189468 66.80715971 65.37137227 65.78056919 67.353955\n",
            " 66.85182642 64.37071334 64.66464523 65.02917543 65.70060332 65.28203884\n",
            " 65.91816757 66.12276603 66.42966371 65.3043722  66.80715971 65.02917543\n",
            " 65.55363737 66.09337284 64.66464523 67.37628836 67.23868998 66.69520749\n",
            " 66.80715971 67.57382699 66.85182642 66.89649314 68.19468219 66.85182642\n",
            " 67.11405739 66.18039854 64.37071334 65.87350085 67.05642488 65.02917543\n",
            " 67.94541702 66.14509938 66.384997   65.96283429 67.8137246  65.23377389\n",
            " 66.007501   66.12276603 66.85182642 64.88220949 66.06513351 66.85182642\n",
            " 68.15001547 66.09337284 67.36332257 65.81586834 66.99879237 63.8462514\n",
            " 66.99504534 67.4656218  67.9007503  68.90140923 65.3043722  66.384997\n",
            " 66.07809931 66.89649314 67.353955   68.19468219 66.05576595 65.91816757\n",
            " 67.78548528 66.007501   66.2027319  67.40798928 67.23868998 66.99504534\n",
            " 66.12276603 69.36823866 68.15001547 67.36332257 67.07875824 66.89274611\n",
            " 66.64722796 67.37628836 67.01175816 65.91816757 65.02917543 66.89649314\n",
            " 65.78056919 69.12834105 67.78548528 68.67447741]\n"
          ]
        }
      ]
    },
    {
      "cell_type": "code",
      "source": [
        "# Calculate the R^2 score of the predictions\n",
        "svr_accuracy_org = r2_score(y_test_org, predicted_target_svr_linear_org)\n",
        "\n",
        "# Print the accuracy\n",
        "print(\"Accuracy (SVR linear):\", svr_accuracy_org)"
      ],
      "metadata": {
        "colab": {
          "base_uri": "https://localhost:8080/"
        },
        "id": "waxe_RVQ8Ds3",
        "outputId": "ddb934b7-0d5b-4ff0-86f1-8f047a5b5f4d"
      },
      "execution_count": 31,
      "outputs": [
        {
          "output_type": "stream",
          "name": "stdout",
          "text": [
            "Accuracy (SVR linear): 0.10940683201888834\n"
          ]
        }
      ]
    },
    {
      "cell_type": "code",
      "source": [
        "# prompt: generate code for precision recall f1 score and RMSE for above SVR linear model\n",
        "\n",
        "# Assuming you have y_test_org and predicted_target_svr_linear_org from your SVR Linear model\n",
        "\n",
        "# Convert regression predictions to binary classification (e.g., above/below average height)\n",
        "threshold = y_test_org.mean()  # You can choose a different threshold if needed\n",
        "y_pred_binary = [1 if pred > threshold else 0 for pred in predicted_target_svr_linear_org]\n",
        "y_true_binary = [1 if true > threshold else 0 for true in y_test_org]\n",
        "\n",
        "# Calculate Precision, Recall, F1-score\n",
        "precision_svr_org, recall_svr_org, f1_svr_org, _ = precision_recall_fscore_support(y_true_binary, y_pred_binary, average='binary')\n",
        "\n",
        "print(f\"Precision (SVR Linear): {precision_svr_org}\")\n",
        "print(f\"Recall (SVR Linear): {recall_svr_org}\")\n",
        "print(f\"F1-Score (SVR Linear): {f1_svr_org}\")\n",
        "\n",
        "# Calculate RMSE\n",
        "rmse = np.sqrt(mean_squared_error(y_test_org, predicted_target_svr_linear_org))\n",
        "print(f\"RMSE (SVR Linear): {rmse}\")\n"
      ],
      "metadata": {
        "colab": {
          "base_uri": "https://localhost:8080/"
        },
        "id": "YBBeGn-wdDtD",
        "outputId": "09deea1c-c85d-4cd6-c036-9e21722709d4"
      },
      "execution_count": 32,
      "outputs": [
        {
          "output_type": "stream",
          "name": "stdout",
          "text": [
            "Precision (SVR Linear): 0.5543478260869565\n",
            "Recall (SVR Linear): 0.5795454545454546\n",
            "F1-Score (SVR Linear): 0.5666666666666667\n",
            "RMSE (SVR Linear): 3.479581409696342\n"
          ]
        }
      ]
    },
    {
      "cell_type": "markdown",
      "source": [
        "# XGBoost Model"
      ],
      "metadata": {
        "id": "hMAyRNUB8UVs"
      }
    },
    {
      "cell_type": "code",
      "source": [
        "# prompt: generate code for xgboost model\n",
        "\n",
        "from xgboost import XGBRegressor\n",
        "\n",
        "# Create an XGBoost regressor model\n",
        "model_xgb = XGBRegressor()\n",
        "\n",
        "# Train the model on the training data\n",
        "model_xgb.fit(X_train_org, y_train_org)\n",
        "\n",
        "# Predict the target values for the test data\n",
        "predicted_target_xgb_org = model_xgb.predict(X_test_org)\n",
        "\n",
        "# Print the predicted target values\n",
        "print(predicted_target_xgb_org)\n",
        "\n"
      ],
      "metadata": {
        "colab": {
          "base_uri": "https://localhost:8080/"
        },
        "id": "G-9T8b4S8Zx3",
        "outputId": "e393415e-c4a4-4649-e065-a7bf0eaf4191"
      },
      "execution_count": 33,
      "outputs": [
        {
          "output_type": "stream",
          "name": "stdout",
          "text": [
            "[67.873245 67.518166 66.834175 67.518166 62.369953 64.332054 67.77574\n",
            " 62.635853 62.369953 64.60051  64.39326  68.61605  65.510544 69.2991\n",
            " 65.49255  71.34831  65.94842  69.25795  65.872025 64.5066   69.2991\n",
            " 66.93436  66.46178  67.873245 65.40214  69.24652  67.873245 68.49648\n",
            " 65.40214  64.71899  70.700066 67.873245 68.91817  62.369953 69.06957\n",
            " 68.61605  68.113945 68.91104  62.369953 69.154686 63.75623  64.332054\n",
            " 68.30035  65.72827  68.9775   68.18455  67.77574  68.18455  68.55086\n",
            " 67.873245 64.60051  68.59197  64.899025 67.63471  68.9775   69.49433\n",
            " 69.06957  69.25795  68.61605  65.12426  69.2991   67.518166 65.7098\n",
            " 67.873245 68.65732  68.18455  64.548195 66.93436  65.49255  65.7098\n",
            " 61.492844 67.873245 68.61605  63.6      68.04327  68.18455  69.2991\n",
            " 62.369953 66.46178  65.49255  67.873245 70.61935  67.518166 64.50384\n",
            " 66.43534  65.49255  64.52219  67.74114  65.74792  70.74586  62.70004\n",
            " 65.8154   68.18455  65.44713  62.70004  66.753235 67.77574  63.6\n",
            " 64.21085  65.49339  69.00264  67.05896  65.510544 65.40214  66.40492\n",
            " 62.635853 68.18455  65.49339  68.91104  65.675545 64.21085  68.078156\n",
            " 67.088684 66.91565  68.18455  69.836174 67.77574  67.518166 67.01143\n",
            " 67.77574  66.884674 65.941635 63.6      64.60051  67.873245 65.49339\n",
            " 65.00725  64.50384  64.56736  64.71899  66.61166  65.49255  64.39326\n",
            " 65.40214  67.77574  67.26262  66.025406 67.77574  68.65761  65.675545\n",
            " 67.45839  66.343864 68.113945 65.99661  68.49648  67.30335  66.834175\n",
            " 67.77287  62.635853 64.56736  68.55086  67.518166 66.753235 67.01143\n",
            " 69.25795  65.510544 68.91817  64.39326  68.30035  66.43534  67.088684\n",
            " 68.49648  65.40214  68.16804  68.65761  67.45839  68.18022  63.952633\n",
            " 65.7098   68.078156 66.46178  65.510544 65.49339  67.518166 62.70004\n",
            " 70.700066 68.91817  66.99816 ]\n"
          ]
        }
      ]
    },
    {
      "cell_type": "code",
      "source": [
        "# Calculate the R^2 score of the predictions\n",
        "xgb_accuracy_org = r2_score(y_test_org, predicted_target_xgb_org)\n",
        "\n",
        "# Print the accuracy\n",
        "print(\"Accuracy (XGBoost):\", xgb_accuracy_org)"
      ],
      "metadata": {
        "colab": {
          "base_uri": "https://localhost:8080/"
        },
        "id": "P9QJ2dh18-3K",
        "outputId": "e1550892-adb6-492f-aa10-a44e2f8450e0"
      },
      "execution_count": 34,
      "outputs": [
        {
          "output_type": "stream",
          "name": "stdout",
          "text": [
            "Accuracy (XGBoost): -0.030703765619219725\n"
          ]
        }
      ]
    },
    {
      "cell_type": "code",
      "source": [
        "# prompt: generate code for precision recall f1 score and RMSE for above XG boost model\n",
        "\n",
        "# Assuming you have y_test_org and predicted_target_xgb_org from your XGBoost model\n",
        "\n",
        "# Convert regression predictions to binary classification (e.g., above/below average height)\n",
        "threshold = y_test_org.mean()  # You can choose a different threshold if needed\n",
        "y_pred_binary = [1 if pred > threshold else 0 for pred in predicted_target_xgb_org]\n",
        "y_true_binary = [1 if true > threshold else 0 for true in y_test_org]\n",
        "\n",
        "# Calculate Precision, Recall, F1-score\n",
        "precision_xgb_org, recall_xgb_org, f1_xgb_org, _ = precision_recall_fscore_support(y_true_binary, y_pred_binary, average='binary')\n",
        "\n",
        "print(f\"Precision (XGBoost): {precision_xgb_org}\")\n",
        "print(f\"Recall (XGBoost): {recall_xgb_org}\")\n",
        "print(f\"F1-Score (XGBoost): {f1_xgb_org}\")\n",
        "\n",
        "# Calculate RMSE\n",
        "rmse = np.sqrt(mean_squared_error(y_test_org, predicted_target_xgb_org))\n",
        "print(f\"RMSE (XGBoost): {rmse}\")\n"
      ],
      "metadata": {
        "colab": {
          "base_uri": "https://localhost:8080/"
        },
        "id": "D66ygF3rdPoP",
        "outputId": "7b53c7bd-b080-4ee9-f4ef-9a5a16cebfa4"
      },
      "execution_count": 35,
      "outputs": [
        {
          "output_type": "stream",
          "name": "stdout",
          "text": [
            "Precision (XGBoost): 0.5656565656565656\n",
            "Recall (XGBoost): 0.6363636363636364\n",
            "F1-Score (XGBoost): 0.5989304812834224\n",
            "RMSE (XGBoost): 3.743296719386504\n"
          ]
        }
      ]
    },
    {
      "cell_type": "markdown",
      "source": [
        "# Light GBM Model"
      ],
      "metadata": {
        "id": "Mi-IjcG993a0"
      }
    },
    {
      "cell_type": "code",
      "source": [
        "# prompt: generate code for light gbm model\n",
        "\n",
        "import lightgbm as lgb\n",
        "\n",
        "# Create a LightGBM regressor model\n",
        "model_lgb = lgb.LGBMRegressor()\n",
        "\n",
        "# Train the model on the training data\n",
        "model_lgb.fit(X_train_org, y_train_org)\n",
        "\n",
        "# Predict the target values for the test data\n",
        "predicted_target_lgb_org = model_lgb.predict(X_test_org)\n",
        "\n",
        "# Print the predicted target values\n",
        "print(predicted_target_lgb_org)\n",
        "\n"
      ],
      "metadata": {
        "colab": {
          "base_uri": "https://localhost:8080/"
        },
        "id": "LQnqDM2r9_7Y",
        "outputId": "5b1afd2d-0a77-4002-902f-76b2ce2aa2d0"
      },
      "execution_count": 35,
      "outputs": [
        {
          "output_type": "stream",
          "name": "stderr",
          "text": [
            "/usr/local/lib/python3.10/dist-packages/dask/dataframe/__init__.py:42: FutureWarning:\n",
            "\n",
            "\n",
            "Dask dataframe query planning is disabled because dask-expr is not installed.\n",
            "\n",
            "You can install it with `pip install dask[dataframe]` or `conda install dask`.\n",
            "This will raise in a future version.\n",
            "\n",
            "\n"
          ]
        },
        {
          "output_type": "stream",
          "name": "stdout",
          "text": [
            "[LightGBM] [Info] Auto-choosing col-wise multi-threading, the overhead of testing was 0.000284 seconds.\n",
            "You can set `force_col_wise=true` to remove the overhead.\n",
            "[LightGBM] [Info] Total Bins 57\n",
            "[LightGBM] [Info] Number of data points in the train set: 712, number of used features: 2\n",
            "[LightGBM] [Info] Start training from score 66.765028\n",
            "[LightGBM] [Warning] No further splits with positive gain, best gain: -inf\n",
            "[LightGBM] [Warning] No further splits with positive gain, best gain: -inf\n",
            "[LightGBM] [Warning] No further splits with positive gain, best gain: -inf\n",
            "[LightGBM] [Warning] No further splits with positive gain, best gain: -inf\n",
            "[LightGBM] [Warning] No further splits with positive gain, best gain: -inf\n",
            "[LightGBM] [Warning] No further splits with positive gain, best gain: -inf\n",
            "[LightGBM] [Warning] No further splits with positive gain, best gain: -inf\n",
            "[LightGBM] [Warning] No further splits with positive gain, best gain: -inf\n",
            "[LightGBM] [Warning] No further splits with positive gain, best gain: -inf\n",
            "[LightGBM] [Warning] No further splits with positive gain, best gain: -inf\n",
            "[LightGBM] [Warning] No further splits with positive gain, best gain: -inf\n",
            "[LightGBM] [Warning] No further splits with positive gain, best gain: -inf\n",
            "[LightGBM] [Warning] No further splits with positive gain, best gain: -inf\n",
            "[LightGBM] [Warning] No further splits with positive gain, best gain: -inf\n",
            "[LightGBM] [Warning] No further splits with positive gain, best gain: -inf\n",
            "[LightGBM] [Warning] No further splits with positive gain, best gain: -inf\n",
            "[LightGBM] [Warning] No further splits with positive gain, best gain: -inf\n",
            "[LightGBM] [Warning] No further splits with positive gain, best gain: -inf\n",
            "[LightGBM] [Warning] No further splits with positive gain, best gain: -inf\n",
            "[LightGBM] [Warning] No further splits with positive gain, best gain: -inf\n",
            "[LightGBM] [Warning] No further splits with positive gain, best gain: -inf\n",
            "[LightGBM] [Warning] No further splits with positive gain, best gain: -inf\n",
            "[LightGBM] [Warning] No further splits with positive gain, best gain: -inf\n",
            "[LightGBM] [Warning] No further splits with positive gain, best gain: -inf\n",
            "[LightGBM] [Warning] No further splits with positive gain, best gain: -inf\n",
            "[LightGBM] [Warning] No further splits with positive gain, best gain: -inf\n",
            "[LightGBM] [Warning] No further splits with positive gain, best gain: -inf\n",
            "[LightGBM] [Warning] No further splits with positive gain, best gain: -inf\n",
            "[LightGBM] [Warning] No further splits with positive gain, best gain: -inf\n",
            "[LightGBM] [Warning] No further splits with positive gain, best gain: -inf\n",
            "[LightGBM] [Warning] No further splits with positive gain, best gain: -inf\n",
            "[LightGBM] [Warning] No further splits with positive gain, best gain: -inf\n",
            "[LightGBM] [Warning] No further splits with positive gain, best gain: -inf\n",
            "[LightGBM] [Warning] No further splits with positive gain, best gain: -inf\n",
            "[LightGBM] [Warning] No further splits with positive gain, best gain: -inf\n",
            "[LightGBM] [Warning] No further splits with positive gain, best gain: -inf\n",
            "[LightGBM] [Warning] No further splits with positive gain, best gain: -inf\n",
            "[LightGBM] [Warning] No further splits with positive gain, best gain: -inf\n",
            "[LightGBM] [Warning] No further splits with positive gain, best gain: -inf\n",
            "[LightGBM] [Warning] No further splits with positive gain, best gain: -inf\n",
            "[LightGBM] [Warning] No further splits with positive gain, best gain: -inf\n",
            "[LightGBM] [Warning] No further splits with positive gain, best gain: -inf\n",
            "[LightGBM] [Warning] No further splits with positive gain, best gain: -inf\n",
            "[LightGBM] [Warning] No further splits with positive gain, best gain: -inf\n",
            "[LightGBM] [Warning] No further splits with positive gain, best gain: -inf\n",
            "[LightGBM] [Warning] No further splits with positive gain, best gain: -inf\n",
            "[LightGBM] [Warning] No further splits with positive gain, best gain: -inf\n",
            "[LightGBM] [Warning] No further splits with positive gain, best gain: -inf\n",
            "[LightGBM] [Warning] No further splits with positive gain, best gain: -inf\n",
            "[LightGBM] [Warning] No further splits with positive gain, best gain: -inf\n",
            "[LightGBM] [Warning] No further splits with positive gain, best gain: -inf\n",
            "[LightGBM] [Warning] No further splits with positive gain, best gain: -inf\n",
            "[LightGBM] [Warning] No further splits with positive gain, best gain: -inf\n",
            "[LightGBM] [Warning] No further splits with positive gain, best gain: -inf\n",
            "[LightGBM] [Warning] No further splits with positive gain, best gain: -inf\n",
            "[LightGBM] [Warning] No further splits with positive gain, best gain: -inf\n",
            "[LightGBM] [Warning] No further splits with positive gain, best gain: -inf\n",
            "[LightGBM] [Warning] No further splits with positive gain, best gain: -inf\n",
            "[LightGBM] [Warning] No further splits with positive gain, best gain: -inf\n",
            "[LightGBM] [Warning] No further splits with positive gain, best gain: -inf\n",
            "[LightGBM] [Warning] No further splits with positive gain, best gain: -inf\n",
            "[LightGBM] [Warning] No further splits with positive gain, best gain: -inf\n",
            "[LightGBM] [Warning] No further splits with positive gain, best gain: -inf\n",
            "[LightGBM] [Warning] No further splits with positive gain, best gain: -inf\n",
            "[LightGBM] [Warning] No further splits with positive gain, best gain: -inf\n",
            "[LightGBM] [Warning] No further splits with positive gain, best gain: -inf\n",
            "[LightGBM] [Warning] No further splits with positive gain, best gain: -inf\n",
            "[LightGBM] [Warning] No further splits with positive gain, best gain: -inf\n",
            "[LightGBM] [Warning] No further splits with positive gain, best gain: -inf\n",
            "[LightGBM] [Warning] No further splits with positive gain, best gain: -inf\n",
            "[LightGBM] [Warning] No further splits with positive gain, best gain: -inf\n",
            "[LightGBM] [Warning] No further splits with positive gain, best gain: -inf\n",
            "[LightGBM] [Warning] No further splits with positive gain, best gain: -inf\n",
            "[LightGBM] [Warning] No further splits with positive gain, best gain: -inf\n",
            "[LightGBM] [Warning] No further splits with positive gain, best gain: -inf\n",
            "[LightGBM] [Warning] No further splits with positive gain, best gain: -inf\n",
            "[LightGBM] [Warning] No further splits with positive gain, best gain: -inf\n",
            "[LightGBM] [Warning] No further splits with positive gain, best gain: -inf\n",
            "[LightGBM] [Warning] No further splits with positive gain, best gain: -inf\n",
            "[LightGBM] [Warning] No further splits with positive gain, best gain: -inf\n",
            "[LightGBM] [Warning] No further splits with positive gain, best gain: -inf\n",
            "[LightGBM] [Warning] No further splits with positive gain, best gain: -inf\n",
            "[LightGBM] [Warning] No further splits with positive gain, best gain: -inf\n",
            "[LightGBM] [Warning] No further splits with positive gain, best gain: -inf\n",
            "[LightGBM] [Warning] No further splits with positive gain, best gain: -inf\n",
            "[LightGBM] [Warning] No further splits with positive gain, best gain: -inf\n",
            "[LightGBM] [Warning] No further splits with positive gain, best gain: -inf\n",
            "[LightGBM] [Warning] No further splits with positive gain, best gain: -inf\n",
            "[LightGBM] [Warning] No further splits with positive gain, best gain: -inf\n",
            "[LightGBM] [Warning] No further splits with positive gain, best gain: -inf\n",
            "[LightGBM] [Warning] No further splits with positive gain, best gain: -inf\n",
            "[LightGBM] [Warning] No further splits with positive gain, best gain: -inf\n",
            "[LightGBM] [Warning] No further splits with positive gain, best gain: -inf\n",
            "[LightGBM] [Warning] No further splits with positive gain, best gain: -inf\n",
            "[LightGBM] [Warning] No further splits with positive gain, best gain: -inf\n",
            "[LightGBM] [Warning] No further splits with positive gain, best gain: -inf\n",
            "[LightGBM] [Warning] No further splits with positive gain, best gain: -inf\n",
            "[LightGBM] [Warning] No further splits with positive gain, best gain: -inf\n",
            "[LightGBM] [Warning] No further splits with positive gain, best gain: -inf\n",
            "[LightGBM] [Warning] No further splits with positive gain, best gain: -inf\n",
            "[67.89379371 67.4860358  67.07587791 67.4860358  64.9081755  64.11725142\n",
            " 67.63140252 63.34589926 64.9081755  65.8377089  64.66654336 68.66854942\n",
            " 65.66161152 69.73492848 65.54038104 70.50838784 65.24840534 67.89454519\n",
            " 64.55868233 64.31004599 69.73492848 67.07816759 66.45987119 67.89379371\n",
            " 65.50274396 68.2636421  67.89379371 67.73872228 65.50274396 65.0050539\n",
            " 70.97731667 67.89379371 68.59707203 64.9081755  66.79158632 68.66854942\n",
            " 68.16989614 68.25423653 64.9081755  68.8939463  66.29220121 64.11725142\n",
            " 66.10294521 65.45047816 68.23384583 67.9298319  67.63140252 67.9298319\n",
            " 68.63042264 67.89379371 65.8377089  67.6227685  65.57665456 68.18439243\n",
            " 68.23384583 69.06067225 66.79158632 67.89454519 68.66854942 65.51872248\n",
            " 69.73492848 67.4860358  66.62586645 67.89379371 66.64316093 67.9298319\n",
            " 64.50722419 67.07816759 65.54038104 66.62586645 63.30223741 67.89379371\n",
            " 68.66854942 63.72135145 68.44105978 67.9298319  69.73492848 64.9081755\n",
            " 66.45987119 65.54038104 67.89379371 65.91594225 67.4860358  64.814307\n",
            " 66.58536638 65.54038104 64.30358066 68.32867783 65.61686193 70.43515579\n",
            " 62.97020577 65.33074421 67.9298319  65.45948215 62.97020577 67.12714536\n",
            " 67.63140252 63.72135145 64.31556104 64.31556104 68.117807   66.18660453\n",
            " 65.66161152 65.50274396 66.82028379 63.34589926 67.9298319  64.31556104\n",
            " 68.25423653 65.70714017 64.31556104 67.9922963  66.77420206 66.7561679\n",
            " 67.9298319  68.8226048  67.63140252 67.4860358  68.74387705 67.63140252\n",
            " 66.85041577 66.086977   63.72135145 65.8377089  67.89379371 64.31556104\n",
            " 65.9838365  64.814307   65.20550913 65.0050539  66.75422248 65.54038104\n",
            " 64.66654336 65.50274396 67.63140252 65.61723426 66.20839289 67.63140252\n",
            " 68.64832702 65.70714017 67.60516379 65.44412671 68.16989614 64.54671045\n",
            " 67.73872228 67.60815547 67.07587791 67.89639757 63.34589926 65.20550913\n",
            " 68.63042264 67.4860358  67.12714536 68.74387705 67.89454519 65.66161152\n",
            " 68.59707203 64.66654336 66.10294521 66.58536638 66.77420206 67.73872228\n",
            " 65.50274396 68.2636421  68.64832702 67.60516379 68.14222343 64.48643353\n",
            " 66.62586645 67.9922963  66.45987119 65.66161152 64.31556104 67.4860358\n",
            " 62.97020577 70.97731667 68.59707203 66.5590955 ]\n"
          ]
        }
      ]
    },
    {
      "cell_type": "code",
      "source": [
        "# Calculate the R^2 score of the predictions\n",
        "lgb_accuracy_org = r2_score(y_test_org, predicted_target_lgb_org)\n",
        "\n",
        "# Print the accuracy\n",
        "print(\"Accuracy (LightGBM):\", lgb_accuracy_org)"
      ],
      "metadata": {
        "colab": {
          "base_uri": "https://localhost:8080/"
        },
        "id": "91RVqWHf-MkJ",
        "outputId": "87725520-ba2e-4fe6-fa6b-f668bbbc2111"
      },
      "execution_count": 36,
      "outputs": [
        {
          "output_type": "stream",
          "name": "stdout",
          "text": [
            "Accuracy (LightGBM): 0.06947058993626565\n"
          ]
        }
      ]
    },
    {
      "cell_type": "code",
      "source": [
        "# prompt: generate code for precision recall f1 score and RMSE for above Light GBM model\n",
        "\n",
        "# Assuming you have y_test_org and predicted_target_lgb_org from your LightGBM model\n",
        "\n",
        "# Convert regression predictions to binary classification (e.g., above/below average height)\n",
        "threshold = y_test_org.mean()  # You can choose a different threshold if needed\n",
        "y_pred_binary = [1 if pred > threshold else 0 for pred in predicted_target_lgb_org]\n",
        "y_true_binary = [1 if true > threshold else 0 for true in y_test_org]\n",
        "\n",
        "# Calculate Precision, Recall, F1-score\n",
        "precision_lgb_org, recall_lgb_org, f1_lgb_org, _ = precision_recall_fscore_support(y_true_binary, y_pred_binary, average='binary')\n",
        "\n",
        "print(f\"Precision (LightGBM): {precision_lgb_org}\")\n",
        "print(f\"Recall (LightGBM): {recall_lgb_org}\")\n",
        "print(f\"F1-Score (LightGBM): {f1_lgb_org}\")\n",
        "\n",
        "# Calculate RMSE\n",
        "rmse = np.sqrt(mean_squared_error(y_test_org, predicted_target_lgb_org))\n",
        "print(f\"RMSE (LightGBM): {rmse}\")\n"
      ],
      "metadata": {
        "colab": {
          "base_uri": "https://localhost:8080/"
        },
        "id": "g6Wl5e8adW3t",
        "outputId": "43894588-b98a-4fd3-f085-d5b4da8f3706"
      },
      "execution_count": 103,
      "outputs": [
        {
          "output_type": "stream",
          "name": "stdout",
          "text": [
            "Precision (LightGBM): 0.5425531914893617\n",
            "Recall (LightGBM): 0.5795454545454546\n",
            "F1-Score (LightGBM): 0.5604395604395604\n",
            "RMSE (LightGBM): 3.5567420890413897\n"
          ]
        }
      ]
    },
    {
      "cell_type": "markdown",
      "source": [
        "# MPH Model"
      ],
      "metadata": {
        "id": "tlSVn5eq-fJj"
      }
    },
    {
      "cell_type": "code",
      "source": [
        "import numpy as np\n",
        "from sklearn.linear_model import LinearRegression\n",
        "from sklearn.multioutput import MultiOutputRegressor\n",
        "from sklearn.metrics import mean_squared_error, precision_recall_fscore_support, accuracy_score\n",
        "\n",
        "# Assuming X_train_org, X_test_org, y_train_org, y_test_org are already defined\n",
        "\n",
        "# Define the MPH model\n",
        "model_mph = MultiOutputRegressor(LinearRegression())\n",
        "\n",
        "# Reshape y_train to have two dimensions if necessary\n",
        "y_train_reshaped = y_train_org.values.reshape(-1, 1)\n",
        "\n",
        "# Train the model on the training data using the reshaped target variable\n",
        "model_mph.fit(X_train_org, y_train_reshaped)\n",
        "\n",
        "# Predict the target values for the test data\n",
        "predicted_target_mph = model_mph.predict(X_test_org)\n",
        "\n",
        "# Calculate RMSE (Root Mean Squared Error) for each output\n",
        "rmse_mph_org = np.sqrt(mean_squared_error(y_test_org, predicted_target_mph))\n",
        "\n",
        "# Convert regression predictions to binary classification (assuming threshold is the mean)\n",
        "threshold = y_test_org.mean(axis=0)  # mean of all target variables\n",
        "y_pred_binary = (predicted_target_mph > threshold).astype(int)\n",
        "y_true_binary = (y_test_org > threshold).astype(int)\n",
        "\n",
        "# Calculate accuracy, precision, recall, F1-score for each output variable\n",
        "accuracy_mph_org = accuracy_score(y_true_binary, y_pred_binary)\n",
        "precision_mph_org, recall_mph_org, f1_mph_org, _ = precision_recall_fscore_support(\n",
        "    y_true_binary, y_pred_binary, average='macro', zero_division=0\n",
        ")\n",
        "\n",
        "# Display results\n",
        "print(f'RMSE (MPH): {rmse_mph_org:.4f}')\n",
        "print(f'Accuracy (MPH): {accuracy_mph_org:.4f}')\n",
        "print(f'Precision (MPH): {precision_mph_org:.4f}')\n",
        "print(f'Recall (MPH): {recall_mph_org:.4f}')\n",
        "print(f'F1-Score (MPH): {f1_mph_org:.4f}')\n"
      ],
      "metadata": {
        "colab": {
          "base_uri": "https://localhost:8080/"
        },
        "id": "Jo-MIRH5-eX0",
        "outputId": "528da33c-c1d8-4ef0-f16d-1377e9590763"
      },
      "execution_count": 105,
      "outputs": [
        {
          "output_type": "stream",
          "name": "stdout",
          "text": [
            "RMSE (MPH): 3.4670\n",
            "Accuracy (MPH): 0.5449\n",
            "Precision (MPH): 0.5458\n",
            "Recall (MPH): 0.5455\n",
            "F1-Score (MPH): 0.5442\n"
          ]
        }
      ]
    },
    {
      "cell_type": "markdown",
      "source": [
        "# Decision Tree"
      ],
      "metadata": {
        "id": "xjo9GcR6OsOB"
      }
    },
    {
      "cell_type": "code",
      "source": [
        "# prompt: generate code for decision tree model on X_train_org, X_test_org, y_train_org, y_test_org\n",
        "\n",
        "from sklearn.tree import DecisionTreeRegressor\n",
        "from sklearn.metrics import r2_score, mean_squared_error\n",
        "\n",
        "# Create a Decision Tree Regression model\n",
        "model_dt = DecisionTreeRegressor(random_state=42)  # You can adjust parameters as needed\n",
        "\n",
        "# Train the model on the training data\n",
        "model_dt.fit(X_train_org, y_train_org)\n",
        "\n",
        "# Predict the target values for the test data\n",
        "predicted_target_dt_org = model_dt.predict(X_test_org)\n",
        "\n",
        "# Calculate the R^2 score of the predictions\n",
        "dt_accuracy_org = r2_score(y_test_org, predicted_target_dt_org)\n",
        "\n",
        "# Print the accuracy\n",
        "print(\"Accuracy (Decision Tree):\", dt_accuracy_org)\n",
        "\n",
        "# Calculate RMSE\n",
        "rmse_dt_org = np.sqrt(mean_squared_error(y_test_org, predicted_target_dt_org))\n",
        "print(f\"RMSE (Decision Tree): {rmse_dt_org}\")\n",
        "\n",
        "# You can further analyze the model's performance by examining the feature importance,\n",
        "# visualizing the tree, or using other metrics like MAE.\n"
      ],
      "metadata": {
        "colab": {
          "base_uri": "https://localhost:8080/"
        },
        "id": "-Zbx8AYYOueg",
        "outputId": "a7f7a89d-c9fc-48d9-cfb9-9a6abaec2dad"
      },
      "execution_count": 37,
      "outputs": [
        {
          "output_type": "stream",
          "name": "stdout",
          "text": [
            "Accuracy (Decision Tree): -0.03177023704741355\n",
            "RMSE (Decision Tree): 3.745232817323641\n"
          ]
        }
      ]
    },
    {
      "cell_type": "code",
      "source": [
        "# prompt: generate code for precision recall f1 score and RMSE for above decision tree model\n",
        "\n",
        "# Assuming you have y_test_org and predicted_target_dt_org from your Decision Tree model\n",
        "\n",
        "# Convert regression predictions to binary classification (e.g., above/below average height)\n",
        "threshold = y_test_org.mean()  # You can choose a different threshold if needed\n",
        "y_pred_binary = [1 if pred > threshold else 0 for pred in predicted_target_dt_org]\n",
        "y_true_binary = [1 if true > threshold else 0 for true in y_test_org]\n",
        "\n",
        "# Calculate Precision, Recall, F1-score\n",
        "precision_dt_org, recall_dt_org, f1_dt_org, _ = precision_recall_fscore_support(y_true_binary, y_pred_binary, average='binary')\n",
        "\n",
        "print(f\"Precision (Decision Tree): {precision_dt_org}\")\n",
        "print(f\"Recall (Decision Tree): {recall_dt_org}\")\n",
        "print(f\"F1-Score (Decision Tree): {f1_dt_org}\")\n",
        "\n",
        "# Calculate RMSE\n",
        "# rmse_dt_org = np.sqrt(mean_squared_error(y_test_org, predicted_target_dt_org))\n",
        "# print(f\"RMSE (Decision Tree): {rmse_dt_org}\")\n"
      ],
      "metadata": {
        "colab": {
          "base_uri": "https://localhost:8080/"
        },
        "id": "2WSDRQj8gTUH",
        "outputId": "6a93965a-d38e-4c5b-fd78-d1a141d8601a"
      },
      "execution_count": 38,
      "outputs": [
        {
          "output_type": "stream",
          "name": "stdout",
          "text": [
            "Precision (Decision Tree): 0.5612244897959183\n",
            "Recall (Decision Tree): 0.625\n",
            "F1-Score (Decision Tree): 0.5913978494623656\n"
          ]
        }
      ]
    },
    {
      "cell_type": "markdown",
      "source": [
        "# Random Forest"
      ],
      "metadata": {
        "id": "Pzr8xUdzOyCC"
      }
    },
    {
      "cell_type": "code",
      "source": [
        "# prompt: generate code for precision recall f1 score and RMSE and accuracy for random forest  X_train_org, X_test_org, y_train_org, y_test_org\n",
        "\n",
        "from sklearn.ensemble import RandomForestRegressor\n",
        "from sklearn.metrics import r2_score, mean_squared_error, precision_recall_fscore_support\n",
        "\n",
        "# Create a Random Forest Regression model\n",
        "model_rf = RandomForestRegressor(random_state=42)  # You can adjust parameters as needed\n",
        "\n",
        "# Train the model on the training data\n",
        "model_rf.fit(X_train_org, y_train_org)\n",
        "\n",
        "# Predict the target values for the test data\n",
        "predicted_target_rf_org = model_rf.predict(X_test_org)\n",
        "\n",
        "# Calculate the R^2 score of the predictions\n",
        "rf_accuracy_org = r2_score(y_test_org, predicted_target_rf_org)\n",
        "\n",
        "# Print the accuracy\n",
        "print(\"Accuracy (Random Forest):\", rf_accuracy_org)\n",
        "\n",
        "\n",
        "# Assuming you have y_test_org and predicted_target_rf_org from your Random Forest model\n",
        "\n",
        "# Convert regression predictions to binary classification (e.g., above/below average height)\n",
        "threshold = y_test_org.mean()  # You can choose a different threshold if needed\n",
        "y_pred_binary = [1 if pred > threshold else 0 for pred in predicted_target_rf_org]\n",
        "y_true_binary = [1 if true > threshold else 0 for true in y_test_org]\n",
        "\n",
        "# Calculate Precision, Recall, F1-score\n",
        "precision_rf_org, recall_rf_org, f1_rf_org, _ = precision_recall_fscore_support(y_true_binary, y_pred_binary, average='binary')\n",
        "\n",
        "print(f\"Precision (Random Forest): {precision_rf_org}\")\n",
        "print(f\"Recall (Random Forest): {recall_rf_org}\")\n",
        "print(f\"F1-Score (Random Forest): {f1_rf_org}\")\n",
        "\n",
        "# Calculate RMSE\n",
        "rmse_rf_org = np.sqrt(mean_squared_error(y_test_org, predicted_target_rf_org))\n",
        "print(f\"RMSE (Random Forest): {rmse_rf_org}\")\n"
      ],
      "metadata": {
        "colab": {
          "base_uri": "https://localhost:8080/"
        },
        "id": "IC2ar5spO0q2",
        "outputId": "1a122f88-8fd5-4d08-fbfe-f23ab3f7aa3b"
      },
      "execution_count": 110,
      "outputs": [
        {
          "output_type": "stream",
          "name": "stdout",
          "text": [
            "Accuracy (Random Forest): -0.01644331081742534\n",
            "Precision (Random Forest): 0.5510204081632653\n",
            "Recall (Random Forest): 0.6136363636363636\n",
            "F1-Score (Random Forest): 0.5806451612903226\n",
            "RMSE (Random Forest): 3.7173110557523885\n"
          ]
        }
      ]
    },
    {
      "cell_type": "markdown",
      "source": [
        "# ANN model"
      ],
      "metadata": {
        "id": "Imf0cc4pO4Mb"
      }
    },
    {
      "cell_type": "code",
      "source": [
        "# prompt: generate code for precision recall f1 score and RMSE and accuracy for ANN  X_train_org, X_test_org, y_train_org, y_test_org\n",
        "\n",
        "import tensorflow as tf\n",
        "from sklearn.metrics import precision_recall_fscore_support, mean_squared_error, r2_score\n",
        "\n",
        "# Create an ANN model\n",
        "model_ann = tf.keras.Sequential([\n",
        "    tf.keras.layers.Dense(64, activation='relu', input_shape=(X_train_org.shape[1],)),\n",
        "    tf.keras.layers.Dense(32, activation='relu'),\n",
        "    tf.keras.layers.Dense(1)  # Output layer for regression\n",
        "])\n",
        "\n",
        "# Compile the model\n",
        "model_ann.compile(optimizer='adam', loss='mse', metrics=['mae'])\n",
        "\n",
        "# Train the model\n",
        "history = model_ann.fit(X_train_org, y_train_org, epochs=100, batch_size=32, validation_split=0.2)\n",
        "\n",
        "# Predict on the test data\n",
        "predicted_target_ann_org = model_ann.predict(X_test_org).flatten()\n",
        "\n",
        "# Calculate R^2 score\n",
        "ann_accuracy_org = r2_score(y_test_org, predicted_target_ann_org)\n",
        "print(\"Accuracy (ANN):\", ann_accuracy_org)\n",
        "\n",
        "# Convert regression predictions to binary classification (e.g., above/below average height)\n",
        "threshold = y_test_org.mean()\n",
        "y_pred_binary = [1 if pred > threshold else 0 for pred in predicted_target_ann_org]\n",
        "y_true_binary = [1 if true > threshold else 0 for true in y_test_org]\n",
        "\n",
        "# Calculate Precision, Recall, F1-score\n",
        "precision_ann_org, recall_ann_org, f1_ann_org, _ = precision_recall_fscore_support(y_true_binary, y_pred_binary, average='binary')\n",
        "\n",
        "print(f\"Precision (ANN): {precision_ann_org}\")\n",
        "print(f\"Recall (ANN): {recall_ann_org}\")\n",
        "print(f\"F1-Score (ANN): {f1_ann_org}\")\n",
        "\n",
        "# Calculate RMSE\n",
        "rmse_ann_org = np.sqrt(mean_squared_error(y_test_org, predicted_target_ann_org))\n",
        "print(f\"RMSE (ANN): {rmse_ann_org}\")\n"
      ],
      "metadata": {
        "colab": {
          "base_uri": "https://localhost:8080/"
        },
        "id": "rp5R8ITbO6I7",
        "outputId": "7f350c08-7e80-457b-a44e-04b88f3332af"
      },
      "execution_count": 39,
      "outputs": [
        {
          "output_type": "stream",
          "name": "stderr",
          "text": [
            "/usr/local/lib/python3.10/dist-packages/keras/src/layers/core/dense.py:87: UserWarning:\n",
            "\n",
            "Do not pass an `input_shape`/`input_dim` argument to a layer. When using Sequential models, prefer using an `Input(shape)` object as the first layer in the model instead.\n",
            "\n"
          ]
        },
        {
          "output_type": "stream",
          "name": "stdout",
          "text": [
            "Epoch 1/100\n",
            "\u001b[1m18/18\u001b[0m \u001b[32m━━━━━━━━━━━━━━━━━━━━\u001b[0m\u001b[37m\u001b[0m \u001b[1m2s\u001b[0m 13ms/step - loss: 2160.7117 - mae: 45.2966 - val_loss: 244.2764 - val_mae: 15.2399\n",
            "Epoch 2/100\n",
            "\u001b[1m18/18\u001b[0m \u001b[32m━━━━━━━━━━━━━━━━━━━━\u001b[0m\u001b[37m\u001b[0m \u001b[1m0s\u001b[0m 4ms/step - loss: 95.0373 - mae: 8.3430 - val_loss: 48.6519 - val_mae: 6.0920\n",
            "Epoch 3/100\n",
            "\u001b[1m18/18\u001b[0m \u001b[32m━━━━━━━━━━━━━━━━━━━━\u001b[0m\u001b[37m\u001b[0m \u001b[1m0s\u001b[0m 4ms/step - loss: 50.2522 - mae: 6.1482 - val_loss: 12.4581 - val_mae: 2.9191\n",
            "Epoch 4/100\n",
            "\u001b[1m18/18\u001b[0m \u001b[32m━━━━━━━━━━━━━━━━━━━━\u001b[0m\u001b[37m\u001b[0m \u001b[1m0s\u001b[0m 3ms/step - loss: 12.0848 - mae: 2.9022 - val_loss: 15.0695 - val_mae: 3.1520\n",
            "Epoch 5/100\n",
            "\u001b[1m18/18\u001b[0m \u001b[32m━━━━━━━━━━━━━━━━━━━━\u001b[0m\u001b[37m\u001b[0m \u001b[1m0s\u001b[0m 4ms/step - loss: 12.2967 - mae: 2.9106 - val_loss: 12.4615 - val_mae: 2.9180\n",
            "Epoch 6/100\n",
            "\u001b[1m18/18\u001b[0m \u001b[32m━━━━━━━━━━━━━━━━━━━━\u001b[0m\u001b[37m\u001b[0m \u001b[1m0s\u001b[0m 5ms/step - loss: 12.0754 - mae: 2.9224 - val_loss: 12.8412 - val_mae: 2.9438\n",
            "Epoch 7/100\n",
            "\u001b[1m18/18\u001b[0m \u001b[32m━━━━━━━━━━━━━━━━━━━━\u001b[0m\u001b[37m\u001b[0m \u001b[1m0s\u001b[0m 4ms/step - loss: 11.1331 - mae: 2.8196 - val_loss: 12.7545 - val_mae: 2.9373\n",
            "Epoch 8/100\n",
            "\u001b[1m18/18\u001b[0m \u001b[32m━━━━━━━━━━━━━━━━━━━━\u001b[0m\u001b[37m\u001b[0m \u001b[1m0s\u001b[0m 4ms/step - loss: 11.6690 - mae: 2.9113 - val_loss: 12.7888 - val_mae: 2.9400\n",
            "Epoch 9/100\n",
            "\u001b[1m18/18\u001b[0m \u001b[32m━━━━━━━━━━━━━━━━━━━━\u001b[0m\u001b[37m\u001b[0m \u001b[1m0s\u001b[0m 4ms/step - loss: 11.0133 - mae: 2.8273 - val_loss: 12.6341 - val_mae: 2.9289\n",
            "Epoch 10/100\n",
            "\u001b[1m18/18\u001b[0m \u001b[32m━━━━━━━━━━━━━━━━━━━━\u001b[0m\u001b[37m\u001b[0m \u001b[1m0s\u001b[0m 4ms/step - loss: 11.2100 - mae: 2.8516 - val_loss: 12.8211 - val_mae: 2.9424\n",
            "Epoch 11/100\n",
            "\u001b[1m18/18\u001b[0m \u001b[32m━━━━━━━━━━━━━━━━━━━━\u001b[0m\u001b[37m\u001b[0m \u001b[1m0s\u001b[0m 3ms/step - loss: 10.7375 - mae: 2.7262 - val_loss: 12.8050 - val_mae: 2.9413\n",
            "Epoch 12/100\n",
            "\u001b[1m18/18\u001b[0m \u001b[32m━━━━━━━━━━━━━━━━━━━━\u001b[0m\u001b[37m\u001b[0m \u001b[1m0s\u001b[0m 4ms/step - loss: 11.3237 - mae: 2.8301 - val_loss: 12.6532 - val_mae: 2.9303\n",
            "Epoch 13/100\n",
            "\u001b[1m18/18\u001b[0m \u001b[32m━━━━━━━━━━━━━━━━━━━━\u001b[0m\u001b[37m\u001b[0m \u001b[1m0s\u001b[0m 5ms/step - loss: 11.9457 - mae: 2.8969 - val_loss: 12.5797 - val_mae: 2.9248\n",
            "Epoch 14/100\n",
            "\u001b[1m18/18\u001b[0m \u001b[32m━━━━━━━━━━━━━━━━━━━━\u001b[0m\u001b[37m\u001b[0m \u001b[1m0s\u001b[0m 4ms/step - loss: 11.7499 - mae: 2.8797 - val_loss: 12.9088 - val_mae: 2.9494\n",
            "Epoch 15/100\n",
            "\u001b[1m18/18\u001b[0m \u001b[32m━━━━━━━━━━━━━━━━━━━━\u001b[0m\u001b[37m\u001b[0m \u001b[1m0s\u001b[0m 3ms/step - loss: 12.1613 - mae: 2.9357 - val_loss: 12.6695 - val_mae: 2.9315\n",
            "Epoch 16/100\n",
            "\u001b[1m18/18\u001b[0m \u001b[32m━━━━━━━━━━━━━━━━━━━━\u001b[0m\u001b[37m\u001b[0m \u001b[1m0s\u001b[0m 4ms/step - loss: 11.4653 - mae: 2.8520 - val_loss: 12.8543 - val_mae: 2.9451\n",
            "Epoch 17/100\n",
            "\u001b[1m18/18\u001b[0m \u001b[32m━━━━━━━━━━━━━━━━━━━━\u001b[0m\u001b[37m\u001b[0m \u001b[1m0s\u001b[0m 3ms/step - loss: 11.2702 - mae: 2.7863 - val_loss: 12.5976 - val_mae: 2.9263\n",
            "Epoch 18/100\n",
            "\u001b[1m18/18\u001b[0m \u001b[32m━━━━━━━━━━━━━━━━━━━━\u001b[0m\u001b[37m\u001b[0m \u001b[1m0s\u001b[0m 3ms/step - loss: 10.6888 - mae: 2.7791 - val_loss: 12.7200 - val_mae: 2.9352\n",
            "Epoch 19/100\n",
            "\u001b[1m18/18\u001b[0m \u001b[32m━━━━━━━━━━━━━━━━━━━━\u001b[0m\u001b[37m\u001b[0m \u001b[1m0s\u001b[0m 5ms/step - loss: 11.3474 - mae: 2.8195 - val_loss: 12.5956 - val_mae: 2.9262\n",
            "Epoch 20/100\n",
            "\u001b[1m18/18\u001b[0m \u001b[32m━━━━━━━━━━━━━━━━━━━━\u001b[0m\u001b[37m\u001b[0m \u001b[1m0s\u001b[0m 4ms/step - loss: 12.2193 - mae: 2.9803 - val_loss: 13.0433 - val_mae: 2.9609\n",
            "Epoch 21/100\n",
            "\u001b[1m18/18\u001b[0m \u001b[32m━━━━━━━━━━━━━━━━━━━━\u001b[0m\u001b[37m\u001b[0m \u001b[1m0s\u001b[0m 4ms/step - loss: 11.8268 - mae: 2.9186 - val_loss: 12.5787 - val_mae: 2.9248\n",
            "Epoch 22/100\n",
            "\u001b[1m18/18\u001b[0m \u001b[32m━━━━━━━━━━━━━━━━━━━━\u001b[0m\u001b[37m\u001b[0m \u001b[1m0s\u001b[0m 4ms/step - loss: 11.5375 - mae: 2.8792 - val_loss: 12.9342 - val_mae: 2.9518\n",
            "Epoch 23/100\n",
            "\u001b[1m18/18\u001b[0m \u001b[32m━━━━━━━━━━━━━━━━━━━━\u001b[0m\u001b[37m\u001b[0m \u001b[1m0s\u001b[0m 4ms/step - loss: 11.2564 - mae: 2.8325 - val_loss: 12.9722 - val_mae: 2.9550\n",
            "Epoch 24/100\n",
            "\u001b[1m18/18\u001b[0m \u001b[32m━━━━━━━━━━━━━━━━━━━━\u001b[0m\u001b[37m\u001b[0m \u001b[1m0s\u001b[0m 4ms/step - loss: 10.7623 - mae: 2.7249 - val_loss: 12.9262 - val_mae: 2.9512\n",
            "Epoch 25/100\n",
            "\u001b[1m18/18\u001b[0m \u001b[32m━━━━━━━━━━━━━━━━━━━━\u001b[0m\u001b[37m\u001b[0m \u001b[1m0s\u001b[0m 4ms/step - loss: 11.2031 - mae: 2.7991 - val_loss: 12.5369 - val_mae: 2.9217\n",
            "Epoch 26/100\n",
            "\u001b[1m18/18\u001b[0m \u001b[32m━━━━━━━━━━━━━━━━━━━━\u001b[0m\u001b[37m\u001b[0m \u001b[1m0s\u001b[0m 3ms/step - loss: 11.9183 - mae: 2.8990 - val_loss: 12.8123 - val_mae: 2.9422\n",
            "Epoch 27/100\n",
            "\u001b[1m18/18\u001b[0m \u001b[32m━━━━━━━━━━━━━━━━━━━━\u001b[0m\u001b[37m\u001b[0m \u001b[1m0s\u001b[0m 3ms/step - loss: 10.8940 - mae: 2.7976 - val_loss: 13.1013 - val_mae: 2.9672\n",
            "Epoch 28/100\n",
            "\u001b[1m18/18\u001b[0m \u001b[32m━━━━━━━━━━━━━━━━━━━━\u001b[0m\u001b[37m\u001b[0m \u001b[1m0s\u001b[0m 4ms/step - loss: 10.9846 - mae: 2.7679 - val_loss: 12.7296 - val_mae: 2.9362\n",
            "Epoch 29/100\n",
            "\u001b[1m18/18\u001b[0m \u001b[32m━━━━━━━━━━━━━━━━━━━━\u001b[0m\u001b[37m\u001b[0m \u001b[1m0s\u001b[0m 3ms/step - loss: 11.8813 - mae: 2.9233 - val_loss: 12.5385 - val_mae: 2.9218\n",
            "Epoch 30/100\n",
            "\u001b[1m18/18\u001b[0m \u001b[32m━━━━━━━━━━━━━━━━━━━━\u001b[0m\u001b[37m\u001b[0m \u001b[1m0s\u001b[0m 3ms/step - loss: 11.7666 - mae: 2.8965 - val_loss: 13.0943 - val_mae: 2.9669\n",
            "Epoch 31/100\n",
            "\u001b[1m18/18\u001b[0m \u001b[32m━━━━━━━━━━━━━━━━━━━━\u001b[0m\u001b[37m\u001b[0m \u001b[1m0s\u001b[0m 4ms/step - loss: 12.4043 - mae: 2.9564 - val_loss: 12.6489 - val_mae: 2.9304\n",
            "Epoch 32/100\n",
            "\u001b[1m18/18\u001b[0m \u001b[32m━━━━━━━━━━━━━━━━━━━━\u001b[0m\u001b[37m\u001b[0m \u001b[1m0s\u001b[0m 4ms/step - loss: 11.4370 - mae: 2.8598 - val_loss: 12.5957 - val_mae: 2.9263\n",
            "Epoch 33/100\n",
            "\u001b[1m18/18\u001b[0m \u001b[32m━━━━━━━━━━━━━━━━━━━━\u001b[0m\u001b[37m\u001b[0m \u001b[1m0s\u001b[0m 3ms/step - loss: 11.4447 - mae: 2.8438 - val_loss: 13.2354 - val_mae: 2.9796\n",
            "Epoch 34/100\n",
            "\u001b[1m18/18\u001b[0m \u001b[32m━━━━━━━━━━━━━━━━━━━━\u001b[0m\u001b[37m\u001b[0m \u001b[1m0s\u001b[0m 5ms/step - loss: 11.4975 - mae: 2.7958 - val_loss: 12.5788 - val_mae: 2.9249\n",
            "Epoch 35/100\n",
            "\u001b[1m18/18\u001b[0m \u001b[32m━━━━━━━━━━━━━━━━━━━━\u001b[0m\u001b[37m\u001b[0m \u001b[1m0s\u001b[0m 4ms/step - loss: 11.0285 - mae: 2.8361 - val_loss: 13.4393 - val_mae: 2.9976\n",
            "Epoch 36/100\n",
            "\u001b[1m18/18\u001b[0m \u001b[32m━━━━━━━━━━━━━━━━━━━━\u001b[0m\u001b[37m\u001b[0m \u001b[1m0s\u001b[0m 4ms/step - loss: 11.8865 - mae: 2.9060 - val_loss: 12.4867 - val_mae: 2.9222\n",
            "Epoch 37/100\n",
            "\u001b[1m18/18\u001b[0m \u001b[32m━━━━━━━━━━━━━━━━━━━━\u001b[0m\u001b[37m\u001b[0m \u001b[1m0s\u001b[0m 4ms/step - loss: 10.8225 - mae: 2.8085 - val_loss: 12.9826 - val_mae: 2.9570\n",
            "Epoch 38/100\n",
            "\u001b[1m18/18\u001b[0m \u001b[32m━━━━━━━━━━━━━━━━━━━━\u001b[0m\u001b[37m\u001b[0m \u001b[1m0s\u001b[0m 4ms/step - loss: 10.7870 - mae: 2.7568 - val_loss: 12.6946 - val_mae: 2.9337\n",
            "Epoch 39/100\n",
            "\u001b[1m18/18\u001b[0m \u001b[32m━━━━━━━━━━━━━━━━━━━━\u001b[0m\u001b[37m\u001b[0m \u001b[1m0s\u001b[0m 4ms/step - loss: 11.7945 - mae: 2.8639 - val_loss: 13.0495 - val_mae: 2.9638\n",
            "Epoch 40/100\n",
            "\u001b[1m18/18\u001b[0m \u001b[32m━━━━━━━━━━━━━━━━━━━━\u001b[0m\u001b[37m\u001b[0m \u001b[1m0s\u001b[0m 4ms/step - loss: 11.8309 - mae: 2.8805 - val_loss: 12.4964 - val_mae: 2.9236\n",
            "Epoch 41/100\n",
            "\u001b[1m18/18\u001b[0m \u001b[32m━━━━━━━━━━━━━━━━━━━━\u001b[0m\u001b[37m\u001b[0m \u001b[1m0s\u001b[0m 4ms/step - loss: 11.4256 - mae: 2.8650 - val_loss: 12.6410 - val_mae: 2.9299\n",
            "Epoch 42/100\n",
            "\u001b[1m18/18\u001b[0m \u001b[32m━━━━━━━━━━━━━━━━━━━━\u001b[0m\u001b[37m\u001b[0m \u001b[1m0s\u001b[0m 5ms/step - loss: 11.4365 - mae: 2.8455 - val_loss: 12.9110 - val_mae: 2.9503\n",
            "Epoch 43/100\n",
            "\u001b[1m18/18\u001b[0m \u001b[32m━━━━━━━━━━━━━━━━━━━━\u001b[0m\u001b[37m\u001b[0m \u001b[1m0s\u001b[0m 4ms/step - loss: 11.6405 - mae: 2.8850 - val_loss: 15.2984 - val_mae: 3.1782\n",
            "Epoch 44/100\n",
            "\u001b[1m18/18\u001b[0m \u001b[32m━━━━━━━━━━━━━━━━━━━━\u001b[0m\u001b[37m\u001b[0m \u001b[1m0s\u001b[0m 4ms/step - loss: 11.3141 - mae: 2.7445 - val_loss: 12.5551 - val_mae: 2.9283\n",
            "Epoch 45/100\n",
            "\u001b[1m18/18\u001b[0m \u001b[32m━━━━━━━━━━━━━━━━━━━━\u001b[0m\u001b[37m\u001b[0m \u001b[1m0s\u001b[0m 3ms/step - loss: 11.7256 - mae: 2.8607 - val_loss: 12.7817 - val_mae: 2.9402\n",
            "Epoch 46/100\n",
            "\u001b[1m18/18\u001b[0m \u001b[32m━━━━━━━━━━━━━━━━━━━━\u001b[0m\u001b[37m\u001b[0m \u001b[1m0s\u001b[0m 4ms/step - loss: 11.4293 - mae: 2.8398 - val_loss: 13.0826 - val_mae: 2.9677\n",
            "Epoch 47/100\n",
            "\u001b[1m18/18\u001b[0m \u001b[32m━━━━━━━━━━━━━━━━━━━━\u001b[0m\u001b[37m\u001b[0m \u001b[1m0s\u001b[0m 4ms/step - loss: 11.6119 - mae: 2.8662 - val_loss: 12.6447 - val_mae: 2.9302\n",
            "Epoch 48/100\n",
            "\u001b[1m18/18\u001b[0m \u001b[32m━━━━━━━━━━━━━━━━━━━━\u001b[0m\u001b[37m\u001b[0m \u001b[1m0s\u001b[0m 4ms/step - loss: 10.8342 - mae: 2.7424 - val_loss: 12.8110 - val_mae: 2.9423\n",
            "Epoch 49/100\n",
            "\u001b[1m18/18\u001b[0m \u001b[32m━━━━━━━━━━━━━━━━━━━━\u001b[0m\u001b[37m\u001b[0m \u001b[1m0s\u001b[0m 4ms/step - loss: 11.4559 - mae: 2.8876 - val_loss: 12.5556 - val_mae: 2.9237\n",
            "Epoch 50/100\n",
            "\u001b[1m18/18\u001b[0m \u001b[32m━━━━━━━━━━━━━━━━━━━━\u001b[0m\u001b[37m\u001b[0m \u001b[1m0s\u001b[0m 5ms/step - loss: 11.1422 - mae: 2.8033 - val_loss: 12.6814 - val_mae: 2.9329\n",
            "Epoch 51/100\n",
            "\u001b[1m18/18\u001b[0m \u001b[32m━━━━━━━━━━━━━━━━━━━━\u001b[0m\u001b[37m\u001b[0m \u001b[1m0s\u001b[0m 4ms/step - loss: 11.1832 - mae: 2.8207 - val_loss: 12.9167 - val_mae: 2.9514\n",
            "Epoch 52/100\n",
            "\u001b[1m18/18\u001b[0m \u001b[32m━━━━━━━━━━━━━━━━━━━━\u001b[0m\u001b[37m\u001b[0m \u001b[1m0s\u001b[0m 4ms/step - loss: 10.8362 - mae: 2.7901 - val_loss: 13.1832 - val_mae: 2.9775\n",
            "Epoch 53/100\n",
            "\u001b[1m18/18\u001b[0m \u001b[32m━━━━━━━━━━━━━━━━━━━━\u001b[0m\u001b[37m\u001b[0m \u001b[1m0s\u001b[0m 4ms/step - loss: 11.7875 - mae: 2.8706 - val_loss: 13.6456 - val_mae: 3.0186\n",
            "Epoch 54/100\n",
            "\u001b[1m18/18\u001b[0m \u001b[32m━━━━━━━━━━━━━━━━━━━━\u001b[0m\u001b[37m\u001b[0m \u001b[1m0s\u001b[0m 4ms/step - loss: 10.9042 - mae: 2.7422 - val_loss: 12.5135 - val_mae: 2.9239\n",
            "Epoch 55/100\n",
            "\u001b[1m18/18\u001b[0m \u001b[32m━━━━━━━━━━━━━━━━━━━━\u001b[0m\u001b[37m\u001b[0m \u001b[1m0s\u001b[0m 3ms/step - loss: 11.3980 - mae: 2.8648 - val_loss: 12.5206 - val_mae: 2.9238\n",
            "Epoch 56/100\n",
            "\u001b[1m18/18\u001b[0m \u001b[32m━━━━━━━━━━━━━━━━━━━━\u001b[0m\u001b[37m\u001b[0m \u001b[1m0s\u001b[0m 4ms/step - loss: 11.4165 - mae: 2.8573 - val_loss: 13.2730 - val_mae: 2.9854\n",
            "Epoch 57/100\n",
            "\u001b[1m18/18\u001b[0m \u001b[32m━━━━━━━━━━━━━━━━━━━━\u001b[0m\u001b[37m\u001b[0m \u001b[1m0s\u001b[0m 3ms/step - loss: 10.9956 - mae: 2.7686 - val_loss: 12.5182 - val_mae: 2.9241\n",
            "Epoch 58/100\n",
            "\u001b[1m18/18\u001b[0m \u001b[32m━━━━━━━━━━━━━━━━━━━━\u001b[0m\u001b[37m\u001b[0m \u001b[1m0s\u001b[0m 5ms/step - loss: 11.0202 - mae: 2.7877 - val_loss: 12.5245 - val_mae: 2.9261\n",
            "Epoch 59/100\n",
            "\u001b[1m18/18\u001b[0m \u001b[32m━━━━━━━━━━━━━━━━━━━━\u001b[0m\u001b[37m\u001b[0m \u001b[1m0s\u001b[0m 5ms/step - loss: 11.4469 - mae: 2.8348 - val_loss: 12.7613 - val_mae: 2.9389\n",
            "Epoch 60/100\n",
            "\u001b[1m18/18\u001b[0m \u001b[32m━━━━━━━━━━━━━━━━━━━━\u001b[0m\u001b[37m\u001b[0m \u001b[1m0s\u001b[0m 4ms/step - loss: 11.1432 - mae: 2.7990 - val_loss: 13.2343 - val_mae: 2.9826\n",
            "Epoch 61/100\n",
            "\u001b[1m18/18\u001b[0m \u001b[32m━━━━━━━━━━━━━━━━━━━━\u001b[0m\u001b[37m\u001b[0m \u001b[1m0s\u001b[0m 4ms/step - loss: 11.1451 - mae: 2.7938 - val_loss: 12.6024 - val_mae: 2.9268\n",
            "Epoch 62/100\n",
            "\u001b[1m18/18\u001b[0m \u001b[32m━━━━━━━━━━━━━━━━━━━━\u001b[0m\u001b[37m\u001b[0m \u001b[1m0s\u001b[0m 4ms/step - loss: 11.8954 - mae: 2.9261 - val_loss: 12.6214 - val_mae: 2.9336\n",
            "Epoch 63/100\n",
            "\u001b[1m18/18\u001b[0m \u001b[32m━━━━━━━━━━━━━━━━━━━━\u001b[0m\u001b[37m\u001b[0m \u001b[1m0s\u001b[0m 4ms/step - loss: 11.8623 - mae: 2.9207 - val_loss: 12.5208 - val_mae: 2.9249\n",
            "Epoch 64/100\n",
            "\u001b[1m18/18\u001b[0m \u001b[32m━━━━━━━━━━━━━━━━━━━━\u001b[0m\u001b[37m\u001b[0m \u001b[1m0s\u001b[0m 4ms/step - loss: 11.2489 - mae: 2.8195 - val_loss: 12.5195 - val_mae: 2.9255\n",
            "Epoch 65/100\n",
            "\u001b[1m18/18\u001b[0m \u001b[32m━━━━━━━━━━━━━━━━━━━━\u001b[0m\u001b[37m\u001b[0m \u001b[1m0s\u001b[0m 4ms/step - loss: 11.4227 - mae: 2.7910 - val_loss: 13.0321 - val_mae: 2.9645\n",
            "Epoch 66/100\n",
            "\u001b[1m18/18\u001b[0m \u001b[32m━━━━━━━━━━━━━━━━━━━━\u001b[0m\u001b[37m\u001b[0m \u001b[1m0s\u001b[0m 7ms/step - loss: 11.7600 - mae: 2.8995 - val_loss: 12.8644 - val_mae: 2.9465\n",
            "Epoch 67/100\n",
            "\u001b[1m18/18\u001b[0m \u001b[32m━━━━━━━━━━━━━━━━━━━━\u001b[0m\u001b[37m\u001b[0m \u001b[1m0s\u001b[0m 5ms/step - loss: 11.3431 - mae: 2.8265 - val_loss: 13.3450 - val_mae: 2.9929\n",
            "Epoch 68/100\n",
            "\u001b[1m18/18\u001b[0m \u001b[32m━━━━━━━━━━━━━━━━━━━━\u001b[0m\u001b[37m\u001b[0m \u001b[1m0s\u001b[0m 6ms/step - loss: 11.4331 - mae: 2.8283 - val_loss: 12.6001 - val_mae: 2.9270\n",
            "Epoch 69/100\n",
            "\u001b[1m18/18\u001b[0m \u001b[32m━━━━━━━━━━━━━━━━━━━━\u001b[0m\u001b[37m\u001b[0m \u001b[1m0s\u001b[0m 7ms/step - loss: 11.4035 - mae: 2.8160 - val_loss: 13.1706 - val_mae: 2.9779\n",
            "Epoch 70/100\n",
            "\u001b[1m18/18\u001b[0m \u001b[32m━━━━━━━━━━━━━━━━━━━━\u001b[0m\u001b[37m\u001b[0m \u001b[1m0s\u001b[0m 5ms/step - loss: 11.3339 - mae: 2.8181 - val_loss: 13.4360 - val_mae: 3.0009\n",
            "Epoch 71/100\n",
            "\u001b[1m18/18\u001b[0m \u001b[32m━━━━━━━━━━━━━━━━━━━━\u001b[0m\u001b[37m\u001b[0m \u001b[1m0s\u001b[0m 6ms/step - loss: 11.2538 - mae: 2.8162 - val_loss: 13.0423 - val_mae: 2.9659\n",
            "Epoch 72/100\n",
            "\u001b[1m18/18\u001b[0m \u001b[32m━━━━━━━━━━━━━━━━━━━━\u001b[0m\u001b[37m\u001b[0m \u001b[1m0s\u001b[0m 7ms/step - loss: 11.8097 - mae: 2.8789 - val_loss: 13.0484 - val_mae: 2.9666\n",
            "Epoch 73/100\n",
            "\u001b[1m18/18\u001b[0m \u001b[32m━━━━━━━━━━━━━━━━━━━━\u001b[0m\u001b[37m\u001b[0m \u001b[1m0s\u001b[0m 6ms/step - loss: 12.2273 - mae: 2.9378 - val_loss: 12.5619 - val_mae: 2.9260\n",
            "Epoch 74/100\n",
            "\u001b[1m18/18\u001b[0m \u001b[32m━━━━━━━━━━━━━━━━━━━━\u001b[0m\u001b[37m\u001b[0m \u001b[1m0s\u001b[0m 6ms/step - loss: 10.9437 - mae: 2.7746 - val_loss: 12.6761 - val_mae: 2.9322\n",
            "Epoch 75/100\n",
            "\u001b[1m18/18\u001b[0m \u001b[32m━━━━━━━━━━━━━━━━━━━━\u001b[0m\u001b[37m\u001b[0m \u001b[1m0s\u001b[0m 6ms/step - loss: 11.0634 - mae: 2.8425 - val_loss: 12.5717 - val_mae: 2.9288\n",
            "Epoch 76/100\n",
            "\u001b[1m18/18\u001b[0m \u001b[32m━━━━━━━━━━━━━━━━━━━━\u001b[0m\u001b[37m\u001b[0m \u001b[1m0s\u001b[0m 6ms/step - loss: 12.1272 - mae: 2.9312 - val_loss: 12.5393 - val_mae: 2.9262\n",
            "Epoch 77/100\n",
            "\u001b[1m18/18\u001b[0m \u001b[32m━━━━━━━━━━━━━━━━━━━━\u001b[0m\u001b[37m\u001b[0m \u001b[1m0s\u001b[0m 5ms/step - loss: 11.5502 - mae: 2.9028 - val_loss: 12.5368 - val_mae: 2.9273\n",
            "Epoch 78/100\n",
            "\u001b[1m18/18\u001b[0m \u001b[32m━━━━━━━━━━━━━━━━━━━━\u001b[0m\u001b[37m\u001b[0m \u001b[1m0s\u001b[0m 5ms/step - loss: 11.2576 - mae: 2.7990 - val_loss: 12.5892 - val_mae: 2.9297\n",
            "Epoch 79/100\n",
            "\u001b[1m18/18\u001b[0m \u001b[32m━━━━━━━━━━━━━━━━━━━━\u001b[0m\u001b[37m\u001b[0m \u001b[1m0s\u001b[0m 6ms/step - loss: 12.0286 - mae: 2.9269 - val_loss: 12.6594 - val_mae: 2.9308\n",
            "Epoch 80/100\n",
            "\u001b[1m18/18\u001b[0m \u001b[32m━━━━━━━━━━━━━━━━━━━━\u001b[0m\u001b[37m\u001b[0m \u001b[1m0s\u001b[0m 6ms/step - loss: 11.5548 - mae: 2.8613 - val_loss: 12.8000 - val_mae: 2.9417\n",
            "Epoch 81/100\n",
            "\u001b[1m18/18\u001b[0m \u001b[32m━━━━━━━━━━━━━━━━━━━━\u001b[0m\u001b[37m\u001b[0m \u001b[1m0s\u001b[0m 6ms/step - loss: 11.2501 - mae: 2.8592 - val_loss: 12.5556 - val_mae: 2.9262\n",
            "Epoch 82/100\n",
            "\u001b[1m18/18\u001b[0m \u001b[32m━━━━━━━━━━━━━━━━━━━━\u001b[0m\u001b[37m\u001b[0m \u001b[1m0s\u001b[0m 6ms/step - loss: 11.1384 - mae: 2.8237 - val_loss: 13.3748 - val_mae: 2.9966\n",
            "Epoch 83/100\n",
            "\u001b[1m18/18\u001b[0m \u001b[32m━━━━━━━━━━━━━━━━━━━━\u001b[0m\u001b[37m\u001b[0m \u001b[1m0s\u001b[0m 5ms/step - loss: 11.9457 - mae: 2.9355 - val_loss: 13.2660 - val_mae: 2.9870\n",
            "Epoch 84/100\n",
            "\u001b[1m18/18\u001b[0m \u001b[32m━━━━━━━━━━━━━━━━━━━━\u001b[0m\u001b[37m\u001b[0m \u001b[1m0s\u001b[0m 6ms/step - loss: 11.6549 - mae: 2.8433 - val_loss: 13.3327 - val_mae: 2.9930\n",
            "Epoch 85/100\n",
            "\u001b[1m18/18\u001b[0m \u001b[32m━━━━━━━━━━━━━━━━━━━━\u001b[0m\u001b[37m\u001b[0m \u001b[1m0s\u001b[0m 4ms/step - loss: 11.9016 - mae: 2.9056 - val_loss: 13.7683 - val_mae: 3.0333\n",
            "Epoch 86/100\n",
            "\u001b[1m18/18\u001b[0m \u001b[32m━━━━━━━━━━━━━━━━━━━━\u001b[0m\u001b[37m\u001b[0m \u001b[1m0s\u001b[0m 3ms/step - loss: 11.8319 - mae: 2.8807 - val_loss: 12.7875 - val_mae: 2.9407\n",
            "Epoch 87/100\n",
            "\u001b[1m18/18\u001b[0m \u001b[32m━━━━━━━━━━━━━━━━━━━━\u001b[0m\u001b[37m\u001b[0m \u001b[1m0s\u001b[0m 3ms/step - loss: 11.3487 - mae: 2.8166 - val_loss: 12.5905 - val_mae: 2.9299\n",
            "Epoch 88/100\n",
            "\u001b[1m18/18\u001b[0m \u001b[32m━━━━━━━━━━━━━━━━━━━━\u001b[0m\u001b[37m\u001b[0m \u001b[1m0s\u001b[0m 3ms/step - loss: 11.3104 - mae: 2.8445 - val_loss: 12.6146 - val_mae: 2.9319\n",
            "Epoch 89/100\n",
            "\u001b[1m18/18\u001b[0m \u001b[32m━━━━━━━━━━━━━━━━━━━━\u001b[0m\u001b[37m\u001b[0m \u001b[1m0s\u001b[0m 4ms/step - loss: 12.0866 - mae: 2.9480 - val_loss: 12.6079 - val_mae: 2.9287\n",
            "Epoch 90/100\n",
            "\u001b[1m18/18\u001b[0m \u001b[32m━━━━━━━━━━━━━━━━━━━━\u001b[0m\u001b[37m\u001b[0m \u001b[1m0s\u001b[0m 4ms/step - loss: 11.4350 - mae: 2.8111 - val_loss: 12.5752 - val_mae: 2.9273\n",
            "Epoch 91/100\n",
            "\u001b[1m18/18\u001b[0m \u001b[32m━━━━━━━━━━━━━━━━━━━━\u001b[0m\u001b[37m\u001b[0m \u001b[1m0s\u001b[0m 4ms/step - loss: 11.4199 - mae: 2.8021 - val_loss: 12.5560 - val_mae: 2.9268\n",
            "Epoch 92/100\n",
            "\u001b[1m18/18\u001b[0m \u001b[32m━━━━━━━━━━━━━━━━━━━━\u001b[0m\u001b[37m\u001b[0m \u001b[1m0s\u001b[0m 3ms/step - loss: 11.2907 - mae: 2.8456 - val_loss: 12.5733 - val_mae: 2.9273\n",
            "Epoch 93/100\n",
            "\u001b[1m18/18\u001b[0m \u001b[32m━━━━━━━━━━━━━━━━━━━━\u001b[0m\u001b[37m\u001b[0m \u001b[1m0s\u001b[0m 4ms/step - loss: 12.1737 - mae: 2.9362 - val_loss: 12.6618 - val_mae: 2.9309\n",
            "Epoch 94/100\n",
            "\u001b[1m18/18\u001b[0m \u001b[32m━━━━━━━━━━━━━━━━━━━━\u001b[0m\u001b[37m\u001b[0m \u001b[1m0s\u001b[0m 4ms/step - loss: 12.1880 - mae: 2.9249 - val_loss: 12.9044 - val_mae: 2.9519\n",
            "Epoch 95/100\n",
            "\u001b[1m18/18\u001b[0m \u001b[32m━━━━━━━━━━━━━━━━━━━━\u001b[0m\u001b[37m\u001b[0m \u001b[1m0s\u001b[0m 3ms/step - loss: 11.3412 - mae: 2.8243 - val_loss: 12.7814 - val_mae: 2.9401\n",
            "Epoch 96/100\n",
            "\u001b[1m18/18\u001b[0m \u001b[32m━━━━━━━━━━━━━━━━━━━━\u001b[0m\u001b[37m\u001b[0m \u001b[1m0s\u001b[0m 4ms/step - loss: 10.8697 - mae: 2.7493 - val_loss: 13.7880 - val_mae: 3.0357\n",
            "Epoch 97/100\n",
            "\u001b[1m18/18\u001b[0m \u001b[32m━━━━━━━━━━━━━━━━━━━━\u001b[0m\u001b[37m\u001b[0m \u001b[1m0s\u001b[0m 3ms/step - loss: 11.6044 - mae: 2.8513 - val_loss: 13.2693 - val_mae: 2.9876\n",
            "Epoch 98/100\n",
            "\u001b[1m18/18\u001b[0m \u001b[32m━━━━━━━━━━━━━━━━━━━━\u001b[0m\u001b[37m\u001b[0m \u001b[1m0s\u001b[0m 3ms/step - loss: 11.2085 - mae: 2.7950 - val_loss: 12.6516 - val_mae: 2.9302\n",
            "Epoch 99/100\n",
            "\u001b[1m18/18\u001b[0m \u001b[32m━━━━━━━━━━━━━━━━━━━━\u001b[0m\u001b[37m\u001b[0m \u001b[1m0s\u001b[0m 3ms/step - loss: 11.5780 - mae: 2.8670 - val_loss: 12.6285 - val_mae: 2.9328\n",
            "Epoch 100/100\n",
            "\u001b[1m18/18\u001b[0m \u001b[32m━━━━━━━━━━━━━━━━━━━━\u001b[0m\u001b[37m\u001b[0m \u001b[1m0s\u001b[0m 4ms/step - loss: 12.2881 - mae: 2.9610 - val_loss: 12.5712 - val_mae: 2.9294\n",
            "\u001b[1m6/6\u001b[0m \u001b[32m━━━━━━━━━━━━━━━━━━━━\u001b[0m\u001b[37m\u001b[0m \u001b[1m0s\u001b[0m 9ms/step \n",
            "Accuracy (ANN): 0.06997402006822795\n",
            "Precision (ANN): 0.5377358490566038\n",
            "Recall (ANN): 0.6477272727272727\n",
            "F1-Score (ANN): 0.5876288659793815\n",
            "RMSE (ANN): 3.55577983391718\n"
          ]
        }
      ]
    },
    {
      "cell_type": "markdown",
      "source": [
        "# **Models** (Before removing outliers)"
      ],
      "metadata": {
        "id": "CU7TPtDLPZuv"
      }
    },
    {
      "cell_type": "markdown",
      "source": [
        "# Linear refression model"
      ],
      "metadata": {
        "id": "alHMSFjMPkDx"
      }
    },
    {
      "cell_type": "code",
      "source": [
        "# prompt: give me code on b_X_train, b_X_test, b_y_train, b_y_test for linear regression model find accuracy f1 accuracy recall precision RMSE for linear regression\n",
        "\n",
        "# Create a linear regression model\n",
        "model = LinearRegression()\n",
        "\n",
        "# Train the model on the training data\n",
        "model.fit(b_X_train, b_y_train)\n",
        "\n",
        "# Predict the target values for the test data\n",
        "predicted_target = model.predict(b_X_test)\n",
        "\n",
        "# Calculate the R^2 score of the predictions\n",
        "lr_accuracy_bf = r2_score(b_y_test, predicted_target)\n",
        "print(\"Accuracy:\", lr_accuracy_bf)\n",
        "\n",
        "# Assuming you have b_y_test and predicted_target from your Linear Regression model\n",
        "\n",
        "# Convert regression predictions to binary classification (e.g., above/below average height)\n",
        "threshold = b_y_test.mean()  # You can choose a different threshold if needed\n",
        "y_pred_binary = [1 if pred > threshold else 0 for pred in predicted_target]\n",
        "y_true_binary = [1 if true > threshold else 0 for true in b_y_test]\n",
        "\n",
        "# Calculate Precision, Recall, F1-score\n",
        "precision_lr_bf, recall_lr_bf, f1_lr_bf, _ = precision_recall_fscore_support(y_true_binary, y_pred_binary, average='binary')\n",
        "\n",
        "print(f\"Precision: {precision_lr_bf}\")\n",
        "print(f\"Recall: {recall_lr_bf}\")\n",
        "print(f\"F1-Score: {f1_lr_bf}\")\n",
        "\n",
        "# Calculate RMSE\n",
        "rmse_lr_bf = np.sqrt(mean_squared_error(b_y_test, predicted_target))\n",
        "print(f\"RMSE: {rmse_lr_bf}\")"
      ],
      "metadata": {
        "colab": {
          "base_uri": "https://localhost:8080/"
        },
        "id": "uJRjlueiPY62",
        "outputId": "82c39aab-e5ab-4245-cb0f-409826681612"
      },
      "execution_count": 112,
      "outputs": [
        {
          "output_type": "stream",
          "name": "stdout",
          "text": [
            "Accuracy: 0.7014300909729096\n",
            "Precision: 0.8666666666666667\n",
            "Recall: 0.8863636363636364\n",
            "F1-Score: 0.8764044943820225\n",
            "RMSE: 2.0146997854216577\n"
          ]
        }
      ]
    },
    {
      "cell_type": "markdown",
      "source": [
        "# SVR Linear model"
      ],
      "metadata": {
        "id": "2ZYViIZbjIGG"
      }
    },
    {
      "cell_type": "code",
      "source": [
        "# prompt: give me code on b_X_train, b_X_test, b_y_train, b_y_test  find accuracy f1 accuracy recall precision RMSE for lSVR linear model\n",
        "\n",
        "# Create a Support Vector Regression (SVR) model with a linear kernel\n",
        "model_svr_linear = SVR(kernel='linear')\n",
        "\n",
        "# Train the model on the training data\n",
        "model_svr_linear.fit(b_X_train, b_y_train)\n",
        "\n",
        "# Predict the target values for the test data\n",
        "predicted_target_svr_linear = model_svr_linear.predict(b_X_test)\n",
        "\n",
        "# Calculate the R^2 score of the predictions\n",
        "svr_accuracy_bf = r2_score(b_y_test, predicted_target_svr_linear)\n",
        "\n",
        "# Print the accuracy\n",
        "print(\"Accuracy (SVR linear):\", svr_accuracy_bf)\n",
        "\n",
        "# Assuming you have b_y_test and predicted_target_svr_linear from your SVR Linear model\n",
        "\n",
        "# Convert regression predictions to binary classification (e.g., above/below average height)\n",
        "threshold = b_y_test.mean()  # You can choose a different threshold if needed\n",
        "y_pred_binary = [1 if pred > threshold else 0 for pred in predicted_target_svr_linear]\n",
        "y_true_binary = [1 if true > threshold else 0 for true in b_y_test]\n",
        "\n",
        "# Calculate Precision, Recall, F1-score\n",
        "precision_svr_bf, recall_svr_bf, f1_svr_bf, _ = precision_recall_fscore_support(y_true_binary, y_pred_binary, average='binary')\n",
        "\n",
        "print(f\"Precision (SVR Linear): {precision_svr_bf}\")\n",
        "print(f\"Recall (SVR Linear): {recall_svr_bf}\")\n",
        "print(f\"F1-Score (SVR Linear): {f1_svr_bf}\")\n",
        "\n",
        "# Calculate RMSE\n",
        "rmse_svr_bf = np.sqrt(mean_squared_error(b_y_test, predicted_target_svr_linear))\n",
        "print(f\"RMSE (SVR Linear): {rmse_svr_bf}\")"
      ],
      "metadata": {
        "colab": {
          "base_uri": "https://localhost:8080/"
        },
        "id": "7CS6d4fYjMmb",
        "outputId": "786a9436-5e7a-4154-cbbb-6e1c394ae866"
      },
      "execution_count": 113,
      "outputs": [
        {
          "output_type": "stream",
          "name": "stderr",
          "text": [
            "/usr/local/lib/python3.10/dist-packages/sklearn/utils/validation.py:1339: DataConversionWarning:\n",
            "\n",
            "A column-vector y was passed when a 1d array was expected. Please change the shape of y to (n_samples, ), for example using ravel().\n",
            "\n"
          ]
        },
        {
          "output_type": "stream",
          "name": "stdout",
          "text": [
            "Accuracy (SVR linear): 0.7013408326034938\n",
            "Precision (SVR Linear): 0.8586956521739131\n",
            "Recall (SVR Linear): 0.8977272727272727\n",
            "F1-Score (SVR Linear): 0.8777777777777778\n",
            "RMSE (SVR Linear): 2.0150009131880378\n"
          ]
        }
      ]
    },
    {
      "cell_type": "markdown",
      "source": [
        "# XGBoost Model"
      ],
      "metadata": {
        "id": "oRroB97-kzfd"
      }
    },
    {
      "cell_type": "code",
      "source": [
        "# prompt: give me code on b_X_train, b_X_test, b_y_train, b_y_test for linear regression model find accuracy f1 accuracy recall precision RMSE for XG boost model\n",
        "\n",
        "# XGBoost Model (Before removing outliers)\n",
        "\n",
        "# Create an XGBoost regressor model\n",
        "model_xgb = XGBRegressor()\n",
        "\n",
        "# Train the model on the training data\n",
        "model_xgb.fit(b_X_train, b_y_train)\n",
        "\n",
        "# Predict the target values for the test data\n",
        "predicted_target_xgb = model_xgb.predict(b_X_test)\n",
        "\n",
        "# Calculate the R^2 score of the predictions\n",
        "xgb_accuracy_bf = r2_score(b_y_test, predicted_target_xgb)\n",
        "\n",
        "# Print the accuracy\n",
        "print(\"Accuracy (XGBoost):\", xgb_accuracy_bf)\n",
        "\n",
        "# Assuming you have b_y_test and predicted_target_xgb from your XGBoost model\n",
        "\n",
        "# Convert regression predictions to binary classification (e.g., above/below average height)\n",
        "threshold = b_y_test.mean()  # You can choose a different threshold if needed\n",
        "y_pred_binary = [1 if pred > threshold else 0 for pred in predicted_target_xgb]\n",
        "y_true_binary = [1 if true > threshold else 0 for true in b_y_test]\n",
        "\n",
        "# Calculate Precision, Recall, F1-score\n",
        "precision_xgb_bf, recall_xgb_bf, f1_xgb_bf, _ = precision_recall_fscore_support(y_true_binary, y_pred_binary, average='binary')\n",
        "\n",
        "print(f\"Precision (XGBoost): {precision_xgb_bf}\")\n",
        "print(f\"Recall (XGBoost): {recall_xgb_bf}\")\n",
        "print(f\"F1-Score (XGBoost): {f1_xgb_bf}\")\n",
        "\n",
        "# Calculate RMSE\n",
        "rmse_xgb_bf = np.sqrt(mean_squared_error(b_y_test, predicted_target_xgb))\n",
        "print(f\"RMSE (XGBoost): {rmse_xgb_bf}\")"
      ],
      "metadata": {
        "colab": {
          "base_uri": "https://localhost:8080/"
        },
        "id": "GZ0axJt3k3Nw",
        "outputId": "8b824045-652a-498d-eceb-ae00463e71b6"
      },
      "execution_count": 114,
      "outputs": [
        {
          "output_type": "stream",
          "name": "stdout",
          "text": [
            "Accuracy (XGBoost): 0.6328539814624139\n",
            "Precision (XGBoost): 0.8947368421052632\n",
            "Recall (XGBoost): 0.7727272727272727\n",
            "F1-Score (XGBoost): 0.8292682926829268\n",
            "RMSE (XGBoost): 2.234121220871213\n"
          ]
        }
      ]
    },
    {
      "cell_type": "markdown",
      "source": [
        "# Light GBM model"
      ],
      "metadata": {
        "id": "YJwus8eem2tJ"
      }
    },
    {
      "cell_type": "code",
      "source": [
        "# prompt: give me code on b_X_train, b_X_test, b_y_train, b_y_test for linear regression model find accuracy f1 accuracy recall precision RMSE for  light GBM model\n",
        "\n",
        "# LightGBM Model (Before removing outliers)\n",
        "import lightgbm as lgb\n",
        "# Create a LightGBM regressor model\n",
        "model_lgb = lgb.LGBMRegressor()\n",
        "\n",
        "# Train the model on the training data\n",
        "model_lgb.fit(b_X_train, b_y_train)\n",
        "\n",
        "# Predict the target values for the test data\n",
        "predicted_target_lgb = model_lgb.predict(b_X_test)\n",
        "\n",
        "# Calculate the R^2 score of the predictions\n",
        "lgb_accuracy_bf = r2_score(b_y_test, predicted_target_lgb)\n",
        "\n",
        "# Print the accuracy\n",
        "print(\"Accuracy (LightGBM):\", lgb_accuracy_bf)\n",
        "\n",
        "# Assuming you have b_y_test and predicted_target_lgb from your LightGBM model\n",
        "\n",
        "# Convert regression predictions to binary classification (e.g., above/below average height)\n",
        "threshold = b_y_test.mean()  # You can choose a different threshold if needed\n",
        "y_pred_binary = [1 if pred > threshold else 0 for pred in predicted_target_lgb]\n",
        "y_true_binary = [1 if true > threshold else 0 for true in b_y_test]\n",
        "\n",
        "# Calculate Precision, Recall, F1-score\n",
        "precision_lgb_bf, recall_lgb_bf, f1_lgb_bf, _ = precision_recall_fscore_support(y_true_binary, y_pred_binary, average='binary')\n",
        "\n",
        "print(f\"Precision (LightGBM): {precision_lgb_bf}\")\n",
        "print(f\"Recall (LightGBM): {recall_lgb_bf}\")\n",
        "print(f\"F1-Score (LightGBM): {f1_lgb_bf}\")\n",
        "\n",
        "# Calculate RMSE\n",
        "rmse_lgb_bf = np.sqrt(mean_squared_error(b_y_test, predicted_target_lgb))\n",
        "print(f\"RMSE (LightGBM): {rmse_lgb_bf}\")"
      ],
      "metadata": {
        "colab": {
          "base_uri": "https://localhost:8080/"
        },
        "id": "MDyRhj-9m5yH",
        "outputId": "d54cc523-c09c-47f4-b643-790fdb68b70f"
      },
      "execution_count": 40,
      "outputs": [
        {
          "output_type": "stream",
          "name": "stderr",
          "text": [
            "/usr/local/lib/python3.10/dist-packages/dask/dataframe/__init__.py:42: FutureWarning:\n",
            "\n",
            "\n",
            "Dask dataframe query planning is disabled because dask-expr is not installed.\n",
            "\n",
            "You can install it with `pip install dask[dataframe]` or `conda install dask`.\n",
            "This will raise in a future version.\n",
            "\n",
            "\n"
          ]
        },
        {
          "output_type": "stream",
          "name": "stdout",
          "text": [
            "[LightGBM] [Info] Auto-choosing row-wise multi-threading, the overhead of testing was 0.000834 seconds.\n",
            "You can set `force_row_wise=true` to remove the overhead.\n",
            "And if memory is not enough, you can set `force_col_wise=true`.\n",
            "[LightGBM] [Info] Total Bins 98\n",
            "[LightGBM] [Info] Number of data points in the train set: 712, number of used features: 4\n",
            "[LightGBM] [Info] Start training from score 66.765028\n",
            "[LightGBM] [Warning] No further splits with positive gain, best gain: -inf\n",
            "[LightGBM] [Warning] No further splits with positive gain, best gain: -inf\n",
            "[LightGBM] [Warning] No further splits with positive gain, best gain: -inf\n",
            "[LightGBM] [Warning] No further splits with positive gain, best gain: -inf\n",
            "[LightGBM] [Warning] No further splits with positive gain, best gain: -inf\n",
            "[LightGBM] [Warning] No further splits with positive gain, best gain: -inf\n",
            "[LightGBM] [Warning] No further splits with positive gain, best gain: -inf\n",
            "[LightGBM] [Warning] No further splits with positive gain, best gain: -inf\n",
            "[LightGBM] [Warning] No further splits with positive gain, best gain: -inf\n",
            "[LightGBM] [Warning] No further splits with positive gain, best gain: -inf\n",
            "[LightGBM] [Warning] No further splits with positive gain, best gain: -inf\n",
            "[LightGBM] [Warning] No further splits with positive gain, best gain: -inf\n",
            "[LightGBM] [Warning] No further splits with positive gain, best gain: -inf\n",
            "[LightGBM] [Warning] No further splits with positive gain, best gain: -inf\n",
            "[LightGBM] [Warning] No further splits with positive gain, best gain: -inf\n",
            "[LightGBM] [Warning] No further splits with positive gain, best gain: -inf\n",
            "[LightGBM] [Warning] No further splits with positive gain, best gain: -inf\n",
            "[LightGBM] [Warning] No further splits with positive gain, best gain: -inf\n",
            "[LightGBM] [Warning] No further splits with positive gain, best gain: -inf\n",
            "[LightGBM] [Warning] No further splits with positive gain, best gain: -inf\n",
            "[LightGBM] [Warning] No further splits with positive gain, best gain: -inf\n",
            "[LightGBM] [Warning] No further splits with positive gain, best gain: -inf\n",
            "[LightGBM] [Warning] No further splits with positive gain, best gain: -inf\n",
            "[LightGBM] [Warning] No further splits with positive gain, best gain: -inf\n",
            "[LightGBM] [Warning] No further splits with positive gain, best gain: -inf\n",
            "[LightGBM] [Warning] No further splits with positive gain, best gain: -inf\n",
            "[LightGBM] [Warning] No further splits with positive gain, best gain: -inf\n",
            "[LightGBM] [Warning] No further splits with positive gain, best gain: -inf\n",
            "[LightGBM] [Warning] No further splits with positive gain, best gain: -inf\n",
            "[LightGBM] [Warning] No further splits with positive gain, best gain: -inf\n",
            "[LightGBM] [Warning] No further splits with positive gain, best gain: -inf\n",
            "[LightGBM] [Warning] No further splits with positive gain, best gain: -inf\n",
            "[LightGBM] [Warning] No further splits with positive gain, best gain: -inf\n",
            "[LightGBM] [Warning] No further splits with positive gain, best gain: -inf\n",
            "[LightGBM] [Warning] No further splits with positive gain, best gain: -inf\n",
            "[LightGBM] [Warning] No further splits with positive gain, best gain: -inf\n",
            "[LightGBM] [Warning] No further splits with positive gain, best gain: -inf\n",
            "[LightGBM] [Warning] No further splits with positive gain, best gain: -inf\n",
            "[LightGBM] [Warning] No further splits with positive gain, best gain: -inf\n",
            "[LightGBM] [Warning] No further splits with positive gain, best gain: -inf\n",
            "[LightGBM] [Warning] No further splits with positive gain, best gain: -inf\n",
            "[LightGBM] [Warning] No further splits with positive gain, best gain: -inf\n",
            "[LightGBM] [Warning] No further splits with positive gain, best gain: -inf\n",
            "[LightGBM] [Warning] No further splits with positive gain, best gain: -inf\n",
            "[LightGBM] [Warning] No further splits with positive gain, best gain: -inf\n",
            "[LightGBM] [Warning] No further splits with positive gain, best gain: -inf\n",
            "[LightGBM] [Warning] No further splits with positive gain, best gain: -inf\n",
            "[LightGBM] [Warning] No further splits with positive gain, best gain: -inf\n",
            "[LightGBM] [Warning] No further splits with positive gain, best gain: -inf\n",
            "[LightGBM] [Warning] No further splits with positive gain, best gain: -inf\n",
            "[LightGBM] [Warning] No further splits with positive gain, best gain: -inf\n",
            "[LightGBM] [Warning] No further splits with positive gain, best gain: -inf\n",
            "[LightGBM] [Warning] No further splits with positive gain, best gain: -inf\n",
            "[LightGBM] [Warning] No further splits with positive gain, best gain: -inf\n",
            "[LightGBM] [Warning] No further splits with positive gain, best gain: -inf\n",
            "[LightGBM] [Warning] No further splits with positive gain, best gain: -inf\n",
            "[LightGBM] [Warning] No further splits with positive gain, best gain: -inf\n",
            "[LightGBM] [Warning] No further splits with positive gain, best gain: -inf\n",
            "[LightGBM] [Warning] No further splits with positive gain, best gain: -inf\n",
            "[LightGBM] [Warning] No further splits with positive gain, best gain: -inf\n",
            "[LightGBM] [Warning] No further splits with positive gain, best gain: -inf\n",
            "[LightGBM] [Warning] No further splits with positive gain, best gain: -inf\n",
            "[LightGBM] [Warning] No further splits with positive gain, best gain: -inf\n",
            "[LightGBM] [Warning] No further splits with positive gain, best gain: -inf\n",
            "[LightGBM] [Warning] No further splits with positive gain, best gain: -inf\n",
            "[LightGBM] [Warning] No further splits with positive gain, best gain: -inf\n",
            "[LightGBM] [Warning] No further splits with positive gain, best gain: -inf\n",
            "[LightGBM] [Warning] No further splits with positive gain, best gain: -inf\n",
            "[LightGBM] [Warning] No further splits with positive gain, best gain: -inf\n",
            "[LightGBM] [Warning] No further splits with positive gain, best gain: -inf\n",
            "[LightGBM] [Warning] No further splits with positive gain, best gain: -inf\n",
            "[LightGBM] [Warning] No further splits with positive gain, best gain: -inf\n",
            "[LightGBM] [Warning] No further splits with positive gain, best gain: -inf\n",
            "[LightGBM] [Warning] No further splits with positive gain, best gain: -inf\n",
            "[LightGBM] [Warning] No further splits with positive gain, best gain: -inf\n",
            "[LightGBM] [Warning] No further splits with positive gain, best gain: -inf\n",
            "[LightGBM] [Warning] No further splits with positive gain, best gain: -inf\n",
            "[LightGBM] [Warning] No further splits with positive gain, best gain: -inf\n",
            "[LightGBM] [Warning] No further splits with positive gain, best gain: -inf\n",
            "[LightGBM] [Warning] No further splits with positive gain, best gain: -inf\n",
            "[LightGBM] [Warning] No further splits with positive gain, best gain: -inf\n",
            "[LightGBM] [Warning] No further splits with positive gain, best gain: -inf\n",
            "[LightGBM] [Warning] No further splits with positive gain, best gain: -inf\n",
            "[LightGBM] [Warning] No further splits with positive gain, best gain: -inf\n",
            "[LightGBM] [Warning] No further splits with positive gain, best gain: -inf\n",
            "[LightGBM] [Warning] No further splits with positive gain, best gain: -inf\n",
            "[LightGBM] [Warning] No further splits with positive gain, best gain: -inf\n",
            "[LightGBM] [Warning] No further splits with positive gain, best gain: -inf\n",
            "[LightGBM] [Warning] No further splits with positive gain, best gain: -inf\n",
            "[LightGBM] [Warning] No further splits with positive gain, best gain: -inf\n",
            "[LightGBM] [Warning] No further splits with positive gain, best gain: -inf\n",
            "[LightGBM] [Warning] No further splits with positive gain, best gain: -inf\n",
            "[LightGBM] [Warning] No further splits with positive gain, best gain: -inf\n",
            "[LightGBM] [Warning] No further splits with positive gain, best gain: -inf\n",
            "[LightGBM] [Warning] No further splits with positive gain, best gain: -inf\n",
            "[LightGBM] [Warning] No further splits with positive gain, best gain: -inf\n",
            "[LightGBM] [Warning] No further splits with positive gain, best gain: -inf\n",
            "[LightGBM] [Warning] No further splits with positive gain, best gain: -inf\n",
            "[LightGBM] [Warning] No further splits with positive gain, best gain: -inf\n",
            "[LightGBM] [Warning] No further splits with positive gain, best gain: -inf\n",
            "Accuracy (LightGBM): 0.6911709032705733\n",
            "Precision (LightGBM): 0.8651685393258427\n",
            "Recall (LightGBM): 0.875\n",
            "F1-Score (LightGBM): 0.8700564971751412\n",
            "RMSE (LightGBM): 2.049021087102429\n"
          ]
        }
      ]
    },
    {
      "cell_type": "markdown",
      "source": [
        "# MPH model"
      ],
      "metadata": {
        "id": "1oaxmHrhnVBE"
      }
    },
    {
      "cell_type": "code",
      "source": [
        "# Import necessary libraries\n",
        "from sklearn.linear_model import LinearRegression\n",
        "from sklearn.multioutput import MultiOutputRegressor\n",
        "from sklearn.metrics import precision_recall_fscore_support, r2_score, mean_squared_error\n",
        "import numpy as np\n",
        "\n",
        "# Assuming b_X_train, b_y_train, b_X_test, b_y_test are already defined as DataFrames\n",
        "# Example:\n",
        "# b_X_train = ...  # Training features\n",
        "# b_y_train = ...  # Training target (single or multi-output DataFrame)\n",
        "# b_X_test = ...   # Test features\n",
        "# b_y_test = ...   # Test target (single or multi-output DataFrame)\n",
        "\n",
        "# Check if b_y_train is a single output (1D array) and reshape if needed\n",
        "if len(b_y_train.shape) == 1:\n",
        "    b_y_train = b_y_train.values.reshape(-1, 1)\n",
        "    b_y_test = b_y_test.values.reshape(-1, 1)\n",
        "\n",
        "# Define the MPH model\n",
        "if b_y_train.shape[1] > 1:  # Multi-output case\n",
        "    model_mph = MultiOutputRegressor(LinearRegression())\n",
        "else:  # Single-output case\n",
        "    model_mph = LinearRegression()\n",
        "\n",
        "# Train the model on the training data\n",
        "model_mph.fit(b_X_train, b_y_train)\n",
        "\n",
        "# Predict the target values for the test data\n",
        "predicted_target_mph = model_mph.predict(b_X_test)\n",
        "\n",
        "# Calculate the R^2 score (accuracy)\n",
        "mph_accuracy_bf = r2_score(b_y_test, predicted_target_mph, multioutput='uniform_average')\n",
        "print(\"Accuracy (R^2, MPH):\", mph_accuracy_bf)\n",
        "\n",
        "# Calculate RMSE (Root Mean Squared Error)\n",
        "rmse_mph_bf = np.sqrt(mean_squared_error(b_y_test, predicted_target_mph))\n",
        "print(f\"RMSE (MPH): {rmse_mph_bf}\")\n",
        "\n",
        "# Convert regression predictions to binary classification\n",
        "# Each target will have its own threshold (mean of each column in y_test)\n",
        "thresholds = b_y_test.mean(axis=0)\n",
        "y_pred_binary = (predicted_target_mph > thresholds).astype(int)\n",
        "y_true_binary = (b_y_test > thresholds).astype(int)\n",
        "\n",
        "# Calculate Precision, Recall, F1-score for multi-output case (micro-average across all outputs)\n",
        "precision_mph_bf, recall_mph_bf, f1_mph_bf, _ = precision_recall_fscore_support(\n",
        "    y_true_binary, y_pred_binary, average='micro', zero_division=0\n",
        ")\n",
        "\n",
        "print(f\"Precision (MPH): {precision_mph_bf}\")\n",
        "print(f\"Recall (MPH): {recall_mph_bf}\")\n",
        "print(f\"F1-Score (MPH): {f1_mph_bf}\")\n"
      ],
      "metadata": {
        "colab": {
          "base_uri": "https://localhost:8080/"
        },
        "id": "0cAkk3XinbpF",
        "outputId": "c8cfd33d-399a-4435-b713-d536d4e529e7"
      },
      "execution_count": 42,
      "outputs": [
        {
          "output_type": "stream",
          "name": "stdout",
          "text": [
            "Accuracy (R^2, MPH): 0.7014300909729096\n",
            "RMSE (MPH): 2.0146997854216577\n",
            "Precision (MPH): 0.8764044943820225\n",
            "Recall (MPH): 0.8764044943820225\n",
            "F1-Score (MPH): 0.8764044943820225\n"
          ]
        }
      ]
    },
    {
      "cell_type": "markdown",
      "source": [
        "# Decision Tree"
      ],
      "metadata": {
        "id": "jwrjJIlbqcUK"
      }
    },
    {
      "cell_type": "code",
      "source": [
        "from sklearn.tree import DecisionTreeRegressor\n",
        "from sklearn.metrics import precision_recall_fscore_support, mean_squared_error, r2_score\n",
        "import numpy as np\n",
        "\n",
        "# Assuming b_X_train, b_X_test, b_y_train, b_y_test are already defined\n",
        "\n",
        "# Decision Tree model (before outlier removal)\n",
        "dt_model = DecisionTreeRegressor(random_state=42)\n",
        "dt_model.fit(b_X_train, b_y_train)\n",
        "dt_pred = dt_model.predict(b_X_test)\n",
        "\n",
        "# ----- Metrics Before Outlier Removal -----\n",
        "\n",
        "# Mean Squared Error (MSE) and R²\n",
        "dt_mse_bf = mean_squared_error(b_y_test, dt_pred)\n",
        "dt_r2 = r2_score(b_y_test, dt_pred)\n",
        "\n",
        "# Calculate RMSE (Root Mean Squared Error)\n",
        "rmse_dt_bf = np.sqrt(dt_mse_bf)\n",
        "\n",
        "# Calculate MAPE (Mean Absolute Percentage Error)\n",
        "mape_dt = np.mean(np.abs((b_y_test - dt_pred) / b_y_test)) * 100\n",
        "\n",
        "# Calculate accuracy as a decimal\n",
        "dt_accuracy_bf = 1 - mape_dt / 100\n",
        "\n",
        "# Convert regression predictions to binary classification\n",
        "threshold = b_y_test.mean()  # You can customize this threshold if necessary\n",
        "y_pred_binary = (dt_pred > threshold).astype(int)\n",
        "y_true_binary = (b_y_test > threshold).astype(int)\n",
        "\n",
        "# Calculate Precision, Recall, F1-score for binary classification\n",
        "precision_dt_bf, recall_dt_bf, f1_dt_bf, _ = precision_recall_fscore_support(\n",
        "    y_true_binary, y_pred_binary, average='binary', zero_division=0\n",
        ")\n",
        "\n",
        "# Display results\n",
        "print(f'Decision Tree (before outlier removal) - MSE: {dt_mse_bf}, R²: {dt_r2}, RMSE: {rmse_dt_bf}')\n",
        "print(f'Accuracy (as a decimal): {dt_accuracy_bf:.4f}')\n",
        "print(f'Precision: {precision_dt_bf:.2f}, Recall: {recall_dt_bf:.2f}, F1-Score: {f1_dt_bf:.2f}')\n"
      ],
      "metadata": {
        "colab": {
          "base_uri": "https://localhost:8080/"
        },
        "id": "4hwf7ymfqeaf",
        "outputId": "46356a7e-fa6e-433e-bf23-c5582b325373"
      },
      "execution_count": 44,
      "outputs": [
        {
          "output_type": "stream",
          "name": "stdout",
          "text": [
            "Decision Tree (before outlier removal) - MSE: 5.098371353534131, R²: 0.6249779351174465, RMSE: 2.2579573409464873\n",
            "Accuracy (as a decimal): 0.9389\n",
            "Precision: 0.88, Recall: 0.78, F1-Score: 0.83\n"
          ]
        }
      ]
    },
    {
      "cell_type": "markdown",
      "source": [
        "# Random Forest"
      ],
      "metadata": {
        "id": "eyUVhCQoqkMp"
      }
    },
    {
      "cell_type": "code",
      "source": [
        "from sklearn.ensemble import RandomForestRegressor\n",
        "from sklearn.metrics import precision_recall_fscore_support, mean_squared_error, r2_score\n",
        "import numpy as np\n",
        "\n",
        "# Assuming b_X_train, b_X_test, b_y_train, b_y_test are already defined\n",
        "\n",
        "# Random Forest model (before outlier removal)\n",
        "rf_model = RandomForestRegressor(n_estimators=100, random_state=42)\n",
        "rf_model.fit(b_X_train, b_y_train)\n",
        "rf_pred = rf_model.predict(b_X_test)\n",
        "\n",
        "# ----- Metrics Before Outlier Removal -----\n",
        "\n",
        "# Mean Squared Error (MSE) and R²\n",
        "rf_mse = mean_squared_error(b_y_test, rf_pred)\n",
        "rf_r2 = r2_score(b_y_test, rf_pred)\n",
        "\n",
        "# Calculate RMSE (Root Mean Squared Error)\n",
        "rmse_rf_bf = np.sqrt(rf_mse)\n",
        "\n",
        "# Calculate MAPE (Mean Absolute Percentage Error)\n",
        "mape_rf = np.mean(np.abs((b_y_test - rf_pred) / b_y_test)) * 100\n",
        "\n",
        "# Calculate accuracy as a decimal\n",
        "rf_accuracy_bf = 1 - mape_rf / 100\n",
        "\n",
        "# Convert regression predictions to binary classification\n",
        "threshold = b_y_test.mean()  # You can customize this threshold if necessary\n",
        "y_pred_binary = (rf_pred > threshold).astype(int)\n",
        "y_true_binary = (b_y_test > threshold).astype(int)\n",
        "\n",
        "# Calculate Precision, Recall, F1-score for binary classification\n",
        "precision_rf_bf, recall_rf_bf, f1_rf_bf, _ = precision_recall_fscore_support(\n",
        "    y_true_binary, y_pred_binary, average='binary', zero_division=0\n",
        ")\n",
        "\n",
        "# Display results\n",
        "print(f'Random Forest (before outlier removal) - MSE: {rf_mse:.4f}, R²: {rf_r2:.4f}, RMSE: {rmse_rf_bf:.4f}')\n",
        "print(f'Accuracy (as a decimal): {rf_accuracy_bf:.4f}')\n",
        "print(f'Precision: {precision_rf_bf:.2f}, Recall: {recall_rf_bf:.2f}, F1-Score: {f1_rf_bf:.2f}')\n"
      ],
      "metadata": {
        "colab": {
          "base_uri": "https://localhost:8080/"
        },
        "id": "OW_X61Olqmv3",
        "outputId": "4285bc3e-6b66-4963-b0b6-26023ccd84bd"
      },
      "execution_count": 45,
      "outputs": [
        {
          "output_type": "stream",
          "name": "stderr",
          "text": [
            "/usr/local/lib/python3.10/dist-packages/sklearn/base.py:1473: DataConversionWarning:\n",
            "\n",
            "A column-vector y was passed when a 1d array was expected. Please change the shape of y to (n_samples,), for example using ravel().\n",
            "\n"
          ]
        },
        {
          "output_type": "stream",
          "name": "stdout",
          "text": [
            "Random Forest (before outlier removal) - MSE: 4.7503, R²: 0.6506, RMSE: 2.1795\n",
            "Accuracy (as a decimal): 0.9399\n",
            "Precision: 0.88, Recall: 0.81, F1-Score: 0.84\n"
          ]
        }
      ]
    },
    {
      "cell_type": "markdown",
      "source": [
        "# ANN model"
      ],
      "metadata": {
        "id": "MzugTDf8qqGM"
      }
    },
    {
      "cell_type": "code",
      "source": [
        "import numpy as np\n",
        "from sklearn.neural_network import MLPRegressor\n",
        "from sklearn.metrics import precision_recall_fscore_support, mean_squared_error, r2_score\n",
        "\n",
        "# Assuming b_X_train, b_X_test, b_y_train, b_y_test are already defined\n",
        "\n",
        "# ANN model (before outlier removal)\n",
        "ann_model = MLPRegressor(random_state=42, max_iter=1000)\n",
        "ann_model.fit(b_X_train, b_y_train)\n",
        "ann_pred = ann_model.predict(b_X_test)\n",
        "\n",
        "# ----- Metrics Before Outlier Removal -----\n",
        "\n",
        "# Mean Squared Error (MSE) and R²\n",
        "ann_mse = mean_squared_error(b_y_test, ann_pred)\n",
        "ann_r2 = r2_score(b_y_test, ann_pred)\n",
        "\n",
        "# Calculate RMSE (Root Mean Squared Error)\n",
        "rmse_ann_bf = np.sqrt(ann_mse)\n",
        "\n",
        "# Calculate MAPE (Mean Absolute Percentage Error)\n",
        "mape_ann = np.mean(np.abs((b_y_test - ann_pred) / b_y_test)) * 100\n",
        "\n",
        "# Calculate accuracy as a decimal\n",
        "ann_accuracy_bf = 1 - mape_ann / 100\n",
        "\n",
        "# Convert regression predictions to binary classification\n",
        "threshold = b_y_test.mean()  # You can customize this threshold if necessary\n",
        "y_pred_binary = (ann_pred > threshold).astype(int)\n",
        "y_true_binary = (b_y_test > threshold).astype(int)\n",
        "\n",
        "# Calculate Precision, Recall, F1-score for binary classification\n",
        "precision_ann_bf, recall_ann_bf, f1_ann_bf, _ = precision_recall_fscore_support(\n",
        "    y_true_binary, y_pred_binary, average='binary', zero_division=0\n",
        ")\n",
        "\n",
        "# Display results\n",
        "print(f'ANN (before outlier removal) - MSE: {ann_mse:.4f}, R²: {ann_r2:.4f}, RMSE: {rmse_ann_bf:.4f}')\n",
        "print(f'Accuracy (as a decimal): {ann_accuracy_bf:.4f}')\n",
        "print(f'Precision: {precision_ann_bf:.2f}, Recall: {recall_ann_bf:.2f}, F1-Score: {f1_ann_bf:.2f}')\n"
      ],
      "metadata": {
        "colab": {
          "base_uri": "https://localhost:8080/"
        },
        "id": "z5yEXTAyquN2",
        "outputId": "f323c4d5-c187-4fc4-d1f8-84e421d78959"
      },
      "execution_count": 46,
      "outputs": [
        {
          "output_type": "stream",
          "name": "stderr",
          "text": [
            "/usr/local/lib/python3.10/dist-packages/sklearn/neural_network/_multilayer_perceptron.py:1631: DataConversionWarning:\n",
            "\n",
            "A column-vector y was passed when a 1d array was expected. Please change the shape of y to (n_samples, ), for example using ravel().\n",
            "\n"
          ]
        },
        {
          "output_type": "stream",
          "name": "stdout",
          "text": [
            "ANN (before outlier removal) - MSE: 4.4123, R²: 0.6754, RMSE: 2.1005\n",
            "Accuracy (as a decimal): 0.9422\n",
            "Precision: 0.87, Recall: 0.83, F1-Score: 0.85\n"
          ]
        }
      ]
    },
    {
      "cell_type": "markdown",
      "source": [
        "# **Models** (After removing outliers)"
      ],
      "metadata": {
        "id": "c2KBRNNVhD2Q"
      }
    },
    {
      "cell_type": "markdown",
      "source": [
        "# Linear regression model"
      ],
      "metadata": {
        "id": "gd6kdl97fGoY"
      }
    },
    {
      "cell_type": "code",
      "source": [
        "from sklearn.metrics import accuracy_score, precision_score, recall_score, f1_score, mean_squared_error, r2_score\n",
        "import numpy as np\n",
        "\n",
        "# Assuming X_train, X_test, y_train, y_test, and the Linear Regression model (model) are already defined\n",
        "\n",
        "# Train the Linear Regression model if not already done\n",
        "model.fit(X_train, y_train)\n",
        "\n",
        "# Make predictions on the test data\n",
        "predicted_target = model.predict(X_test)\n",
        "\n",
        "# Ensure both training and test data have consistent features\n",
        "if X_train.shape[1] != X_test.shape[1]:\n",
        "    raise ValueError(\"Mismatch in the number of features between training and testing data.\")\n",
        "\n",
        "# ----- Calculate Metrics -----\n",
        "\n",
        "# 1. Accuracy using R^2 Score (for regression)\n",
        "lr_accuracy_af = r2_score(y_test, predicted_target)\n",
        "print(f\" Accuracy (Linear Regression): {lr_accuracy_af:.4f}\")\n",
        "\n",
        "# 2. RMSE (Root Mean Squared Error)\n",
        "rmse_lr_af = np.sqrt(mean_squared_error(y_test, predicted_target))\n",
        "print(f\"RMSE (Linear Regression): {rmse_lr_af:.4f}\")\n",
        "\n",
        "# 3. Convert regression predictions to binary classification\n",
        "threshold = y_test.mean()\n",
        "y_pred_binary = (predicted_target > threshold).astype(int)\n",
        "y_true_binary = (y_test > threshold).astype(int)\n",
        "\n",
        "# 4. Precision, Recall, and F1-Score\n",
        "precision_lr_af = precision_score(y_true_binary, y_pred_binary, average='binary', zero_division=0)\n",
        "recall_lr_af = recall_score(y_true_binary, y_pred_binary, average='binary', zero_division=0)\n",
        "f1_lr_af = f1_score(y_true_binary, y_pred_binary, average='binary', zero_division=0)\n",
        "\n",
        "# Print Precision, Recall, F1-score\n",
        "print(f\"Precision (Linear Regression): {precision_lr_af:.4f}\")\n",
        "print(f\"Recall (Linear Regression): {recall_lr_af:.4f}\")\n",
        "print(f\"F1-Score (Linear Regression): {f1_lr_af:.4f}\")\n"
      ],
      "metadata": {
        "colab": {
          "base_uri": "https://localhost:8080/"
        },
        "id": "NmdXUJLXhIFz",
        "outputId": "57c6ca4a-9740-4921-dfb6-6f093aeab05a"
      },
      "execution_count": 52,
      "outputs": [
        {
          "output_type": "stream",
          "name": "stdout",
          "text": [
            " Accuracy (Linear Regression): 0.6821\n",
            "RMSE (Linear Regression): 2.0774\n",
            "Precision (Linear Regression): 0.9048\n",
            "Recall (Linear Regression): 0.8352\n",
            "F1-Score (Linear Regression): 0.8686\n"
          ]
        }
      ]
    },
    {
      "cell_type": "markdown",
      "source": [
        "# SVR linear model"
      ],
      "metadata": {
        "id": "DiWBaS-yq02L"
      }
    },
    {
      "cell_type": "code",
      "source": [
        "# prompt: give me f1score accuracy RMSE recall precision use this using X_train, X_test, y_train, and y_test for SVR linear model\n",
        "\n",
        "# Assuming you have b_X_train, b_X_test, b_y_train, b_y_test defined\n",
        "\n",
        "# SVR Linear model\n",
        "model_svr_linear = SVR(kernel='linear')\n",
        "model_svr_linear.fit(b_X_train, b_y_train)\n",
        "predicted_target_svr_linear = model_svr_linear.predict(b_X_test)\n",
        "\n",
        "# ----- Metrics Calculation -----\n",
        "\n",
        "# Mean Squared Error (MSE) and R²\n",
        "svr_mse = mean_squared_error(b_y_test, predicted_target_svr_linear)\n",
        "svr_r2 = r2_score(b_y_test, predicted_target_svr_linear)\n",
        "\n",
        "# Calculate RMSE (Root Mean Squared Error)\n",
        "rmse_svr_af = np.sqrt(svr_mse)\n",
        "\n",
        "# Calculate MAPE (Mean Absolute Percentage Error)\n",
        "mape_svr = np.mean(np.abs((b_y_test - predicted_target_svr_linear) / b_y_test)) * 100\n",
        "\n",
        "# Calculate accuracy as a decimal\n",
        "svr_accuracy_af = 1 - mape_svr / 100\n",
        "\n",
        "# Convert regression predictions to binary classification\n",
        "threshold = b_y_test.mean()  # You can customize this threshold if necessary\n",
        "y_pred_binary = (predicted_target_svr_linear > threshold).astype(int)\n",
        "y_true_binary = (b_y_test > threshold).astype(int)\n",
        "\n",
        "# Calculate Precision, Recall, F1-score for binary classification\n",
        "precision_svr_af, recall_svr_af, f1_svr_af, _ = precision_recall_fscore_support(\n",
        "    y_true_binary, y_pred_binary, average='binary', zero_division=0\n",
        ")\n",
        "\n",
        "\n",
        "# Display results\n",
        "print(f'SVR Linear - MSE: {svr_mse:.4f}, R²: {svr_r2:.4f}, RMSE: {rmse_svr_af:.4f}')\n",
        "print(f'Accuracy (as a decimal): {svr_accuracy_af:.4f}')\n",
        "print(f'Precision: {precision_svr_af:.2f}, Recall: {recall_svr_af:.2f}, F1-Score: {f1_svr_af:.2f}')"
      ],
      "metadata": {
        "colab": {
          "base_uri": "https://localhost:8080/"
        },
        "id": "1JGQpQEtq7AO",
        "outputId": "94ed076c-409b-41c1-92f2-b1035f25335e"
      },
      "execution_count": 54,
      "outputs": [
        {
          "output_type": "stream",
          "name": "stdout",
          "text": [
            "SVR Linear - MSE: 4.0602, R²: 0.7013, RMSE: 2.0150\n",
            "Accuracy (as a decimal): 0.9426\n",
            "Precision: 0.86, Recall: 0.90, F1-Score: 0.88\n"
          ]
        },
        {
          "output_type": "stream",
          "name": "stderr",
          "text": [
            "/usr/local/lib/python3.10/dist-packages/sklearn/utils/validation.py:1339: DataConversionWarning:\n",
            "\n",
            "A column-vector y was passed when a 1d array was expected. Please change the shape of y to (n_samples, ), for example using ravel().\n",
            "\n"
          ]
        }
      ]
    },
    {
      "cell_type": "markdown",
      "source": [
        "# XGBoost model"
      ],
      "metadata": {
        "id": "G0zD9mYArKIp"
      }
    },
    {
      "cell_type": "code",
      "source": [
        "from sklearn.metrics import r2_score, precision_score, recall_score, f1_score, mean_squared_error\n",
        "from xgboost import XGBRegressor\n",
        "import numpy as np\n",
        "\n",
        "# Assuming X_train, X_test, y_train, y_test are already defined\n",
        "\n",
        "# XGBoost model\n",
        "model_xgb = XGBRegressor()\n",
        "model_xgb.fit(X_train, y_train)\n",
        "predicted_target_xgb = model_xgb.predict(X_test)\n",
        "\n",
        "# ----- Calculate Metrics -----\n",
        "\n",
        "# 1. Accuracy (R^2 Score) for regression\n",
        "xgb_accuracy = r2_score(y_test, predicted_target_xgb)\n",
        "print(f\"Accuracy (XGBoost): {xgb_accuracy:.4f}\")\n",
        "\n",
        "# 2. RMSE (Root Mean Squared Error)\n",
        "rmse_xgb = np.sqrt(mean_squared_error(y_test, predicted_target_xgb))\n",
        "print(f\"RMSE (XGBoost): {rmse_xgb:.4f}\")\n",
        "\n",
        "# 3. Convert regression predictions to binary classification\n",
        "threshold = y_test.mean()\n",
        "y_pred_binary = (predicted_target_xgb > threshold).astype(int)\n",
        "y_true_binary = (y_test > threshold).astype(int)\n",
        "\n",
        "# 4. Precision, Recall, F1-Score\n",
        "precision_xgb = precision_score(y_true_binary, y_pred_binary, average='binary', zero_division=0)\n",
        "recall_xgb = recall_score(y_true_binary, y_pred_binary, average='binary', zero_division=0)\n",
        "f1_xgb = f1_score(y_true_binary, y_pred_binary, average='binary', zero_division=0)\n",
        "\n",
        "# Print Precision, Recall, F1-score\n",
        "print(f\"Precision (XGBoost): {precision_xgb:.4f}\")\n",
        "print(f\"Recall (XGBoost): {recall_xgb:.4f}\")\n",
        "print(f\"F1-Score (XGBoost): {f1_xgb:.4f}\")\n"
      ],
      "metadata": {
        "colab": {
          "base_uri": "https://localhost:8080/",
          "height": 373
        },
        "id": "HruUO7HnrNd-",
        "outputId": "f4c15cd7-2c24-49d7-b78c-7eff9acb9070"
      },
      "execution_count": 64,
      "outputs": [
        {
          "output_type": "error",
          "ename": "ValueError",
          "evalue": "feature_names mismatch: ['father', 'mother', 'gender', 'avg_parent_height'] ['father', 'mother']\nexpected avg_parent_height, gender in input data",
          "traceback": [
            "\u001b[0;31m---------------------------------------------------------------------------\u001b[0m",
            "\u001b[0;31mValueError\u001b[0m                                Traceback (most recent call last)",
            "\u001b[0;32m<ipython-input-64-ef490ce532b6>\u001b[0m in \u001b[0;36m<cell line: 10>\u001b[0;34m()\u001b[0m\n\u001b[1;32m      8\u001b[0m \u001b[0mmodel_xgb\u001b[0m \u001b[0;34m=\u001b[0m \u001b[0mXGBRegressor\u001b[0m\u001b[0;34m(\u001b[0m\u001b[0;34m)\u001b[0m\u001b[0;34m\u001b[0m\u001b[0;34m\u001b[0m\u001b[0m\n\u001b[1;32m      9\u001b[0m \u001b[0mmodel_xgb\u001b[0m\u001b[0;34m.\u001b[0m\u001b[0mfit\u001b[0m\u001b[0;34m(\u001b[0m\u001b[0mX_train\u001b[0m\u001b[0;34m,\u001b[0m \u001b[0my_train\u001b[0m\u001b[0;34m)\u001b[0m\u001b[0;34m\u001b[0m\u001b[0;34m\u001b[0m\u001b[0m\n\u001b[0;32m---> 10\u001b[0;31m \u001b[0mpredicted_target_xgb\u001b[0m \u001b[0;34m=\u001b[0m \u001b[0mmodel_xgb\u001b[0m\u001b[0;34m.\u001b[0m\u001b[0mpredict\u001b[0m\u001b[0;34m(\u001b[0m\u001b[0mX_test\u001b[0m\u001b[0;34m)\u001b[0m\u001b[0;34m\u001b[0m\u001b[0;34m\u001b[0m\u001b[0m\n\u001b[0m\u001b[1;32m     11\u001b[0m \u001b[0;34m\u001b[0m\u001b[0m\n\u001b[1;32m     12\u001b[0m \u001b[0;31m# ----- Calculate Metrics -----\u001b[0m\u001b[0;34m\u001b[0m\u001b[0;34m\u001b[0m\u001b[0m\n",
            "\u001b[0;32m/usr/local/lib/python3.10/dist-packages/xgboost/sklearn.py\u001b[0m in \u001b[0;36mpredict\u001b[0;34m(self, X, output_margin, validate_features, base_margin, iteration_range)\u001b[0m\n\u001b[1;32m   1184\u001b[0m             \u001b[0;32mif\u001b[0m \u001b[0mself\u001b[0m\u001b[0;34m.\u001b[0m\u001b[0m_can_use_inplace_predict\u001b[0m\u001b[0;34m(\u001b[0m\u001b[0;34m)\u001b[0m\u001b[0;34m:\u001b[0m\u001b[0;34m\u001b[0m\u001b[0;34m\u001b[0m\u001b[0m\n\u001b[1;32m   1185\u001b[0m                 \u001b[0;32mtry\u001b[0m\u001b[0;34m:\u001b[0m\u001b[0;34m\u001b[0m\u001b[0;34m\u001b[0m\u001b[0m\n\u001b[0;32m-> 1186\u001b[0;31m                     predts = self.get_booster().inplace_predict(\n\u001b[0m\u001b[1;32m   1187\u001b[0m                         \u001b[0mdata\u001b[0m\u001b[0;34m=\u001b[0m\u001b[0mX\u001b[0m\u001b[0;34m,\u001b[0m\u001b[0;34m\u001b[0m\u001b[0;34m\u001b[0m\u001b[0m\n\u001b[1;32m   1188\u001b[0m                         \u001b[0miteration_range\u001b[0m\u001b[0;34m=\u001b[0m\u001b[0miteration_range\u001b[0m\u001b[0;34m,\u001b[0m\u001b[0;34m\u001b[0m\u001b[0;34m\u001b[0m\u001b[0m\n",
            "\u001b[0;32m/usr/local/lib/python3.10/dist-packages/xgboost/core.py\u001b[0m in \u001b[0;36minplace_predict\u001b[0;34m(self, data, iteration_range, predict_type, missing, validate_features, base_margin, strict_shape)\u001b[0m\n\u001b[1;32m   2508\u001b[0m             \u001b[0mdata\u001b[0m\u001b[0;34m,\u001b[0m \u001b[0mfns\u001b[0m\u001b[0;34m,\u001b[0m \u001b[0m_\u001b[0m \u001b[0;34m=\u001b[0m \u001b[0m_transform_pandas_df\u001b[0m\u001b[0;34m(\u001b[0m\u001b[0mdata\u001b[0m\u001b[0;34m,\u001b[0m \u001b[0menable_categorical\u001b[0m\u001b[0;34m)\u001b[0m\u001b[0;34m\u001b[0m\u001b[0;34m\u001b[0m\u001b[0m\n\u001b[1;32m   2509\u001b[0m             \u001b[0;32mif\u001b[0m \u001b[0mvalidate_features\u001b[0m\u001b[0;34m:\u001b[0m\u001b[0;34m\u001b[0m\u001b[0;34m\u001b[0m\u001b[0m\n\u001b[0;32m-> 2510\u001b[0;31m                 \u001b[0mself\u001b[0m\u001b[0;34m.\u001b[0m\u001b[0m_validate_features\u001b[0m\u001b[0;34m(\u001b[0m\u001b[0mfns\u001b[0m\u001b[0;34m)\u001b[0m\u001b[0;34m\u001b[0m\u001b[0;34m\u001b[0m\u001b[0m\n\u001b[0m\u001b[1;32m   2511\u001b[0m         \u001b[0;32mif\u001b[0m \u001b[0m_is_list\u001b[0m\u001b[0;34m(\u001b[0m\u001b[0mdata\u001b[0m\u001b[0;34m)\u001b[0m \u001b[0;32mor\u001b[0m \u001b[0m_is_tuple\u001b[0m\u001b[0;34m(\u001b[0m\u001b[0mdata\u001b[0m\u001b[0;34m)\u001b[0m\u001b[0;34m:\u001b[0m\u001b[0;34m\u001b[0m\u001b[0;34m\u001b[0m\u001b[0m\n\u001b[1;32m   2512\u001b[0m             \u001b[0mdata\u001b[0m \u001b[0;34m=\u001b[0m \u001b[0mnp\u001b[0m\u001b[0;34m.\u001b[0m\u001b[0marray\u001b[0m\u001b[0;34m(\u001b[0m\u001b[0mdata\u001b[0m\u001b[0;34m)\u001b[0m\u001b[0;34m\u001b[0m\u001b[0;34m\u001b[0m\u001b[0m\n",
            "\u001b[0;32m/usr/local/lib/python3.10/dist-packages/xgboost/core.py\u001b[0m in \u001b[0;36m_validate_features\u001b[0;34m(self, feature_names)\u001b[0m\n\u001b[1;32m   3073\u001b[0m                 )\n\u001b[1;32m   3074\u001b[0m \u001b[0;34m\u001b[0m\u001b[0m\n\u001b[0;32m-> 3075\u001b[0;31m             \u001b[0;32mraise\u001b[0m \u001b[0mValueError\u001b[0m\u001b[0;34m(\u001b[0m\u001b[0mmsg\u001b[0m\u001b[0;34m.\u001b[0m\u001b[0mformat\u001b[0m\u001b[0;34m(\u001b[0m\u001b[0mself\u001b[0m\u001b[0;34m.\u001b[0m\u001b[0mfeature_names\u001b[0m\u001b[0;34m,\u001b[0m \u001b[0mfeature_names\u001b[0m\u001b[0;34m)\u001b[0m\u001b[0;34m)\u001b[0m\u001b[0;34m\u001b[0m\u001b[0;34m\u001b[0m\u001b[0m\n\u001b[0m\u001b[1;32m   3076\u001b[0m \u001b[0;34m\u001b[0m\u001b[0m\n\u001b[1;32m   3077\u001b[0m     def get_split_value_histogram(\n",
            "\u001b[0;31mValueError\u001b[0m: feature_names mismatch: ['father', 'mother', 'gender', 'avg_parent_height'] ['father', 'mother']\nexpected avg_parent_height, gender in input data"
          ]
        }
      ]
    },
    {
      "cell_type": "markdown",
      "source": [
        "# Light GBM model"
      ],
      "metadata": {
        "id": "PWvi9hQ6r901"
      }
    },
    {
      "cell_type": "code",
      "source": [
        "# prompt: give me f1score accuracy RMSE recall precision use this using X_train, X_test, y_train, and y_test for Light GBM model\n",
        "\n",
        "# Assuming model_lgb is your trained LightGBM model\n",
        "y_pred_lgb = model_lgb.predict(X_test)\n",
        "\n",
        "# Calculate accuracy\n",
        "lgb_accuracy = r2_score(y_test, y_pred_lgb)\n",
        "\n",
        "# Calculate RMSE\n",
        "rmse_lgb = np.sqrt(mean_squared_error(y_test, y_pred_lgb))\n",
        "\n",
        "# Convert regression predictions to binary classification (e.g., above/below average height)\n",
        "threshold = y_test.mean()  # You can choose a different threshold if needed\n",
        "y_pred_binary = [1 if pred > threshold else 0 for pred in y_pred_lgb]\n",
        "y_true_binary = [1 if true > threshold else 0 for true in y_test]\n",
        "\n",
        "# Calculate Precision, Recall, F1-score\n",
        "precision_lgb, recall_lgb, f1_lgb, _ = precision_recall_fscore_support(\n",
        "    y_true_binary, y_pred_binary, average='binary'\n",
        ")\n",
        "\n",
        "print(f\"Accuracy (LightGBM): {lgb_accuracy}\")\n",
        "print(f\"RMSE (LightGBM): {rmse_lgb}\")\n",
        "print(f\"Precision (LightGBM): {precision_lgb}\")\n",
        "print(f\"Recall (LightGBM): {recall_lgb}\")\n",
        "print(f\"F1-Score (LightGBM): {f1_lgb}\")"
      ],
      "metadata": {
        "colab": {
          "base_uri": "https://localhost:8080/"
        },
        "id": "yoY0wcP3sBYm",
        "outputId": "c5a94963-6191-437b-a9ee-fd60cedcfad3"
      },
      "execution_count": 76,
      "outputs": [
        {
          "output_type": "stream",
          "name": "stdout",
          "text": [
            "Accuracy (LightGBM): 0.7148437077491108\n",
            "RMSE (LightGBM): 1.9674563825383735\n",
            "Precision (LightGBM): 0.8777777777777778\n",
            "Recall (LightGBM): 0.8681318681318682\n",
            "F1-Score (LightGBM): 0.8729281767955801\n"
          ]
        }
      ]
    },
    {
      "cell_type": "markdown",
      "source": [
        "# MPH model"
      ],
      "metadata": {
        "id": "9sYIpHpJ_XFi"
      }
    },
    {
      "cell_type": "code",
      "source": [
        "# prompt: give me f1score accuracy RMSE recall precision use this using X_train, X_test, y_train, and y_test for MPH model\n",
        "\n",
        "# Assuming you have your MPH model and predictions as:\n",
        "# model_mph: Your trained MPH model\n",
        "# predicted_target_mph: Predictions from your model on X_test\n",
        "\n",
        "# Calculate predictions\n",
        "predicted_target_mph = model_mph.predict(X_test)\n",
        "\n",
        "# Calculate accuracy for MPH (using R^2 score)\n",
        "mph_accuracy = r2_score(y_test, predicted_target_mph)\n",
        "print(f\"Accuracy (MPH): {mph_accuracy}\")\n",
        "\n",
        "# Calculate RMSE\n",
        "rmse_mph = np.sqrt(mean_squared_error(y_test, predicted_target_mph))\n",
        "print(f\"RMSE (MPH): {rmse_mph}\")\n",
        "\n",
        "# For Precision, Recall, and F1-score, you need to convert regression predictions\n",
        "# to binary classification (e.g., above/below average target value).\n",
        "threshold = y_test.mean()\n",
        "y_pred_binary = [1 if pred > threshold else 0 for pred in predicted_target_mph]\n",
        "y_true_binary = [1 if true > threshold else 0 for true in y_test]\n",
        "\n",
        "\n",
        "# Calculate Precision, Recall, F1-score\n",
        "precision_mph = precision_score(y_true_binary, y_pred_binary, average='binary', zero_division=0)\n",
        "recall_mph = recall_score(y_true_binary, y_pred_binary, average='binary', zero_division=0)\n",
        "f1_mph = f1_score(y_true_binary, y_pred_binary, average='binary', zero_division=0)\n",
        "\n",
        "print(f\"Precision (MPH): {precision_mph}\")\n",
        "print(f\"Recall (MPH): {recall_mph}\")\n",
        "print(f\"F1-Score (MPH): {f1_mph}\")"
      ],
      "metadata": {
        "colab": {
          "base_uri": "https://localhost:8080/"
        },
        "id": "UxDDcZw-BG4P",
        "outputId": "32e65be9-5b70-40bb-b6bd-172d05e9a442"
      },
      "execution_count": 77,
      "outputs": [
        {
          "output_type": "stream",
          "name": "stdout",
          "text": [
            "Accuracy (MPH): 0.688310508912958\n",
            "RMSE (MPH): 2.0569546337637203\n",
            "Precision (MPH): 0.9101123595505618\n",
            "Recall (MPH): 0.8901098901098901\n",
            "F1-Score (MPH): 0.9\n"
          ]
        }
      ]
    },
    {
      "cell_type": "markdown",
      "source": [
        "# Decision Tree"
      ],
      "metadata": {
        "id": "Ur0TWL5KpKHw"
      }
    },
    {
      "cell_type": "code",
      "source": [
        "import numpy as np\n",
        "from sklearn.tree import DecisionTreeRegressor\n",
        "from sklearn.metrics import accuracy_score, precision_score, recall_score, f1_score, mean_squared_error\n",
        "\n",
        "# Assuming X_train, X_test, y_train, y_test are already defined\n",
        "\n",
        "# Train the Decision Tree model\n",
        "dt_model = DecisionTreeRegressor(random_state=42)\n",
        "dt_model.fit(X_train, y_train)\n",
        "\n",
        "# Make predictions on the test set\n",
        "dt_pred = dt_model.predict(X_test)\n",
        "\n",
        "# Calculate RMSE (Root Mean Squared Error)\n",
        "rmse_dt = np.sqrt(mean_squared_error(y_test, dt_pred))\n",
        "\n",
        "# Convert regression predictions to binary classification using the mean as a threshold\n",
        "threshold = y_test.mean()  # You can customize this threshold if necessary\n",
        "y_pred_binary = (dt_pred > threshold).astype(int)\n",
        "y_true_binary = (y_test > threshold).astype(int)\n",
        "\n",
        "# Calculate accuracy\n",
        "dt_accuracy = accuracy_score(y_true_binary, y_pred_binary)\n",
        "\n",
        "# Calculate Precision, Recall, F1-score\n",
        "precision_dt = precision_score(y_true_binary, y_pred_binary, average='binary', zero_division=0)\n",
        "recall_dt = recall_score(y_true_binary, y_pred_binary, average='binary', zero_division=0)\n",
        "f1_dt = f1_score(y_true_binary, y_pred_binary, average='binary', zero_division=0)\n",
        "\n",
        "# Display results\n",
        "print(f\"Accuracy (Decision Tree): {dt_accuracy:.4f}\")\n",
        "print(f\"RMSE (Decision Tree): {rmse_dt:.4f}\")\n",
        "print(f\"Precision (Decision Tree): {precision_dt:.4f}\")\n",
        "print(f\"Recall (Decision Tree): {recall_dt:.4f}\")\n",
        "print(f\"F1-Score (Decision Tree): {f1_dt:.4f}\")\n"
      ],
      "metadata": {
        "colab": {
          "base_uri": "https://localhost:8080/"
        },
        "id": "RoBx54uFpJxs",
        "outputId": "3e8cdfc6-706c-494a-b79f-779c1609d4cb"
      },
      "execution_count": 81,
      "outputs": [
        {
          "output_type": "stream",
          "name": "stdout",
          "text": [
            "Accuracy (Decision Tree): 0.8371\n",
            "RMSE (Decision Tree): 2.3457\n",
            "Precision (Decision Tree): 0.8875\n",
            "Recall (Decision Tree): 0.7802\n",
            "F1-Score (Decision Tree): 0.8304\n"
          ]
        }
      ]
    },
    {
      "cell_type": "markdown",
      "source": [
        "# Random Forest"
      ],
      "metadata": {
        "id": "bxgc4EDVp0Pw"
      }
    },
    {
      "cell_type": "code",
      "source": [
        "# prompt: give me f1score accuracy RMSE recall precision use this using X_train, X_test, y_train, and y_test for random forest model\n",
        "\n",
        "from sklearn.metrics import accuracy_score, precision_score, recall_score, f1_score\n",
        "\n",
        "# Assuming rf_model is your trained Random Forest model\n",
        "rf_pred = rf_model.predict(X_test)\n",
        "\n",
        "# Calculate RMSE (Root Mean Squared Error)\n",
        "rmse_rf = np.sqrt(mean_squared_error(y_test, rf_pred))\n",
        "\n",
        "# Convert regression predictions to binary classification using the mean as a threshold\n",
        "threshold = y_test.mean()  # You can customize this threshold if necessary\n",
        "y_pred_binary = (rf_pred > threshold).astype(int)\n",
        "y_true_binary = (y_test > threshold).astype(int)\n",
        "\n",
        "# Calculate accuracy\n",
        "rf_accuracy = accuracy_score(y_true_binary, y_pred_binary)\n",
        "\n",
        "# Calculate Precision, Recall, F1-score\n",
        "precision_rf = precision_score(y_true_binary, y_pred_binary, average='binary', zero_division=0)\n",
        "recall_rf = recall_score(y_true_binary, y_pred_binary, average='binary', zero_division=0)\n",
        "f1_rf = f1_score(y_true_binary, y_pred_binary, average='binary', zero_division=0)\n",
        "\n",
        "# Display results\n",
        "print(f\"Accuracy (Random Forest): {rf_accuracy:.4f}\")\n",
        "print(f\"RMSE (Random Forest): {rmse_rf:.4f}\")\n",
        "print(f\"Precision (Random Forest): {precision_rf:.4f}\")\n",
        "print(f\"Recall (Random Forest): {recall_rf:.4f}\")\n",
        "print(f\"F1-Score (Random Forest): {f1_rf:.4f}\")"
      ],
      "metadata": {
        "colab": {
          "base_uri": "https://localhost:8080/"
        },
        "id": "ktWrzgX8p4NI",
        "outputId": "3cee05b4-f7d5-4f6b-eb33-9a867cbcf0ea"
      },
      "execution_count": 82,
      "outputs": [
        {
          "output_type": "stream",
          "name": "stdout",
          "text": [
            "Accuracy (Random Forest): 0.8708\n",
            "RMSE (Random Forest): 2.0263\n",
            "Precision (Random Forest): 0.9250\n",
            "Recall (Random Forest): 0.8132\n",
            "F1-Score (Random Forest): 0.8655\n"
          ]
        }
      ]
    },
    {
      "cell_type": "markdown",
      "source": [
        "# ANN model\n"
      ],
      "metadata": {
        "id": "hJfPAOtmqH0p"
      }
    },
    {
      "cell_type": "code",
      "source": [
        "# prompt: give me f1score accuracy RMSE recall precision use this using X_train, X_test, y_train, and y_test for ANN model\n",
        "\n",
        "from sklearn.metrics import accuracy_score, precision_score, recall_score, f1_score\n",
        "\n",
        "# Assuming ann_model is your trained ANN model\n",
        "ann_pred = ann_model.predict(X_test)\n",
        "\n",
        "# Calculate RMSE (Root Mean Squared Error)\n",
        "rmse_ann = np.sqrt(mean_squared_error(y_test, ann_pred))\n",
        "\n",
        "# Convert regression predictions to binary classification using the mean as a threshold\n",
        "threshold = y_test.mean()  # You can customize this threshold if necessary\n",
        "y_pred_binary = (ann_pred > threshold).astype(int)\n",
        "y_true_binary = (y_test > threshold).astype(int)\n",
        "\n",
        "# Calculate accuracy\n",
        "ann_accuracy = accuracy_score(y_true_binary, y_pred_binary)\n",
        "\n",
        "# Calculate Precision, Recall, F1-score\n",
        "precision_ann = precision_score(y_true_binary, y_pred_binary, average='binary', zero_division=0)\n",
        "recall_ann = recall_score(y_true_binary, y_pred_binary, average='binary', zero_division=0)\n",
        "f1_ann = f1_score(y_true_binary, y_pred_binary, average='binary', zero_division=0)\n",
        "\n",
        "# Display results\n",
        "print(f\"Accuracy (ANN): {ann_accuracy:.4f}\")\n",
        "print(f\"RMSE (ANN): {rmse_ann:.4f}\")\n",
        "print(f\"Precision (ANN): {precision_ann:.4f}\")\n",
        "print(f\"Recall (ANN): {recall_ann:.4f}\")\n",
        "print(f\"F1-Score (ANN): {f1_ann:.4f}\")"
      ],
      "metadata": {
        "colab": {
          "base_uri": "https://localhost:8080/"
        },
        "id": "MN8jhPmeqKFL",
        "outputId": "b508340f-9b74-4265-8982-5dea7b2b92d7"
      },
      "execution_count": 83,
      "outputs": [
        {
          "output_type": "stream",
          "name": "stdout",
          "text": [
            "Accuracy (ANN): 0.8596\n",
            "RMSE (ANN): 2.1747\n",
            "Precision (ANN): 0.9125\n",
            "Recall (ANN): 0.8022\n",
            "F1-Score (ANN): 0.8538\n"
          ]
        }
      ]
    },
    {
      "cell_type": "markdown",
      "source": [
        "# **Comparing results of original data, before and after removing outliers**"
      ],
      "metadata": {
        "id": "rc0Ll3sEs0fD"
      }
    },
    {
      "cell_type": "markdown",
      "source": [
        "# Model Accuracies original data, before and after removing outliers"
      ],
      "metadata": {
        "id": "vBoybJ4ou41N"
      }
    },
    {
      "cell_type": "code",
      "source": [
        "# prompt: i want all accuracy print in a table as threee columns which is model applying on original data and before outlier removal and after outlier removal\n",
        "\n",
        "from prettytable import PrettyTable\n",
        "\n",
        "# Create a table\n",
        "table = PrettyTable()\n",
        "table.field_names = [\"Model\", \"Original Data Accuracy\", \"Before Outlier Removal Accuracy\", \"After Outlier Removal Accuracy\"]\n",
        "\n",
        "# Add rows for each model\n",
        "table.add_row([\"Linear Regression\", lr_accuracy_org, lr_accuracy, lr_accuracy1]) #Replace with the correct values of the respective models\n",
        "table.add_row([\"SVR\", svr_accuracy, dt_accuracy, dt_accuracy]) #Replace with the correct values of the respective models\n",
        "table.add_row([\"XGBoost\", xgb_accuracy, dt_accuracy, dt_accuracy]) #Replace with the correct values of the respective models\n",
        "table.add_row([\"LightGBM\", lgb_accuracy, dt_accuracy, dt_accuracy]) #Replace with the correct values of the respective models\n",
        "table.add_row([\"Decision Tree\", dt_accuracy, dt_accuracy, dt_accuracy]) #Replace with the correct values of the respective models\n",
        "table.add_row([\"Random Forest\", rf_accuracy, rf_accuracy, rf_accuracy]) #Replace with the correct values of the respective models\n",
        "table.add_row([\"ANN\", ann_accuracy, ann_accuracy, ann_accuracy]) #Replace with the correct values of the respective models\n",
        "\n",
        "\n",
        "# Print the table\n",
        "print(table)"
      ],
      "metadata": {
        "colab": {
          "base_uri": "https://localhost:8080/"
        },
        "id": "9ppeL27iGf1f",
        "outputId": "ca80498e-92db-4fc6-c446-9d66fed40bec"
      },
      "execution_count": 98,
      "outputs": [
        {
          "output_type": "stream",
          "name": "stdout",
          "text": [
            "+-------------------+------------------------+---------------------------------+--------------------------------+\n",
            "|       Model       | Original Data Accuracy | Before Outlier Removal Accuracy | After Outlier Removal Accuracy |\n",
            "+-------------------+------------------------+---------------------------------+--------------------------------+\n",
            "| Linear Regression |  0.11584237747872983   |        0.7014300909729096       |       0.6820925338610375       |\n",
            "|        SVR        |   0.9426406346129804   |        0.8370786516853933       |       0.8370786516853933       |\n",
            "|      XGBoost      |   0.7055886314819536   |        0.8370786516853933       |       0.8370786516853933       |\n",
            "|      LightGBM     |   0.7148437077491108   |        0.8370786516853933       |       0.8370786516853933       |\n",
            "|   Decision Tree   |   0.8370786516853933   |        0.8370786516853933       |       0.8370786516853933       |\n",
            "|   Random Forest   |   0.8707865168539326   |        0.8707865168539326       |       0.8707865168539326       |\n",
            "|        ANN        |   0.8595505617977528   |        0.8595505617977528       |       0.8595505617977528       |\n",
            "+-------------------+------------------------+---------------------------------+--------------------------------+\n"
          ]
        }
      ]
    },
    {
      "cell_type": "markdown",
      "source": [
        "# Regression results - Original data, before and after removing outliers"
      ],
      "metadata": {
        "id": "FP0El2JQu-Ir"
      }
    },
    {
      "cell_type": "code",
      "source": [
        "import pandas as pd\n",
        "import numpy as np\n",
        "from sklearn.metrics import mean_squared_error\n",
        "from tabulate import tabulate\n",
        "\n",
        "rmse_org = {\n",
        "    'Linear Regression': np.sqrt(mean_squared_error(y_test_org, predicted_target_org)),\n",
        "    'SVR (linear)': np.sqrt(mean_squared_error(y_test_org, predicted_target_svr_linear_org)),\n",
        "    'XGBoost': np.sqrt(mean_squared_error(y_test_org, predicted_target_xgb_org)),\n",
        "    'LightGBM': np.sqrt(mean_squared_error(y_test_org, predicted_target_lgb_org)),\n",
        "    'MPH': np.sqrt(mean_squared_error(y_test_org, predicted_target_mph_org))\n",
        "}\n",
        "# Calculate RMSE for each model before outlier removal\n",
        "rmse_before = {\n",
        "    'Linear Regression': np.sqrt(mean_squared_error(b_y_test, predicted_target_b)),\n",
        "    'SVR (linear)': np.sqrt(mean_squared_error(b_y_test, predicted_target_svr_linear)),\n",
        "    'XGBoost': np.sqrt(mean_squared_error(b_y_test, predicted_target_xgb)),\n",
        "    'LightGBM': np.sqrt(mean_squared_error(b_y_test, predicted_target_lgb)),\n",
        "    'MPH': np.sqrt(mean_squared_error(b_y_test, predicted_target_mph))\n",
        "}\n",
        "\n",
        "# Calculate RMSE for each model after outlier removal\n",
        "rmse_after = {\n",
        "    'Linear Regression': np.sqrt(mean_squared_error(y_test, predicted_target)),\n",
        "    'SVR (linear)': np.sqrt(mean_squared_error(y_test, predicted_target_svr_linear)),\n",
        "    'XGBoost': np.sqrt(mean_squared_error(y_test, predicted_target_xgb)),\n",
        "    'LightGBM': np.sqrt(mean_squared_error(y_test, predicted_target_lgb)),\n",
        "    'MPH': np.sqrt(mean_squared_error(y_test, predicted_target_mph))\n",
        "}\n",
        "\n",
        "# Convert dictionaries to lists for consistency\n",
        "rmse_org_list = list(rmse_org.values())\n",
        "rmse_before_list = list(rmse_before.values())\n",
        "rmse_after_list = list(rmse_after.values())\n",
        "\n",
        "\n",
        "table_data = []\n",
        "models = list(rmse_before.keys())\n",
        "for model in models:\n",
        "    table_data.append([\n",
        "        model,\n",
        "        f\"{rmse_org[model]:.2f}\",\n",
        "        f\"{rmse_before[model]:.2f}\",\n",
        "        f\"{rmse_after[model]:.2f}\"\n",
        "    ])\n",
        "\n",
        "# Define headers\n",
        "headers = [\"Model\", \"Original data (RMSE)\", \"Before Outlier Removal (RMSE)\", \"After Outlier Removal (RMSE)\"]\n",
        "\n",
        "# Print the table\n",
        "print(\"Regression results (RMSE)\\n\")\n",
        "print(tabulate(table_data, headers=headers, tablefmt='pretty'))"
      ],
      "metadata": {
        "colab": {
          "base_uri": "https://localhost:8080/"
        },
        "id": "7Ja1UoUYszY0",
        "outputId": "8796c38e-948c-4393-bb49-70cd0aca6280"
      },
      "execution_count": null,
      "outputs": [
        {
          "output_type": "stream",
          "name": "stdout",
          "text": [
            "Regression results (RMSE)\n",
            "\n",
            "+-------------------+----------------------+-------------------------------+------------------------------+\n",
            "|       Model       | Original data (RMSE) | Before Outlier Removal (RMSE) | After Outlier Removal (RMSE) |\n",
            "+-------------------+----------------------+-------------------------------+------------------------------+\n",
            "| Linear Regression |         3.47         |             2.01              |             2.08             |\n",
            "|   SVR (linear)    |         3.48         |             3.13              |             2.06             |\n",
            "|      XGBoost      |         3.74         |             3.18              |             2.32             |\n",
            "|     LightGBM      |         3.56         |             3.12              |             2.15             |\n",
            "|        MPH        |         3.47         |             3.10              |             2.08             |\n",
            "+-------------------+----------------------+-------------------------------+------------------------------+\n"
          ]
        }
      ]
    }
  ],
  "metadata": {
    "colab": {
      "provenance": [],
      "collapsed_sections": [
        "Ep564KIAbqvu",
        "x2mCUx3YpLnz",
        "lr7lh0zGroLL",
        "mHXT2UWXu5D4",
        "UoYIuklDvM4x",
        "mdI-jqvCvVR_",
        "FP0El2JQu-Ir"
      ]
    },
    "kernelspec": {
      "display_name": "Python 3",
      "name": "python3"
    },
    "language_info": {
      "name": "python"
    }
  },
  "nbformat": 4,
  "nbformat_minor": 0
}